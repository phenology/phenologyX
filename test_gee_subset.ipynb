{
 "cells": [
  {
   "cell_type": "code",
   "execution_count": 1,
   "id": "ed78bcfd-8d0d-465e-a84b-077127ea6de0",
   "metadata": {},
   "outputs": [
    {
     "name": "stdout",
     "output_type": "stream",
     "text": [
      "Help on package gee_subset:\n",
      "\n",
      "NAME\n",
      "    gee_subset\n",
      "\n",
      "PACKAGE CONTENTS\n",
      "    gee_subset\n",
      "\n",
      "DATA\n",
      "    __all__ = ['gee_subset']\n",
      "\n",
      "VERSION\n",
      "    1.1.0\n",
      "\n",
      "FILE\n",
      "    /home/jovyan/.local/lib/python3.8/site-packages/gee_subset/__init__.py\n",
      "\n",
      "\n"
     ]
    }
   ],
   "source": [
    "#pip install gee-subset\n",
    "help(\"gee_subset\")"
   ]
  },
  {
   "cell_type": "code",
   "execution_count": 2,
   "id": "dea6d46c-0eac-4522-8e5c-902bc704d46a",
   "metadata": {},
   "outputs": [],
   "source": [
    "import os, re\n",
    "import pandas as pd\n",
    "from datetime import datetime\n",
    "import ee\n",
    "from gee_subset.gee_subset import gee_subset"
   ]
  },
  {
   "cell_type": "code",
   "execution_count": 3,
   "id": "f5592671-15df-488e-8357-4fd85279498b",
   "metadata": {},
   "outputs": [],
   "source": [
    "#ee.Authenticate()"
   ]
  },
  {
   "cell_type": "code",
   "execution_count": 4,
   "id": "401e2519-ec77-4f8e-a1ef-9b08ee1235f3",
   "metadata": {},
   "outputs": [
    {
     "name": "stdout",
     "output_type": "stream",
     "text": [
      "Google Earth Engine has initialized successfully!\n"
     ]
    }
   ],
   "source": [
    "try:\n",
    "  ee.Initialize()\n",
    "  print('Google Earth Engine has initialized successfully!')\n",
    "except ee.EEException as e:\n",
    "  print('Google Earth Engine has failed to initialize!')\n",
    "except:\n",
    "    print(\"Unexpected error:\", sys.exc_info()[0])\n",
    "    raise"
   ]
  },
  {
   "cell_type": "code",
   "execution_count": 5,
   "id": "2a2f185f-f37d-45fe-8637-a01e62e5bfb8",
   "metadata": {},
   "outputs": [],
   "source": [
    "# file: path to file with geographic locations as provided in a csv file\n",
    "# scale in meter: match the native resolution of the data of interest otherwise mismatches in scale will result in high pixel counts and a system error\n",
    "# pad: grow sampling location in km east west north south"
   ]
  },
  {
   "cell_type": "code",
   "execution_count": 6,
   "id": "49b6d9e4-1dbe-4619-bf0d-7f6db80c8eca",
   "metadata": {},
   "outputs": [
    {
     "name": "stdout",
     "output_type": "stream",
     "text": [
      "                       id  longitude   latitude       date  sur_refl_b01  \\\n",
      "0  MYD09Q1_005_2015_01_01 -71.999925  43.999977 2015-01-01          1444   \n",
      "1  MYD09Q1_005_2015_01_09 -71.999925  43.999977 2015-01-09           845   \n",
      "2  MYD09Q1_005_2015_01_17 -71.999925  43.999977 2015-01-17          1016   \n",
      "3  MYD09Q1_005_2015_01_25 -71.999925  43.999977 2015-01-25          1575   \n",
      "\n",
      "   sur_refl_b02        product  \n",
      "0          3024  MODIS/MYD09Q1  \n",
      "1          1203  MODIS/MYD09Q1  \n",
      "2          2691  MODIS/MYD09Q1  \n",
      "3          3133  MODIS/MYD09Q1  \n"
     ]
    }
   ],
   "source": [
    "df = gee_subset(product = \"MODIS/MYD09Q1\", bands = [\"sur_refl_b01\", \"sur_refl_b02\"], start_date = \"2015-01-01\", end_date = \"2015-01-31\", latitude = 44, longitude = -72, scale = 30)\n",
    "print(df)"
   ]
  },
  {
   "cell_type": "code",
   "execution_count": 7,
   "id": "2412a836-a0bb-4043-bcab-37f2588b3a83",
   "metadata": {},
   "outputs": [
    {
     "name": "stdout",
     "output_type": "stream",
     "text": [
      "                     id  longitude   latitude                          date  \\\n",
      "0  LC08_013029_20200121 -71.999925  43.999977 2020-01-21 15:32:38.676000000   \n",
      "1  LC08_013030_20200121 -71.999925  43.999977 2020-01-21 15:33:02.563000064   \n",
      "\n",
      "      B1     B2              product  \n",
      "0  12567  12174  LANDSAT/LC08/C01/T1  \n",
      "1  12574  12182  LANDSAT/LC08/C01/T1  \n"
     ]
    }
   ],
   "source": [
    "# your call (below a MODIS example)\n",
    "df = gee_subset(product = \"LANDSAT/LC08/C01/T1\", bands = [\"B1\", \"B2\"], start_date = \"2020-01-01\", end_date = \"2020-01-31\", latitude = 44, longitude = -72, scale = 30)\n",
    "\n",
    "print(df)"
   ]
  },
  {
   "cell_type": "code",
   "execution_count": 8,
   "id": "78dc95eb-4659-43ba-b2a9-44032332cec6",
   "metadata": {},
   "outputs": [
    {
     "name": "stdout",
     "output_type": "stream",
     "text": [
      "                                       id  longitude   latitude  \\\n",
      "0  20200103T154639_20200103T154835_T18TYP -71.999925  43.999977   \n",
      "1  20200108T154631_20200108T154817_T18TYP -71.999925  43.999977   \n",
      "2  20200113T154609_20200113T154810_T18TYP -71.999925  43.999977   \n",
      "3  20200118T154601_20200118T155022_T18TYP -71.999925  43.999977   \n",
      "4  20200123T154539_20200123T154714_T18TYP -71.999925  43.999977   \n",
      "5  20200128T154511_20200128T154938_T18TYP -71.999925  43.999977   \n",
      "\n",
      "                           date    B4    B3    B2           product  \n",
      "0 2020-01-03 15:50:55.900999936  3476  3417  3316  COPERNICUS/S2_SR  \n",
      "1 2020-01-08 15:50:55.012000000  5943  6066  6771  COPERNICUS/S2_SR  \n",
      "2 2020-01-13 15:50:55.300000000  5176  5152  5255  COPERNICUS/S2_SR  \n",
      "3 2020-01-18 15:50:54.769999872  4909  5087  5622  COPERNICUS/S2_SR  \n",
      "4 2020-01-23 15:50:54.128000000  1626  1558  1407  COPERNICUS/S2_SR  \n",
      "5 2020-01-28 15:50:53.704999936  5974  6159  6729  COPERNICUS/S2_SR  \n"
     ]
    }
   ],
   "source": [
    "# your call (below a MODIS example)\n",
    "df = gee_subset(product = \"COPERNICUS/S2_SR\", bands = [\"B4\", \"B3\", \"B2\"], start_date = \"2020-01-01\", end_date = \"2020-01-31\", latitude = 44, longitude = -72, scale = 30, pad = 0)\n",
    "\n",
    "print(df)"
   ]
  },
  {
   "cell_type": "code",
   "execution_count": null,
   "id": "2bc1a368-8f50-470d-a5a6-6591a54b067c",
   "metadata": {},
   "outputs": [],
   "source": []
  },
  {
   "cell_type": "code",
   "execution_count": null,
   "id": "e9a9eed1-bfb8-480d-836e-771447c68077",
   "metadata": {},
   "outputs": [],
   "source": []
  },
  {
   "cell_type": "code",
   "execution_count": null,
   "id": "98607197-dcce-4634-877c-e2f4b4bc8082",
   "metadata": {},
   "outputs": [],
   "source": []
  }
 ],
 "metadata": {
  "kernelspec": {
   "display_name": "Python",
   "language": "python",
   "name": "python3"
  },
  "language_info": {
   "codemirror_mode": {
    "name": "ipython",
    "version": 3
   },
   "file_extension": ".py",
   "mimetype": "text/x-python",
   "name": "python",
   "nbconvert_exporter": "python",
   "pygments_lexer": "ipython3",
   "version": "3.8.10"
  }
 },
 "nbformat": 4,
 "nbformat_minor": 5
}
