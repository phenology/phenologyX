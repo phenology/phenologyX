{
 "cells": [
  {
   "cell_type": "code",
   "execution_count": 1,
   "metadata": {
    "tags": [
     "hide_in_docs"
    ]
   },
   "outputs": [],
   "source": [
    "from rich import print\n",
    "import logging\n",
    "\n",
    "logging.basicConfig(level=logging.INFO)"
   ]
  },
  {
   "cell_type": "markdown",
   "metadata": {},
   "source": [
    "# MODIS / AρρEEARS\n",
    "\n",
    "Retrieve MODIS data via [AρρEEARS](https://appeears.earthdatacloud.nasa.gov/)\n",
    "\n",
    "The retrieve data you need a NASA Earthdata account. You can create one\n",
    "[here](https://urs.earthdata.nasa.gov/users/new) and save your credentials in\n",
    "`~/.config/springtime/credentials.json` as `{\"username\": \"<your username>\",\n",
    "\"password\": \"<your password>\"}`.\n"
   ]
  },
  {
   "cell_type": "markdown",
   "metadata": {},
   "source": [
    "## Explore AppEEARS data\n",
    "\n",
    "Before downloading anything, use the `products` and `layers` utility functions.\n"
   ]
  },
  {
   "cell_type": "code",
   "execution_count": 2,
   "metadata": {},
   "outputs": [
    {
     "data": {
      "text/plain": [
       "[ProductInfo(Product='GPW_DataQualityInd', Platform='GPW', Description='Quality of Input Data for Population Count and Density Grids', Resolution='1000m', Version='411', ProductAndVersion='GPW_DataQualityInd.411', DOI='10.7927/H42Z13KG', Available=True, RasterType='Tile', TemporalGranularity='Quinquennial', DocLink='https://doi.org/10.7927/H42Z13KG', Source='SEDAC', TemporalExtentStart='2000-01-01', TemporalExtentEnd='2020-12-31', Deleted=False),\n",
       " ProductInfo(Product='GPW_UN_Adj_PopCount', Platform='GPW', Description='UN-adjusted Population Count', Resolution='1000m', Version='411', ProductAndVersion='GPW_UN_Adj_PopCount.411', DOI='10.7927/H4PN93PB', Available=True, RasterType='Tile', TemporalGranularity='Quinquennial', DocLink='https://doi.org/10.7927/H4PN93PB', Source='SEDAC', TemporalExtentStart='2000-01-01', TemporalExtentEnd='2020-12-31', Deleted=False),\n",
       " ProductInfo(Product='GPW_UN_Adj_PopDensity', Platform='GPW', Description='UN-adjusted Population Density', Resolution='1000m', Version='411', ProductAndVersion='GPW_UN_Adj_PopDensity.411', DOI='10.7927/H4F47M65', Available=True, RasterType='Tile', TemporalGranularity='Quinquennial', DocLink='https://doi.org/10.7927/H4F47M65', Source='SEDAC', TemporalExtentStart='2000-01-01', TemporalExtentEnd='2020-12-31', Deleted=False),\n",
       " ProductInfo(Product='GPW_Basic_Demog_Char', Platform='GPW', Description='Basic Demographic Characteristics - Population Count (cntm)', Resolution='1000m', Version='411', ProductAndVersion='GPW_Basic_Demog_Char.411', DOI='10.7927/H46M34XX', Available=True, RasterType='Tile', TemporalGranularity='Static', DocLink='https://doi.org/10.7927/H46M34XX', Source='SEDAC', TemporalExtentStart='2010-01-01', TemporalExtentEnd='2010-01-01', Deleted=False),\n",
       " ProductInfo(Product='MCD12Q1', Platform='Combined MODIS', Description='Land Cover Type', Resolution='500m', Version='061', ProductAndVersion='MCD12Q1.061', DOI='10.5067/MODIS/MCD12Q1.061', Available=True, RasterType='Tile', TemporalGranularity='Yearly', DocLink='https://doi.org/10.5067/MODIS/MCD12Q1.061', Source='LP DAAC', TemporalExtentStart='2001-01-01', TemporalExtentEnd='2020-12-31', Deleted=False),\n",
       " ProductInfo(Product='MCD12Q2', Platform='Combined MODIS', Description='Land Cover Dynamics', Resolution='500m', Version='061', ProductAndVersion='MCD12Q2.061', DOI='10.5067/MODIS/MCD12Q2.061', Available=True, RasterType='Tile', TemporalGranularity='Yearly', DocLink='https://doi.org/10.5067/MODIS/MCD12Q2.061', Source='LP DAAC', TemporalExtentStart='2001-01-01', TemporalExtentEnd='2019-12-31', Deleted=False),\n",
       " ProductInfo(Product='MCD15A2H', Platform='Combined MODIS', Description='Leaf Area Index (LAI) and Fraction of Photosynthetically Active Radiation (FPAR)', Resolution='500m', Version='061', ProductAndVersion='MCD15A2H.061', DOI='10.5067/MODIS/MCD15A2H.061', Available=True, RasterType='Tile', TemporalGranularity='8 day', DocLink='https://doi.org/10.5067/MODIS/MCD15A2H.061', Source='LP DAAC', TemporalExtentStart='2002-07-04', TemporalExtentEnd='Present', Deleted=False),\n",
       " ProductInfo(Product='MCD15A3H', Platform='Combined MODIS', Description='Leaf Area Index (LAI) and Fraction of Photosynthetically Active Radiation (FPAR)', Resolution='500m', Version='061', ProductAndVersion='MCD15A3H.061', DOI='10.5067/MODIS/MCD15A3H.061', Available=True, RasterType='Tile', TemporalGranularity='4 day', DocLink='https://doi.org/10.5067/MODIS/MCD15A3H.061', Source='LP DAAC', TemporalExtentStart='2002-07-04', TemporalExtentEnd='Present', Deleted=False),\n",
       " ProductInfo(Product='MCD43A1', Platform='Combined MODIS', Description='Bidirectional Reflectance Distribution Function (BRDF) and Albedo', Resolution='500m', Version='061', ProductAndVersion='MCD43A1.061', DOI='10.5067/MODIS/MCD43A1.061', Available=True, RasterType='Tile', TemporalGranularity='Daily', DocLink='https://doi.org/10.5067/MODIS/MCD43A1.061', Source='LP DAAC', TemporalExtentStart='2000-02-16', TemporalExtentEnd='Present', Deleted=False),\n",
       " ProductInfo(Product='MCD43A2', Platform='Combined MODIS', Description='Bidirectional Reflectance Distribution Function (BRDF) and Albedo', Resolution='500m', Version='061', ProductAndVersion='MCD43A2.061', DOI='10.5067/MODIS/MCD43A2.061', Available=True, RasterType='Tile', TemporalGranularity='Daily', DocLink='https://doi.org/10.5067/MODIS/MCD43A2.061', Source='LP DAAC', TemporalExtentStart='2000-02-16', TemporalExtentEnd='Present', Deleted=False),\n",
       " ProductInfo(Product='MCD43A3', Platform='Combined MODIS', Description='Bidirectional Reflectance Distribution Function (BRDF) and Albedo', Resolution='500m', Version='061', ProductAndVersion='MCD43A3.061', DOI='10.5067/MODIS/MCD43A3.061', Available=True, RasterType='Tile', TemporalGranularity='Daily', DocLink='https://doi.org/10.5067/MODIS/MCD43A3.061', Source='LP DAAC', TemporalExtentStart='2000-02-16', TemporalExtentEnd='Present', Deleted=False),\n",
       " ProductInfo(Product='MCD43A4', Platform='Combined MODIS', Description='Bidirectional Reflectance Distribution Function (BRDF) and Albedo', Resolution='500m', Version='061', ProductAndVersion='MCD43A4.061', DOI='10.5067/MODIS/MCD43A4.061', Available=True, RasterType='Tile', TemporalGranularity='Daily', DocLink='https://doi.org/10.5067/MODIS/MCD43A4.061', Source='LP DAAC', TemporalExtentStart='2000-02-16', TemporalExtentEnd='Present', Deleted=False),\n",
       " ProductInfo(Product='MCD64A1', Platform='Combined MODIS', Description='Burned Area (fire)', Resolution='500m', Version='061', ProductAndVersion='MCD64A1.061', DOI='10.5067/MODIS/MCD64A1.061', Available=True, RasterType='Tile', TemporalGranularity='Monthly', DocLink='https://doi.org/10.5067/MODIS/MCD64A1.061', Source='LP DAAC', TemporalExtentStart='2000-11-01', TemporalExtentEnd='Present', Deleted=False),\n",
       " ProductInfo(Product='MOD09A1', Platform='Terra MODIS', Description='Surface Reflectance Bands 1-7', Resolution='500m', Version='061', ProductAndVersion='MOD09A1.061', DOI='10.5067/MODIS/MOD09A1.061', Available=True, RasterType='Tile', TemporalGranularity='8 day', DocLink='https://doi.org/10.5067/MODIS/MOD09A1.061', Source='LP DAAC', TemporalExtentStart='2000-02-24', TemporalExtentEnd='Present', Deleted=False),\n",
       " ProductInfo(Product='MOD09GA', Platform='Terra MODIS', Description='Surface Reflectance Bands 1-7', Resolution='500/1000m', Version='061', ProductAndVersion='MOD09GA.061', DOI='10.5067/MODIS/MOD09GA.061', Available=True, RasterType='Tile', TemporalGranularity='Daily', DocLink='https://doi.org/10.5067/MODIS/MOD09GA.061', Source='LP DAAC', TemporalExtentStart='2000-02-24', TemporalExtentEnd='Present', Deleted=False),\n",
       " ProductInfo(Product='MOD09GQ', Platform='Terra MODIS', Description='Surface Reflectance Bands 1-2', Resolution='250m', Version='061', ProductAndVersion='MOD09GQ.061', DOI='10.5067/MODIS/MOD09GQ.061', Available=True, RasterType='Tile', TemporalGranularity='Daily', DocLink='https://doi.org/10.5067/MODIS/MOD09GQ.061', Source='LP DAAC', TemporalExtentStart='2000-02-24', TemporalExtentEnd='Present', Deleted=False),\n",
       " ProductInfo(Product='MOD09Q1', Platform='Terra MODIS', Description='Surface Reflectance Bands 1-2', Resolution='250m', Version='061', ProductAndVersion='MOD09Q1.061', DOI='10.5067/MODIS/MOD09Q1.061', Available=True, RasterType='Tile', TemporalGranularity='8 day', DocLink='https://doi.org/10.5067/MODIS/MOD09Q1.061', Source='LP DAAC', TemporalExtentStart='2000-02-24', TemporalExtentEnd='Present', Deleted=False),\n",
       " ProductInfo(Product='MOD10A1', Platform='Terra MODIS', Description='Snow Cover (NDSI)', Resolution='500m', Version='061', ProductAndVersion='MOD10A1.061', DOI='10.5067/MODIS/MOD10A1.061', Available=True, RasterType='Tile', TemporalGranularity='Daily', DocLink='https://doi.org/10.5067/MODIS/MOD10A1.061', Source='NSIDC DAAC', TemporalExtentStart='2000-02-24', TemporalExtentEnd='Present', Deleted=False),\n",
       " ProductInfo(Product='MOD10A2', Platform='Terra MODIS', Description='Snow Cover', Resolution='500m', Version='061', ProductAndVersion='MOD10A2.061', DOI='10.5067/MODIS/MOD10A2.061', Available=True, RasterType='Tile', TemporalGranularity='8 day', DocLink='https://doi.org/10.5067/MODIS/MOD10A2.061', Source='NSIDC DAAC', TemporalExtentStart='2000-02-24', TemporalExtentEnd='Present', Deleted=False),\n",
       " ProductInfo(Product='MOD11A1', Platform='Terra MODIS', Description='Land Surface Temperature & Emissivity (LST&E)', Resolution='1000m', Version='061', ProductAndVersion='MOD11A1.061', DOI='10.5067/MODIS/MOD11A1.061', Available=True, RasterType='Tile', TemporalGranularity='Daily', DocLink='https://doi.org/10.5067/MODIS/MOD11A1.061', Source='LP DAAC', TemporalExtentStart='2000-02-24', TemporalExtentEnd='Present', Deleted=False),\n",
       " ProductInfo(Product='MOD11A2', Platform='Terra MODIS', Description='Land Surface Temperature & Emissivity (LST&E)', Resolution='1000m', Version='061', ProductAndVersion='MOD11A2.061', DOI='10.5067/MODIS/MOD11A2.061', Available=True, RasterType='Tile', TemporalGranularity='8 day', DocLink='https://doi.org/10.5067/MODIS/MOD11A2.061', Source='LP DAAC', TemporalExtentStart='2000-02-18', TemporalExtentEnd='Present', Deleted=False),\n",
       " ProductInfo(Product='MOD13A1', Platform='Terra MODIS', Description='Vegetation Indices (NDVI & EVI)', Resolution='500m', Version='061', ProductAndVersion='MOD13A1.061', DOI='10.5067/MODIS/MOD13A1.061', Available=True, RasterType='Tile', TemporalGranularity='16 day', DocLink='https://doi.org/10.5067/MODIS/MOD13A1.061', Source='LP DAAC', TemporalExtentStart='2000-02-18', TemporalExtentEnd='Present', Deleted=False),\n",
       " ProductInfo(Product='MOD13A2', Platform='Terra MODIS', Description='Vegetation Indices (NDVI & EVI)', Resolution='1000m', Version='061', ProductAndVersion='MOD13A2.061', DOI='10.5067/MODIS/MOD13A2.061', Available=True, RasterType='Tile', TemporalGranularity='16 day', DocLink='https://doi.org/10.5067/MODIS/MOD13A2.061', Source='LP DAAC', TemporalExtentStart='2000-02-18', TemporalExtentEnd='Present', Deleted=False),\n",
       " ProductInfo(Product='MOD13A3', Platform='Terra MODIS', Description='Vegetation Indices (NDVI & EVI)', Resolution='1000m', Version='061', ProductAndVersion='MOD13A3.061', DOI='10.5067/MODIS/MOD13A3.061', Available=True, RasterType='Tile', TemporalGranularity='Monthly', DocLink='https://doi.org/10.5067/MODIS/MOD13A3.061', Source='LP DAAC', TemporalExtentStart='2000-02-01', TemporalExtentEnd='Present', Deleted=False),\n",
       " ProductInfo(Product='MOD13Q1', Platform='Terra MODIS', Description='Vegetation Indices (NDVI & EVI)', Resolution='250m', Version='061', ProductAndVersion='MOD13Q1.061', DOI='10.5067/MODIS/MOD13Q1.061', Available=True, RasterType='Tile', TemporalGranularity='16 day', DocLink='https://doi.org/10.5067/MODIS/MOD13Q1.061', Source='LP DAAC', TemporalExtentStart='2000-02-18', TemporalExtentEnd='Present', Deleted=False),\n",
       " ProductInfo(Product='MOD14A2', Platform='Terra MODIS', Description='Thermal Anomalies and Fire', Resolution='1000m', Version='061', ProductAndVersion='MOD14A2.061', DOI='10.5067/MODIS/MOD14A2.061', Available=True, RasterType='Tile', TemporalGranularity='8 day', DocLink='https://doi.org/10.5067/MODIS/MOD14A2.061', Source='LP DAAC', TemporalExtentStart='2000-02-18', TemporalExtentEnd='Present', Deleted=False),\n",
       " ProductInfo(Product='MOD15A2H', Platform='Terra MODIS', Description='Leaf Area Index (LAI) and Fraction of Photosynthetically Active Radiation (FPAR)', Resolution='500m', Version='061', ProductAndVersion='MOD15A2H.061', DOI='10.5067/MODIS/MOD15A2H.061', Available=True, RasterType='Tile', TemporalGranularity='8 day', DocLink='https://doi.org/10.5067/MODIS/MOD15A2H.061', Source='LP DAAC', TemporalExtentStart='2000-02-18', TemporalExtentEnd='Present', Deleted=False),\n",
       " ProductInfo(Product='MOD16A2', Platform='Terra MODIS', Description='Evapotranspiration (ET & LE)', Resolution='500m', Version='061', ProductAndVersion='MOD16A2.061', DOI='10.5067/MODIS/MOD16A2.061', Available=True, RasterType='Tile', TemporalGranularity='8 day', DocLink='https://doi.org/10.5067/MODIS/MOD16A2.061', Source='LP DAAC', TemporalExtentStart='2001-01-01', TemporalExtentEnd='Present', Deleted=False),\n",
       " ProductInfo(Product='MOD16A2GF', Platform='Terra MODIS', Description='Net Evapotranspiration Gap-Filled (ET & LE)', Resolution='500m', Version='061', ProductAndVersion='MOD16A2GF.061', DOI='10.5067/MODIS/MOD16A2GF.061', Available=True, RasterType='Tile', TemporalGranularity='8 day', DocLink='https://doi.org/10.5067/MODIS/MOD16A2GF.061', Source='LP DAAC', TemporalExtentStart='2000-01-01', TemporalExtentEnd='Present', Deleted=False),\n",
       " ProductInfo(Product='MOD16A3GF', Platform='Terra MODIS', Description='Net Evapotranspiration Gap-Filled (ET & LE)', Resolution='500m', Version='061', ProductAndVersion='MOD16A3GF.061', DOI='10.5067/MODIS/MOD16A3GF.061', Available=True, RasterType='Tile', TemporalGranularity='Yearly', DocLink='https://doi.org/10.5067/MODIS/MOD16A3GF.061', Source='LP DAAC', TemporalExtentStart='2000-02-18', TemporalExtentEnd='Present', Deleted=False),\n",
       " ProductInfo(Product='MOD17A2H', Platform='Terra MODIS', Description='Gross Primary Productivity (GPP)', Resolution='500m', Version='061', ProductAndVersion='MOD17A2H.061', DOI='10.5067/MODIS/MOD17A2H.061', Available=True, RasterType='Tile', TemporalGranularity='8 day', DocLink='https://doi.org/10.5067/MODIS/MOD17A2H.061', Source='LP DAAC', TemporalExtentStart='2000-02-18', TemporalExtentEnd='Present', Deleted=False),\n",
       " ProductInfo(Product='MOD17A2HGF', Platform='Terra MODIS', Description='Gross Primary Productivity (GPP)', Resolution='500m', Version='061', ProductAndVersion='MOD17A2HGF.061', DOI='10.5067/MODIS/MOD17A2HGF.061', Available=True, RasterType='Tile', TemporalGranularity='8 day', DocLink='https://doi.org/10.5067/MODIS/MOD17A2HGF.061', Source='LP DAAC', TemporalExtentStart='2000-01-01', TemporalExtentEnd='Present', Deleted=False),\n",
       " ProductInfo(Product='MOD17A3HGF', Platform='Terra MODIS', Description='Net Primary Production (NPP) Gap-Filled', Resolution='500m', Version='061', ProductAndVersion='MOD17A3HGF.061', DOI='10.5067/MODIS/MOD17A3HGF.061', Available=True, RasterType='Tile', TemporalGranularity='Yearly', DocLink='https://doi.org/10.5067/MODIS/MOD17A3HGF.061', Source='LP DAAC', TemporalExtentStart='2000-02-18', TemporalExtentEnd='Present', Deleted=False),\n",
       " ProductInfo(Product='MOD21A1D', Platform='Terra MODIS', Description='Temperature and Emissivity (LST&E)', Resolution='1000m', Version='061', ProductAndVersion='MOD21A1D.061', DOI='10.5067/MODIS/MOD21A1D.061', Available=True, RasterType='Tile', TemporalGranularity='Daily', DocLink='https://doi.org/10.5067/MODIS/MOD21A1D.061', Source='LP DAAC', TemporalExtentStart='2000-02-24', TemporalExtentEnd='Present', Deleted=False),\n",
       " ProductInfo(Product='MOD21A1N', Platform='Terra MODIS', Description='Temperature and Emissivity (LST&E)', Resolution='1000m', Version='061', ProductAndVersion='MOD21A1N.061', DOI='10.5067/MODIS/MOD21A1N.061', Available=True, RasterType='Tile', TemporalGranularity='Daily', DocLink='https://doi.org/10.5067/MODIS/MOD21A1N.061', Source='LP DAAC', TemporalExtentStart='2000-02-24', TemporalExtentEnd='Present', Deleted=False),\n",
       " ProductInfo(Product='MOD21A2', Platform='Terra MODIS', Description='Temperature and Emissivity (LST&E)', Resolution='1000m', Version='061', ProductAndVersion='MOD21A2.061', DOI='10.5067/MODIS/MOD21A2.061', Available=True, RasterType='Tile', TemporalGranularity='8 day', DocLink='https://doi.org/10.5067/MODIS/MOD21A2.061', Source='LP DAAC', TemporalExtentStart='2000-02-18', TemporalExtentEnd='Present', Deleted=False),\n",
       " ProductInfo(Product='MOD44W', Platform='Terra MODIS', Description='Land/Water Mask', Resolution='250m', Version='006', ProductAndVersion='MOD44W.006', DOI='10.5067/MODIS/MOD44W.006', Available=True, RasterType='Tile', TemporalGranularity='Yearly', DocLink='https://doi.org/10.5067/MODIS/MOD44W.006', Source='LP DAAC', TemporalExtentStart='2000-01-01', TemporalExtentEnd='2015-12-31', Deleted=False),\n",
       " ProductInfo(Product='MYD09A1', Platform='Aqua MODIS', Description='Surface Reflectance Bands 1-7', Resolution='500m', Version='061', ProductAndVersion='MYD09A1.061', DOI='10.5067/MODIS/MYD09A1.061', Available=True, RasterType='Tile', TemporalGranularity='8 day', DocLink='https://doi.org/10.5067/MODIS/MYD09A1.061', Source='LP DAAC', TemporalExtentStart='2002-07-04', TemporalExtentEnd='Present', Deleted=False),\n",
       " ProductInfo(Product='MYD09GA', Platform='Aqua MODIS', Description='Surface Reflectance Bands 1-7', Resolution='500/1000m', Version='061', ProductAndVersion='MYD09GA.061', DOI='10.5067/MODIS/MYD09GA.061', Available=True, RasterType='Tile', TemporalGranularity='Daily', DocLink='https://doi.org/10.5067/MODIS/MYD09GA.061', Source='LP DAAC', TemporalExtentStart='2002-07-04', TemporalExtentEnd='Present', Deleted=False),\n",
       " ProductInfo(Product='MYD09GQ', Platform='Aqua MODIS', Description='Surface Reflectance Bands 1-2', Resolution='250m', Version='061', ProductAndVersion='MYD09GQ.061', DOI='10.5067/MODIS/MYD09GQ.061', Available=True, RasterType='Tile', TemporalGranularity='Daily', DocLink='https://doi.org/10.5067/MODIS/MYD09GQ.061', Source='LP DAAC', TemporalExtentStart='2002-07-04', TemporalExtentEnd='Present', Deleted=False),\n",
       " ProductInfo(Product='MYD09Q1', Platform='Aqua MODIS', Description='Surface Reflectance Bands 1-2', Resolution='250m', Version='061', ProductAndVersion='MYD09Q1.061', DOI='10.5067/MODIS/MYD09Q1.061', Available=True, RasterType='Tile', TemporalGranularity='8 day', DocLink='https://doi.org/10.5067/MODIS/MYD09Q1.061', Source='LP DAAC', TemporalExtentStart='2002-07-04', TemporalExtentEnd='Present', Deleted=False),\n",
       " ProductInfo(Product='MYD10A1', Platform='Aqua MODIS', Description='Snow Cover (NDSI)', Resolution='500m', Version='061', ProductAndVersion='MYD10A1.061', DOI='10.5067/MODIS/MYD10A1.061', Available=True, RasterType='Tile', TemporalGranularity='Daily', DocLink='https://doi.org/10.5067/MODIS/MYD10A1.061', Source='NSIDC DAAC', TemporalExtentStart='2002-07-04', TemporalExtentEnd='Present', Deleted=False),\n",
       " ProductInfo(Product='MYD10A2', Platform='Aqua MODIS', Description='Snow Cover', Resolution='500m', Version='061', ProductAndVersion='MYD10A2.061', DOI='10.5067/MODIS/MYD10A2.061', Available=True, RasterType='Tile', TemporalGranularity='8 day', DocLink='https://doi.org/10.5067/MODIS/MYD10A2.061', Source='NSIDC DAAC', TemporalExtentStart='2002-07-04', TemporalExtentEnd='Present', Deleted=False),\n",
       " ProductInfo(Product='MYD11A1', Platform='Aqua MODIS', Description='Land Surface Temperature & Emissivity (LST&E)', Resolution='1000m', Version='061', ProductAndVersion='MYD11A1.061', DOI='10.5067/MODIS/MYD11A1.061', Available=True, RasterType='Tile', TemporalGranularity='Daily', DocLink='https://doi.org/10.5067/MODIS/MYD11A1.061', Source='LP DAAC', TemporalExtentStart='2002-07-04', TemporalExtentEnd='Present', Deleted=False),\n",
       " ProductInfo(Product='MYD11A2', Platform='Aqua MODIS', Description='Land Surface Temperature & Emissivity (LST&E)', Resolution='1000m', Version='061', ProductAndVersion='MYD11A2.061', DOI='10.5067/MODIS/MYD11A2.061', Available=True, RasterType='Tile', TemporalGranularity='8 day', DocLink='https://doi.org/10.5067/MODIS/MYD11A2.061', Source='LP DAAC', TemporalExtentStart='2002-07-04', TemporalExtentEnd='Present', Deleted=False),\n",
       " ProductInfo(Product='MYD13A1', Platform='Aqua MODIS', Description='Vegetation Indices (NDVI & EVI)', Resolution='500m', Version='061', ProductAndVersion='MYD13A1.061', DOI='10.5067/MODIS/MYD13A1.061', Available=True, RasterType='Tile', TemporalGranularity='16 day', DocLink='https://doi.org/10.5067/MODIS/MYD13A1.061', Source='LP DAAC', TemporalExtentStart='2002-07-04', TemporalExtentEnd='Present', Deleted=False),\n",
       " ProductInfo(Product='MYD13A2', Platform='Aqua MODIS', Description='Vegetation Indices (NDVI & EVI)', Resolution='1000m', Version='061', ProductAndVersion='MYD13A2.061', DOI='10.5067/MODIS/MYD13A2.061', Available=True, RasterType='Tile', TemporalGranularity='16 day', DocLink='https://doi.org/10.5067/MODIS/MYD13A2.061', Source='LP DAAC', TemporalExtentStart='2002-07-04', TemporalExtentEnd='Present', Deleted=False),\n",
       " ProductInfo(Product='MYD13A3', Platform='Aqua MODIS', Description='Vegetation Indices (NDVI & EVI)', Resolution='1000m', Version='061', ProductAndVersion='MYD13A3.061', DOI='10.5067/MODIS/MYD13A3.061', Available=True, RasterType='Tile', TemporalGranularity='Monthly', DocLink='https://doi.org/10.5067/MODIS/MYD13A3.061', Source='LP DAAC', TemporalExtentStart='2002-07-01', TemporalExtentEnd='Present', Deleted=False),\n",
       " ProductInfo(Product='MYD13Q1', Platform='Aqua MODIS', Description='Vegetation Indices (NDVI & EVI)', Resolution='250m', Version='061', ProductAndVersion='MYD13Q1.061', DOI='10.5067/MODIS/MYD13Q1.061', Available=True, RasterType='Tile', TemporalGranularity='16 day', DocLink='https://doi.org/10.5067/MODIS/MYD13Q1.061', Source='LP DAAC', TemporalExtentStart='2002-07-04', TemporalExtentEnd='Present', Deleted=False),\n",
       " ProductInfo(Product='MYD14A2', Platform='Aqua MODIS', Description='Thermal Anomalies and Fire', Resolution='1000m', Version='061', ProductAndVersion='MYD14A2.061', DOI='10.5067/MODIS/MYD14A2.061', Available=True, RasterType='Tile', TemporalGranularity='8 day', DocLink='https://doi.org/10.5067/MODIS/MYD14A2.061', Source='LP DAAC', TemporalExtentStart='2002-07-04', TemporalExtentEnd='Present', Deleted=False),\n",
       " ProductInfo(Product='MYD15A2H', Platform='Aqua MODIS', Description='Leaf Area Index (LAI) and Fraction of Photosynthetically Active Radiation (FPAR)', Resolution='500m', Version='061', ProductAndVersion='MYD15A2H.061', DOI='10.5067/MODIS/MYD15A2H.061', Available=True, RasterType='Tile', TemporalGranularity='8 day', DocLink='https://doi.org/10.5067/MODIS/MYD15A2H.061', Source='LP DAAC', TemporalExtentStart='2002-07-04', TemporalExtentEnd='Present', Deleted=False),\n",
       " ProductInfo(Product='MYD16A2', Platform='Aqua MODIS', Description='Evapotranspiration (ET & LE)', Resolution='500m', Version='061', ProductAndVersion='MYD16A2.061', DOI='10.5067/MODIS/MYD16A2.061', Available=True, RasterType='Tile', TemporalGranularity='8 day', DocLink='https://doi.org/10.5067/MODIS/MYD16A2.061', Source='LP DAAC', TemporalExtentStart='2002-07-04', TemporalExtentEnd='Present', Deleted=False),\n",
       " ProductInfo(Product='MYD16A2GF', Platform='Aqua MODIS', Description='Net Evapotranspiration Gap-Filled (ET & LE)', Resolution='500m', Version='061', ProductAndVersion='MYD16A2GF.061', DOI='10.5067/MODIS/MYD16A2GF.061', Available=True, RasterType='Tile', TemporalGranularity='8 day', DocLink='https://doi.org/10.5067/MODIS/MYD16A2GF.061', Source='LP DAAC', TemporalExtentStart='2002-01-01', TemporalExtentEnd='Present', Deleted=False),\n",
       " ProductInfo(Product='MYD16A3GF', Platform='Aqua MODIS', Description='Net Evapotranspiration Gap-Filled (ET & LE)', Resolution='500m', Version='061', ProductAndVersion='MYD16A3GF.061', DOI='10.5067/MODIS/MYD16A3GF.061', Available=True, RasterType='Tile', TemporalGranularity='Yearly', DocLink='https://doi.org/10.5067/MODIS/MYD16A3GF.061', Source='LP DAAC', TemporalExtentStart='2002-07-04', TemporalExtentEnd='Present', Deleted=False),\n",
       " ProductInfo(Product='MYD17A2H', Platform='Aqua MODIS', Description='Gross Primary Productivity (GPP)', Resolution='500m', Version='061', ProductAndVersion='MYD17A2H.061', DOI='10.5067/MODIS/MYD17A2H.061', Available=True, RasterType='Tile', TemporalGranularity='8 day', DocLink='https://doi.org/10.5067/MODIS/MYD17A2H.061', Source='LP DAAC', TemporalExtentStart='2002-07-04', TemporalExtentEnd='Present', Deleted=False),\n",
       " ProductInfo(Product='MYD17A2HGF', Platform='Aqua MODIS', Description='Gross Primary Productivity (GPP) Gap-Filled', Resolution='500m', Version='061', ProductAndVersion='MYD17A2HGF.061', DOI='10.5067/MODIS/MYD17A2HGF.061', Available=True, RasterType='Tile', TemporalGranularity='8 day', DocLink='https://doi.org/10.5067/MODIS/MYD17A2HGF.061', Source='LP DAAC', TemporalExtentStart='2002-01-01', TemporalExtentEnd='Present', Deleted=False),\n",
       " ProductInfo(Product='MYD17A3HGF', Platform='Aqua MODIS', Description='Net Primary Production (NPP) Gap-Filled', Resolution='500m', Version='061', ProductAndVersion='MYD17A3HGF.061', DOI='10.5067/MODIS/MYD17A3HGF.061', Available=True, RasterType='Tile', TemporalGranularity='Yearly', DocLink='https://doi.org/10.5067/MODIS/MYD17A3HGF.061', Source='LP DAAC', TemporalExtentStart='2002-07-04', TemporalExtentEnd='Present', Deleted=False),\n",
       " ProductInfo(Product='MYD21A1D', Platform='Aqua MODIS', Description='Land Surface Temperature & Emissivity (LST&E)', Resolution='1000m', Version='061', ProductAndVersion='MYD21A1D.061', DOI='10.5067/MODIS/MYD21A1D.061', Available=True, RasterType='Tile', TemporalGranularity='Daily', DocLink='https://doi.org/10.5067/MODIS/MYD21A1D.061', Source='LP DAAC', TemporalExtentStart='2002-07-04', TemporalExtentEnd='Present', Deleted=False),\n",
       " ProductInfo(Product='MYD21A1N', Platform='Aqua MODIS', Description='Land Surface Temperature & Emissivity (LST&E)', Resolution='1000m', Version='061', ProductAndVersion='MYD21A1N.061', DOI='10.5067/MODIS/MYD21A1N.061', Available=True, RasterType='Tile', TemporalGranularity='Daily', DocLink='https://doi.org/10.5067/MODIS/MYD21A1N.061', Source='LP DAAC', TemporalExtentStart='2002-07-04', TemporalExtentEnd='Present', Deleted=False),\n",
       " ProductInfo(Product='MYD21A2', Platform='Aqua MODIS', Description='Land Surface Temperature & Emissivity (LST&E)', Resolution='1000m', Version='061', ProductAndVersion='MYD21A2.061', DOI='10.5067/MODIS/MYD21A2.061', Available=True, RasterType='Tile', TemporalGranularity='8 day', DocLink='https://doi.org/10.5067/MODIS/MYD21A2.061', Source='LP DAAC', TemporalExtentStart='2002-07-04', TemporalExtentEnd='Present', Deleted=False),\n",
       " ProductInfo(Product='NASADEM_NC', Platform='NASADEM', Description='Elevation', Resolution='30m', Version='001', ProductAndVersion='NASADEM_NC.001', DOI='10.5067/MEaSUREs/NASADEM/NASADEM_NC.001', Available=True, RasterType='Tile', TemporalGranularity='Static', DocLink='https://doi.org/10.5067/MEaSUREs/NASADEM/NASADEM_NC.001', Source='LP DAAC', TemporalExtentStart='2/11/2000', TemporalExtentEnd='2/21/2000', Deleted=False),\n",
       " ProductInfo(Product='NASADEM_NUMNC', Platform='NASADEM', Description='Source', Resolution='30m', Version='001', ProductAndVersion='NASADEM_NUMNC.001', DOI='10.5067/MEaSUREs/NASADEM/NASADEM_NUMNC.001', Available=True, RasterType='Tile', TemporalGranularity='Static', DocLink='https://doi.org/10.5067/MEaSUREs/NASADEM/NASADEM_NUMNC.001', Source='LP DAAC', TemporalExtentStart='2/11/2000', TemporalExtentEnd='2/21/2000', Deleted=False),\n",
       " ProductInfo(Product='SPL3SMP_E', Platform='SMAP', Description='Enhanced L3 Radiometer Soil Moisture', Resolution='9000m', Version='005', ProductAndVersion='SPL3SMP_E.005', DOI='10.5067/4DQ54OUIJ9DL', Available=True, RasterType='Tile', TemporalGranularity='Daily', DocLink='https://doi.org/10.5067/4DQ54OUIJ9DL', Source='NSIDC DAAC', TemporalExtentStart='2015-03-31', TemporalExtentEnd='Present', Deleted=False),\n",
       " ProductInfo(Product='SPL3SMP', Platform='SMAP', Description='Soil Moisture', Resolution='36000m', Version='008', ProductAndVersion='SPL3SMP.008', DOI='10.5067/OMHVSRGFX38O', Available=True, RasterType='Tile', TemporalGranularity='Daily', DocLink='https://doi.org/10.5067/OMHVSRGFX38O', Source='NSIDC DAAC', TemporalExtentStart='2015-03-31', TemporalExtentEnd='Present', Deleted=False),\n",
       " ProductInfo(Product='SPL4CMDL', Platform='SMAP', Description='Carbon Net Ecosystem Exchange', Resolution='9000m', Version='006', ProductAndVersion='SPL4CMDL.006', DOI='10.5067/L6C9EY1O8VIC', Available=True, RasterType='Tile', TemporalGranularity='Daily', DocLink='https://doi.org/10.5067/L6C9EY1O8VIC', Source='NSIDC DAAC', TemporalExtentStart='2015-03-31', TemporalExtentEnd='Present', Deleted=False),\n",
       " ProductInfo(Product='SPL4SMGP', Platform='SMAP', Description='Surface and Root Zone Soil Moisture', Resolution='9000m', Version='006', ProductAndVersion='SPL4SMGP.006', DOI='10.5067/08S1A6811J0U', Available=True, RasterType='Tile', TemporalGranularity='Daily', DocLink='https://doi.org/10.5067/08S1A6811J0U', Source='NSIDC DAAC', TemporalExtentStart='2015-03-31', TemporalExtentEnd='Present', Deleted=False),\n",
       " ProductInfo(Product='SPL3FTP', Platform='SMAP', Description='Freeze/Thaw State', Resolution='36000m', Version='003', ProductAndVersion='SPL3FTP.003', DOI='10.5067/ZJOKL452HRLD', Available=True, RasterType='Tile', TemporalGranularity='Daily', DocLink='https://doi.org/10.5067/ZJOKL452HRLD', Source='NSIDC DAAC', TemporalExtentStart='2015-03-31', TemporalExtentEnd='Present', Deleted=False),\n",
       " ProductInfo(Product='SRTMGL1_NC', Platform='SRTM', Description='Elevation (DEM)', Resolution='30m', Version='003', ProductAndVersion='SRTMGL1_NC.003', DOI='10.5067/MEaSUREs/SRTM/SRTMGL1_NC.003', Available=True, RasterType='Tile', TemporalGranularity='Static', DocLink='https://doi.org/10.5067/MEaSUREs/SRTM/SRTMGL1_NC.003', Source='LP DAAC', TemporalExtentStart='2000-02-11', TemporalExtentEnd='2000-02-21', Deleted=False),\n",
       " ProductInfo(Product='SRTMGL1_NUMNC', Platform='SRTM', Description='Source (DEM)', Resolution='30m', Version='003', ProductAndVersion='SRTMGL1_NUMNC.003', DOI='10.5067/MEaSUREs/SRTM/SRTMGL1_NUMNC.003', Available=True, RasterType='Tile', TemporalGranularity='Static', DocLink='https://doi.org/10.5067/MEaSUREs/SRTM/SRTMGL1_NUMNC.003', Source='LP DAAC', TemporalExtentStart='2000-02-11', TemporalExtentEnd='2000-02-21', Deleted=False),\n",
       " ProductInfo(Product='SRTMGL3_NC', Platform='SRTM', Description='Elevation (DEM)', Resolution='90m', Version='003', ProductAndVersion='SRTMGL3_NC.003', DOI='10.5067/MEaSUREs/SRTM/SRTMGL3_NC.003', Available=True, RasterType='Tile', TemporalGranularity='Static', DocLink='https://doi.org/10.5067/MEaSUREs/SRTM/SRTMGL3_NC.003', Source='LP DAAC', TemporalExtentStart='2000-02-11', TemporalExtentEnd='2000-02-21', Deleted=False),\n",
       " ProductInfo(Product='SRTMGL3_NUMNC', Platform='SRTM', Description='Source (DEM)', Resolution='90m', Version='003', ProductAndVersion='SRTMGL3_NUMNC.003', DOI='10.5067/MEaSUREs/SRTM/SRTMGL3_NUMNC.003', Available=True, RasterType='Tile', TemporalGranularity='Static', DocLink='https://doi.org/10.5067/MEaSUREs/SRTM/SRTMGL3_NUMNC.003', Source='LP DAAC', TemporalExtentStart='2000-02-11', TemporalExtentEnd='2000-02-21', Deleted=False),\n",
       " ProductInfo(Product='ASTGTM_NC', Platform='ASTER GDEM', Description='Elevation', Resolution='30m', Version='003', ProductAndVersion='ASTGTM_NC.003', DOI='10.5067/ASTER/ASTGTM_NC.003', Available=True, RasterType='Tile', TemporalGranularity='Static', DocLink='https://doi.org/10.5067/ASTER/ASTGTM_NC.003', Source='LP DAAC', TemporalExtentStart='2000-03-01', TemporalExtentEnd='2000-03-01', Deleted=False),\n",
       " ProductInfo(Product='ASTGTM_NUMNC', Platform='ASTER GDEM', Description='Source', Resolution='30m', Version='003', ProductAndVersion='ASTGTM_NUMNC.003', DOI='10.5067/ASTER/ASTGTM_NUMNC.003', Available=True, RasterType='Tile', TemporalGranularity='Static', DocLink='https://doi.org/10.5067/ASTER/ASTGTM_NUMNC.003', Source='LP DAAC', TemporalExtentStart='2000-03-01', TemporalExtentEnd='2000-03-01', Deleted=False),\n",
       " ProductInfo(Product='ASTWBD_ATTNC', Platform='ASTER GDEM', Description='Water Bodies Database Attributes', Resolution='30m', Version='001', ProductAndVersion='ASTWBD_ATTNC.001', DOI='10.5067/ASTER/ASTWBD_ATTNC.001', Available=True, RasterType='Tile', TemporalGranularity='Static', DocLink='https://doi.org/10.5067/ASTER/ASTWBD_ATTNC.001', Source='LP DAAC', TemporalExtentStart='2000-03-01', TemporalExtentEnd='2000-03-01', Deleted=False),\n",
       " ProductInfo(Product='ASTWBD_NC', Platform='ASTER GDEM', Description='Water Bodies Database Elevation', Resolution='30m', Version='001', ProductAndVersion='ASTWBD_NC.001', DOI='10.5067/ASTER/ASTWBD_NC.001', Available=True, RasterType='Tile', TemporalGranularity='Static', DocLink='https://doi.org/10.5067/ASTER/ASTWBD_NC.001', Source='LP DAAC', TemporalExtentStart='2000-03-01', TemporalExtentEnd='2000-03-01', Deleted=False),\n",
       " ProductInfo(Product='VNP09H1', Platform='S-NPP NASA VIIRS', Description='Surface Reflectance', Resolution='500m', Version='001', ProductAndVersion='VNP09H1.001', DOI='10.5067/VIIRS/VNP09H1.001', Available=True, RasterType='Tile', TemporalGranularity='8 day', DocLink='https://doi.org/10.5067/viirs/vnp09h1.001', Source='LP DAAC', TemporalExtentStart='2012-01-17', TemporalExtentEnd='Present', Deleted=False),\n",
       " ProductInfo(Product='VNP09A1', Platform='S-NPP NASA VIIRS', Description='Surface Reflectance', Resolution='1000m', Version='001', ProductAndVersion='VNP09A1.001', DOI='10.5067/VIIRS/VNP09A1.001', Available=True, RasterType='Tile', TemporalGranularity='8 day', DocLink='https://doi.org/10.5067/viirs/vnp09a1.001', Source='LP DAAC', TemporalExtentStart='2012-01-17', TemporalExtentEnd='Present', Deleted=False),\n",
       " ProductInfo(Product='VNP09GA', Platform='S-NPP NASA VIIRS', Description='Surface Reflectance', Resolution='500/1000m', Version='001', ProductAndVersion='VNP09GA.001', DOI='10.5067/VIIRS/VNP09GA.001', Available=True, RasterType='Tile', TemporalGranularity='Daily', DocLink='https://doi.org/10.5067/viirs/vnp09ga.001', Source='LP DAAC', TemporalExtentStart='2012-01-19', TemporalExtentEnd='Present', Deleted=False),\n",
       " ProductInfo(Product='VNP13A1', Platform='S-NPP NASA VIIRS', Description='Vegetation Indices (NDVI & EVI)', Resolution='500m', Version='001', ProductAndVersion='VNP13A1.001', DOI='10.5067/VIIRS/VNP13A1.001', Available=True, RasterType='Tile', TemporalGranularity='16 day', DocLink='https://doi.org/10.5067/viirs/vnp13a1.001', Source='LP DAAC', TemporalExtentStart='2012-01-17', TemporalExtentEnd='Present', Deleted=False),\n",
       " ProductInfo(Product='VNP13A2', Platform='S-NPP NASA VIIRS', Description='Vegetation Indices (NDVI & EVI)', Resolution='1000m', Version='001', ProductAndVersion='VNP13A2.001', DOI='10.5067/VIIRS/VNP13A2.001', Available=True, RasterType='Tile', TemporalGranularity='16 day', DocLink='https://doi.org/10.5067/viirs/vnp13a2.001', Source='LP DAAC', TemporalExtentStart='2012-01-17', TemporalExtentEnd='Present', Deleted=False),\n",
       " ProductInfo(Product='VNP13A3', Platform='S-NPP NASA VIIRS', Description='Vegetation Indices (NDVI & EVI)', Resolution='1000m', Version='001', ProductAndVersion='VNP13A3.001', DOI='10.5067/VIIRS/VNP13A3.001', Available=True, RasterType='Tile', TemporalGranularity='Monthly', DocLink='https://doi.org/10.5067/viirs/vnp13a3.001', Source='LP DAAC', TemporalExtentStart='2012-01-01', TemporalExtentEnd='Present', Deleted=False),\n",
       " ProductInfo(Product='VNP14A1', Platform='S-NPP NASA VIIRS', Description='Thermal Anomalies/Fire', Resolution='1000m', Version='001', ProductAndVersion='VNP14A1.001', DOI='10.5067/VIIRS/VNP14A1.001', Available=True, RasterType='Tile', TemporalGranularity='Daily', DocLink='https://doi.org/10.5067/viirs/vnp14a1.001', Source='LP DAAC', TemporalExtentStart='2012-01-17', TemporalExtentEnd='Present', Deleted=False),\n",
       " ProductInfo(Product='VNP15A2H', Platform='S-NPP NASA VIIRS', Description='Leaf Area Index (LAI) and Fraction of Photosynthetically Active Radiation (FPAR)', Resolution='500m', Version='001', ProductAndVersion='VNP15A2H.001', DOI='10.5067/VIIRS/VNP15A2H.001', Available=True, RasterType='Tile', TemporalGranularity='8 day', DocLink='https://doi.org/10.5067/viirs/vnp15a2h.001', Source='LP DAAC', TemporalExtentStart='2012-01-19', TemporalExtentEnd='Present', Deleted=False),\n",
       " ProductInfo(Product='VNP21A1D', Platform='S-NPP NASA VIIRS', Description='Land Surface Temperature & Emissivity Day (LST&E)', Resolution='1000m', Version='001', ProductAndVersion='VNP21A1D.001', DOI='10.5067/VIIRS/VNP21A1D.001', Available=True, RasterType='Tile', TemporalGranularity='Daily', DocLink='https://doi.org/10.5067/viirs/vnp21a1d.001', Source='LP DAAC', TemporalExtentStart='2012-01-17', TemporalExtentEnd='Present', Deleted=False),\n",
       " ProductInfo(Product='VNP21A1N', Platform='S-NPP NASA VIIRS', Description='Land Surface Temperature & Emissivity Night (LST&E)', Resolution='1000m', Version='001', ProductAndVersion='VNP21A1N.001', DOI='10.5067/VIIRS/VNP21A1N.001', Available=True, RasterType='Tile', TemporalGranularity='Daily', DocLink='https://doi.org/10.5067/viirs/vnp21a1n.001', Source='LP DAAC', TemporalExtentStart='2012-01-17', TemporalExtentEnd='Present', Deleted=False),\n",
       " ProductInfo(Product='VNP21A2', Platform='S-NPP NASA VIIRS', Description='Land Surface Temperature & Emissivity (LST&E)', Resolution='1000m', Version='001', ProductAndVersion='VNP21A2.001', DOI='10.5067/VIIRS/VNP21A2.001', Available=True, RasterType='Tile', TemporalGranularity='8 day', DocLink='https://doi.org/10.5067/viirs/vnp21a2.001', Source='LP DAAC', TemporalExtentStart='2012-01-17', TemporalExtentEnd='Present', Deleted=False),\n",
       " ProductInfo(Product='VNP22Q2', Platform='S-NPP NASA VIIRS', Description='Global Land Surface Phenology (GLSP)', Resolution='500m', Version='001', ProductAndVersion='VNP22Q2.001', DOI='10.5067/VIIRS/VNP22Q2.001', Available=True, RasterType='Tile', TemporalGranularity='Yearly', DocLink='https://doi.org/10.5067/VIIRS/VNP22Q2.001', Source='LP DAAC', TemporalExtentStart='2013-01-01', TemporalExtentEnd='2020-12-31', Deleted=False),\n",
       " ProductInfo(Product='VNP43IA1', Platform='S-NPP NASA VIIRS', Description='BRDF-Albedo Model Parameters', Resolution='500m', Version='001', ProductAndVersion='VNP43IA1.001', DOI='10.5067/VIIRS/VNP43IA1.001', Available=True, RasterType='Tile', TemporalGranularity='Daily', DocLink='https://doi.org/10.5067/viirs/vnp43ia1.001', Source='LP DAAC', TemporalExtentStart='2012-01-19', TemporalExtentEnd='Present', Deleted=False),\n",
       " ProductInfo(Product='VNP43IA2', Platform='S-NPP NASA VIIRS', Description='BRDF-Albedo Quality', Resolution='500m', Version='001', ProductAndVersion='VNP43IA2.001', DOI='10.5067/VIIRS/VNP43IA2.001', Available=True, RasterType='Tile', TemporalGranularity='Daily', DocLink='https://doi.org/10.5067/viirs/vnp43ia2.001', Source='LP DAAC', TemporalExtentStart='2012-01-19', TemporalExtentEnd='Present', Deleted=False),\n",
       " ProductInfo(Product='VNP43IA3', Platform='S-NPP NASA VIIRS', Description='Albedo (BRDF)', Resolution='500m', Version='001', ProductAndVersion='VNP43IA3.001', DOI='10.5067/VIIRS/VNP43IA3.001', Available=True, RasterType='Tile', TemporalGranularity='Daily', DocLink='https://doi.org/10.5067/viirs/vnp43ia3.001', Source='LP DAAC', TemporalExtentStart='2012-01-19', TemporalExtentEnd='Present', Deleted=False),\n",
       " ProductInfo(Product='VNP43IA4', Platform='S-NPP NASA VIIRS', Description='Nadir BRDF-Adjusted Reflectance', Resolution='500m', Version='001', ProductAndVersion='VNP43IA4.001', DOI='10.5067/VIIRS/VNP43IA4.001', Available=True, RasterType='Tile', TemporalGranularity='Daily', DocLink='https://doi.org/10.5067/viirs/vnp43ia4.001', Source='LP DAAC', TemporalExtentStart='2012-01-19', TemporalExtentEnd='Present', Deleted=False),\n",
       " ProductInfo(Product='VNP43MA1', Platform='S-NPP NASA VIIRS', Description='BRDF-Albedo Model Parameters', Resolution='1000m', Version='001', ProductAndVersion='VNP43MA1.001', DOI='10.5067/VIIRS/VNP43MA1.001', Available=True, RasterType='Tile', TemporalGranularity='Daily', DocLink='https://doi.org/10.5067/viirs/vnp43ma1.001', Source='LP DAAC', TemporalExtentStart='2012-01-19', TemporalExtentEnd='Present', Deleted=False),\n",
       " ProductInfo(Product='VNP43MA2', Platform='S-NPP NASA VIIRS', Description='BRDF-Albedo Quality', Resolution='1000m', Version='001', ProductAndVersion='VNP43MA2.001', DOI='10.5067/VIIRS/VNP43MA2.001', Available=True, RasterType='Tile', TemporalGranularity='Daily', DocLink='https://doi.org/10.5067/viirs/vnp43ma2.001', Source='LP DAAC', TemporalExtentStart='2012-01-19', TemporalExtentEnd='Present', Deleted=False),\n",
       " ProductInfo(Product='VNP43MA3', Platform='S-NPP NASA VIIRS', Description='Albedo (BRDF)', Resolution='1000m', Version='001', ProductAndVersion='VNP43MA3.001', DOI='10.5067/VIIRS/VNP43MA3.001', Available=True, RasterType='Tile', TemporalGranularity='Daily', DocLink='https://doi.org/10.5067/viirs/vnp43ma3.001', Source='LP DAAC', TemporalExtentStart='2012-01-19', TemporalExtentEnd='Present', Deleted=False),\n",
       " ProductInfo(Product='VNP43MA4', Platform='S-NPP NASA VIIRS', Description='Nadir BRDF-Adjusted Reflectance', Resolution='1000m', Version='001', ProductAndVersion='VNP43MA4.001', DOI='10.5067/VIIRS/VNP43MA4.001', Available=True, RasterType='Tile', TemporalGranularity='Daily', DocLink='https://doi.org/10.5067/viirs/vnp43ma4.001', Source='LP DAAC', TemporalExtentStart='2012-01-19', TemporalExtentEnd='Present', Deleted=False),\n",
       " ProductInfo(Product='L04', Platform='Landsat ARD', Description='Landsat Collection 2 ARD Surface Reflectance - Landsat 4', Resolution='30m', Version='002', ProductAndVersion='L04.002', DOI='10.5066/P960F8OC', Available=True, RasterType='Tile', TemporalGranularity='16 day', DocLink='https://www.usgs.gov/landsat-missions/landsat-collection-2-us-analysis-ready-data', Source='USGS', TemporalExtentStart='1982-11-12', TemporalExtentEnd='1992-12-29', Deleted=False),\n",
       " ProductInfo(Product='L05', Platform='Landsat ARD', Description='Landsat Collection 2 ARD Surface Reflectance - Landsat 5', Resolution='30m', Version='002', ProductAndVersion='L05.002', DOI='10.5066/P960F8OC', Available=True, RasterType='Tile', TemporalGranularity='16 day', DocLink='https://www.usgs.gov/landsat-missions/landsat-collection-2-us-analysis-ready-data', Source='USGS', TemporalExtentStart='1984-03-16', TemporalExtentEnd='2012-05-05', Deleted=False),\n",
       " ProductInfo(Product='L07', Platform='Landsat ARD', Description='Landsat Collection 2 ARD Surface Reflectance - Landsat 7', Resolution='30m', Version='002', ProductAndVersion='L07.002', DOI='10.5066/P960F8OC', Available=True, RasterType='Tile', TemporalGranularity='16 day', DocLink='https://www.usgs.gov/landsat-missions/landsat-collection-2-us-analysis-ready-data', Source='USGS', TemporalExtentStart='1999-06-29', TemporalExtentEnd='2022-04-06', Deleted=False),\n",
       " ProductInfo(Product='L08', Platform='Landsat ARD', Description='Landsat Collection 2 ARD Surface Reflectance - Landsat 8', Resolution='30m', Version='002', ProductAndVersion='L08.002', DOI='10.5066/P960F8OC', Available=True, RasterType='Tile', TemporalGranularity='16 day', DocLink='https://www.usgs.gov/landsat-missions/landsat-collection-2-us-analysis-ready-data', Source='USGS', TemporalExtentStart='2013-03-18', TemporalExtentEnd='Present', Deleted=False),\n",
       " ProductInfo(Product='L09', Platform='Landsat ARD', Description='Landsat Collection 2 ARD Surface Reflectance - Landsat 9', Resolution='30m', Version='002', ProductAndVersion='L09.002', DOI='10.5066/P960F8OC', Available=True, RasterType='Tile', TemporalGranularity='16 day', DocLink='https://www.usgs.gov/landsat-missions/landsat-collection-2-us-analysis-ready-data', Source='USGS', TemporalExtentStart='2021-10-31', TemporalExtentEnd='Present', Deleted=False),\n",
       " ProductInfo(Product='DAYMET', Platform='DAYMET', Description='Daily Surface Weather Data for North America', Resolution='1000m', Version='004', ProductAndVersion='DAYMET.004', DOI='10.3334/ORNLDAAC/2129', Available=True, RasterType='Tile', TemporalGranularity='Daily', DocLink='https://doi.org/10.3334/ORNLDAAC/2129', Source='ORNL', TemporalExtentStart='1950-01-01', TemporalExtentEnd='2022-12-31', Deleted=False),\n",
       " ProductInfo(Product='ECO2LSTE', Platform='ECOSTRESS', Description='Land Surface Temperature & Emissivity (LST&E)', Resolution='70m', Version='001', ProductAndVersion='ECO2LSTE.001', DOI='10.5067/ECOSTRESS/ECO2LSTE.001', Available=True, RasterType='Swath', TemporalGranularity='ISS-dependent', DocLink='https://doi.org/10.5067/ECOSTRESS/ECO2LSTE.001', Source='LP DAAC', TemporalExtentStart='2018-07-09', TemporalExtentEnd='Present', Deleted=False),\n",
       " ProductInfo(Product='ECO2CLD', Platform='ECOSTRESS', Description='Cloud Mask', Resolution='70m', Version='001', ProductAndVersion='ECO2CLD.001', DOI='10.5067/ECOSTRESS/ECO2CLD.001', Available=True, RasterType='Swath', TemporalGranularity='ISS-dependent', DocLink='https://doi.org/10.5067/ECOSTRESS/ECO2CLD.001', Source='LP DAAC', TemporalExtentStart='2018-07-09', TemporalExtentEnd='Present', Deleted=False),\n",
       " ProductInfo(Product='ECO3ETPTJPL', Platform='ECOSTRESS', Description='Evapotranspiration PT-JPL', Resolution='70m', Version='001', ProductAndVersion='ECO3ETPTJPL.001', DOI='10.5067/ECOSTRESS/ECO3ETPTJPL.001', Available=True, RasterType='Swath', TemporalGranularity='ISS-dependent', DocLink='https://doi.org/10.5067/ECOSTRESS/ECO3ETPTJPL.001', Source='LP DAAC', TemporalExtentStart='2018-07-09', TemporalExtentEnd='Present', Deleted=False),\n",
       " ProductInfo(Product='ECO3ANCQA', Platform='ECOSTRESS', Description='L3/L4 Ancillary Data Quality Assurance (QA) Flags', Resolution='70m', Version='001', ProductAndVersion='ECO3ANCQA.001', DOI='10.5067/ECOSTRESS/ECO3ANCQA.001', Available=True, RasterType='Swath', TemporalGranularity='ISS-dependent', DocLink='https://doi.org/10.5067/ECOSTRESS/ECO3ANCQA.001', Source='LP DAAC', TemporalExtentStart='2018-07-09', TemporalExtentEnd='Present', Deleted=False),\n",
       " ProductInfo(Product='ECO4ESIPTJPL', Platform='ECOSTRESS', Description='Evaporative Stress Index PT-JPL', Resolution='70m', Version='001', ProductAndVersion='ECO4ESIPTJPL.001', DOI='10.5067/ECOSTRESS/ECO4ESIPTJPL.001', Available=True, RasterType='Swath', TemporalGranularity='ISS-dependent', DocLink='https://doi.org/10.5067/ECOSTRESS/ECO4ESIPTJPL.001', Source='LP DAAC', TemporalExtentStart='2018-07-09', TemporalExtentEnd='Present', Deleted=False),\n",
       " ProductInfo(Product='ECO4WUE', Platform='ECOSTRESS', Description='Water Use Efficiency', Resolution='70m', Version='001', ProductAndVersion='ECO4WUE.001', DOI='10.5067/ECOSTRESS/ECO4WUE.001', Available=True, RasterType='Swath', TemporalGranularity='ISS-dependent', DocLink='https://doi.org/10.5067/ECOSTRESS/ECO4WUE.001', Source='LP DAAC', TemporalExtentStart='2018-07-09', TemporalExtentEnd='Present', Deleted=False),\n",
       " ProductInfo(Product='ECO1BGEO', Platform='ECOSTRESS', Description='Geolocation', Resolution='70m', Version='001', ProductAndVersion='ECO1BGEO.001', DOI='10.5067/ECOSTRESS/ECO1BGEO.001', Available=True, RasterType='Swath', TemporalGranularity='ISS-dependent', DocLink='https://doi.org/10.5067/ECOSTRESS/ECO1BGEO.001', Source='LP DAAC', TemporalExtentStart='2018-07-09', TemporalExtentEnd='Present', Deleted=False),\n",
       " ProductInfo(Product='ECO1BMAPRAD', Platform='ECOSTRESS', Description='Resampled Radiance', Resolution='70m', Version='001', ProductAndVersion='ECO1BMAPRAD.001', DOI='10.5067/ECOSTRESS/ECO1BMAPRAD.001', Available=True, RasterType='Swath', TemporalGranularity='ISS-dependent', DocLink='https://doi.org/10.5067/ECOSTRESS/ECO1BMAPRAD.001', Source='LP DAAC', TemporalExtentStart='2018-07-09', TemporalExtentEnd='Present', Deleted=False),\n",
       " ProductInfo(Product='ECO3ETALEXI', Platform='ECOSTRESS', Description='Evapotranspiration dis-ALEXI', Resolution='70m', Version='001', ProductAndVersion='ECO3ETALEXI.001', DOI='10.5067/ECOSTRESS/ECO3ETALEXI.001', Available=True, RasterType='Swath', TemporalGranularity='ISS-dependent', DocLink='https://doi.org/10.5067/ECOSTRESS/ECO3ETALEXI.001', Source='LP DAAC', TemporalExtentStart='2018-07-09', TemporalExtentEnd='Present', Deleted=False),\n",
       " ProductInfo(Product='ECO4ESIALEXI', Platform='ECOSTRESS', Description='Evaporative Stress Index dis-ALEXI', Resolution='70m', Version='001', ProductAndVersion='ECO4ESIALEXI.001', DOI='10.5067/ECOSTRESS/ECO4ESIALEXI.001', Available=True, RasterType='Swath', TemporalGranularity='ISS-dependent', DocLink='https://doi.org/10.5067/ECOSTRESS/ECO4ESIALEXI.001', Source='LP DAAC', TemporalExtentStart='2018-07-09', TemporalExtentEnd='Present', Deleted=False),\n",
       " ProductInfo(Product='ECO_L1B_GEO', Platform='ECOSTRESS', Description='Geolocation', Resolution='70m', Version='002', ProductAndVersion='ECO_L1B_GEO.002', DOI='10.5067/ECOSTRESS/ECO_L1B_GEO.002', Available=True, RasterType='Swath', TemporalGranularity='ISS-dependent', DocLink='https://doi.org/10.5067/ECOSTRESS/ECO_L1B_GEO.002', Source='LP DAAC', TemporalExtentStart='2018-07-09', TemporalExtentEnd='Present', Deleted=False),\n",
       " ProductInfo(Product='ECO_L2_CLOUD', Platform='ECOSTRESS', Description='Cloud Mask Instantaneous', Resolution='70m', Version='002', ProductAndVersion='ECO_L2_CLOUD.002', DOI='10.5067/ECOSTRESS/ECO_L2_CLOUD.002', Available=True, RasterType='Swath', TemporalGranularity='ISS-dependent', DocLink='https://doi.org/10.5067/ECOSTRESS/ECO_L2_CLOUD.002', Source='LP DAAC', TemporalExtentStart='2018-07-09', TemporalExtentEnd='Present', Deleted=False),\n",
       " ProductInfo(Product='ECO_L2_LSTE', Platform='ECOSTRESS', Description='Swath Land Surface Temperature and Emissivity Instantaneous', Resolution='70m', Version='002', ProductAndVersion='ECO_L2_LSTE.002', DOI='10.5067/ECOSTRESS/ECO2LSTE.001', Available=True, RasterType='Swath', TemporalGranularity='ISS-dependent', DocLink='https://doi.org/10.5067/ECOSTRESS/ECO_L2_LSTE.002', Source='LP DAAC', TemporalExtentStart='2018-07-09', TemporalExtentEnd='Present', Deleted=False),\n",
       " ProductInfo(Product='ECO_L2T_LSTE', Platform='ECOSTRESS', Description='Tiled Land Surface Temperature and Emissivity', Resolution='70m', Version='002', ProductAndVersion='ECO_L2T_LSTE.002', DOI='10.5067/ECOSTRESS/ECO_L2T_LSTE.002', Available=True, RasterType='Tile', TemporalGranularity='ISS-dependent', DocLink='https://dx.doi.org/10.5067/ECOSTRESS/ECO_L2T_LSTE.002', Source='LP DAAC', TemporalExtentStart='2018-05-07', TemporalExtentEnd='Present', Deleted=False),\n",
       " ProductInfo(Product='HLSS30', Platform='Harmonized Landsat and Sentinel-2', Description='Land Surface Reflectance', Resolution='30m', Version='020', ProductAndVersion='HLSS30.020', DOI='10.5067/HLS/HLSS30.002', Available=True, RasterType='Tile', TemporalGranularity='Daily', DocLink='https://doi.org/10.5067/HLS/HLSS30.002', Source='LP DAAC', TemporalExtentStart='2015-12-01', TemporalExtentEnd='Present', Deleted=False),\n",
       " ProductInfo(Product='HLSL30', Platform='Harmonized Landsat and Sentinel-2', Description='Land Surface Reflectance', Resolution='30m', Version='020', ProductAndVersion='HLSL30.020', DOI='10.5067/HLS/HLSL30.002', Available=True, RasterType='Tile', TemporalGranularity='Daily', DocLink='https://doi.org/10.5067/HLS/HLSL30.002', Source='LP DAAC', TemporalExtentStart='2013-04-01', TemporalExtentEnd='Present', Deleted=False),\n",
       " ProductInfo(Product='GEOLST4KHR', Platform='MEaSUREs LSTE', Description='Geostationary Earth Orbit Land Surface Temperature Hourly North and South America 4KM V002', Resolution='4000m', Version='002', ProductAndVersion='GEOLST4KHR.002', DOI='10.5067/MEaSUREs/LSTE/GEOLST4KHR.002', Available=True, RasterType='Swath', TemporalGranularity='Hourly', DocLink='https://doi.org/10.5067/MEaSUREs/LSTE/GEOLST4KHR.002', Source='LP DAAC', TemporalExtentStart='2000-04-01', TemporalExtentEnd='2016-12-31', Deleted=False),\n",
       " ProductInfo(Product='WaterBalance_Daily_Historical_GRIDMET', Platform='NPS Historical Water Balance, Daily', Description='NPS Water Balance', Resolution='1000m', Version='015', ProductAndVersion='WaterBalance_Daily_Historical_GRIDMET.015', DOI='110.1002/ecs2.4530', Available=True, RasterType='Tile', TemporalGranularity='Daily', DocLink='https://doi.org/10.1002/ecs2.4530', Source='ORNL', TemporalExtentStart='1979-01-01', TemporalExtentEnd='2021-12-31', Deleted=False),\n",
       " ProductInfo(Product='WaterBalance_Monthly_Historical_GRIDMET', Platform='NPS Historical Water Balance, Monthly', Description='NPS Water Balance', Resolution='1000m', Version='015', ProductAndVersion='WaterBalance_Monthly_Historical_GRIDMET.015', DOI='110.1002/ecs2.4530', Available=True, RasterType='Tile', TemporalGranularity='Monthly', DocLink='https://doi.org/10.1002/ecs2.4530', Source='ORNL', TemporalExtentStart='1980-01-01', TemporalExtentEnd='2021-12-31', Deleted=False)]"
      ]
     },
     "execution_count": 2,
     "metadata": {},
     "output_type": "execute_result"
    }
   ],
   "source": [
    "from springtime.datasets.appeears import products\n",
    "\n",
    "products()"
   ]
  },
  {
   "cell_type": "markdown",
   "metadata": {},
   "source": [
    "We are interested in product MCD12Q2 on \"Land Cover Dynamics\". The products has\n",
    "several layers that we can retrieve.\n"
   ]
  },
  {
   "cell_type": "code",
   "execution_count": 3,
   "metadata": {},
   "outputs": [
    {
     "data": {
      "text/plain": [
       "{'Dormancy': LayerInfo(AddOffset='', Available=True, DataType='int16', Description='Date when EVI2 last crossed 15% of the segment EVI2 amplitude', Dimensions=['time', 'YDim', 'XDim', 'Num_Modes'], FillValue=32767, IsQA=False, Layer='Dormancy', OrigDataType='int16', OrigValidMax=32766, OrigValidMin=11138, QualityLayers=\"['QA_Detailed_0','QA_Detailed_1','QA_Overall_0','QA_Overall_1']\", QualityProductAndVersion='MCD12Q2.061', ScaleFactor=1.0, Units='Day', ValidMax=32766, ValidMin=11138, XSize=2400, YSize=2400),\n",
       " 'EVI_Amplitude': LayerInfo(AddOffset='', Available=True, DataType='int16', Description='Segment maximum - minimum EVI2', Dimensions=['time', 'YDim', 'XDim', 'Num_Modes'], FillValue=32767, IsQA=False, Layer='EVI_Amplitude', OrigDataType='int16', OrigValidMax=10000, OrigValidMin=0, QualityLayers=\"['QA_Detailed_0','QA_Detailed_1','QA_Overall_0','QA_Overall_1']\", QualityProductAndVersion='MCD12Q2.061', ScaleFactor=0.0001, Units='EVI2', ValidMax=10000, ValidMin=0, XSize=2400, YSize=2400),\n",
       " 'EVI_Area': LayerInfo(AddOffset='', Available=True, DataType='int16', Description='Sum of daily interpolated EVI2 from Greenup to Dormancy', Dimensions=['time', 'YDim', 'XDim', 'Num_Modes'], FillValue=32767, IsQA=False, Layer='EVI_Area', OrigDataType='int16', OrigValidMax=3700, OrigValidMin=0, QualityLayers=\"['QA_Detailed_0','QA_Detailed_1','QA_Overall_0','QA_Overall_1']\", QualityProductAndVersion='MCD12Q2.061', ScaleFactor=0.1, Units='EVI2', ValidMax=3700, ValidMin=0, XSize=2400, YSize=2400),\n",
       " 'EVI_Minimum': LayerInfo(AddOffset='', Available=True, DataType='int16', Description='Segment minimum EVI2 value', Dimensions=['time', 'YDim', 'XDim', 'Num_Modes'], FillValue=32767, IsQA=False, Layer='EVI_Minimum', OrigDataType='int16', OrigValidMax=10000, OrigValidMin=0, QualityLayers=\"['QA_Detailed_0','QA_Detailed_1','QA_Overall_0','QA_Overall_1']\", QualityProductAndVersion='MCD12Q2.061', ScaleFactor=0.0001, Units='EVI2', ValidMax=10000, ValidMin=0, XSize=2400, YSize=2400),\n",
       " 'Greenup': LayerInfo(AddOffset='', Available=True, DataType='int16', Description='Date when EVI2 first crossed 15% of the segment EVI2 amplitude', Dimensions=['time', 'YDim', 'XDim', 'Num_Modes'], FillValue=32767, IsQA=False, Layer='Greenup', OrigDataType='int16', OrigValidMax=32766, OrigValidMin=11138, QualityLayers=\"['QA_Detailed_0','QA_Detailed_1','QA_Overall_0','QA_Overall_1']\", QualityProductAndVersion='MCD12Q2.061', ScaleFactor=1.0, Units='Day', ValidMax=32766, ValidMin=11138, XSize=2400, YSize=2400),\n",
       " 'Maturity': LayerInfo(AddOffset='', Available=True, DataType='int16', Description='Date when EVI2 first crossed 90% of the segment EVI2 amplitude', Dimensions=['time', 'YDim', 'XDim', 'Num_Modes'], FillValue=32767, IsQA=False, Layer='Maturity', OrigDataType='int16', OrigValidMax=32766, OrigValidMin=11138, QualityLayers=\"['QA_Detailed_0','QA_Detailed_1','QA_Overall_0','QA_Overall_1']\", QualityProductAndVersion='MCD12Q2.061', ScaleFactor=1.0, Units='Day', ValidMax=32766, ValidMin=11138, XSize=2400, YSize=2400),\n",
       " 'MidGreendown': LayerInfo(AddOffset='', Available=True, DataType='int16', Description='Date when EVI2 last crossed 50% of the segment EVI2 amplitude', Dimensions=['time', 'YDim', 'XDim', 'Num_Modes'], FillValue=32767, IsQA=False, Layer='MidGreendown', OrigDataType='int16', OrigValidMax=32766, OrigValidMin=11138, QualityLayers=\"['QA_Detailed_0','QA_Detailed_1','QA_Overall_0','QA_Overall_1']\", QualityProductAndVersion='MCD12Q2.061', ScaleFactor=1.0, Units='Day', ValidMax=32766, ValidMin=11138, XSize=2400, YSize=2400),\n",
       " 'MidGreenup': LayerInfo(AddOffset='', Available=True, DataType='int16', Description='Date when EVI2 first crossed 50% of the segment EVI2 amplitude', Dimensions=['time', 'YDim', 'XDim', 'Num_Modes'], FillValue=32767, IsQA=False, Layer='MidGreenup', OrigDataType='int16', OrigValidMax=32766, OrigValidMin=11138, QualityLayers=\"['QA_Detailed_0','QA_Detailed_1','QA_Overall_0','QA_Overall_1']\", QualityProductAndVersion='MCD12Q2.061', ScaleFactor=1.0, Units='Day', ValidMax=32766, ValidMin=11138, XSize=2400, YSize=2400),\n",
       " 'NumCycles': LayerInfo(AddOffset='', Available=True, DataType='int16', Description='Total number of valid vegetation cycles with peak in product year', Dimensions=['time', 'YDim', 'XDim'], FillValue=32767, IsQA=False, Layer='NumCycles', OrigDataType='int16', OrigValidMax=7, OrigValidMin=1, QualityLayers=\"['QA_Detailed_0','QA_Detailed_1','QA_Overall_0','QA_Overall_1']\", QualityProductAndVersion='MCD12Q2.061', ScaleFactor=1.0, Units='Number', ValidMax=7, ValidMin=1, XSize=2400, YSize=2400),\n",
       " 'Peak': LayerInfo(AddOffset='', Available=True, DataType='int16', Description='Date when EVI2 reached the segment maximum', Dimensions=['time', 'YDim', 'XDim', 'Num_Modes'], FillValue=32767, IsQA=False, Layer='Peak', OrigDataType='int16', OrigValidMax=32766, OrigValidMin=11138, QualityLayers=\"['QA_Detailed_0','QA_Detailed_1','QA_Overall_0','QA_Overall_1']\", QualityProductAndVersion='MCD12Q2.061', ScaleFactor=1.0, Units='Day', ValidMax=32766, ValidMin=11138, XSize=2400, YSize=2400),\n",
       " 'QA_Detailed': LayerInfo(AddOffset='', Available=True, DataType='int16', Description='Bit-packed, SDS-specific QA codes', Dimensions=['time', 'YDim', 'XDim', 'Num_Modes'], FillValue=32767, IsQA=True, Layer='QA_Detailed', OrigDataType='int16', OrigValidMax=16383, OrigValidMin=0, QualityLayers='', QualityProductAndVersion='', ScaleFactor=1.0, Units='Bit Field', ValidMax=16383, ValidMin=0, XSize=2400, YSize=2400),\n",
       " 'QA_Overall': LayerInfo(AddOffset='', Available=True, DataType='int16', Description='QA code for entire segment', Dimensions=['time', 'YDim', 'XDim', 'Num_Modes'], FillValue=32767, IsQA=True, Layer='QA_Overall', OrigDataType='int16', OrigValidMax=3, OrigValidMin=0, QualityLayers='', QualityProductAndVersion='', ScaleFactor=1.0, Units='Class', ValidMax=3, ValidMin=0, XSize=2400, YSize=2400),\n",
       " 'Senescence': LayerInfo(AddOffset='', Available=True, DataType='int16', Description='Date when EVI2 last crossed 90% of the segment EVI2 amplitude', Dimensions=['time', 'YDim', 'XDim', 'Num_Modes'], FillValue=32767, IsQA=False, Layer='Senescence', OrigDataType='int16', OrigValidMax=32766, OrigValidMin=11138, QualityLayers=\"['QA_Detailed_0','QA_Detailed_1','QA_Overall_0','QA_Overall_1']\", QualityProductAndVersion='MCD12Q2.061', ScaleFactor=1.0, Units='Day', ValidMax=32766, ValidMin=11138, XSize=2400, YSize=2400)}"
      ]
     },
     "execution_count": 3,
     "metadata": {},
     "output_type": "execute_result"
    }
   ],
   "source": [
    "from springtime.datasets.appeears import layers\n",
    "\n",
    "layers(\"MCD12Q2.061\")"
   ]
  },
  {
   "cell_type": "markdown",
   "metadata": {},
   "source": [
    "## Retrieving point data\n",
    "\n",
    "There are two main ways to download AρρEEARS data: as points or as area. The springtime behaviour depends on whether the settings for points and area:\n",
    "\n",
    "- Points given, area not given: use the point download of AρρEEARS\n",
    "- Points not given, area given: use the area download of AρρEEARS\n",
    "- Points and area given: download an area but extract points during load\n",
    "- Points nor area given: invalid.\n"
   ]
  },
  {
   "cell_type": "code",
   "execution_count": 4,
   "metadata": {},
   "outputs": [
    {
     "data": {
      "text/html": [
       "<pre style=\"white-space:pre;overflow-x:auto;line-height:normal;font-family:Menlo,'DejaVu Sans Mono',consolas,'Courier New',monospace\"><span style=\"color: #800080; text-decoration-color: #800080; font-weight: bold\">Appeears</span><span style=\"font-weight: bold\">(</span>\n",
       "    <span style=\"color: #808000; text-decoration-color: #808000\">dataset</span>=<span style=\"color: #008000; text-decoration-color: #008000\">'appears'</span>,\n",
       "    <span style=\"color: #808000; text-decoration-color: #808000\">years</span>=<span style=\"color: #800080; text-decoration-color: #800080; font-weight: bold\">YearRange</span><span style=\"font-weight: bold\">(</span><span style=\"color: #808000; text-decoration-color: #808000\">start</span>=<span style=\"color: #008080; text-decoration-color: #008080; font-weight: bold\">2009</span>, <span style=\"color: #808000; text-decoration-color: #808000\">end</span>=<span style=\"color: #008080; text-decoration-color: #008080; font-weight: bold\">2011</span><span style=\"font-weight: bold\">)</span>,\n",
       "    <span style=\"color: #808000; text-decoration-color: #808000\">product</span>=<span style=\"color: #008000; text-decoration-color: #008000\">'MCD12Q2'</span>,\n",
       "    <span style=\"color: #808000; text-decoration-color: #808000\">version</span>=<span style=\"color: #008000; text-decoration-color: #008000\">'061'</span>,\n",
       "    <span style=\"color: #808000; text-decoration-color: #808000\">layers</span>=<span style=\"font-weight: bold\">{</span><span style=\"color: #008000; text-decoration-color: #008000\">'Greenup'</span>, <span style=\"color: #008000; text-decoration-color: #008000\">'Dormancy'</span><span style=\"font-weight: bold\">}</span>,\n",
       "    <span style=\"color: #808000; text-decoration-color: #808000\">area</span>=<span style=\"color: #800080; text-decoration-color: #800080; font-style: italic\">None</span>,\n",
       "    <span style=\"color: #808000; text-decoration-color: #808000\">points</span>=<span style=\"font-weight: bold\">[</span><span style=\"color: #800080; text-decoration-color: #800080; font-weight: bold\">Point</span><span style=\"font-weight: bold\">(</span><span style=\"color: #808000; text-decoration-color: #808000\">x</span>=<span style=\"color: #008080; text-decoration-color: #008080; font-weight: bold\">10.69133</span>, <span style=\"color: #808000; text-decoration-color: #808000\">y</span>=<span style=\"color: #008080; text-decoration-color: #008080; font-weight: bold\">48.08535</span><span style=\"font-weight: bold\">)</span>, <span style=\"color: #800080; text-decoration-color: #800080; font-weight: bold\">Point</span><span style=\"font-weight: bold\">(</span><span style=\"color: #808000; text-decoration-color: #808000\">x</span>=<span style=\"color: #008080; text-decoration-color: #008080; font-weight: bold\">8.892998</span>, <span style=\"color: #808000; text-decoration-color: #808000\">y</span>=<span style=\"color: #008080; text-decoration-color: #008080; font-weight: bold\">47.097801</span><span style=\"font-weight: bold\">)]</span>\n",
       "<span style=\"font-weight: bold\">)</span>\n",
       "</pre>\n"
      ],
      "text/plain": [
       "\u001b[1;35mAppeears\u001b[0m\u001b[1m(\u001b[0m\n",
       "    \u001b[33mdataset\u001b[0m=\u001b[32m'appears'\u001b[0m,\n",
       "    \u001b[33myears\u001b[0m=\u001b[1;35mYearRange\u001b[0m\u001b[1m(\u001b[0m\u001b[33mstart\u001b[0m=\u001b[1;36m2009\u001b[0m, \u001b[33mend\u001b[0m=\u001b[1;36m2011\u001b[0m\u001b[1m)\u001b[0m,\n",
       "    \u001b[33mproduct\u001b[0m=\u001b[32m'MCD12Q2'\u001b[0m,\n",
       "    \u001b[33mversion\u001b[0m=\u001b[32m'061'\u001b[0m,\n",
       "    \u001b[33mlayers\u001b[0m=\u001b[1m{\u001b[0m\u001b[32m'Greenup'\u001b[0m, \u001b[32m'Dormancy'\u001b[0m\u001b[1m}\u001b[0m,\n",
       "    \u001b[33marea\u001b[0m=\u001b[3;35mNone\u001b[0m,\n",
       "    \u001b[33mpoints\u001b[0m=\u001b[1m[\u001b[0m\u001b[1;35mPoint\u001b[0m\u001b[1m(\u001b[0m\u001b[33mx\u001b[0m=\u001b[1;36m10\u001b[0m\u001b[1;36m.69133\u001b[0m, \u001b[33my\u001b[0m=\u001b[1;36m48\u001b[0m\u001b[1;36m.08535\u001b[0m\u001b[1m)\u001b[0m, \u001b[1;35mPoint\u001b[0m\u001b[1m(\u001b[0m\u001b[33mx\u001b[0m=\u001b[1;36m8\u001b[0m\u001b[1;36m.892998\u001b[0m, \u001b[33my\u001b[0m=\u001b[1;36m47\u001b[0m\u001b[1;36m.097801\u001b[0m\u001b[1m)\u001b[0m\u001b[1m]\u001b[0m\n",
       "\u001b[1m)\u001b[0m\n"
      ]
     },
     "metadata": {},
     "output_type": "display_data"
    }
   ],
   "source": [
    "from springtime.datasets import Appeears\n",
    "\n",
    "dataset = Appeears(\n",
    "    years=[2009, 2011],\n",
    "    product=\"MCD12Q2\",\n",
    "    version=\"061\",\n",
    "    layers=[\"Greenup\", \"Dormancy\"],\n",
    "    points=[(10.691330, 48.085350), (8.892998, 47.097801)],\n",
    ")\n",
    "\n",
    "print(dataset)"
   ]
  },
  {
   "cell_type": "code",
   "execution_count": 5,
   "metadata": {},
   "outputs": [
    {
     "name": "stderr",
     "output_type": "stream",
     "text": [
      "INFO:springtime.datasets.appeears:Found /home/peter/.cache/springtime/appeears/MCD12Q2-2009-2011-Dormancy-Greenup-50f0093a3994764340e8bb6f70797f854dd3a4eb-MCD12Q2-061-results.csv\n"
     ]
    },
    {
     "data": {
      "text/html": [
       "<div>\n",
       "<style scoped>\n",
       "    .dataframe tbody tr th:only-of-type {\n",
       "        vertical-align: middle;\n",
       "    }\n",
       "\n",
       "    .dataframe tbody tr th {\n",
       "        vertical-align: top;\n",
       "    }\n",
       "\n",
       "    .dataframe thead th {\n",
       "        text-align: right;\n",
       "    }\n",
       "</style>\n",
       "<table border=\"1\" class=\"dataframe\">\n",
       "  <thead>\n",
       "    <tr style=\"text-align: right;\">\n",
       "      <th></th>\n",
       "      <th>datetime</th>\n",
       "      <th>Dormancy_0</th>\n",
       "      <th>Dormancy_1</th>\n",
       "      <th>Greenup_0</th>\n",
       "      <th>Greenup_1</th>\n",
       "      <th>geometry</th>\n",
       "    </tr>\n",
       "  </thead>\n",
       "  <tbody>\n",
       "    <tr>\n",
       "      <th>0</th>\n",
       "      <td>2009-01-01</td>\n",
       "      <td>14572.0</td>\n",
       "      <td>32767.0</td>\n",
       "      <td>14353.0</td>\n",
       "      <td>32767.0</td>\n",
       "      <td>POINT (8.89300 47.09780)</td>\n",
       "    </tr>\n",
       "    <tr>\n",
       "      <th>1</th>\n",
       "      <td>2010-01-01</td>\n",
       "      <td>14899.0</td>\n",
       "      <td>32767.0</td>\n",
       "      <td>14724.0</td>\n",
       "      <td>32767.0</td>\n",
       "      <td>POINT (8.89300 47.09780)</td>\n",
       "    </tr>\n",
       "    <tr>\n",
       "      <th>2</th>\n",
       "      <td>2011-01-01</td>\n",
       "      <td>15286.0</td>\n",
       "      <td>32767.0</td>\n",
       "      <td>15075.0</td>\n",
       "      <td>32767.0</td>\n",
       "      <td>POINT (8.89300 47.09780)</td>\n",
       "    </tr>\n",
       "    <tr>\n",
       "      <th>3</th>\n",
       "      <td>2009-01-01</td>\n",
       "      <td>14571.0</td>\n",
       "      <td>32767.0</td>\n",
       "      <td>14326.0</td>\n",
       "      <td>32767.0</td>\n",
       "      <td>POINT (10.69133 48.08535)</td>\n",
       "    </tr>\n",
       "    <tr>\n",
       "      <th>4</th>\n",
       "      <td>2010-01-01</td>\n",
       "      <td>14933.0</td>\n",
       "      <td>32767.0</td>\n",
       "      <td>14665.0</td>\n",
       "      <td>32767.0</td>\n",
       "      <td>POINT (10.69133 48.08535)</td>\n",
       "    </tr>\n",
       "    <tr>\n",
       "      <th>5</th>\n",
       "      <td>2011-01-01</td>\n",
       "      <td>15297.0</td>\n",
       "      <td>32767.0</td>\n",
       "      <td>15046.0</td>\n",
       "      <td>32767.0</td>\n",
       "      <td>POINT (10.69133 48.08535)</td>\n",
       "    </tr>\n",
       "  </tbody>\n",
       "</table>\n",
       "</div>"
      ],
      "text/plain": [
       "    datetime  Dormancy_0  Dormancy_1  Greenup_0  Greenup_1  \\\n",
       "0 2009-01-01     14572.0     32767.0    14353.0    32767.0   \n",
       "1 2010-01-01     14899.0     32767.0    14724.0    32767.0   \n",
       "2 2011-01-01     15286.0     32767.0    15075.0    32767.0   \n",
       "3 2009-01-01     14571.0     32767.0    14326.0    32767.0   \n",
       "4 2010-01-01     14933.0     32767.0    14665.0    32767.0   \n",
       "5 2011-01-01     15297.0     32767.0    15046.0    32767.0   \n",
       "\n",
       "                    geometry  \n",
       "0   POINT (8.89300 47.09780)  \n",
       "1   POINT (8.89300 47.09780)  \n",
       "2   POINT (8.89300 47.09780)  \n",
       "3  POINT (10.69133 48.08535)  \n",
       "4  POINT (10.69133 48.08535)  \n",
       "5  POINT (10.69133 48.08535)  "
      ]
     },
     "execution_count": 5,
     "metadata": {},
     "output_type": "execute_result"
    }
   ],
   "source": [
    "dataset.load()"
   ]
  },
  {
   "cell_type": "code",
   "execution_count": 6,
   "metadata": {},
   "outputs": [
    {
     "name": "stderr",
     "output_type": "stream",
     "text": [
      "INFO:springtime.datasets.appeears:Found /home/peter/.cache/springtime/appeears/MCD12Q2-2009-2011-Dormancy-Greenup-50f0093a3994764340e8bb6f70797f854dd3a4eb-MCD12Q2-061-results.csv\n"
     ]
    },
    {
     "data": {
      "text/html": [
       "<div>\n",
       "<style scoped>\n",
       "    .dataframe tbody tr th:only-of-type {\n",
       "        vertical-align: middle;\n",
       "    }\n",
       "\n",
       "    .dataframe tbody tr th {\n",
       "        vertical-align: top;\n",
       "    }\n",
       "\n",
       "    .dataframe thead th {\n",
       "        text-align: right;\n",
       "    }\n",
       "</style>\n",
       "<table border=\"1\" class=\"dataframe\">\n",
       "  <thead>\n",
       "    <tr style=\"text-align: right;\">\n",
       "      <th></th>\n",
       "      <th>datetime</th>\n",
       "      <th>Dormancy_0</th>\n",
       "      <th>Dormancy_1</th>\n",
       "      <th>Greenup_0</th>\n",
       "      <th>Greenup_1</th>\n",
       "      <th>geometry</th>\n",
       "    </tr>\n",
       "  </thead>\n",
       "  <tbody>\n",
       "    <tr>\n",
       "      <th>0</th>\n",
       "      <td>2009-01-01</td>\n",
       "      <td>14572.0</td>\n",
       "      <td>32767.0</td>\n",
       "      <td>14353.0</td>\n",
       "      <td>32767.0</td>\n",
       "      <td>POINT (8.89300 47.09780)</td>\n",
       "    </tr>\n",
       "    <tr>\n",
       "      <th>1</th>\n",
       "      <td>2010-01-01</td>\n",
       "      <td>14899.0</td>\n",
       "      <td>32767.0</td>\n",
       "      <td>14724.0</td>\n",
       "      <td>32767.0</td>\n",
       "      <td>POINT (8.89300 47.09780)</td>\n",
       "    </tr>\n",
       "    <tr>\n",
       "      <th>2</th>\n",
       "      <td>2011-01-01</td>\n",
       "      <td>15286.0</td>\n",
       "      <td>32767.0</td>\n",
       "      <td>15075.0</td>\n",
       "      <td>32767.0</td>\n",
       "      <td>POINT (8.89300 47.09780)</td>\n",
       "    </tr>\n",
       "    <tr>\n",
       "      <th>3</th>\n",
       "      <td>2009-01-01</td>\n",
       "      <td>14571.0</td>\n",
       "      <td>32767.0</td>\n",
       "      <td>14326.0</td>\n",
       "      <td>32767.0</td>\n",
       "      <td>POINT (10.69133 48.08535)</td>\n",
       "    </tr>\n",
       "    <tr>\n",
       "      <th>4</th>\n",
       "      <td>2010-01-01</td>\n",
       "      <td>14933.0</td>\n",
       "      <td>32767.0</td>\n",
       "      <td>14665.0</td>\n",
       "      <td>32767.0</td>\n",
       "      <td>POINT (10.69133 48.08535)</td>\n",
       "    </tr>\n",
       "    <tr>\n",
       "      <th>5</th>\n",
       "      <td>2011-01-01</td>\n",
       "      <td>15297.0</td>\n",
       "      <td>32767.0</td>\n",
       "      <td>15046.0</td>\n",
       "      <td>32767.0</td>\n",
       "      <td>POINT (10.69133 48.08535)</td>\n",
       "    </tr>\n",
       "  </tbody>\n",
       "</table>\n",
       "</div>"
      ],
      "text/plain": [
       "    datetime  Dormancy_0  Dormancy_1  Greenup_0  Greenup_1  \\\n",
       "0 2009-01-01     14572.0     32767.0    14353.0    32767.0   \n",
       "1 2010-01-01     14899.0     32767.0    14724.0    32767.0   \n",
       "2 2011-01-01     15286.0     32767.0    15075.0    32767.0   \n",
       "3 2009-01-01     14571.0     32767.0    14326.0    32767.0   \n",
       "4 2010-01-01     14933.0     32767.0    14665.0    32767.0   \n",
       "5 2011-01-01     15297.0     32767.0    15046.0    32767.0   \n",
       "\n",
       "                    geometry  \n",
       "0   POINT (8.89300 47.09780)  \n",
       "1   POINT (8.89300 47.09780)  \n",
       "2   POINT (8.89300 47.09780)  \n",
       "3  POINT (10.69133 48.08535)  \n",
       "4  POINT (10.69133 48.08535)  \n",
       "5  POINT (10.69133 48.08535)  "
      ]
     },
     "execution_count": 6,
     "metadata": {},
     "output_type": "execute_result"
    }
   ],
   "source": [
    "modis_df = dataset.load()\n",
    "modis_df"
   ]
  },
  {
   "cell_type": "markdown",
   "metadata": {},
   "source": [
    "Greenup is reported for up to 2 growing cycles per year, and represent the greenup midpoint.\n"
   ]
  },
  {
   "cell_type": "code",
   "execution_count": 10,
   "metadata": {},
   "outputs": [
    {
     "name": "stderr",
     "output_type": "stream",
     "text": [
      "INFO:springtime.datasets.appeears:Found /home/peter/.cache/springtime/appeears/MCD12Q2-2009-2011-Dormancy-Greenup-50f0093a3994764340e8bb6f70797f854dd3a4eb-MCD12Q2-061-results.csv\n"
     ]
    },
    {
     "data": {
      "text/plain": [
       "[PosixPath('/home/peter/.cache/springtime/appeears/MCD12Q2-2009-2011-Dormancy-Greenup-50f0093a3994764340e8bb6f70797f854dd3a4eb-MCD12Q2-061-results.csv')]"
      ]
     },
     "execution_count": 10,
     "metadata": {},
     "output_type": "execute_result"
    }
   ],
   "source": [
    "dataset.download_points()"
   ]
  },
  {
   "cell_type": "code",
   "execution_count": 13,
   "metadata": {},
   "outputs": [
    {
     "data": {
      "text/plain": [
       "Timestamp('2009-04-19 00:00:00')"
      ]
     },
     "execution_count": 13,
     "metadata": {},
     "output_type": "execute_result"
    }
   ],
   "source": [
    "# guess: the values of greenup represent days since default offset??\n",
    "\n",
    "from pandas import Timestamp\n",
    "\n",
    "Timestamp(14353.0, unit=\"D\")"
   ]
  },
  {
   "cell_type": "markdown",
   "metadata": {},
   "source": [
    "seems logical...\n"
   ]
  },
  {
   "cell_type": "markdown",
   "metadata": {},
   "source": []
  }
 ],
 "metadata": {
  "kernelspec": {
   "display_name": "springtime",
   "language": "python",
   "name": "python3"
  },
  "language_info": {
   "codemirror_mode": {
    "name": "ipython",
    "version": 3
   },
   "file_extension": ".py",
   "mimetype": "text/x-python",
   "name": "python",
   "nbconvert_exporter": "python",
   "pygments_lexer": "ipython3",
   "version": "3.10.0"
  },
  "orig_nbformat": 4
 },
 "nbformat": 4,
 "nbformat_minor": 2
}
