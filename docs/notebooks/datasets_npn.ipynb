{
 "cells": [
  {
   "cell_type": "markdown",
   "id": "68df0d7c-33ec-4874-a2fb-c1a8c8d3777d",
   "metadata": {},
   "source": [
    "## Observations from [National Phenology Network (NPN)](https://www.usanpn.org/usa-national-phenology-network)\n",
    "\n",
    "**Species:** Syringa vulgaris\n",
    "<br>\n",
    "**Phenophase (fb):** 483 (?) "
   ]
  },
  {
   "cell_type": "code",
   "execution_count": 1,
   "id": "ff2df332-04e1-4459-9162-6d15ef2d30e7",
   "metadata": {
    "tags": []
   },
   "outputs": [],
   "source": [
    "from springtime.datasets.NPNPhenor import NPNPhenor, npn_species, npn_phenophases"
   ]
  },
  {
   "cell_type": "markdown",
   "id": "0ec117fa-506d-4d0f-9382-0556700df8d5",
   "metadata": {},
   "source": [
    "### Data from all the locations"
   ]
  },
  {
   "cell_type": "code",
   "execution_count": null,
   "id": "66d26c3c-b47e-43ac-91c8-52f6442435f8",
   "metadata": {
    "tags": []
   },
   "outputs": [],
   "source": [
    "# List IDs and names for available species, phenophases\n",
    "species = npn_species()\n",
    "phenophases = npn_phenophases()"
   ]
  },
  {
   "cell_type": "code",
   "execution_count": 2,
   "id": "7cd5fb30-e209-4e39-ac19-9778a600192e",
   "metadata": {
    "tags": []
   },
   "outputs": [
    {
     "data": {
      "text/plain": [
       "NPNPhenor(dataset='NPNPhenor', species=36, phenophase=483, years=(2012, 2013), area=None)"
      ]
     },
     "execution_count": 2,
     "metadata": {},
     "output_type": "execute_result"
    }
   ],
   "source": [
    "# Create a data instance\n",
    "dataset = NPNPhenor(species=36, phenophase=483, years=[2012, 2013])\n",
    "dataset"
   ]
  },
  {
   "cell_type": "code",
   "execution_count": 4,
   "id": "4008bc98-3a81-485d-9031-d3afd047751e",
   "metadata": {
    "tags": []
   },
   "outputs": [
    {
     "name": "stdout",
     "output_type": "stream",
     "text": [
      "downloading /tmp/data/NPN/phenor_npn_data_36_483_2012-01-01_2012-12-31.rds\n",
      "Downloading: 13 kB     13 kB     41 kB     41 kB     65 kB     65 kB     65 kB     65 kB     "
     ]
    },
    {
     "name": "stderr",
     "output_type": "stream",
     "text": [
      "R[write to console]: No encoding supplied: defaulting to UTF-8.\n",
      "\n"
     ]
    }
   ],
   "source": [
    "# Download data\n",
    "dataset.download()"
   ]
  },
  {
   "cell_type": "code",
   "execution_count": 5,
   "id": "59a01c68-bdb2-4560-9b9d-64b3579fff57",
   "metadata": {
    "tags": []
   },
   "outputs": [
    {
     "data": {
      "text/html": [
       "<div>\n",
       "<style scoped>\n",
       "    .dataframe tbody tr th:only-of-type {\n",
       "        vertical-align: middle;\n",
       "    }\n",
       "\n",
       "    .dataframe tbody tr th {\n",
       "        vertical-align: top;\n",
       "    }\n",
       "\n",
       "    .dataframe thead th {\n",
       "        text-align: right;\n",
       "    }\n",
       "</style>\n",
       "<table border=\"1\" class=\"dataframe\">\n",
       "  <thead>\n",
       "    <tr style=\"text-align: right;\">\n",
       "      <th></th>\n",
       "      <th>site_id</th>\n",
       "      <th>elevation_in_meters</th>\n",
       "      <th>state</th>\n",
       "      <th>species_id</th>\n",
       "      <th>genus</th>\n",
       "      <th>species</th>\n",
       "      <th>common_name</th>\n",
       "      <th>kingdom</th>\n",
       "      <th>individual_id</th>\n",
       "      <th>phenophase_id</th>\n",
       "      <th>...</th>\n",
       "      <th>first_yes_doy</th>\n",
       "      <th>first_yes_julian_date</th>\n",
       "      <th>numdays_since_prior_no</th>\n",
       "      <th>last_yes_year</th>\n",
       "      <th>last_yes_month</th>\n",
       "      <th>last_yes_day</th>\n",
       "      <th>last_yes_doy</th>\n",
       "      <th>last_yes_julian_date</th>\n",
       "      <th>numdays_until_next_no</th>\n",
       "      <th>geometry</th>\n",
       "    </tr>\n",
       "  </thead>\n",
       "  <tbody>\n",
       "    <tr>\n",
       "      <th>1</th>\n",
       "      <td>17919</td>\n",
       "      <td>3</td>\n",
       "      <td>NC</td>\n",
       "      <td>36</td>\n",
       "      <td>Syringa</td>\n",
       "      <td>vulgaris</td>\n",
       "      <td>common lilac</td>\n",
       "      <td>Plantae</td>\n",
       "      <td>70343</td>\n",
       "      <td>483</td>\n",
       "      <td>...</td>\n",
       "      <td>77</td>\n",
       "      <td>2456004</td>\n",
       "      <td>-9999</td>\n",
       "      <td>2012</td>\n",
       "      <td>3</td>\n",
       "      <td>17</td>\n",
       "      <td>77</td>\n",
       "      <td>2456004</td>\n",
       "      <td>-9999</td>\n",
       "      <td>POINT (-76.61472 35.19228)</td>\n",
       "    </tr>\n",
       "    <tr>\n",
       "      <th>2</th>\n",
       "      <td>17926</td>\n",
       "      <td>592</td>\n",
       "      <td>TN</td>\n",
       "      <td>36</td>\n",
       "      <td>Syringa</td>\n",
       "      <td>vulgaris</td>\n",
       "      <td>common lilac</td>\n",
       "      <td>Plantae</td>\n",
       "      <td>70370</td>\n",
       "      <td>483</td>\n",
       "      <td>...</td>\n",
       "      <td>73</td>\n",
       "      <td>2456000</td>\n",
       "      <td>-9999</td>\n",
       "      <td>2012</td>\n",
       "      <td>3</td>\n",
       "      <td>13</td>\n",
       "      <td>73</td>\n",
       "      <td>2456000</td>\n",
       "      <td>-9999</td>\n",
       "      <td>POINT (-87.22970 35.62196)</td>\n",
       "    </tr>\n",
       "    <tr>\n",
       "      <th>3</th>\n",
       "      <td>17931</td>\n",
       "      <td>761</td>\n",
       "      <td>TN</td>\n",
       "      <td>36</td>\n",
       "      <td>Syringa</td>\n",
       "      <td>vulgaris</td>\n",
       "      <td>common lilac</td>\n",
       "      <td>Plantae</td>\n",
       "      <td>70385</td>\n",
       "      <td>483</td>\n",
       "      <td>...</td>\n",
       "      <td>319</td>\n",
       "      <td>2456246</td>\n",
       "      <td>-9999</td>\n",
       "      <td>2012</td>\n",
       "      <td>11</td>\n",
       "      <td>14</td>\n",
       "      <td>319</td>\n",
       "      <td>2456246</td>\n",
       "      <td>-9999</td>\n",
       "      <td>POINT (-86.86285 35.80284)</td>\n",
       "    </tr>\n",
       "    <tr>\n",
       "      <th>4</th>\n",
       "      <td>17934</td>\n",
       "      <td>824</td>\n",
       "      <td>NC</td>\n",
       "      <td>36</td>\n",
       "      <td>Syringa</td>\n",
       "      <td>vulgaris</td>\n",
       "      <td>common lilac</td>\n",
       "      <td>Plantae</td>\n",
       "      <td>70398</td>\n",
       "      <td>483</td>\n",
       "      <td>...</td>\n",
       "      <td>84</td>\n",
       "      <td>2456011</td>\n",
       "      <td>-9999</td>\n",
       "      <td>2012</td>\n",
       "      <td>3</td>\n",
       "      <td>24</td>\n",
       "      <td>84</td>\n",
       "      <td>2456011</td>\n",
       "      <td>-9999</td>\n",
       "      <td>POINT (-79.69920 35.89343)</td>\n",
       "    </tr>\n",
       "    <tr>\n",
       "      <th>5</th>\n",
       "      <td>17937</td>\n",
       "      <td>1113</td>\n",
       "      <td>TN</td>\n",
       "      <td>36</td>\n",
       "      <td>Syringa</td>\n",
       "      <td>vulgaris</td>\n",
       "      <td>common lilac</td>\n",
       "      <td>Plantae</td>\n",
       "      <td>70410</td>\n",
       "      <td>483</td>\n",
       "      <td>...</td>\n",
       "      <td>72</td>\n",
       "      <td>2455999</td>\n",
       "      <td>-9999</td>\n",
       "      <td>2012</td>\n",
       "      <td>3</td>\n",
       "      <td>12</td>\n",
       "      <td>72</td>\n",
       "      <td>2455999</td>\n",
       "      <td>-9999</td>\n",
       "      <td>POINT (-83.49780 35.98126)</td>\n",
       "    </tr>\n",
       "  </tbody>\n",
       "</table>\n",
       "<p>5 rows × 24 columns</p>\n",
       "</div>"
      ],
      "text/plain": [
       "   site_id  elevation_in_meters state  species_id    genus   species  \\\n",
       "1    17919                    3    NC          36  Syringa  vulgaris   \n",
       "2    17926                  592    TN          36  Syringa  vulgaris   \n",
       "3    17931                  761    TN          36  Syringa  vulgaris   \n",
       "4    17934                  824    NC          36  Syringa  vulgaris   \n",
       "5    17937                 1113    TN          36  Syringa  vulgaris   \n",
       "\n",
       "    common_name  kingdom  individual_id  phenophase_id  ... first_yes_doy  \\\n",
       "1  common lilac  Plantae          70343            483  ...            77   \n",
       "2  common lilac  Plantae          70370            483  ...            73   \n",
       "3  common lilac  Plantae          70385            483  ...           319   \n",
       "4  common lilac  Plantae          70398            483  ...            84   \n",
       "5  common lilac  Plantae          70410            483  ...            72   \n",
       "\n",
       "   first_yes_julian_date  numdays_since_prior_no  last_yes_year  \\\n",
       "1                2456004                   -9999           2012   \n",
       "2                2456000                   -9999           2012   \n",
       "3                2456246                   -9999           2012   \n",
       "4                2456011                   -9999           2012   \n",
       "5                2455999                   -9999           2012   \n",
       "\n",
       "   last_yes_month  last_yes_day  last_yes_doy  last_yes_julian_date  \\\n",
       "1               3            17            77               2456004   \n",
       "2               3            13            73               2456000   \n",
       "3              11            14           319               2456246   \n",
       "4               3            24            84               2456011   \n",
       "5               3            12            72               2455999   \n",
       "\n",
       "   numdays_until_next_no                    geometry  \n",
       "1                  -9999  POINT (-76.61472 35.19228)  \n",
       "2                  -9999  POINT (-87.22970 35.62196)  \n",
       "3                  -9999  POINT (-86.86285 35.80284)  \n",
       "4                  -9999  POINT (-79.69920 35.89343)  \n",
       "5                  -9999  POINT (-83.49780 35.98126)  \n",
       "\n",
       "[5 rows x 24 columns]"
      ]
     },
     "execution_count": 5,
     "metadata": {},
     "output_type": "execute_result"
    }
   ],
   "source": [
    "# Load downloded data as a dataframe\n",
    "df = dataset.load()\n",
    "df.head()"
   ]
  }
 ],
 "metadata": {
  "kernelspec": {
   "display_name": "Python 3 (ipykernel)",
   "language": "python",
   "name": "python3"
  },
  "language_info": {
   "codemirror_mode": {
    "name": "ipython",
    "version": 3
   },
   "file_extension": ".py",
   "mimetype": "text/x-python",
   "name": "python",
   "nbconvert_exporter": "python",
   "pygments_lexer": "ipython3",
   "version": "3.10.0"
  }
 },
 "nbformat": 4,
 "nbformat_minor": 5
}
