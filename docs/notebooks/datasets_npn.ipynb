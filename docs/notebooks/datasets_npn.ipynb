{
 "cells": [
  {
   "cell_type": "markdown",
   "id": "68df0d7c-33ec-4874-a2fb-c1a8c8d3777d",
   "metadata": {},
   "source": [
    "## Observations from [National Phenology Network (NPN)](https://www.usanpn.org/usa-national-phenology-network)\n",
    "\n",
    "**Species:** Syringa vulgaris\n",
    "<br>\n",
    "**Phenophase (fb):** 483 (?) "
   ]
  },
  {
   "cell_type": "code",
   "execution_count": 1,
   "id": "ff2df332-04e1-4459-9162-6d15ef2d30e7",
   "metadata": {
    "tags": []
   },
   "outputs": [],
   "source": [
    "from springtime.datasets.rnpn import RNPN, npn_species, npn_phenophases"
   ]
  },
  {
   "cell_type": "markdown",
   "id": "0ec117fa-506d-4d0f-9382-0556700df8d5",
   "metadata": {},
   "source": [
    "### Data from all the locations"
   ]
  },
  {
   "cell_type": "code",
   "execution_count": null,
   "id": "66d26c3c-b47e-43ac-91c8-52f6442435f8",
   "metadata": {
    "tags": []
   },
   "outputs": [],
   "source": [
    "# List IDs and names for available species, phenophases\n",
    "species = npn_species()\n",
    "phenophases = npn_phenophases()"
   ]
  },
  {
   "cell_type": "code",
   "execution_count": 2,
   "id": "7cd5fb30-e209-4e39-ac19-9778a600192e",
   "metadata": {
    "tags": []
   },
   "outputs": [
    {
     "data": {
      "text/plain": [
       "RNPN(dataset='RNPN', years=(2010, 2011), species_ids=NamedIdentifiers(name='Syringa', items=[36]), phenophase_ids=NamedIdentifiers(name='leaves', items=[483]), area=None)"
      ]
     },
     "execution_count": 2,
     "metadata": {},
     "output_type": "execute_result"
    }
   ],
   "source": [
    "# Create a data instance\n",
    "dataset = RNPN(species_ids={\"name\": \"Syringa\", \"items\":[36]}, phenophase_ids={\"name\": \"leaves\", \"items\":[483]}, years=[2010, 2011])\n",
    "dataset"
   ]
  },
  {
   "cell_type": "code",
   "execution_count": 3,
   "id": "4008bc98-3a81-485d-9031-d3afd047751e",
   "metadata": {
    "tags": []
   },
   "outputs": [
    {
     "name": "stdout",
     "output_type": "stream",
     "text": [
      "downloading /tmp/data/rnpn/rnpn_npn_data_y_2010_Syringa_leaves.csv\n",
      " Found 8 records...NULL\n",
      "downloading /tmp/data/rnpn/rnpn_npn_data_y_2011_Syringa_leaves.csv\n",
      " Found 25 records...NULL\n"
     ]
    }
   ],
   "source": [
    "# Download data\n",
    "dataset.download()"
   ]
  },
  {
   "cell_type": "code",
   "execution_count": 4,
   "id": "59a01c68-bdb2-4560-9b9d-64b3579fff57",
   "metadata": {
    "tags": []
   },
   "outputs": [
    {
     "data": {
      "text/html": [
       "<div>\n",
       "<style scoped>\n",
       "    .dataframe tbody tr th:only-of-type {\n",
       "        vertical-align: middle;\n",
       "    }\n",
       "\n",
       "    .dataframe tbody tr th {\n",
       "        vertical-align: top;\n",
       "    }\n",
       "\n",
       "    .dataframe thead th {\n",
       "        text-align: right;\n",
       "    }\n",
       "</style>\n",
       "<table border=\"1\" class=\"dataframe\">\n",
       "  <thead>\n",
       "    <tr style=\"text-align: right;\">\n",
       "      <th></th>\n",
       "      <th>site_id</th>\n",
       "      <th>elevation_in_meters</th>\n",
       "      <th>state</th>\n",
       "      <th>species_id</th>\n",
       "      <th>genus</th>\n",
       "      <th>species</th>\n",
       "      <th>common_name</th>\n",
       "      <th>kingdom</th>\n",
       "      <th>individual_id</th>\n",
       "      <th>phenophase_id</th>\n",
       "      <th>...</th>\n",
       "      <th>first_yes_doy</th>\n",
       "      <th>first_yes_julian_date</th>\n",
       "      <th>numdays_since_prior_no</th>\n",
       "      <th>last_yes_year</th>\n",
       "      <th>last_yes_month</th>\n",
       "      <th>last_yes_day</th>\n",
       "      <th>last_yes_doy</th>\n",
       "      <th>last_yes_julian_date</th>\n",
       "      <th>numdays_until_next_no</th>\n",
       "      <th>geometry</th>\n",
       "    </tr>\n",
       "  </thead>\n",
       "  <tbody>\n",
       "    <tr>\n",
       "      <th>0</th>\n",
       "      <td>17967</td>\n",
       "      <td>909</td>\n",
       "      <td>MO</td>\n",
       "      <td>36</td>\n",
       "      <td>Syringa</td>\n",
       "      <td>vulgaris</td>\n",
       "      <td>common lilac</td>\n",
       "      <td>Plantae</td>\n",
       "      <td>70516</td>\n",
       "      <td>483</td>\n",
       "      <td>...</td>\n",
       "      <td>60</td>\n",
       "      <td>2455257</td>\n",
       "      <td>-9999</td>\n",
       "      <td>2010</td>\n",
       "      <td>3</td>\n",
       "      <td>1</td>\n",
       "      <td>60</td>\n",
       "      <td>2455257</td>\n",
       "      <td>-9999</td>\n",
       "      <td>POINT (-91.37602 38.38862)</td>\n",
       "    </tr>\n",
       "    <tr>\n",
       "      <th>1</th>\n",
       "      <td>17994</td>\n",
       "      <td>1203</td>\n",
       "      <td>WV</td>\n",
       "      <td>36</td>\n",
       "      <td>Syringa</td>\n",
       "      <td>vulgaris</td>\n",
       "      <td>common lilac</td>\n",
       "      <td>Plantae</td>\n",
       "      <td>70607</td>\n",
       "      <td>483</td>\n",
       "      <td>...</td>\n",
       "      <td>125</td>\n",
       "      <td>2455322</td>\n",
       "      <td>-9999</td>\n",
       "      <td>2010</td>\n",
       "      <td>5</td>\n",
       "      <td>5</td>\n",
       "      <td>125</td>\n",
       "      <td>2455322</td>\n",
       "      <td>-9999</td>\n",
       "      <td>POINT (-79.97169 39.53892)</td>\n",
       "    </tr>\n",
       "    <tr>\n",
       "      <th>2</th>\n",
       "      <td>17999</td>\n",
       "      <td>947</td>\n",
       "      <td>IN</td>\n",
       "      <td>36</td>\n",
       "      <td>Syringa</td>\n",
       "      <td>vulgaris</td>\n",
       "      <td>common lilac</td>\n",
       "      <td>Plantae</td>\n",
       "      <td>70623</td>\n",
       "      <td>483</td>\n",
       "      <td>...</td>\n",
       "      <td>102</td>\n",
       "      <td>2455299</td>\n",
       "      <td>-9999</td>\n",
       "      <td>2010</td>\n",
       "      <td>4</td>\n",
       "      <td>12</td>\n",
       "      <td>102</td>\n",
       "      <td>2455299</td>\n",
       "      <td>-9999</td>\n",
       "      <td>POINT (-85.60993 39.79147)</td>\n",
       "    </tr>\n",
       "    <tr>\n",
       "      <th>3</th>\n",
       "      <td>18032</td>\n",
       "      <td>613</td>\n",
       "      <td>PA</td>\n",
       "      <td>36</td>\n",
       "      <td>Syringa</td>\n",
       "      <td>vulgaris</td>\n",
       "      <td>common lilac</td>\n",
       "      <td>Plantae</td>\n",
       "      <td>70741</td>\n",
       "      <td>483</td>\n",
       "      <td>...</td>\n",
       "      <td>95</td>\n",
       "      <td>2455292</td>\n",
       "      <td>-9999</td>\n",
       "      <td>2010</td>\n",
       "      <td>4</td>\n",
       "      <td>5</td>\n",
       "      <td>95</td>\n",
       "      <td>2455292</td>\n",
       "      <td>-9999</td>\n",
       "      <td>POINT (-76.62881 40.94780)</td>\n",
       "    </tr>\n",
       "    <tr>\n",
       "      <th>4</th>\n",
       "      <td>18051</td>\n",
       "      <td>734</td>\n",
       "      <td>IA</td>\n",
       "      <td>36</td>\n",
       "      <td>Syringa</td>\n",
       "      <td>vulgaris</td>\n",
       "      <td>common lilac</td>\n",
       "      <td>Plantae</td>\n",
       "      <td>70816</td>\n",
       "      <td>483</td>\n",
       "      <td>...</td>\n",
       "      <td>102</td>\n",
       "      <td>2455299</td>\n",
       "      <td>-9999</td>\n",
       "      <td>2010</td>\n",
       "      <td>4</td>\n",
       "      <td>12</td>\n",
       "      <td>102</td>\n",
       "      <td>2455299</td>\n",
       "      <td>-9999</td>\n",
       "      <td>POINT (-91.69318 41.29201)</td>\n",
       "    </tr>\n",
       "  </tbody>\n",
       "</table>\n",
       "<p>5 rows × 24 columns</p>\n",
       "</div>"
      ],
      "text/plain": [
       "   site_id  elevation_in_meters state  species_id    genus   species  \\\n",
       "0    17967                  909    MO          36  Syringa  vulgaris   \n",
       "1    17994                 1203    WV          36  Syringa  vulgaris   \n",
       "2    17999                  947    IN          36  Syringa  vulgaris   \n",
       "3    18032                  613    PA          36  Syringa  vulgaris   \n",
       "4    18051                  734    IA          36  Syringa  vulgaris   \n",
       "\n",
       "    common_name  kingdom  individual_id  phenophase_id  ... first_yes_doy  \\\n",
       "0  common lilac  Plantae          70516            483  ...            60   \n",
       "1  common lilac  Plantae          70607            483  ...           125   \n",
       "2  common lilac  Plantae          70623            483  ...           102   \n",
       "3  common lilac  Plantae          70741            483  ...            95   \n",
       "4  common lilac  Plantae          70816            483  ...           102   \n",
       "\n",
       "   first_yes_julian_date  numdays_since_prior_no  last_yes_year  \\\n",
       "0                2455257                   -9999           2010   \n",
       "1                2455322                   -9999           2010   \n",
       "2                2455299                   -9999           2010   \n",
       "3                2455292                   -9999           2010   \n",
       "4                2455299                   -9999           2010   \n",
       "\n",
       "   last_yes_month  last_yes_day  last_yes_doy  last_yes_julian_date  \\\n",
       "0               3             1            60               2455257   \n",
       "1               5             5           125               2455322   \n",
       "2               4            12           102               2455299   \n",
       "3               4             5            95               2455292   \n",
       "4               4            12           102               2455299   \n",
       "\n",
       "   numdays_until_next_no                    geometry  \n",
       "0                  -9999  POINT (-91.37602 38.38862)  \n",
       "1                  -9999  POINT (-79.97169 39.53892)  \n",
       "2                  -9999  POINT (-85.60993 39.79147)  \n",
       "3                  -9999  POINT (-76.62881 40.94780)  \n",
       "4                  -9999  POINT (-91.69318 41.29201)  \n",
       "\n",
       "[5 rows x 24 columns]"
      ]
     },
     "execution_count": 4,
     "metadata": {},
     "output_type": "execute_result"
    }
   ],
   "source": [
    "# Load downloded data as a dataframe\n",
    "df = dataset.load()\n",
    "df.head()"
   ]
  },
  {
   "cell_type": "code",
   "execution_count": null,
   "id": "4bdbb6ba-83ee-4ec6-9418-129d9ae42d95",
   "metadata": {},
   "outputs": [],
   "source": []
  }
 ],
 "metadata": {
  "kernelspec": {
   "display_name": "Python 3 (ipykernel)",
   "language": "python",
   "name": "python3"
  },
  "language_info": {
   "codemirror_mode": {
    "name": "ipython",
    "version": 3
   },
   "file_extension": ".py",
   "mimetype": "text/x-python",
   "name": "python",
   "nbconvert_exporter": "python",
   "pygments_lexer": "ipython3",
   "version": "3.9.7"
  },
  "vscode": {
   "interpreter": {
    "hash": "c47736019875c321d2f0ce26822c2961bc3218c2730c57d5ae0e74be0fe83e20"
   }
  }
 },
 "nbformat": 4,
 "nbformat_minor": 5
}
