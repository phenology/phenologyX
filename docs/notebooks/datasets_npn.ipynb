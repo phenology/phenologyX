{
 "cells": [
  {
   "cell_type": "markdown",
   "id": "68df0d7c-33ec-4874-a2fb-c1a8c8d3777d",
   "metadata": {},
   "source": [
    "## Observations from [National Phenology Network (NPN)](https://www.usanpn.org/usa-national-phenology-network)\n",
    "\n",
    "**Species:** Syringa vulgaris\n",
    "<br>\n",
    "**Phenophase (fb):** 483 (?) "
   ]
  },
  {
   "cell_type": "code",
   "execution_count": 1,
   "id": "ff2df332-04e1-4459-9162-6d15ef2d30e7",
   "metadata": {
    "tags": []
   },
   "outputs": [],
   "source": [
    "from springtime.datasets.rnpn import RNPN, npn_species, npn_phenophases"
   ]
  },
  {
   "cell_type": "markdown",
   "id": "0ec117fa-506d-4d0f-9382-0556700df8d5",
   "metadata": {},
   "source": [
    "### Data from all the locations"
   ]
  },
  {
   "cell_type": "code",
   "execution_count": 2,
   "id": "66d26c3c-b47e-43ac-91c8-52f6442435f8",
   "metadata": {
    "tags": []
   },
   "outputs": [],
   "source": [
    "# List IDs and names for available species, phenophases\n",
    "species = npn_species()\n",
    "phenophases = npn_phenophases()"
   ]
  },
  {
   "cell_type": "code",
   "execution_count": 3,
   "id": "dd19d509",
   "metadata": {},
   "outputs": [
    {
     "data": {
      "text/html": [
       "<div>\n",
       "<style scoped>\n",
       "    .dataframe tbody tr th:only-of-type {\n",
       "        vertical-align: middle;\n",
       "    }\n",
       "\n",
       "    .dataframe tbody tr th {\n",
       "        vertical-align: top;\n",
       "    }\n",
       "\n",
       "    .dataframe thead th {\n",
       "        text-align: right;\n",
       "    }\n",
       "</style>\n",
       "<table border=\"1\" class=\"dataframe\">\n",
       "  <thead>\n",
       "    <tr style=\"text-align: right;\">\n",
       "      <th></th>\n",
       "      <th>phenophase_id</th>\n",
       "      <th>phenophase_name</th>\n",
       "      <th>phenophase_category</th>\n",
       "      <th>color</th>\n",
       "      <th>pheno_class_id</th>\n",
       "    </tr>\n",
       "  </thead>\n",
       "  <tbody>\n",
       "    <tr>\n",
       "      <th>0</th>\n",
       "      <td>56</td>\n",
       "      <td>First leaf</td>\n",
       "      <td>Leaves</td>\n",
       "      <td>NaN</td>\n",
       "      <td>1</td>\n",
       "    </tr>\n",
       "    <tr>\n",
       "      <th>1</th>\n",
       "      <td>57</td>\n",
       "      <td>75% leaf elongation</td>\n",
       "      <td>Leaves</td>\n",
       "      <td>NaN</td>\n",
       "      <td>2</td>\n",
       "    </tr>\n",
       "    <tr>\n",
       "      <th>2</th>\n",
       "      <td>58</td>\n",
       "      <td>First flower</td>\n",
       "      <td>Flowers</td>\n",
       "      <td>NaN</td>\n",
       "      <td>7</td>\n",
       "    </tr>\n",
       "    <tr>\n",
       "      <th>3</th>\n",
       "      <td>59</td>\n",
       "      <td>Last flower</td>\n",
       "      <td>Flowers</td>\n",
       "      <td>NaN</td>\n",
       "      <td>9</td>\n",
       "    </tr>\n",
       "    <tr>\n",
       "      <th>4</th>\n",
       "      <td>60</td>\n",
       "      <td>First fruit ripe</td>\n",
       "      <td>Fruits</td>\n",
       "      <td>NaN</td>\n",
       "      <td>12</td>\n",
       "    </tr>\n",
       "    <tr>\n",
       "      <th>...</th>\n",
       "      <td>...</td>\n",
       "      <td>...</td>\n",
       "      <td>...</td>\n",
       "      <td>...</td>\n",
       "      <td>...</td>\n",
       "    </tr>\n",
       "    <tr>\n",
       "      <th>194</th>\n",
       "      <td>545</td>\n",
       "      <td>Post-dormant nymphs</td>\n",
       "      <td>Development</td>\n",
       "      <td>Brown3</td>\n",
       "      <td>113</td>\n",
       "    </tr>\n",
       "    <tr>\n",
       "      <th>195</th>\n",
       "      <td>546</td>\n",
       "      <td>Crawlers</td>\n",
       "      <td>Development</td>\n",
       "      <td>Brown3</td>\n",
       "      <td>112</td>\n",
       "    </tr>\n",
       "    <tr>\n",
       "      <th>196</th>\n",
       "      <td>547</td>\n",
       "      <td>Egg laying</td>\n",
       "      <td>Reproduction</td>\n",
       "      <td>Brown2</td>\n",
       "      <td>136</td>\n",
       "    </tr>\n",
       "    <tr>\n",
       "      <th>197</th>\n",
       "      <td>548</td>\n",
       "      <td>Egg laying</td>\n",
       "      <td>Reproduction</td>\n",
       "      <td>Brown2</td>\n",
       "      <td>136</td>\n",
       "    </tr>\n",
       "    <tr>\n",
       "      <th>198</th>\n",
       "      <td>549</td>\n",
       "      <td>Mating</td>\n",
       "      <td>Reproduction</td>\n",
       "      <td>Brown2</td>\n",
       "      <td>82</td>\n",
       "    </tr>\n",
       "  </tbody>\n",
       "</table>\n",
       "<p>199 rows × 5 columns</p>\n",
       "</div>"
      ],
      "text/plain": [
       "     phenophase_id       phenophase_name phenophase_category   color  \\\n",
       "0               56           First leaf               Leaves     NaN   \n",
       "1               57  75% leaf elongation               Leaves     NaN   \n",
       "2               58         First flower              Flowers     NaN   \n",
       "3               59           Last flower             Flowers     NaN   \n",
       "4               60     First fruit ripe               Fruits     NaN   \n",
       "..             ...                   ...                 ...     ...   \n",
       "194            545   Post-dormant nymphs         Development  Brown3   \n",
       "195            546              Crawlers         Development  Brown3   \n",
       "196            547            Egg laying        Reproduction  Brown2   \n",
       "197            548           Egg laying         Reproduction  Brown2   \n",
       "198            549               Mating         Reproduction  Brown2   \n",
       "\n",
       "     pheno_class_id  \n",
       "0                 1  \n",
       "1                 2  \n",
       "2                 7  \n",
       "3                 9  \n",
       "4                12  \n",
       "..              ...  \n",
       "194             113  \n",
       "195             112  \n",
       "196             136  \n",
       "197             136  \n",
       "198              82  \n",
       "\n",
       "[199 rows x 5 columns]"
      ]
     },
     "execution_count": 3,
     "metadata": {},
     "output_type": "execute_result"
    }
   ],
   "source": [
    "phenophases"
   ]
  },
  {
   "cell_type": "code",
   "execution_count": 4,
   "id": "0c4f1a24",
   "metadata": {},
   "outputs": [
    {
     "data": {
      "text/html": [
       "<div>\n",
       "<style scoped>\n",
       "    .dataframe tbody tr th:only-of-type {\n",
       "        vertical-align: middle;\n",
       "    }\n",
       "\n",
       "    .dataframe tbody tr th {\n",
       "        vertical-align: top;\n",
       "    }\n",
       "\n",
       "    .dataframe thead th {\n",
       "        text-align: right;\n",
       "    }\n",
       "</style>\n",
       "<table border=\"1\" class=\"dataframe\">\n",
       "  <thead>\n",
       "    <tr style=\"text-align: right;\">\n",
       "      <th></th>\n",
       "      <th>phenophase_id</th>\n",
       "      <th>phenophase_name</th>\n",
       "      <th>phenophase_category</th>\n",
       "      <th>color</th>\n",
       "      <th>pheno_class_id</th>\n",
       "    </tr>\n",
       "  </thead>\n",
       "  <tbody>\n",
       "    <tr>\n",
       "      <th>138</th>\n",
       "      <td>483</td>\n",
       "      <td>Leaves</td>\n",
       "      <td>Leaves</td>\n",
       "      <td>Green1</td>\n",
       "      <td>3</td>\n",
       "    </tr>\n",
       "  </tbody>\n",
       "</table>\n",
       "</div>"
      ],
      "text/plain": [
       "     phenophase_id phenophase_name phenophase_category   color  pheno_class_id\n",
       "138            483          Leaves              Leaves  Green1               3"
      ]
     },
     "execution_count": 4,
     "metadata": {},
     "output_type": "execute_result"
    }
   ],
   "source": [
    "phenophases[phenophases.phenophase_id==483]"
   ]
  },
  {
   "cell_type": "code",
   "execution_count": 7,
   "id": "7cd5fb30-e209-4e39-ac19-9778a600192e",
   "metadata": {
    "tags": []
   },
   "outputs": [
    {
     "data": {
      "text/plain": [
       "RNPN(dataset='RNPN', years=YearRange(start=2010, end=2011), species_ids=NamedIdentifiers(name='Syringa3', items=[36]), phenophase_ids=None, area=None, use_first=True)"
      ]
     },
     "execution_count": 7,
     "metadata": {},
     "output_type": "execute_result"
    }
   ],
   "source": [
    "# Create a data instance\n",
    "dataset = RNPN(species_ids={\"name\": \"Syringa3\", \"items\":[36]}, \n",
    "            #    phenophase_ids={\"name\": \"leaves\", \"items\":[483]}, \n",
    "               years=[2010, 2011])\n",
    "dataset"
   ]
  },
  {
   "cell_type": "code",
   "execution_count": 8,
   "id": "4008bc98-3a81-485d-9031-d3afd047751e",
   "metadata": {
    "tags": []
   },
   "outputs": [
    {
     "name": "stdout",
     "output_type": "stream",
     "text": [
      "downloading /tmp/data/rnpn/rnpn_npn_data_y_2010_Syringa3.csv\n",
      " Found 733 records...NULL\n",
      "downloading /tmp/data/rnpn/rnpn_npn_data_y_2011_Syringa3.csv\n",
      " Found 747 records...NULL\n"
     ]
    }
   ],
   "source": [
    "# Download data\n",
    "dataset.download()"
   ]
  },
  {
   "cell_type": "code",
   "execution_count": 30,
   "id": "59a01c68-bdb2-4560-9b9d-64b3579fff57",
   "metadata": {
    "tags": []
   },
   "outputs": [
    {
     "ename": "ValueError",
     "evalue": "columns overlap but no suffix specified: Index(['phenophase_id'], dtype='object')",
     "output_type": "error",
     "traceback": [
      "\u001b[0;31m---------------------------------------------------------------------------\u001b[0m",
      "\u001b[0;31mValueError\u001b[0m                                Traceback (most recent call last)",
      "Cell \u001b[0;32mIn[30], line 3\u001b[0m\n\u001b[1;32m      1\u001b[0m \u001b[39m# Load downloded data as a dataframe\u001b[39;00m\n\u001b[1;32m      2\u001b[0m df \u001b[39m=\u001b[39m dataset\u001b[39m.\u001b[39mload()\n\u001b[0;32m----> 3\u001b[0m df2 \u001b[39m=\u001b[39m df\u001b[39m.\u001b[39;49mreindex()\u001b[39m.\u001b[39;49mjoin(phenophases, on\u001b[39m=\u001b[39;49m\u001b[39m'\u001b[39;49m\u001b[39mphenophase_id\u001b[39;49m\u001b[39m'\u001b[39;49m)\n",
      "File \u001b[0;32m~/mambaforge/envs/springtime/lib/python3.10/site-packages/pandas/core/frame.py:9979\u001b[0m, in \u001b[0;36mDataFrame.join\u001b[0;34m(self, other, on, how, lsuffix, rsuffix, sort, validate)\u001b[0m\n\u001b[1;32m   9816\u001b[0m \u001b[39mdef\u001b[39;00m \u001b[39mjoin\u001b[39m(\n\u001b[1;32m   9817\u001b[0m     \u001b[39mself\u001b[39m,\n\u001b[1;32m   9818\u001b[0m     other: DataFrame \u001b[39m|\u001b[39m Series \u001b[39m|\u001b[39m \u001b[39mlist\u001b[39m[DataFrame \u001b[39m|\u001b[39m Series],\n\u001b[0;32m   (...)\u001b[0m\n\u001b[1;32m   9824\u001b[0m     validate: \u001b[39mstr\u001b[39m \u001b[39m|\u001b[39m \u001b[39mNone\u001b[39;00m \u001b[39m=\u001b[39m \u001b[39mNone\u001b[39;00m,\n\u001b[1;32m   9825\u001b[0m ) \u001b[39m-\u001b[39m\u001b[39m>\u001b[39m DataFrame:\n\u001b[1;32m   9826\u001b[0m \u001b[39m    \u001b[39m\u001b[39m\"\"\"\u001b[39;00m\n\u001b[1;32m   9827\u001b[0m \u001b[39m    Join columns of another DataFrame.\u001b[39;00m\n\u001b[1;32m   9828\u001b[0m \n\u001b[0;32m   (...)\u001b[0m\n\u001b[1;32m   9977\u001b[0m \u001b[39m    5  K1  A5   B1\u001b[39;00m\n\u001b[1;32m   9978\u001b[0m \u001b[39m    \"\"\"\u001b[39;00m\n\u001b[0;32m-> 9979\u001b[0m     \u001b[39mreturn\u001b[39;00m \u001b[39mself\u001b[39;49m\u001b[39m.\u001b[39;49m_join_compat(\n\u001b[1;32m   9980\u001b[0m         other,\n\u001b[1;32m   9981\u001b[0m         on\u001b[39m=\u001b[39;49mon,\n\u001b[1;32m   9982\u001b[0m         how\u001b[39m=\u001b[39;49mhow,\n\u001b[1;32m   9983\u001b[0m         lsuffix\u001b[39m=\u001b[39;49mlsuffix,\n\u001b[1;32m   9984\u001b[0m         rsuffix\u001b[39m=\u001b[39;49mrsuffix,\n\u001b[1;32m   9985\u001b[0m         sort\u001b[39m=\u001b[39;49msort,\n\u001b[1;32m   9986\u001b[0m         validate\u001b[39m=\u001b[39;49mvalidate,\n\u001b[1;32m   9987\u001b[0m     )\n",
      "File \u001b[0;32m~/mambaforge/envs/springtime/lib/python3.10/site-packages/pandas/core/frame.py:10018\u001b[0m, in \u001b[0;36mDataFrame._join_compat\u001b[0;34m(self, other, on, how, lsuffix, rsuffix, sort, validate)\u001b[0m\n\u001b[1;32m  10008\u001b[0m     \u001b[39mif\u001b[39;00m how \u001b[39m==\u001b[39m \u001b[39m\"\u001b[39m\u001b[39mcross\u001b[39m\u001b[39m\"\u001b[39m:\n\u001b[1;32m  10009\u001b[0m         \u001b[39mreturn\u001b[39;00m merge(\n\u001b[1;32m  10010\u001b[0m             \u001b[39mself\u001b[39m,\n\u001b[1;32m  10011\u001b[0m             other,\n\u001b[0;32m   (...)\u001b[0m\n\u001b[1;32m  10016\u001b[0m             validate\u001b[39m=\u001b[39mvalidate,\n\u001b[1;32m  10017\u001b[0m         )\n\u001b[0;32m> 10018\u001b[0m     \u001b[39mreturn\u001b[39;00m merge(\n\u001b[1;32m  10019\u001b[0m         \u001b[39mself\u001b[39;49m,\n\u001b[1;32m  10020\u001b[0m         other,\n\u001b[1;32m  10021\u001b[0m         left_on\u001b[39m=\u001b[39;49mon,\n\u001b[1;32m  10022\u001b[0m         how\u001b[39m=\u001b[39;49mhow,\n\u001b[1;32m  10023\u001b[0m         left_index\u001b[39m=\u001b[39;49mon \u001b[39mis\u001b[39;49;00m \u001b[39mNone\u001b[39;49;00m,\n\u001b[1;32m  10024\u001b[0m         right_index\u001b[39m=\u001b[39;49m\u001b[39mTrue\u001b[39;49;00m,\n\u001b[1;32m  10025\u001b[0m         suffixes\u001b[39m=\u001b[39;49m(lsuffix, rsuffix),\n\u001b[1;32m  10026\u001b[0m         sort\u001b[39m=\u001b[39;49msort,\n\u001b[1;32m  10027\u001b[0m         validate\u001b[39m=\u001b[39;49mvalidate,\n\u001b[1;32m  10028\u001b[0m     )\n\u001b[1;32m  10029\u001b[0m \u001b[39melse\u001b[39;00m:\n\u001b[1;32m  10030\u001b[0m     \u001b[39mif\u001b[39;00m on \u001b[39mis\u001b[39;00m \u001b[39mnot\u001b[39;00m \u001b[39mNone\u001b[39;00m:\n",
      "File \u001b[0;32m~/mambaforge/envs/springtime/lib/python3.10/site-packages/pandas/core/reshape/merge.py:124\u001b[0m, in \u001b[0;36mmerge\u001b[0;34m(left, right, how, on, left_on, right_on, left_index, right_index, sort, suffixes, copy, indicator, validate)\u001b[0m\n\u001b[1;32m     93\u001b[0m \u001b[39m@Substitution\u001b[39m(\u001b[39m\"\u001b[39m\u001b[39m\\n\u001b[39;00m\u001b[39mleft : DataFrame or named Series\u001b[39m\u001b[39m\"\u001b[39m)\n\u001b[1;32m     94\u001b[0m \u001b[39m@Appender\u001b[39m(_merge_doc, indents\u001b[39m=\u001b[39m\u001b[39m0\u001b[39m)\n\u001b[1;32m     95\u001b[0m \u001b[39mdef\u001b[39;00m \u001b[39mmerge\u001b[39m(\n\u001b[0;32m   (...)\u001b[0m\n\u001b[1;32m    108\u001b[0m     validate: \u001b[39mstr\u001b[39m \u001b[39m|\u001b[39m \u001b[39mNone\u001b[39;00m \u001b[39m=\u001b[39m \u001b[39mNone\u001b[39;00m,\n\u001b[1;32m    109\u001b[0m ) \u001b[39m-\u001b[39m\u001b[39m>\u001b[39m DataFrame:\n\u001b[1;32m    110\u001b[0m     op \u001b[39m=\u001b[39m _MergeOperation(\n\u001b[1;32m    111\u001b[0m         left,\n\u001b[1;32m    112\u001b[0m         right,\n\u001b[0;32m   (...)\u001b[0m\n\u001b[1;32m    122\u001b[0m         validate\u001b[39m=\u001b[39mvalidate,\n\u001b[1;32m    123\u001b[0m     )\n\u001b[0;32m--> 124\u001b[0m     \u001b[39mreturn\u001b[39;00m op\u001b[39m.\u001b[39;49mget_result(copy\u001b[39m=\u001b[39;49mcopy)\n",
      "File \u001b[0;32m~/mambaforge/envs/springtime/lib/python3.10/site-packages/pandas/core/reshape/merge.py:775\u001b[0m, in \u001b[0;36m_MergeOperation.get_result\u001b[0;34m(self, copy)\u001b[0m\n\u001b[1;32m    771\u001b[0m     \u001b[39mself\u001b[39m\u001b[39m.\u001b[39mleft, \u001b[39mself\u001b[39m\u001b[39m.\u001b[39mright \u001b[39m=\u001b[39m \u001b[39mself\u001b[39m\u001b[39m.\u001b[39m_indicator_pre_merge(\u001b[39mself\u001b[39m\u001b[39m.\u001b[39mleft, \u001b[39mself\u001b[39m\u001b[39m.\u001b[39mright)\n\u001b[1;32m    773\u001b[0m join_index, left_indexer, right_indexer \u001b[39m=\u001b[39m \u001b[39mself\u001b[39m\u001b[39m.\u001b[39m_get_join_info()\n\u001b[0;32m--> 775\u001b[0m result \u001b[39m=\u001b[39m \u001b[39mself\u001b[39;49m\u001b[39m.\u001b[39;49m_reindex_and_concat(\n\u001b[1;32m    776\u001b[0m     join_index, left_indexer, right_indexer, copy\u001b[39m=\u001b[39;49mcopy\n\u001b[1;32m    777\u001b[0m )\n\u001b[1;32m    778\u001b[0m result \u001b[39m=\u001b[39m result\u001b[39m.\u001b[39m__finalize__(\u001b[39mself\u001b[39m, method\u001b[39m=\u001b[39m\u001b[39mself\u001b[39m\u001b[39m.\u001b[39m_merge_type)\n\u001b[1;32m    780\u001b[0m \u001b[39mif\u001b[39;00m \u001b[39mself\u001b[39m\u001b[39m.\u001b[39mindicator:\n",
      "File \u001b[0;32m~/mambaforge/envs/springtime/lib/python3.10/site-packages/pandas/core/reshape/merge.py:729\u001b[0m, in \u001b[0;36m_MergeOperation._reindex_and_concat\u001b[0;34m(self, join_index, left_indexer, right_indexer, copy)\u001b[0m\n\u001b[1;32m    726\u001b[0m left \u001b[39m=\u001b[39m \u001b[39mself\u001b[39m\u001b[39m.\u001b[39mleft[:]\n\u001b[1;32m    727\u001b[0m right \u001b[39m=\u001b[39m \u001b[39mself\u001b[39m\u001b[39m.\u001b[39mright[:]\n\u001b[0;32m--> 729\u001b[0m llabels, rlabels \u001b[39m=\u001b[39m _items_overlap_with_suffix(\n\u001b[1;32m    730\u001b[0m     \u001b[39mself\u001b[39;49m\u001b[39m.\u001b[39;49mleft\u001b[39m.\u001b[39;49m_info_axis, \u001b[39mself\u001b[39;49m\u001b[39m.\u001b[39;49mright\u001b[39m.\u001b[39;49m_info_axis, \u001b[39mself\u001b[39;49m\u001b[39m.\u001b[39;49msuffixes\n\u001b[1;32m    731\u001b[0m )\n\u001b[1;32m    733\u001b[0m \u001b[39mif\u001b[39;00m left_indexer \u001b[39mis\u001b[39;00m \u001b[39mnot\u001b[39;00m \u001b[39mNone\u001b[39;00m:\n\u001b[1;32m    734\u001b[0m     \u001b[39m# Pinning the index here (and in the right code just below) is not\u001b[39;00m\n\u001b[1;32m    735\u001b[0m     \u001b[39m#  necessary, but makes the `.take` more performant if we have e.g.\u001b[39;00m\n\u001b[1;32m    736\u001b[0m     \u001b[39m#  a MultiIndex for left.index.\u001b[39;00m\n\u001b[1;32m    737\u001b[0m     lmgr \u001b[39m=\u001b[39m left\u001b[39m.\u001b[39m_mgr\u001b[39m.\u001b[39mreindex_indexer(\n\u001b[1;32m    738\u001b[0m         join_index,\n\u001b[1;32m    739\u001b[0m         left_indexer,\n\u001b[0;32m   (...)\u001b[0m\n\u001b[1;32m    744\u001b[0m         use_na_proxy\u001b[39m=\u001b[39m\u001b[39mTrue\u001b[39;00m,\n\u001b[1;32m    745\u001b[0m     )\n",
      "File \u001b[0;32m~/mambaforge/envs/springtime/lib/python3.10/site-packages/pandas/core/reshape/merge.py:2458\u001b[0m, in \u001b[0;36m_items_overlap_with_suffix\u001b[0;34m(left, right, suffixes)\u001b[0m\n\u001b[1;32m   2455\u001b[0m lsuffix, rsuffix \u001b[39m=\u001b[39m suffixes\n\u001b[1;32m   2457\u001b[0m \u001b[39mif\u001b[39;00m \u001b[39mnot\u001b[39;00m lsuffix \u001b[39mand\u001b[39;00m \u001b[39mnot\u001b[39;00m rsuffix:\n\u001b[0;32m-> 2458\u001b[0m     \u001b[39mraise\u001b[39;00m \u001b[39mValueError\u001b[39;00m(\u001b[39mf\u001b[39m\u001b[39m\"\u001b[39m\u001b[39mcolumns overlap but no suffix specified: \u001b[39m\u001b[39m{\u001b[39;00mto_rename\u001b[39m}\u001b[39;00m\u001b[39m\"\u001b[39m)\n\u001b[1;32m   2460\u001b[0m \u001b[39mdef\u001b[39;00m \u001b[39mrenamer\u001b[39m(x, suffix):\n\u001b[1;32m   2461\u001b[0m \u001b[39m    \u001b[39m\u001b[39m\"\"\"\u001b[39;00m\n\u001b[1;32m   2462\u001b[0m \u001b[39m    Rename the left and right indices.\u001b[39;00m\n\u001b[1;32m   2463\u001b[0m \n\u001b[0;32m   (...)\u001b[0m\n\u001b[1;32m   2474\u001b[0m \u001b[39m    x : renamed column name\u001b[39;00m\n\u001b[1;32m   2475\u001b[0m \u001b[39m    \"\"\"\u001b[39;00m\n",
      "\u001b[0;31mValueError\u001b[0m: columns overlap but no suffix specified: Index(['phenophase_id'], dtype='object')"
     ]
    }
   ],
   "source": [
    "# Load downloded data as a dataframe\n",
    "df = dataset.load()\n",
    "df2 = df.reindex().join(phenophases, on='phenophase_id')\n"
   ]
  },
  {
   "cell_type": "code",
   "execution_count": 31,
   "id": "2287f5fd",
   "metadata": {},
   "outputs": [
    {
     "data": {
      "text/plain": [
       "Index(['site_id', 'elevation_in_meters', 'state', 'species_id', 'genus',\n",
       "       'species', 'common_name', 'kingdom', 'individual_id',\n",
       "       'phenophase_idlll', 'phenophase_description', 'first_yes_year',\n",
       "       'first_yes_month', 'first_yes_day', 'first_yes_doy',\n",
       "       'first_yes_julian_date', 'numdays_since_prior_no', 'last_yes_year',\n",
       "       'last_yes_month', 'last_yes_day', 'last_yes_doy',\n",
       "       'last_yes_julian_date', 'numdays_until_next_no', 'geometry',\n",
       "       'phenophase_idrrr', 'phenophase_name', 'phenophase_category', 'color',\n",
       "       'pheno_class_id'],\n",
       "      dtype='object')"
      ]
     },
     "execution_count": 31,
     "metadata": {},
     "output_type": "execute_result"
    }
   ],
   "source": [
    "df2.columns"
   ]
  },
  {
   "cell_type": "code",
   "execution_count": 29,
   "id": "87e53702",
   "metadata": {},
   "outputs": [
    {
     "name": "stdout",
     "output_type": "stream",
     "text": [
      "<class 'pandas.core.frame.DataFrame'>\n",
      "RangeIndex: 199 entries, 0 to 198\n",
      "Data columns (total 5 columns):\n",
      " #   Column               Non-Null Count  Dtype \n",
      "---  ------               --------------  ----- \n",
      " 0   phenophase_id        199 non-null    int64 \n",
      " 1   phenophase_name      199 non-null    object\n",
      " 2   phenophase_category  199 non-null    object\n",
      " 3   color                169 non-null    object\n",
      " 4   pheno_class_id       199 non-null    int64 \n",
      "dtypes: int64(2), object(3)\n",
      "memory usage: 7.9+ KB\n"
     ]
    }
   ],
   "source": [
    "phenophases.info()\n"
   ]
  },
  {
   "cell_type": "code",
   "execution_count": null,
   "id": "daa224e5",
   "metadata": {},
   "outputs": [],
   "source": []
  }
 ],
 "metadata": {
  "kernelspec": {
   "display_name": "Python 3 (ipykernel)",
   "language": "python",
   "name": "python3"
  },
  "language_info": {
   "codemirror_mode": {
    "name": "ipython",
    "version": 3
   },
   "file_extension": ".py",
   "mimetype": "text/x-python",
   "name": "python",
   "nbconvert_exporter": "python",
   "pygments_lexer": "ipython3",
   "version": "3.10.0"
  },
  "vscode": {
   "interpreter": {
    "hash": "c47736019875c321d2f0ce26822c2961bc3218c2730c57d5ae0e74be0fe83e20"
   }
  }
 },
 "nbformat": 4,
 "nbformat_minor": 5
}
