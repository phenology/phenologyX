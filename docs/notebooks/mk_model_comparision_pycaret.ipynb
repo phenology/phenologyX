{
 "cells": [
  {
   "cell_type": "code",
   "execution_count": 1,
   "id": "23ba6ec2-2974-4950-9f69-0b06a4ec5554",
   "metadata": {},
   "outputs": [],
   "source": [
    "from springtime.main import Workflow"
   ]
  },
  {
   "cell_type": "code",
   "execution_count": 2,
   "id": "72ed8ef0-0df9-4fca-9be7-200d0d9f685e",
   "metadata": {},
   "outputs": [],
   "source": [
    "recipe = \"/home/jovyan/springtime/src/springtime/recipes/model_comparison_usecase.yaml\""
   ]
  },
  {
   "cell_type": "code",
   "execution_count": 3,
   "id": "778938b4-845c-48ce-83b9-6e368413ec93",
   "metadata": {},
   "outputs": [
    {
     "name": "stdout",
     "output_type": "stream",
     "text": [
      "Downloading dataset:  npn_obs\n",
      "/tmp/data/rnpn/rnpn_npn_data_y_2015_Deciduous broadleaf_breaking leaf buds_Washington.csv already exists, skipping\n",
      "/tmp/data/rnpn/rnpn_npn_data_y_2016_Deciduous broadleaf_breaking leaf buds_Washington.csv already exists, skipping\n",
      "/tmp/data/rnpn/rnpn_npn_data_y_2017_Deciduous broadleaf_breaking leaf buds_Washington.csv already exists, skipping\n",
      "/tmp/data/rnpn/rnpn_npn_data_y_2018_Deciduous broadleaf_breaking leaf buds_Washington.csv already exists, skipping\n",
      "/tmp/data/rnpn/rnpn_npn_data_y_2019_Deciduous broadleaf_breaking leaf buds_Washington.csv already exists, skipping\n",
      "/tmp/data/rnpn/rnpn_npn_data_y_2020_Deciduous broadleaf_breaking leaf buds_Washington.csv already exists, skipping\n"
     ]
    },
    {
     "name": "stderr",
     "output_type": "stream",
     "text": [
      "Dataset npn_obs loaded with 241 rows\n",
      "Dataset npn_obs resampled to 241 rows\n"
     ]
    },
    {
     "name": "stdout",
     "output_type": "stream",
     "text": [
      "Downloading dataset:  daymet\n"
     ]
    },
    {
     "name": "stderr",
     "output_type": "stream",
     "text": [
      "Dataset daymet loaded with 326310 rows\n",
      "Dataset daymet resampled to 894 rows\n",
      "Datesets joined to shape: (894, 25)\n",
      "Data saved to: /tmp/output/data.csv\n"
     ]
    }
   ],
   "source": [
    "Workflow.from_recipe(recipe).execute()"
   ]
  },
  {
   "cell_type": "code",
   "execution_count": 4,
   "id": "d9ea46d3-0240-411f-b359-a84193dfd175",
   "metadata": {},
   "outputs": [],
   "source": [
    "import pandas as pd"
   ]
  },
  {
   "cell_type": "code",
   "execution_count": 5,
   "id": "64016317-853c-4632-9faf-54bcb31209f7",
   "metadata": {},
   "outputs": [
    {
     "data": {
      "text/html": [
       "<div>\n",
       "<style scoped>\n",
       "    .dataframe tbody tr th:only-of-type {\n",
       "        vertical-align: middle;\n",
       "    }\n",
       "\n",
       "    .dataframe tbody tr th {\n",
       "        vertical-align: top;\n",
       "    }\n",
       "\n",
       "    .dataframe thead th {\n",
       "        text-align: right;\n",
       "    }\n",
       "</style>\n",
       "<table border=\"1\" class=\"dataframe\">\n",
       "  <thead>\n",
       "    <tr style=\"text-align: right;\">\n",
       "      <th></th>\n",
       "      <th>year</th>\n",
       "      <th>geometry</th>\n",
       "      <th>breaking leaf buds_doy</th>\n",
       "      <th>tmin_1</th>\n",
       "      <th>tmin_2</th>\n",
       "      <th>tmin_3</th>\n",
       "      <th>tmin_4</th>\n",
       "      <th>tmin_5</th>\n",
       "      <th>tmin_6</th>\n",
       "      <th>tmin_7</th>\n",
       "      <th>...</th>\n",
       "      <th>tmax_3</th>\n",
       "      <th>tmax_4</th>\n",
       "      <th>tmax_5</th>\n",
       "      <th>tmax_6</th>\n",
       "      <th>tmax_7</th>\n",
       "      <th>tmax_8</th>\n",
       "      <th>tmax_9</th>\n",
       "      <th>tmax_10</th>\n",
       "      <th>tmax_11</th>\n",
       "      <th>tmax_12</th>\n",
       "    </tr>\n",
       "  </thead>\n",
       "  <tbody>\n",
       "    <tr>\n",
       "      <th>0</th>\n",
       "      <td>2015</td>\n",
       "      <td>POINT (-122.357971 47.754948)</td>\n",
       "      <td>50.0</td>\n",
       "      <td>3.81</td>\n",
       "      <td>5.000</td>\n",
       "      <td>5.59</td>\n",
       "      <td>4.640</td>\n",
       "      <td>10.19</td>\n",
       "      <td>11.625</td>\n",
       "      <td>14.50</td>\n",
       "      <td>...</td>\n",
       "      <td>14.26</td>\n",
       "      <td>14.620</td>\n",
       "      <td>18.91</td>\n",
       "      <td>24.785</td>\n",
       "      <td>25.74</td>\n",
       "      <td>25.52</td>\n",
       "      <td>19.165</td>\n",
       "      <td>17.60</td>\n",
       "      <td>9.450</td>\n",
       "      <td>7.37</td>\n",
       "    </tr>\n",
       "    <tr>\n",
       "      <th>1</th>\n",
       "      <td>2015</td>\n",
       "      <td>POINT (-122.377419 47.776241)</td>\n",
       "      <td>50.0</td>\n",
       "      <td>3.68</td>\n",
       "      <td>4.955</td>\n",
       "      <td>5.56</td>\n",
       "      <td>4.585</td>\n",
       "      <td>10.11</td>\n",
       "      <td>11.540</td>\n",
       "      <td>14.41</td>\n",
       "      <td>...</td>\n",
       "      <td>14.25</td>\n",
       "      <td>14.635</td>\n",
       "      <td>18.96</td>\n",
       "      <td>24.765</td>\n",
       "      <td>25.73</td>\n",
       "      <td>25.58</td>\n",
       "      <td>19.165</td>\n",
       "      <td>17.60</td>\n",
       "      <td>9.475</td>\n",
       "      <td>7.41</td>\n",
       "    </tr>\n",
       "    <tr>\n",
       "      <th>2</th>\n",
       "      <td>2015</td>\n",
       "      <td>POINT (-122.185921 47.255966)</td>\n",
       "      <td>56.0</td>\n",
       "      <td>3.27</td>\n",
       "      <td>4.915</td>\n",
       "      <td>5.66</td>\n",
       "      <td>4.920</td>\n",
       "      <td>9.83</td>\n",
       "      <td>11.760</td>\n",
       "      <td>14.66</td>\n",
       "      <td>...</td>\n",
       "      <td>14.04</td>\n",
       "      <td>14.070</td>\n",
       "      <td>18.19</td>\n",
       "      <td>25.545</td>\n",
       "      <td>26.81</td>\n",
       "      <td>26.20</td>\n",
       "      <td>18.965</td>\n",
       "      <td>16.63</td>\n",
       "      <td>9.120</td>\n",
       "      <td>6.62</td>\n",
       "    </tr>\n",
       "    <tr>\n",
       "      <th>3</th>\n",
       "      <td>2015</td>\n",
       "      <td>POINT (-121.861725 47.952686)</td>\n",
       "      <td>50.0</td>\n",
       "      <td>1.93</td>\n",
       "      <td>3.440</td>\n",
       "      <td>4.21</td>\n",
       "      <td>2.920</td>\n",
       "      <td>9.24</td>\n",
       "      <td>10.015</td>\n",
       "      <td>12.76</td>\n",
       "      <td>...</td>\n",
       "      <td>13.13</td>\n",
       "      <td>13.765</td>\n",
       "      <td>17.79</td>\n",
       "      <td>24.680</td>\n",
       "      <td>25.72</td>\n",
       "      <td>25.52</td>\n",
       "      <td>18.025</td>\n",
       "      <td>15.80</td>\n",
       "      <td>7.835</td>\n",
       "      <td>5.09</td>\n",
       "    </tr>\n",
       "    <tr>\n",
       "      <th>4</th>\n",
       "      <td>2015</td>\n",
       "      <td>POINT (-122.686279 45.513168)</td>\n",
       "      <td>99.0</td>\n",
       "      <td>3.70</td>\n",
       "      <td>5.290</td>\n",
       "      <td>6.23</td>\n",
       "      <td>4.825</td>\n",
       "      <td>9.91</td>\n",
       "      <td>12.530</td>\n",
       "      <td>14.75</td>\n",
       "      <td>...</td>\n",
       "      <td>17.13</td>\n",
       "      <td>15.765</td>\n",
       "      <td>21.45</td>\n",
       "      <td>28.005</td>\n",
       "      <td>29.36</td>\n",
       "      <td>28.66</td>\n",
       "      <td>22.720</td>\n",
       "      <td>19.08</td>\n",
       "      <td>10.715</td>\n",
       "      <td>8.00</td>\n",
       "    </tr>\n",
       "  </tbody>\n",
       "</table>\n",
       "<p>5 rows × 27 columns</p>\n",
       "</div>"
      ],
      "text/plain": [
       "   year                       geometry  breaking leaf buds_doy  tmin_1   \n",
       "0  2015  POINT (-122.357971 47.754948)                    50.0    3.81  \\\n",
       "1  2015  POINT (-122.377419 47.776241)                    50.0    3.68   \n",
       "2  2015  POINT (-122.185921 47.255966)                    56.0    3.27   \n",
       "3  2015  POINT (-121.861725 47.952686)                    50.0    1.93   \n",
       "4  2015  POINT (-122.686279 45.513168)                    99.0    3.70   \n",
       "\n",
       "   tmin_2  tmin_3  tmin_4  tmin_5  tmin_6  tmin_7  ...  tmax_3  tmax_4   \n",
       "0   5.000    5.59   4.640   10.19  11.625   14.50  ...   14.26  14.620  \\\n",
       "1   4.955    5.56   4.585   10.11  11.540   14.41  ...   14.25  14.635   \n",
       "2   4.915    5.66   4.920    9.83  11.760   14.66  ...   14.04  14.070   \n",
       "3   3.440    4.21   2.920    9.24  10.015   12.76  ...   13.13  13.765   \n",
       "4   5.290    6.23   4.825    9.91  12.530   14.75  ...   17.13  15.765   \n",
       "\n",
       "   tmax_5  tmax_6  tmax_7  tmax_8  tmax_9  tmax_10  tmax_11  tmax_12  \n",
       "0   18.91  24.785   25.74   25.52  19.165    17.60    9.450     7.37  \n",
       "1   18.96  24.765   25.73   25.58  19.165    17.60    9.475     7.41  \n",
       "2   18.19  25.545   26.81   26.20  18.965    16.63    9.120     6.62  \n",
       "3   17.79  24.680   25.72   25.52  18.025    15.80    7.835     5.09  \n",
       "4   21.45  28.005   29.36   28.66  22.720    19.08   10.715     8.00  \n",
       "\n",
       "[5 rows x 27 columns]"
      ]
     },
     "execution_count": 5,
     "metadata": {},
     "output_type": "execute_result"
    }
   ],
   "source": [
    "df = pd.read_csv(\"/tmp/output/data.csv\")\n",
    "df.head()"
   ]
  },
  {
   "cell_type": "code",
   "execution_count": 6,
   "id": "33f238d0-b186-440b-a898-91bd20260e90",
   "metadata": {},
   "outputs": [
    {
     "data": {
      "text/plain": [
       "(894, 27)"
      ]
     },
     "execution_count": 6,
     "metadata": {},
     "output_type": "execute_result"
    }
   ],
   "source": [
    "df.shape"
   ]
  },
  {
   "cell_type": "code",
   "execution_count": 7,
   "id": "f2db90c6-99fd-4753-95da-e3379f063cde",
   "metadata": {},
   "outputs": [
    {
     "data": {
      "text/plain": [
       "(241, 27)"
      ]
     },
     "execution_count": 7,
     "metadata": {},
     "output_type": "execute_result"
    }
   ],
   "source": [
    "df.dropna(inplace = True)\n",
    "df.shape"
   ]
  },
  {
   "cell_type": "code",
   "execution_count": 8,
   "id": "87377a7c-18ad-4e90-bf8b-ddd44d535b09",
   "metadata": {},
   "outputs": [],
   "source": [
    "df.drop(columns = [\"year\",\"geometry\"], inplace = True)"
   ]
  },
  {
   "cell_type": "code",
   "execution_count": 9,
   "id": "01abf19a-63e0-4c6e-adc0-a1b426d82288",
   "metadata": {},
   "outputs": [
    {
     "data": {
      "text/plain": [
       "(241, 25)"
      ]
     },
     "execution_count": 9,
     "metadata": {},
     "output_type": "execute_result"
    }
   ],
   "source": [
    "df.shape"
   ]
  },
  {
   "cell_type": "code",
   "execution_count": 10,
   "id": "1c671813-fa6e-47ab-90d6-136617fe4f98",
   "metadata": {},
   "outputs": [],
   "source": [
    "# import RegressionExperiment and init the class\n",
    "from pycaret.regression import RegressionExperiment\n",
    "exp = RegressionExperiment()"
   ]
  },
  {
   "cell_type": "code",
   "execution_count": 11,
   "id": "c4070825-4166-433e-bb57-47f286e8bf91",
   "metadata": {},
   "outputs": [
    {
     "data": {
      "text/html": [
       "<style type=\"text/css\">\n",
       "#T_c1435_row8_col1 {\n",
       "  background-color: lightgreen;\n",
       "}\n",
       "</style>\n",
       "<table id=\"T_c1435\">\n",
       "  <thead>\n",
       "    <tr>\n",
       "      <th class=\"blank level0\" >&nbsp;</th>\n",
       "      <th id=\"T_c1435_level0_col0\" class=\"col_heading level0 col0\" >Description</th>\n",
       "      <th id=\"T_c1435_level0_col1\" class=\"col_heading level0 col1\" >Value</th>\n",
       "    </tr>\n",
       "  </thead>\n",
       "  <tbody>\n",
       "    <tr>\n",
       "      <th id=\"T_c1435_level0_row0\" class=\"row_heading level0 row0\" >0</th>\n",
       "      <td id=\"T_c1435_row0_col0\" class=\"data row0 col0\" >Session id</td>\n",
       "      <td id=\"T_c1435_row0_col1\" class=\"data row0 col1\" >123</td>\n",
       "    </tr>\n",
       "    <tr>\n",
       "      <th id=\"T_c1435_level0_row1\" class=\"row_heading level0 row1\" >1</th>\n",
       "      <td id=\"T_c1435_row1_col0\" class=\"data row1 col0\" >Target</td>\n",
       "      <td id=\"T_c1435_row1_col1\" class=\"data row1 col1\" >breaking leaf buds_doy</td>\n",
       "    </tr>\n",
       "    <tr>\n",
       "      <th id=\"T_c1435_level0_row2\" class=\"row_heading level0 row2\" >2</th>\n",
       "      <td id=\"T_c1435_row2_col0\" class=\"data row2 col0\" >Target type</td>\n",
       "      <td id=\"T_c1435_row2_col1\" class=\"data row2 col1\" >Regression</td>\n",
       "    </tr>\n",
       "    <tr>\n",
       "      <th id=\"T_c1435_level0_row3\" class=\"row_heading level0 row3\" >3</th>\n",
       "      <td id=\"T_c1435_row3_col0\" class=\"data row3 col0\" >Original data shape</td>\n",
       "      <td id=\"T_c1435_row3_col1\" class=\"data row3 col1\" >(241, 25)</td>\n",
       "    </tr>\n",
       "    <tr>\n",
       "      <th id=\"T_c1435_level0_row4\" class=\"row_heading level0 row4\" >4</th>\n",
       "      <td id=\"T_c1435_row4_col0\" class=\"data row4 col0\" >Transformed data shape</td>\n",
       "      <td id=\"T_c1435_row4_col1\" class=\"data row4 col1\" >(241, 25)</td>\n",
       "    </tr>\n",
       "    <tr>\n",
       "      <th id=\"T_c1435_level0_row5\" class=\"row_heading level0 row5\" >5</th>\n",
       "      <td id=\"T_c1435_row5_col0\" class=\"data row5 col0\" >Transformed train set shape</td>\n",
       "      <td id=\"T_c1435_row5_col1\" class=\"data row5 col1\" >(168, 25)</td>\n",
       "    </tr>\n",
       "    <tr>\n",
       "      <th id=\"T_c1435_level0_row6\" class=\"row_heading level0 row6\" >6</th>\n",
       "      <td id=\"T_c1435_row6_col0\" class=\"data row6 col0\" >Transformed test set shape</td>\n",
       "      <td id=\"T_c1435_row6_col1\" class=\"data row6 col1\" >(73, 25)</td>\n",
       "    </tr>\n",
       "    <tr>\n",
       "      <th id=\"T_c1435_level0_row7\" class=\"row_heading level0 row7\" >7</th>\n",
       "      <td id=\"T_c1435_row7_col0\" class=\"data row7 col0\" >Numeric features</td>\n",
       "      <td id=\"T_c1435_row7_col1\" class=\"data row7 col1\" >24</td>\n",
       "    </tr>\n",
       "    <tr>\n",
       "      <th id=\"T_c1435_level0_row8\" class=\"row_heading level0 row8\" >8</th>\n",
       "      <td id=\"T_c1435_row8_col0\" class=\"data row8 col0\" >Preprocess</td>\n",
       "      <td id=\"T_c1435_row8_col1\" class=\"data row8 col1\" >True</td>\n",
       "    </tr>\n",
       "    <tr>\n",
       "      <th id=\"T_c1435_level0_row9\" class=\"row_heading level0 row9\" >9</th>\n",
       "      <td id=\"T_c1435_row9_col0\" class=\"data row9 col0\" >Imputation type</td>\n",
       "      <td id=\"T_c1435_row9_col1\" class=\"data row9 col1\" >simple</td>\n",
       "    </tr>\n",
       "    <tr>\n",
       "      <th id=\"T_c1435_level0_row10\" class=\"row_heading level0 row10\" >10</th>\n",
       "      <td id=\"T_c1435_row10_col0\" class=\"data row10 col0\" >Numeric imputation</td>\n",
       "      <td id=\"T_c1435_row10_col1\" class=\"data row10 col1\" >mean</td>\n",
       "    </tr>\n",
       "    <tr>\n",
       "      <th id=\"T_c1435_level0_row11\" class=\"row_heading level0 row11\" >11</th>\n",
       "      <td id=\"T_c1435_row11_col0\" class=\"data row11 col0\" >Categorical imputation</td>\n",
       "      <td id=\"T_c1435_row11_col1\" class=\"data row11 col1\" >mode</td>\n",
       "    </tr>\n",
       "    <tr>\n",
       "      <th id=\"T_c1435_level0_row12\" class=\"row_heading level0 row12\" >12</th>\n",
       "      <td id=\"T_c1435_row12_col0\" class=\"data row12 col0\" >Fold Generator</td>\n",
       "      <td id=\"T_c1435_row12_col1\" class=\"data row12 col1\" >KFold</td>\n",
       "    </tr>\n",
       "    <tr>\n",
       "      <th id=\"T_c1435_level0_row13\" class=\"row_heading level0 row13\" >13</th>\n",
       "      <td id=\"T_c1435_row13_col0\" class=\"data row13 col0\" >Fold Number</td>\n",
       "      <td id=\"T_c1435_row13_col1\" class=\"data row13 col1\" >10</td>\n",
       "    </tr>\n",
       "    <tr>\n",
       "      <th id=\"T_c1435_level0_row14\" class=\"row_heading level0 row14\" >14</th>\n",
       "      <td id=\"T_c1435_row14_col0\" class=\"data row14 col0\" >CPU Jobs</td>\n",
       "      <td id=\"T_c1435_row14_col1\" class=\"data row14 col1\" >-1</td>\n",
       "    </tr>\n",
       "    <tr>\n",
       "      <th id=\"T_c1435_level0_row15\" class=\"row_heading level0 row15\" >15</th>\n",
       "      <td id=\"T_c1435_row15_col0\" class=\"data row15 col0\" >Use GPU</td>\n",
       "      <td id=\"T_c1435_row15_col1\" class=\"data row15 col1\" >False</td>\n",
       "    </tr>\n",
       "    <tr>\n",
       "      <th id=\"T_c1435_level0_row16\" class=\"row_heading level0 row16\" >16</th>\n",
       "      <td id=\"T_c1435_row16_col0\" class=\"data row16 col0\" >Log Experiment</td>\n",
       "      <td id=\"T_c1435_row16_col1\" class=\"data row16 col1\" >False</td>\n",
       "    </tr>\n",
       "    <tr>\n",
       "      <th id=\"T_c1435_level0_row17\" class=\"row_heading level0 row17\" >17</th>\n",
       "      <td id=\"T_c1435_row17_col0\" class=\"data row17 col0\" >Experiment Name</td>\n",
       "      <td id=\"T_c1435_row17_col1\" class=\"data row17 col1\" >reg-default-name</td>\n",
       "    </tr>\n",
       "    <tr>\n",
       "      <th id=\"T_c1435_level0_row18\" class=\"row_heading level0 row18\" >18</th>\n",
       "      <td id=\"T_c1435_row18_col0\" class=\"data row18 col0\" >USI</td>\n",
       "      <td id=\"T_c1435_row18_col1\" class=\"data row18 col1\" >5e4e</td>\n",
       "    </tr>\n",
       "  </tbody>\n",
       "</table>\n"
      ],
      "text/plain": [
       "<pandas.io.formats.style.Styler at 0x7f3244980580>"
      ]
     },
     "metadata": {},
     "output_type": "display_data"
    },
    {
     "data": {
      "text/plain": [
       "<pycaret.regression.oop.RegressionExperiment at 0x7f324ba4fa90>"
      ]
     },
     "execution_count": 11,
     "metadata": {},
     "output_type": "execute_result"
    }
   ],
   "source": [
    "# init setup on exp\n",
    "exp.setup(df, target = 'breaking leaf buds_doy', session_id = 123)"
   ]
  },
  {
   "cell_type": "code",
   "execution_count": 12,
   "id": "fbac3840-009c-4c1c-ab0f-6eced341d83b",
   "metadata": {},
   "outputs": [],
   "source": [
    "from sklearn.svm import SVR\n",
    "svr_rbf = SVR(kernel=\"rbf\", C=100, gamma=0.1, epsilon=0.1)"
   ]
  },
  {
   "cell_type": "code",
   "execution_count": 13,
   "id": "a23a5f25-09f0-45c4-973c-5fc82826d4a1",
   "metadata": {},
   "outputs": [],
   "source": [
    "import numpy as np\n",
    "from scipy.optimize import curve_fit\n",
    "from sklearn.base import BaseEstimator, RegressorMixin\n",
    "from sklearn.metrics import mean_absolute_error\n",
    "from sklearn.utils.validation import check_X_y, check_array, check_is_fitted\n",
    "\n",
    "# inherit the subclasses\n",
    "class ExponentialRegressor(BaseEstimator, RegressorMixin):\n",
    "\n",
    "  # make the init method\n",
    "  def __init__(self,maxfev = 3000): \n",
    "    self.maxfev = maxfev\n",
    "    return (None)\n",
    "  \n",
    "  # make the custom function\n",
    "  def exp_curve(self,X,*args):\n",
    "    y_ = np.array(X).dot(np.array(args[1:]))\n",
    "    y_ = np.exp(y_)\n",
    "    y = y_*args[0]\n",
    "    return (y)\n",
    "  \n",
    "  # make fit method.\n",
    "  def fit(self,X,y):\n",
    "    # check the X & y\n",
    "    X, y = check_X_y(X, y)\n",
    "    p0 = np.zeros(X.shape[1]+1)\n",
    "    self.coefficients_, *_ = curve_fit(self.exp_curve,X,y,p0 = p0)\n",
    "    # Note that self.coefficients_ has a subsequent \"-\",\n",
    "    # enough to fullfil the requirement.\n",
    "    return (None)\n",
    "  \n",
    "  # make the predict method.\n",
    "  def predict(self, X):\n",
    "    self.predictions = self.exp_curve(X,*self.coefficients_)\n",
    "    return (self.predictions) "
   ]
  },
  {
   "cell_type": "code",
   "execution_count": 14,
   "id": "23e89931-7e3b-43a2-aec5-d0c5c9d709dd",
   "metadata": {},
   "outputs": [],
   "source": [
    "er = ExponentialRegressor()"
   ]
  },
  {
   "cell_type": "code",
   "execution_count": 15,
   "id": "8fb22277-eb78-4472-98ea-19a85e13da30",
   "metadata": {},
   "outputs": [
    {
     "data": {
      "text/html": [],
      "text/plain": [
       "<IPython.core.display.HTML object>"
      ]
     },
     "metadata": {},
     "output_type": "display_data"
    },
    {
     "data": {
      "text/html": [
       "<style type=\"text/css\">\n",
       "#T_4dca1_row10_col0, #T_4dca1_row10_col1, #T_4dca1_row10_col2, #T_4dca1_row10_col3, #T_4dca1_row10_col4, #T_4dca1_row10_col5 {\n",
       "  background: yellow;\n",
       "}\n",
       "</style>\n",
       "<table id=\"T_4dca1\">\n",
       "  <thead>\n",
       "    <tr>\n",
       "      <th class=\"blank level0\" >&nbsp;</th>\n",
       "      <th id=\"T_4dca1_level0_col0\" class=\"col_heading level0 col0\" >MAE</th>\n",
       "      <th id=\"T_4dca1_level0_col1\" class=\"col_heading level0 col1\" >MSE</th>\n",
       "      <th id=\"T_4dca1_level0_col2\" class=\"col_heading level0 col2\" >RMSE</th>\n",
       "      <th id=\"T_4dca1_level0_col3\" class=\"col_heading level0 col3\" >R2</th>\n",
       "      <th id=\"T_4dca1_level0_col4\" class=\"col_heading level0 col4\" >RMSLE</th>\n",
       "      <th id=\"T_4dca1_level0_col5\" class=\"col_heading level0 col5\" >MAPE</th>\n",
       "    </tr>\n",
       "    <tr>\n",
       "      <th class=\"index_name level0\" >Fold</th>\n",
       "      <th class=\"blank col0\" >&nbsp;</th>\n",
       "      <th class=\"blank col1\" >&nbsp;</th>\n",
       "      <th class=\"blank col2\" >&nbsp;</th>\n",
       "      <th class=\"blank col3\" >&nbsp;</th>\n",
       "      <th class=\"blank col4\" >&nbsp;</th>\n",
       "      <th class=\"blank col5\" >&nbsp;</th>\n",
       "    </tr>\n",
       "  </thead>\n",
       "  <tbody>\n",
       "    <tr>\n",
       "      <th id=\"T_4dca1_level0_row0\" class=\"row_heading level0 row0\" >0</th>\n",
       "      <td id=\"T_4dca1_row0_col0\" class=\"data row0 col0\" >33.4232</td>\n",
       "      <td id=\"T_4dca1_row0_col1\" class=\"data row0 col1\" >2443.4244</td>\n",
       "      <td id=\"T_4dca1_row0_col2\" class=\"data row0 col2\" >49.4310</td>\n",
       "      <td id=\"T_4dca1_row0_col3\" class=\"data row0 col3\" >0.5143</td>\n",
       "      <td id=\"T_4dca1_row0_col4\" class=\"data row0 col4\" >0.6364</td>\n",
       "      <td id=\"T_4dca1_row0_col5\" class=\"data row0 col5\" >0.5511</td>\n",
       "    </tr>\n",
       "    <tr>\n",
       "      <th id=\"T_4dca1_level0_row1\" class=\"row_heading level0 row1\" >1</th>\n",
       "      <td id=\"T_4dca1_row1_col0\" class=\"data row1 col0\" >45.4228</td>\n",
       "      <td id=\"T_4dca1_row1_col1\" class=\"data row1 col1\" >5940.9017</td>\n",
       "      <td id=\"T_4dca1_row1_col2\" class=\"data row1 col2\" >77.0772</td>\n",
       "      <td id=\"T_4dca1_row1_col3\" class=\"data row1 col3\" >0.4499</td>\n",
       "      <td id=\"T_4dca1_row1_col4\" class=\"data row1 col4\" >0.7165</td>\n",
       "      <td id=\"T_4dca1_row1_col5\" class=\"data row1 col5\" >0.4608</td>\n",
       "    </tr>\n",
       "    <tr>\n",
       "      <th id=\"T_4dca1_level0_row2\" class=\"row_heading level0 row2\" >2</th>\n",
       "      <td id=\"T_4dca1_row2_col0\" class=\"data row2 col0\" >23.5023</td>\n",
       "      <td id=\"T_4dca1_row2_col1\" class=\"data row2 col1\" >1240.1786</td>\n",
       "      <td id=\"T_4dca1_row2_col2\" class=\"data row2 col2\" >35.2162</td>\n",
       "      <td id=\"T_4dca1_row2_col3\" class=\"data row2 col3\" >0.8606</td>\n",
       "      <td id=\"T_4dca1_row2_col4\" class=\"data row2 col4\" >0.3306</td>\n",
       "      <td id=\"T_4dca1_row2_col5\" class=\"data row2 col5\" >0.2950</td>\n",
       "    </tr>\n",
       "    <tr>\n",
       "      <th id=\"T_4dca1_level0_row3\" class=\"row_heading level0 row3\" >3</th>\n",
       "      <td id=\"T_4dca1_row3_col0\" class=\"data row3 col0\" >34.4129</td>\n",
       "      <td id=\"T_4dca1_row3_col1\" class=\"data row3 col1\" >2149.9453</td>\n",
       "      <td id=\"T_4dca1_row3_col2\" class=\"data row3 col2\" >46.3675</td>\n",
       "      <td id=\"T_4dca1_row3_col3\" class=\"data row3 col3\" >0.4625</td>\n",
       "      <td id=\"T_4dca1_row3_col4\" class=\"data row3 col4\" >0.6190</td>\n",
       "      <td id=\"T_4dca1_row3_col5\" class=\"data row3 col5\" >0.7070</td>\n",
       "    </tr>\n",
       "    <tr>\n",
       "      <th id=\"T_4dca1_level0_row4\" class=\"row_heading level0 row4\" >4</th>\n",
       "      <td id=\"T_4dca1_row4_col0\" class=\"data row4 col0\" >27.7259</td>\n",
       "      <td id=\"T_4dca1_row4_col1\" class=\"data row4 col1\" >1323.0719</td>\n",
       "      <td id=\"T_4dca1_row4_col2\" class=\"data row4 col2\" >36.3741</td>\n",
       "      <td id=\"T_4dca1_row4_col3\" class=\"data row4 col3\" >0.7576</td>\n",
       "      <td id=\"T_4dca1_row4_col4\" class=\"data row4 col4\" >0.5151</td>\n",
       "      <td id=\"T_4dca1_row4_col5\" class=\"data row4 col5\" >0.4690</td>\n",
       "    </tr>\n",
       "    <tr>\n",
       "      <th id=\"T_4dca1_level0_row5\" class=\"row_heading level0 row5\" >5</th>\n",
       "      <td id=\"T_4dca1_row5_col0\" class=\"data row5 col0\" >23.5232</td>\n",
       "      <td id=\"T_4dca1_row5_col1\" class=\"data row5 col1\" >1046.4490</td>\n",
       "      <td id=\"T_4dca1_row5_col2\" class=\"data row5 col2\" >32.3489</td>\n",
       "      <td id=\"T_4dca1_row5_col3\" class=\"data row5 col3\" >0.8327</td>\n",
       "      <td id=\"T_4dca1_row5_col4\" class=\"data row5 col4\" >0.4810</td>\n",
       "      <td id=\"T_4dca1_row5_col5\" class=\"data row5 col5\" >0.5022</td>\n",
       "    </tr>\n",
       "    <tr>\n",
       "      <th id=\"T_4dca1_level0_row6\" class=\"row_heading level0 row6\" >6</th>\n",
       "      <td id=\"T_4dca1_row6_col0\" class=\"data row6 col0\" >21.7696</td>\n",
       "      <td id=\"T_4dca1_row6_col1\" class=\"data row6 col1\" >642.4940</td>\n",
       "      <td id=\"T_4dca1_row6_col2\" class=\"data row6 col2\" >25.3475</td>\n",
       "      <td id=\"T_4dca1_row6_col3\" class=\"data row6 col3\" >0.8318</td>\n",
       "      <td id=\"T_4dca1_row6_col4\" class=\"data row6 col4\" >0.3076</td>\n",
       "      <td id=\"T_4dca1_row6_col5\" class=\"data row6 col5\" >0.2769</td>\n",
       "    </tr>\n",
       "    <tr>\n",
       "      <th id=\"T_4dca1_level0_row7\" class=\"row_heading level0 row7\" >7</th>\n",
       "      <td id=\"T_4dca1_row7_col0\" class=\"data row7 col0\" >47.4773</td>\n",
       "      <td id=\"T_4dca1_row7_col1\" class=\"data row7 col1\" >4386.5614</td>\n",
       "      <td id=\"T_4dca1_row7_col2\" class=\"data row7 col2\" >66.2311</td>\n",
       "      <td id=\"T_4dca1_row7_col3\" class=\"data row7 col3\" >0.4914</td>\n",
       "      <td id=\"T_4dca1_row7_col4\" class=\"data row7 col4\" >0.7356</td>\n",
       "      <td id=\"T_4dca1_row7_col5\" class=\"data row7 col5\" >0.8810</td>\n",
       "    </tr>\n",
       "    <tr>\n",
       "      <th id=\"T_4dca1_level0_row8\" class=\"row_heading level0 row8\" >8</th>\n",
       "      <td id=\"T_4dca1_row8_col0\" class=\"data row8 col0\" >29.2698</td>\n",
       "      <td id=\"T_4dca1_row8_col1\" class=\"data row8 col1\" >1650.6301</td>\n",
       "      <td id=\"T_4dca1_row8_col2\" class=\"data row8 col2\" >40.6279</td>\n",
       "      <td id=\"T_4dca1_row8_col3\" class=\"data row8 col3\" >0.7769</td>\n",
       "      <td id=\"T_4dca1_row8_col4\" class=\"data row8 col4\" >0.4712</td>\n",
       "      <td id=\"T_4dca1_row8_col5\" class=\"data row8 col5\" >0.4820</td>\n",
       "    </tr>\n",
       "    <tr>\n",
       "      <th id=\"T_4dca1_level0_row9\" class=\"row_heading level0 row9\" >9</th>\n",
       "      <td id=\"T_4dca1_row9_col0\" class=\"data row9 col0\" >29.0206</td>\n",
       "      <td id=\"T_4dca1_row9_col1\" class=\"data row9 col1\" >1338.4585</td>\n",
       "      <td id=\"T_4dca1_row9_col2\" class=\"data row9 col2\" >36.5849</td>\n",
       "      <td id=\"T_4dca1_row9_col3\" class=\"data row9 col3\" >0.8856</td>\n",
       "      <td id=\"T_4dca1_row9_col4\" class=\"data row9 col4\" >0.4496</td>\n",
       "      <td id=\"T_4dca1_row9_col5\" class=\"data row9 col5\" >0.4591</td>\n",
       "    </tr>\n",
       "    <tr>\n",
       "      <th id=\"T_4dca1_level0_row10\" class=\"row_heading level0 row10\" >Mean</th>\n",
       "      <td id=\"T_4dca1_row10_col0\" class=\"data row10 col0\" >31.5548</td>\n",
       "      <td id=\"T_4dca1_row10_col1\" class=\"data row10 col1\" >2216.2115</td>\n",
       "      <td id=\"T_4dca1_row10_col2\" class=\"data row10 col2\" >44.5606</td>\n",
       "      <td id=\"T_4dca1_row10_col3\" class=\"data row10 col3\" >0.6863</td>\n",
       "      <td id=\"T_4dca1_row10_col4\" class=\"data row10 col4\" >0.5263</td>\n",
       "      <td id=\"T_4dca1_row10_col5\" class=\"data row10 col5\" >0.5084</td>\n",
       "    </tr>\n",
       "    <tr>\n",
       "      <th id=\"T_4dca1_level0_row11\" class=\"row_heading level0 row11\" >Std</th>\n",
       "      <td id=\"T_4dca1_row11_col0\" class=\"data row11 col0\" >8.4197</td>\n",
       "      <td id=\"T_4dca1_row11_col1\" class=\"data row11 col1\" >1591.3942</td>\n",
       "      <td id=\"T_4dca1_row11_col2\" class=\"data row11 col2\" >15.1843</td>\n",
       "      <td id=\"T_4dca1_row11_col3\" class=\"data row11 col3\" >0.1731</td>\n",
       "      <td id=\"T_4dca1_row11_col4\" class=\"data row11 col4\" >0.1407</td>\n",
       "      <td id=\"T_4dca1_row11_col5\" class=\"data row11 col5\" >0.1692</td>\n",
       "    </tr>\n",
       "  </tbody>\n",
       "</table>\n"
      ],
      "text/plain": [
       "<pandas.io.formats.style.Styler at 0x7f32451a4130>"
      ]
     },
     "metadata": {},
     "output_type": "display_data"
    },
    {
     "data": {
      "text/html": [],
      "text/plain": [
       "<IPython.core.display.HTML object>"
      ]
     },
     "metadata": {},
     "output_type": "display_data"
    },
    {
     "data": {
      "text/html": [
       "<style>#sk-container-id-1 {color: black;background-color: white;}#sk-container-id-1 pre{padding: 0;}#sk-container-id-1 div.sk-toggleable {background-color: white;}#sk-container-id-1 label.sk-toggleable__label {cursor: pointer;display: block;width: 100%;margin-bottom: 0;padding: 0.3em;box-sizing: border-box;text-align: center;}#sk-container-id-1 label.sk-toggleable__label-arrow:before {content: \"▸\";float: left;margin-right: 0.25em;color: #696969;}#sk-container-id-1 label.sk-toggleable__label-arrow:hover:before {color: black;}#sk-container-id-1 div.sk-estimator:hover label.sk-toggleable__label-arrow:before {color: black;}#sk-container-id-1 div.sk-toggleable__content {max-height: 0;max-width: 0;overflow: hidden;text-align: left;background-color: #f0f8ff;}#sk-container-id-1 div.sk-toggleable__content pre {margin: 0.2em;color: black;border-radius: 0.25em;background-color: #f0f8ff;}#sk-container-id-1 input.sk-toggleable__control:checked~div.sk-toggleable__content {max-height: 200px;max-width: 100%;overflow: auto;}#sk-container-id-1 input.sk-toggleable__control:checked~label.sk-toggleable__label-arrow:before {content: \"▾\";}#sk-container-id-1 div.sk-estimator input.sk-toggleable__control:checked~label.sk-toggleable__label {background-color: #d4ebff;}#sk-container-id-1 div.sk-label input.sk-toggleable__control:checked~label.sk-toggleable__label {background-color: #d4ebff;}#sk-container-id-1 input.sk-hidden--visually {border: 0;clip: rect(1px 1px 1px 1px);clip: rect(1px, 1px, 1px, 1px);height: 1px;margin: -1px;overflow: hidden;padding: 0;position: absolute;width: 1px;}#sk-container-id-1 div.sk-estimator {font-family: monospace;background-color: #f0f8ff;border: 1px dotted black;border-radius: 0.25em;box-sizing: border-box;margin-bottom: 0.5em;}#sk-container-id-1 div.sk-estimator:hover {background-color: #d4ebff;}#sk-container-id-1 div.sk-parallel-item::after {content: \"\";width: 100%;border-bottom: 1px solid gray;flex-grow: 1;}#sk-container-id-1 div.sk-label:hover label.sk-toggleable__label {background-color: #d4ebff;}#sk-container-id-1 div.sk-serial::before {content: \"\";position: absolute;border-left: 1px solid gray;box-sizing: border-box;top: 0;bottom: 0;left: 50%;z-index: 0;}#sk-container-id-1 div.sk-serial {display: flex;flex-direction: column;align-items: center;background-color: white;padding-right: 0.2em;padding-left: 0.2em;position: relative;}#sk-container-id-1 div.sk-item {position: relative;z-index: 1;}#sk-container-id-1 div.sk-parallel {display: flex;align-items: stretch;justify-content: center;background-color: white;position: relative;}#sk-container-id-1 div.sk-item::before, #sk-container-id-1 div.sk-parallel-item::before {content: \"\";position: absolute;border-left: 1px solid gray;box-sizing: border-box;top: 0;bottom: 0;left: 50%;z-index: -1;}#sk-container-id-1 div.sk-parallel-item {display: flex;flex-direction: column;z-index: 1;position: relative;background-color: white;}#sk-container-id-1 div.sk-parallel-item:first-child::after {align-self: flex-end;width: 50%;}#sk-container-id-1 div.sk-parallel-item:last-child::after {align-self: flex-start;width: 50%;}#sk-container-id-1 div.sk-parallel-item:only-child::after {width: 0;}#sk-container-id-1 div.sk-dashed-wrapped {border: 1px dashed gray;margin: 0 0.4em 0.5em 0.4em;box-sizing: border-box;padding-bottom: 0.4em;background-color: white;}#sk-container-id-1 div.sk-label label {font-family: monospace;font-weight: bold;display: inline-block;line-height: 1.2em;}#sk-container-id-1 div.sk-label-container {text-align: center;}#sk-container-id-1 div.sk-container {/* jupyter's `normalize.less` sets `[hidden] { display: none; }` but bootstrap.min.css set `[hidden] { display: none !important; }` so we also need the `!important` here to be able to override the default hidden behavior on the sphinx rendered scikit-learn.org. See: https://github.com/scikit-learn/scikit-learn/issues/21755 */display: inline-block !important;position: relative;}#sk-container-id-1 div.sk-text-repr-fallback {display: none;}</style><div id=\"sk-container-id-1\" class=\"sk-top-container\"><div class=\"sk-text-repr-fallback\"><pre>ExplainableBoostingRegressor()</pre><b>In a Jupyter environment, please rerun this cell to show the HTML representation or trust the notebook. <br />On GitHub, the HTML representation is unable to render, please try loading this page with nbviewer.org.</b></div><div class=\"sk-container\" hidden><div class=\"sk-item\"><div class=\"sk-estimator sk-toggleable\"><input class=\"sk-toggleable__control sk-hidden--visually\" id=\"sk-estimator-id-1\" type=\"checkbox\" checked><label for=\"sk-estimator-id-1\" class=\"sk-toggleable__label sk-toggleable__label-arrow\">ExplainableBoostingRegressor</label><div class=\"sk-toggleable__content\"><pre>ExplainableBoostingRegressor()</pre></div></div></div></div></div>"
      ],
      "text/plain": [
       "ExplainableBoostingRegressor()"
      ]
     },
     "execution_count": 15,
     "metadata": {},
     "output_type": "execute_result"
    }
   ],
   "source": [
    "#  RegressionTree, LinearRegression, LogisticRegression not implemented inline with the pycaret\n",
    "from interpret.glassbox import ExplainableBoostingRegressor\n",
    "model = ExplainableBoostingRegressor()\n",
    "exp.create_model(model)"
   ]
  },
  {
   "cell_type": "code",
   "execution_count": 16,
   "id": "42c786bb-c2c7-404b-97c2-1352532945a8",
   "metadata": {},
   "outputs": [],
   "source": [
    "from interpret.glassbox import ExplainableBoostingRegressor\n",
    "ebm = ExplainableBoostingRegressor()"
   ]
  },
  {
   "cell_type": "code",
   "execution_count": 17,
   "id": "edc800e5-5884-4290-9034-38d25aeb75ea",
   "metadata": {},
   "outputs": [
    {
     "data": {
      "text/html": [],
      "text/plain": [
       "<IPython.core.display.HTML object>"
      ]
     },
     "metadata": {},
     "output_type": "display_data"
    },
    {
     "data": {
      "text/html": [
       "<style type=\"text/css\">\n",
       "#T_e1944 th {\n",
       "  text-align: left;\n",
       "}\n",
       "#T_e1944_row0_col0, #T_e1944_row0_col1, #T_e1944_row0_col2, #T_e1944_row0_col3, #T_e1944_row0_col5, #T_e1944_row0_col6, #T_e1944_row1_col0, #T_e1944_row1_col4, #T_e1944_row1_col6, #T_e1944_row2_col0, #T_e1944_row2_col1, #T_e1944_row2_col2, #T_e1944_row2_col3, #T_e1944_row2_col4, #T_e1944_row2_col5, #T_e1944_row2_col6, #T_e1944_row3_col0, #T_e1944_row3_col1, #T_e1944_row3_col2, #T_e1944_row3_col3, #T_e1944_row3_col4, #T_e1944_row3_col5, #T_e1944_row4_col0, #T_e1944_row4_col1, #T_e1944_row4_col2, #T_e1944_row4_col3, #T_e1944_row4_col4, #T_e1944_row4_col5, #T_e1944_row4_col6, #T_e1944_row5_col0, #T_e1944_row5_col1, #T_e1944_row5_col2, #T_e1944_row5_col3, #T_e1944_row5_col4, #T_e1944_row5_col5, #T_e1944_row5_col6, #T_e1944_row6_col0, #T_e1944_row6_col1, #T_e1944_row6_col2, #T_e1944_row6_col3, #T_e1944_row6_col4, #T_e1944_row6_col5, #T_e1944_row6_col6, #T_e1944_row7_col0, #T_e1944_row7_col1, #T_e1944_row7_col2, #T_e1944_row7_col3, #T_e1944_row7_col4, #T_e1944_row7_col5, #T_e1944_row7_col6 {\n",
       "  text-align: left;\n",
       "}\n",
       "#T_e1944_row0_col4, #T_e1944_row1_col1, #T_e1944_row1_col2, #T_e1944_row1_col3, #T_e1944_row1_col5, #T_e1944_row3_col6 {\n",
       "  text-align: left;\n",
       "  background-color: yellow;\n",
       "}\n",
       "#T_e1944_row0_col7, #T_e1944_row1_col7, #T_e1944_row2_col7, #T_e1944_row3_col7, #T_e1944_row4_col7, #T_e1944_row5_col7, #T_e1944_row7_col7 {\n",
       "  text-align: left;\n",
       "  background-color: lightgrey;\n",
       "}\n",
       "#T_e1944_row6_col7 {\n",
       "  text-align: left;\n",
       "  background-color: yellow;\n",
       "  background-color: lightgrey;\n",
       "}\n",
       "</style>\n",
       "<table id=\"T_e1944\">\n",
       "  <thead>\n",
       "    <tr>\n",
       "      <th class=\"blank level0\" >&nbsp;</th>\n",
       "      <th id=\"T_e1944_level0_col0\" class=\"col_heading level0 col0\" >Model</th>\n",
       "      <th id=\"T_e1944_level0_col1\" class=\"col_heading level0 col1\" >MAE</th>\n",
       "      <th id=\"T_e1944_level0_col2\" class=\"col_heading level0 col2\" >MSE</th>\n",
       "      <th id=\"T_e1944_level0_col3\" class=\"col_heading level0 col3\" >RMSE</th>\n",
       "      <th id=\"T_e1944_level0_col4\" class=\"col_heading level0 col4\" >R2</th>\n",
       "      <th id=\"T_e1944_level0_col5\" class=\"col_heading level0 col5\" >RMSLE</th>\n",
       "      <th id=\"T_e1944_level0_col6\" class=\"col_heading level0 col6\" >MAPE</th>\n",
       "      <th id=\"T_e1944_level0_col7\" class=\"col_heading level0 col7\" >TT (Sec)</th>\n",
       "    </tr>\n",
       "  </thead>\n",
       "  <tbody>\n",
       "    <tr>\n",
       "      <th id=\"T_e1944_level0_row0\" class=\"row_heading level0 row0\" >1</th>\n",
       "      <td id=\"T_e1944_row0_col0\" class=\"data row0 col0\" >AdaBoost Regressor</td>\n",
       "      <td id=\"T_e1944_row0_col1\" class=\"data row0 col1\" >26.6921</td>\n",
       "      <td id=\"T_e1944_row0_col2\" class=\"data row0 col2\" >1470.7824</td>\n",
       "      <td id=\"T_e1944_row0_col3\" class=\"data row0 col3\" >36.1062</td>\n",
       "      <td id=\"T_e1944_row0_col4\" class=\"data row0 col4\" >0.7910</td>\n",
       "      <td id=\"T_e1944_row0_col5\" class=\"data row0 col5\" >0.4942</td>\n",
       "      <td id=\"T_e1944_row0_col6\" class=\"data row0 col6\" >0.4973</td>\n",
       "      <td id=\"T_e1944_row0_col7\" class=\"data row0 col7\" >0.2710</td>\n",
       "    </tr>\n",
       "    <tr>\n",
       "      <th id=\"T_e1944_level0_row1\" class=\"row_heading level0 row1\" >0</th>\n",
       "      <td id=\"T_e1944_row1_col0\" class=\"data row1 col0\" >Random Forest Regressor</td>\n",
       "      <td id=\"T_e1944_row1_col1\" class=\"data row1 col1\" >24.5937</td>\n",
       "      <td id=\"T_e1944_row1_col2\" class=\"data row1 col2\" >1467.8504</td>\n",
       "      <td id=\"T_e1944_row1_col3\" class=\"data row1 col3\" >35.9053</td>\n",
       "      <td id=\"T_e1944_row1_col4\" class=\"data row1 col4\" >0.7857</td>\n",
       "      <td id=\"T_e1944_row1_col5\" class=\"data row1 col5\" >0.4724</td>\n",
       "      <td id=\"T_e1944_row1_col6\" class=\"data row1 col6\" >0.4236</td>\n",
       "      <td id=\"T_e1944_row1_col7\" class=\"data row1 col7\" >0.2740</td>\n",
       "    </tr>\n",
       "    <tr>\n",
       "      <th id=\"T_e1944_level0_row2\" class=\"row_heading level0 row2\" >5</th>\n",
       "      <td id=\"T_e1944_row2_col0\" class=\"data row2 col0\" >Support Vector Regression</td>\n",
       "      <td id=\"T_e1944_row2_col1\" class=\"data row2 col1\" >26.9678</td>\n",
       "      <td id=\"T_e1944_row2_col2\" class=\"data row2 col2\" >1684.4732</td>\n",
       "      <td id=\"T_e1944_row2_col3\" class=\"data row2 col3\" >39.4120</td>\n",
       "      <td id=\"T_e1944_row2_col4\" class=\"data row2 col4\" >0.7467</td>\n",
       "      <td id=\"T_e1944_row2_col5\" class=\"data row2 col5\" >0.5089</td>\n",
       "      <td id=\"T_e1944_row2_col6\" class=\"data row2 col6\" >0.4589</td>\n",
       "      <td id=\"T_e1944_row2_col7\" class=\"data row2 col7\" >0.0240</td>\n",
       "    </tr>\n",
       "    <tr>\n",
       "      <th id=\"T_e1944_level0_row3\" class=\"row_heading level0 row3\" >2</th>\n",
       "      <td id=\"T_e1944_row3_col0\" class=\"data row3 col0\" >Decision Tree Regressor</td>\n",
       "      <td id=\"T_e1944_row3_col1\" class=\"data row3 col1\" >26.0720</td>\n",
       "      <td id=\"T_e1944_row3_col2\" class=\"data row3 col2\" >1761.6493</td>\n",
       "      <td id=\"T_e1944_row3_col3\" class=\"data row3 col3\" >39.8640</td>\n",
       "      <td id=\"T_e1944_row3_col4\" class=\"data row3 col4\" >0.7286</td>\n",
       "      <td id=\"T_e1944_row3_col5\" class=\"data row3 col5\" >0.5242</td>\n",
       "      <td id=\"T_e1944_row3_col6\" class=\"data row3 col6\" >0.4199</td>\n",
       "      <td id=\"T_e1944_row3_col7\" class=\"data row3 col7\" >0.2000</td>\n",
       "    </tr>\n",
       "    <tr>\n",
       "      <th id=\"T_e1944_level0_row4\" class=\"row_heading level0 row4\" >4</th>\n",
       "      <td id=\"T_e1944_row4_col0\" class=\"data row4 col0\" >Gradient Boosting Regressor</td>\n",
       "      <td id=\"T_e1944_row4_col1\" class=\"data row4 col1\" >27.4739</td>\n",
       "      <td id=\"T_e1944_row4_col2\" class=\"data row4 col2\" >1786.8737</td>\n",
       "      <td id=\"T_e1944_row4_col3\" class=\"data row4 col3\" >40.3415</td>\n",
       "      <td id=\"T_e1944_row4_col4\" class=\"data row4 col4\" >0.7225</td>\n",
       "      <td id=\"T_e1944_row4_col5\" class=\"data row4 col5\" >0.5139</td>\n",
       "      <td id=\"T_e1944_row4_col6\" class=\"data row4 col6\" >0.4668</td>\n",
       "      <td id=\"T_e1944_row4_col7\" class=\"data row4 col7\" >0.0320</td>\n",
       "    </tr>\n",
       "    <tr>\n",
       "      <th id=\"T_e1944_level0_row5\" class=\"row_heading level0 row5\" >7</th>\n",
       "      <td id=\"T_e1944_row5_col0\" class=\"data row5 col0\" >ExplainableBoostingRegressor</td>\n",
       "      <td id=\"T_e1944_row5_col1\" class=\"data row5 col1\" >31.5548</td>\n",
       "      <td id=\"T_e1944_row5_col2\" class=\"data row5 col2\" >2216.2115</td>\n",
       "      <td id=\"T_e1944_row5_col3\" class=\"data row5 col3\" >44.5606</td>\n",
       "      <td id=\"T_e1944_row5_col4\" class=\"data row5 col4\" >0.6863</td>\n",
       "      <td id=\"T_e1944_row5_col5\" class=\"data row5 col5\" >0.5263</td>\n",
       "      <td id=\"T_e1944_row5_col6\" class=\"data row5 col6\" >0.5084</td>\n",
       "      <td id=\"T_e1944_row5_col7\" class=\"data row5 col7\" >0.0310</td>\n",
       "    </tr>\n",
       "    <tr>\n",
       "      <th id=\"T_e1944_level0_row6\" class=\"row_heading level0 row6\" >3</th>\n",
       "      <td id=\"T_e1944_row6_col0\" class=\"data row6 col0\" >Linear Regression</td>\n",
       "      <td id=\"T_e1944_row6_col1\" class=\"data row6 col1\" >40.8649</td>\n",
       "      <td id=\"T_e1944_row6_col2\" class=\"data row6 col2\" >3029.9195</td>\n",
       "      <td id=\"T_e1944_row6_col3\" class=\"data row6 col3\" >53.8883</td>\n",
       "      <td id=\"T_e1944_row6_col4\" class=\"data row6 col4\" >0.5328</td>\n",
       "      <td id=\"T_e1944_row6_col5\" class=\"data row6 col5\" >0.6835</td>\n",
       "      <td id=\"T_e1944_row6_col6\" class=\"data row6 col6\" >0.6440</td>\n",
       "      <td id=\"T_e1944_row6_col7\" class=\"data row6 col7\" >0.0220</td>\n",
       "    </tr>\n",
       "    <tr>\n",
       "      <th id=\"T_e1944_level0_row7\" class=\"row_heading level0 row7\" >6</th>\n",
       "      <td id=\"T_e1944_row7_col0\" class=\"data row7 col0\" >ExponentialRegressor</td>\n",
       "      <td id=\"T_e1944_row7_col1\" class=\"data row7 col1\" >37.4157</td>\n",
       "      <td id=\"T_e1944_row7_col2\" class=\"data row7 col2\" >3127.3444</td>\n",
       "      <td id=\"T_e1944_row7_col3\" class=\"data row7 col3\" >50.8761</td>\n",
       "      <td id=\"T_e1944_row7_col4\" class=\"data row7 col4\" >0.4162</td>\n",
       "      <td id=\"T_e1944_row7_col5\" class=\"data row7 col5\" >0.6428</td>\n",
       "      <td id=\"T_e1944_row7_col6\" class=\"data row7 col6\" >0.5885</td>\n",
       "      <td id=\"T_e1944_row7_col7\" class=\"data row7 col7\" >0.0270</td>\n",
       "    </tr>\n",
       "  </tbody>\n",
       "</table>\n"
      ],
      "text/plain": [
       "<pandas.io.formats.style.Styler at 0x7f324420f7f0>"
      ]
     },
     "metadata": {},
     "output_type": "display_data"
    },
    {
     "data": {
      "text/html": [],
      "text/plain": [
       "<IPython.core.display.HTML object>"
      ]
     },
     "metadata": {},
     "output_type": "display_data"
    }
   ],
   "source": [
    "# compare baseline models\n",
    "best = exp.compare_models(include = [\"rf\",\"ada\",\"dt\",\"lr\",\"gbr\",svr_rbf,er,ebm])"
   ]
  },
  {
   "cell_type": "code",
   "execution_count": 18,
   "id": "f8455018-e6b6-4e63-b697-4a2137016550",
   "metadata": {},
   "outputs": [
    {
     "data": {
      "text/html": [
       "<style>#sk-container-id-2 {color: black;background-color: white;}#sk-container-id-2 pre{padding: 0;}#sk-container-id-2 div.sk-toggleable {background-color: white;}#sk-container-id-2 label.sk-toggleable__label {cursor: pointer;display: block;width: 100%;margin-bottom: 0;padding: 0.3em;box-sizing: border-box;text-align: center;}#sk-container-id-2 label.sk-toggleable__label-arrow:before {content: \"▸\";float: left;margin-right: 0.25em;color: #696969;}#sk-container-id-2 label.sk-toggleable__label-arrow:hover:before {color: black;}#sk-container-id-2 div.sk-estimator:hover label.sk-toggleable__label-arrow:before {color: black;}#sk-container-id-2 div.sk-toggleable__content {max-height: 0;max-width: 0;overflow: hidden;text-align: left;background-color: #f0f8ff;}#sk-container-id-2 div.sk-toggleable__content pre {margin: 0.2em;color: black;border-radius: 0.25em;background-color: #f0f8ff;}#sk-container-id-2 input.sk-toggleable__control:checked~div.sk-toggleable__content {max-height: 200px;max-width: 100%;overflow: auto;}#sk-container-id-2 input.sk-toggleable__control:checked~label.sk-toggleable__label-arrow:before {content: \"▾\";}#sk-container-id-2 div.sk-estimator input.sk-toggleable__control:checked~label.sk-toggleable__label {background-color: #d4ebff;}#sk-container-id-2 div.sk-label input.sk-toggleable__control:checked~label.sk-toggleable__label {background-color: #d4ebff;}#sk-container-id-2 input.sk-hidden--visually {border: 0;clip: rect(1px 1px 1px 1px);clip: rect(1px, 1px, 1px, 1px);height: 1px;margin: -1px;overflow: hidden;padding: 0;position: absolute;width: 1px;}#sk-container-id-2 div.sk-estimator {font-family: monospace;background-color: #f0f8ff;border: 1px dotted black;border-radius: 0.25em;box-sizing: border-box;margin-bottom: 0.5em;}#sk-container-id-2 div.sk-estimator:hover {background-color: #d4ebff;}#sk-container-id-2 div.sk-parallel-item::after {content: \"\";width: 100%;border-bottom: 1px solid gray;flex-grow: 1;}#sk-container-id-2 div.sk-label:hover label.sk-toggleable__label {background-color: #d4ebff;}#sk-container-id-2 div.sk-serial::before {content: \"\";position: absolute;border-left: 1px solid gray;box-sizing: border-box;top: 0;bottom: 0;left: 50%;z-index: 0;}#sk-container-id-2 div.sk-serial {display: flex;flex-direction: column;align-items: center;background-color: white;padding-right: 0.2em;padding-left: 0.2em;position: relative;}#sk-container-id-2 div.sk-item {position: relative;z-index: 1;}#sk-container-id-2 div.sk-parallel {display: flex;align-items: stretch;justify-content: center;background-color: white;position: relative;}#sk-container-id-2 div.sk-item::before, #sk-container-id-2 div.sk-parallel-item::before {content: \"\";position: absolute;border-left: 1px solid gray;box-sizing: border-box;top: 0;bottom: 0;left: 50%;z-index: -1;}#sk-container-id-2 div.sk-parallel-item {display: flex;flex-direction: column;z-index: 1;position: relative;background-color: white;}#sk-container-id-2 div.sk-parallel-item:first-child::after {align-self: flex-end;width: 50%;}#sk-container-id-2 div.sk-parallel-item:last-child::after {align-self: flex-start;width: 50%;}#sk-container-id-2 div.sk-parallel-item:only-child::after {width: 0;}#sk-container-id-2 div.sk-dashed-wrapped {border: 1px dashed gray;margin: 0 0.4em 0.5em 0.4em;box-sizing: border-box;padding-bottom: 0.4em;background-color: white;}#sk-container-id-2 div.sk-label label {font-family: monospace;font-weight: bold;display: inline-block;line-height: 1.2em;}#sk-container-id-2 div.sk-label-container {text-align: center;}#sk-container-id-2 div.sk-container {/* jupyter's `normalize.less` sets `[hidden] { display: none; }` but bootstrap.min.css set `[hidden] { display: none !important; }` so we also need the `!important` here to be able to override the default hidden behavior on the sphinx rendered scikit-learn.org. See: https://github.com/scikit-learn/scikit-learn/issues/21755 */display: inline-block !important;position: relative;}#sk-container-id-2 div.sk-text-repr-fallback {display: none;}</style><div id=\"sk-container-id-2\" class=\"sk-top-container\"><div class=\"sk-text-repr-fallback\"><pre>AdaBoostRegressor(random_state=123)</pre><b>In a Jupyter environment, please rerun this cell to show the HTML representation or trust the notebook. <br />On GitHub, the HTML representation is unable to render, please try loading this page with nbviewer.org.</b></div><div class=\"sk-container\" hidden><div class=\"sk-item\"><div class=\"sk-estimator sk-toggleable\"><input class=\"sk-toggleable__control sk-hidden--visually\" id=\"sk-estimator-id-2\" type=\"checkbox\" checked><label for=\"sk-estimator-id-2\" class=\"sk-toggleable__label sk-toggleable__label-arrow\">AdaBoostRegressor</label><div class=\"sk-toggleable__content\"><pre>AdaBoostRegressor(random_state=123)</pre></div></div></div></div></div>"
      ],
      "text/plain": [
       "AdaBoostRegressor(random_state=123)"
      ]
     },
     "execution_count": 18,
     "metadata": {},
     "output_type": "execute_result"
    }
   ],
   "source": [
    "best"
   ]
  },
  {
   "cell_type": "code",
   "execution_count": 19,
   "id": "9f6fec2e-c800-4c9d-afce-c1778d4b0ca1",
   "metadata": {},
   "outputs": [
    {
     "data": {
      "text/html": [],
      "text/plain": [
       "<IPython.core.display.HTML object>"
      ]
     },
     "metadata": {},
     "output_type": "display_data"
    },
    {
     "data": {
      "image/png": "[encoded data removed]",
      "text/plain": [
       "<Figure size 800x550 with 2 Axes>"
      ]
     },
     "metadata": {},
     "output_type": "display_data"
    }
   ],
   "source": [
    "# plot residuals\n",
    "exp.plot_model(best, plot = 'residuals')\n"
   ]
  },
  {
   "cell_type": "code",
   "execution_count": 20,
   "id": "70e04206-e625-452f-a94e-1d6998a4d9d3",
   "metadata": {},
   "outputs": [
    {
     "data": {
      "text/html": [],
      "text/plain": [
       "<IPython.core.display.HTML object>"
      ]
     },
     "metadata": {},
     "output_type": "display_data"
    },
    {
     "data": {
      "image/png": "[encoded data removed]",
      "text/plain": [
       "<Figure size 800x550 with 1 Axes>"
      ]
     },
     "metadata": {},
     "output_type": "display_data"
    }
   ],
   "source": [
    "# plot error\n",
    "exp.plot_model(best, plot = 'error')"
   ]
  },
  {
   "cell_type": "code",
   "execution_count": null,
   "id": "56cd08f7-d5fa-49ff-849c-08294a025074",
   "metadata": {},
   "outputs": [],
   "source": []
  }
 ],
 "metadata": {
  "kernelspec": {
   "display_name": "Springtime x86",
   "language": "python",
   "name": "springtime_x86"
  },
  "language_info": {
   "codemirror_mode": {
    "name": "ipython",
    "version": 3
   },
   "file_extension": ".py",
   "mimetype": "text/x-python",
   "name": "python",
   "nbconvert_exporter": "python",
   "pygments_lexer": "ipython3",
   "version": "3.10.0"
  }
 },
 "nbformat": 4,
 "nbformat_minor": 5
}
