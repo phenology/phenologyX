{
 "cells": [
  {
   "cell_type": "code",
   "execution_count": 1,
   "id": "7ca85fd6-27fd-422f-833e-e6b4bb02499a",
   "metadata": {},
   "outputs": [],
   "source": [
    "import numpy as np\n",
    "import pandas as pd"
   ]
  },
  {
   "cell_type": "code",
   "execution_count": 2,
   "id": "b69a1f5e-9708-4a35-ae76-f62f69a56312",
   "metadata": {},
   "outputs": [],
   "source": [
    "from springtime.main import Workflow"
   ]
  },
  {
   "cell_type": "code",
   "execution_count": 3,
   "id": "72a3ad90-6323-4ef9-8020-d6cf3cf4e60c",
   "metadata": {},
   "outputs": [],
   "source": [
    "recipe = \"/home/jovyan/springtime/src/springtime/recipes/model_comparison_usecase.yaml\""
   ]
  },
  {
   "cell_type": "code",
   "execution_count": 4,
   "id": "bc630bb0-ea34-46eb-80be-fbcefa397645",
   "metadata": {},
   "outputs": [
    {
     "name": "stdout",
     "output_type": "stream",
     "text": [
      "Downloading dataset:  npn_obs\n",
      "/tmp/data/rnpn/rnpn_npn_data_y_2015_Deciduous broadleaf_breaking leaf buds_Washington.csv already exists, skipping\n",
      "/tmp/data/rnpn/rnpn_npn_data_y_2016_Deciduous broadleaf_breaking leaf buds_Washington.csv already exists, skipping\n",
      "/tmp/data/rnpn/rnpn_npn_data_y_2017_Deciduous broadleaf_breaking leaf buds_Washington.csv already exists, skipping\n",
      "/tmp/data/rnpn/rnpn_npn_data_y_2018_Deciduous broadleaf_breaking leaf buds_Washington.csv already exists, skipping\n",
      "/tmp/data/rnpn/rnpn_npn_data_y_2019_Deciduous broadleaf_breaking leaf buds_Washington.csv already exists, skipping\n",
      "/tmp/data/rnpn/rnpn_npn_data_y_2020_Deciduous broadleaf_breaking leaf buds_Washington.csv already exists, skipping\n"
     ]
    },
    {
     "name": "stderr",
     "output_type": "stream",
     "text": [
      "Dataset npn_obs loaded with 241 rows\n",
      "Dataset npn_obs resampled to 241 rows\n"
     ]
    },
    {
     "name": "stdout",
     "output_type": "stream",
     "text": [
      "Downloading dataset:  daymet\n"
     ]
    },
    {
     "name": "stderr",
     "output_type": "stream",
     "text": [
      "Dataset daymet loaded with 326310 rows\n",
      "Dataset daymet resampled to 894 rows\n",
      "Datesets joined to shape: (894, 25)\n",
      "Data saved to: /tmp/output/data.csv\n"
     ]
    }
   ],
   "source": [
    "Workflow.from_recipe(recipe).execute()"
   ]
  },
  {
   "cell_type": "code",
   "execution_count": 5,
   "id": "1161a129-0ec3-4e5e-8142-5bf114f960c5",
   "metadata": {},
   "outputs": [
    {
     "data": {
      "text/html": [
       "<div>\n",
       "<style scoped>\n",
       "    .dataframe tbody tr th:only-of-type {\n",
       "        vertical-align: middle;\n",
       "    }\n",
       "\n",
       "    .dataframe tbody tr th {\n",
       "        vertical-align: top;\n",
       "    }\n",
       "\n",
       "    .dataframe thead th {\n",
       "        text-align: right;\n",
       "    }\n",
       "</style>\n",
       "<table border=\"1\" class=\"dataframe\">\n",
       "  <thead>\n",
       "    <tr style=\"text-align: right;\">\n",
       "      <th></th>\n",
       "      <th>year</th>\n",
       "      <th>geometry</th>\n",
       "      <th>breaking leaf buds_doy</th>\n",
       "      <th>tmin_1</th>\n",
       "      <th>tmin_2</th>\n",
       "      <th>tmin_3</th>\n",
       "      <th>tmin_4</th>\n",
       "      <th>tmin_5</th>\n",
       "      <th>tmin_6</th>\n",
       "      <th>tmin_7</th>\n",
       "      <th>...</th>\n",
       "      <th>tmax_3</th>\n",
       "      <th>tmax_4</th>\n",
       "      <th>tmax_5</th>\n",
       "      <th>tmax_6</th>\n",
       "      <th>tmax_7</th>\n",
       "      <th>tmax_8</th>\n",
       "      <th>tmax_9</th>\n",
       "      <th>tmax_10</th>\n",
       "      <th>tmax_11</th>\n",
       "      <th>tmax_12</th>\n",
       "    </tr>\n",
       "  </thead>\n",
       "  <tbody>\n",
       "    <tr>\n",
       "      <th>0</th>\n",
       "      <td>2015</td>\n",
       "      <td>POINT (-122.357971 47.754948)</td>\n",
       "      <td>50.0</td>\n",
       "      <td>3.81</td>\n",
       "      <td>5.000</td>\n",
       "      <td>5.59</td>\n",
       "      <td>4.640</td>\n",
       "      <td>10.19</td>\n",
       "      <td>11.625</td>\n",
       "      <td>14.50</td>\n",
       "      <td>...</td>\n",
       "      <td>14.26</td>\n",
       "      <td>14.620</td>\n",
       "      <td>18.91</td>\n",
       "      <td>24.785</td>\n",
       "      <td>25.74</td>\n",
       "      <td>25.52</td>\n",
       "      <td>19.165</td>\n",
       "      <td>17.60</td>\n",
       "      <td>9.450</td>\n",
       "      <td>7.37</td>\n",
       "    </tr>\n",
       "    <tr>\n",
       "      <th>1</th>\n",
       "      <td>2015</td>\n",
       "      <td>POINT (-122.377419 47.776241)</td>\n",
       "      <td>50.0</td>\n",
       "      <td>3.68</td>\n",
       "      <td>4.955</td>\n",
       "      <td>5.56</td>\n",
       "      <td>4.585</td>\n",
       "      <td>10.11</td>\n",
       "      <td>11.540</td>\n",
       "      <td>14.41</td>\n",
       "      <td>...</td>\n",
       "      <td>14.25</td>\n",
       "      <td>14.635</td>\n",
       "      <td>18.96</td>\n",
       "      <td>24.765</td>\n",
       "      <td>25.73</td>\n",
       "      <td>25.58</td>\n",
       "      <td>19.165</td>\n",
       "      <td>17.60</td>\n",
       "      <td>9.475</td>\n",
       "      <td>7.41</td>\n",
       "    </tr>\n",
       "    <tr>\n",
       "      <th>2</th>\n",
       "      <td>2015</td>\n",
       "      <td>POINT (-122.185921 47.255966)</td>\n",
       "      <td>56.0</td>\n",
       "      <td>3.27</td>\n",
       "      <td>4.915</td>\n",
       "      <td>5.66</td>\n",
       "      <td>4.920</td>\n",
       "      <td>9.83</td>\n",
       "      <td>11.760</td>\n",
       "      <td>14.66</td>\n",
       "      <td>...</td>\n",
       "      <td>14.04</td>\n",
       "      <td>14.070</td>\n",
       "      <td>18.19</td>\n",
       "      <td>25.545</td>\n",
       "      <td>26.81</td>\n",
       "      <td>26.20</td>\n",
       "      <td>18.965</td>\n",
       "      <td>16.63</td>\n",
       "      <td>9.120</td>\n",
       "      <td>6.62</td>\n",
       "    </tr>\n",
       "    <tr>\n",
       "      <th>3</th>\n",
       "      <td>2015</td>\n",
       "      <td>POINT (-121.861725 47.952686)</td>\n",
       "      <td>50.0</td>\n",
       "      <td>1.93</td>\n",
       "      <td>3.440</td>\n",
       "      <td>4.21</td>\n",
       "      <td>2.920</td>\n",
       "      <td>9.24</td>\n",
       "      <td>10.015</td>\n",
       "      <td>12.76</td>\n",
       "      <td>...</td>\n",
       "      <td>13.13</td>\n",
       "      <td>13.765</td>\n",
       "      <td>17.79</td>\n",
       "      <td>24.680</td>\n",
       "      <td>25.72</td>\n",
       "      <td>25.52</td>\n",
       "      <td>18.025</td>\n",
       "      <td>15.80</td>\n",
       "      <td>7.835</td>\n",
       "      <td>5.09</td>\n",
       "    </tr>\n",
       "    <tr>\n",
       "      <th>4</th>\n",
       "      <td>2015</td>\n",
       "      <td>POINT (-122.686279 45.513168)</td>\n",
       "      <td>99.0</td>\n",
       "      <td>3.70</td>\n",
       "      <td>5.290</td>\n",
       "      <td>6.23</td>\n",
       "      <td>4.825</td>\n",
       "      <td>9.91</td>\n",
       "      <td>12.530</td>\n",
       "      <td>14.75</td>\n",
       "      <td>...</td>\n",
       "      <td>17.13</td>\n",
       "      <td>15.765</td>\n",
       "      <td>21.45</td>\n",
       "      <td>28.005</td>\n",
       "      <td>29.36</td>\n",
       "      <td>28.66</td>\n",
       "      <td>22.720</td>\n",
       "      <td>19.08</td>\n",
       "      <td>10.715</td>\n",
       "      <td>8.00</td>\n",
       "    </tr>\n",
       "  </tbody>\n",
       "</table>\n",
       "<p>5 rows × 27 columns</p>\n",
       "</div>"
      ],
      "text/plain": [
       "   year                       geometry  breaking leaf buds_doy  tmin_1   \n",
       "0  2015  POINT (-122.357971 47.754948)                    50.0    3.81  \\\n",
       "1  2015  POINT (-122.377419 47.776241)                    50.0    3.68   \n",
       "2  2015  POINT (-122.185921 47.255966)                    56.0    3.27   \n",
       "3  2015  POINT (-121.861725 47.952686)                    50.0    1.93   \n",
       "4  2015  POINT (-122.686279 45.513168)                    99.0    3.70   \n",
       "\n",
       "   tmin_2  tmin_3  tmin_4  tmin_5  tmin_6  tmin_7  ...  tmax_3  tmax_4   \n",
       "0   5.000    5.59   4.640   10.19  11.625   14.50  ...   14.26  14.620  \\\n",
       "1   4.955    5.56   4.585   10.11  11.540   14.41  ...   14.25  14.635   \n",
       "2   4.915    5.66   4.920    9.83  11.760   14.66  ...   14.04  14.070   \n",
       "3   3.440    4.21   2.920    9.24  10.015   12.76  ...   13.13  13.765   \n",
       "4   5.290    6.23   4.825    9.91  12.530   14.75  ...   17.13  15.765   \n",
       "\n",
       "   tmax_5  tmax_6  tmax_7  tmax_8  tmax_9  tmax_10  tmax_11  tmax_12  \n",
       "0   18.91  24.785   25.74   25.52  19.165    17.60    9.450     7.37  \n",
       "1   18.96  24.765   25.73   25.58  19.165    17.60    9.475     7.41  \n",
       "2   18.19  25.545   26.81   26.20  18.965    16.63    9.120     6.62  \n",
       "3   17.79  24.680   25.72   25.52  18.025    15.80    7.835     5.09  \n",
       "4   21.45  28.005   29.36   28.66  22.720    19.08   10.715     8.00  \n",
       "\n",
       "[5 rows x 27 columns]"
      ]
     },
     "execution_count": 5,
     "metadata": {},
     "output_type": "execute_result"
    }
   ],
   "source": [
    "df = pd.read_csv(\"/tmp/output/data.csv\")\n",
    "df.head()"
   ]
  },
  {
   "cell_type": "code",
   "execution_count": 6,
   "id": "302e1f2b-2eaf-45a6-bcc2-e764dacb7955",
   "metadata": {},
   "outputs": [
    {
     "data": {
      "text/plain": [
       "(241, 27)"
      ]
     },
     "execution_count": 6,
     "metadata": {},
     "output_type": "execute_result"
    }
   ],
   "source": [
    "df.dropna(inplace = True)\n",
    "df.shape"
   ]
  },
  {
   "cell_type": "markdown",
   "id": "2e622202-d5e7-484c-a234-8c70b70ad895",
   "metadata": {},
   "source": [
    "We have three matrices containing our n_samples =500 of training data:\n",
    "\n",
    "X. Matrix containing three fixed effect features. Dimension = 500 x 3.\n",
    "y. Vector containing the single target variable. Dimension = 500 x 1.\n",
    "clusters. Vector containing the cluster_id for each sample. Dimension = 500 x1. We have k = 100 unique clusters in the training data.\n",
    "In this example, there is not an explicit Z matrix. We create one to model a random mean for each cluster. It is a matrix of all 1s with dimension = 500 x 1."
   ]
  },
  {
   "cell_type": "code",
   "execution_count": 7,
   "id": "27f10802-65c3-4166-8a7d-97378fbcc391",
   "metadata": {},
   "outputs": [],
   "source": [
    "y = df.pop(\"breaking leaf buds_doy\")"
   ]
  },
  {
   "cell_type": "code",
   "execution_count": 8,
   "id": "6cbab5c1-0505-4076-b4cb-ee8f639dd35e",
   "metadata": {},
   "outputs": [],
   "source": [
    "# Z = df.pop(\"year\")\n",
    "# Z = Z.values[:,None]\n",
    "\n",
    "df.drop(columns = [\"year\"], inplace = True)\n",
    "Z = np.ones((len(y),1))"
   ]
  },
  {
   "cell_type": "code",
   "execution_count": 9,
   "id": "e5517458-3956-47a7-9985-eb883c8536ab",
   "metadata": {},
   "outputs": [],
   "source": [
    "clusters = df.pop(\"geometry\")"
   ]
  },
  {
   "cell_type": "code",
   "execution_count": 10,
   "id": "3eed0391-5a92-46af-afb7-09cd476618f0",
   "metadata": {},
   "outputs": [],
   "source": [
    "from sklearn.model_selection import train_test_split\n",
    "indices = np.arange(len(y))\n",
    "rand_num = 42\n",
    "te_sz = 0.2\n",
    "X_train, X_test, Z_train, Z_test, clusters_train, clusters_test, y_train, y_test, indices_train, indices_test = train_test_split(df, Z, clusters, y, indices, test_size=te_sz, random_state=rand_num)"
   ]
  },
  {
   "cell_type": "code",
   "execution_count": 11,
   "id": "c878ad42-e9e9-4f93-a992-40a5175076ea",
   "metadata": {},
   "outputs": [
    {
     "name": "stdout",
     "output_type": "stream",
     "text": [
      "(192, 24)\n",
      "(192, 1)\n",
      "(192,)\n",
      "(192,)\n"
     ]
    }
   ],
   "source": [
    "print(X_train.shape)\n",
    "print(Z_train.shape)\n",
    "print(clusters_train.shape)\n",
    "print(y_train.shape)"
   ]
  },
  {
   "cell_type": "code",
   "execution_count": 12,
   "id": "5bc6ba2a-ba29-449d-9232-5b2ee56af5b1",
   "metadata": {},
   "outputs": [],
   "source": [
    "# Linear\n",
    "from sklearn.linear_model import LinearRegression\n",
    "\n",
    "lm = LinearRegression()\n",
    "lm.fit(X_train, y_train)\n",
    "y_hat_lm = lm.predict(X_test)"
   ]
  },
  {
   "cell_type": "code",
   "execution_count": 13,
   "id": "49dcf048-59bb-4755-a6f2-f6a1c7e04317",
   "metadata": {},
   "outputs": [],
   "source": [
    "from sklearn.metrics import r2_score,mean_absolute_error,mean_squared_error\n",
    "import matplotlib.pyplot as plt"
   ]
  },
  {
   "cell_type": "code",
   "execution_count": 14,
   "id": "4aaf89d6-bb28-4758-b0b5-6932b19b9069",
   "metadata": {},
   "outputs": [
    {
     "name": "stdout",
     "output_type": "stream",
     "text": [
      "Linear Regression Model\n",
      "mean_absolute_error:  44.82426405323358\n",
      "mean_squared_error:  3197.151312171903\n",
      "r2:  0.6247992212591051\n"
     ]
    }
   ],
   "source": [
    "print(\"Linear Regression Model\")\n",
    "print(\"mean_absolute_error: \", mean_absolute_error(y_test, y_hat_lm))\n",
    "print(\"mean_squared_error: \", mean_squared_error(y_test, y_hat_lm))\n",
    "print(\"r2: \", r2_score(y_test, y_hat_lm))"
   ]
  },
  {
   "cell_type": "code",
   "execution_count": 15,
   "id": "5e7c7060-3c66-4856-ab4e-71db0447ed43",
   "metadata": {},
   "outputs": [
    {
     "data": {
      "text/plain": [
       "[<matplotlib.lines.Line2D at 0x7fda4efa7c10>]"
      ]
     },
     "execution_count": 15,
     "metadata": {},
     "output_type": "execute_result"
    },
    {
     "data": {
      "image/png": "[encoded data removed]",
      "text/plain": [
       "<Figure size 640x480 with 1 Axes>"
      ]
     },
     "metadata": {},
     "output_type": "display_data"
    }
   ],
   "source": [
    "plt.plot(y_hat_lm, y_test, \"o\")\n",
    "plt.plot(y_test, y_test, \"-\")"
   ]
  },
  {
   "cell_type": "code",
   "execution_count": 16,
   "id": "7fb360f7-3cf1-4fbf-9898-2527aada33ee",
   "metadata": {},
   "outputs": [],
   "source": [
    "from sklearn.ensemble import RandomForestRegressor\n",
    "rf = RandomForestRegressor()\n",
    "rf.fit(X_train, y_train)\n",
    "y_hat_rf = rf.predict(X_test)"
   ]
  },
  {
   "cell_type": "code",
   "execution_count": 17,
   "id": "ad7204f6-aba8-4ba7-b9a0-501b38de83e1",
   "metadata": {},
   "outputs": [
    {
     "name": "stdout",
     "output_type": "stream",
     "text": [
      "RF Regression Model\n",
      "mean_absolute_error:  26.097192714315163\n",
      "mean_squared_error:  1683.3490930514713\n",
      "r2:  0.8024510481561682\n"
     ]
    }
   ],
   "source": [
    "print(\"RF Regression Model\")\n",
    "print(\"mean_absolute_error: \", mean_absolute_error(y_test, y_hat_rf))\n",
    "print(\"mean_squared_error: \", mean_squared_error(y_test, y_hat_rf))\n",
    "print(\"r2: \", r2_score(y_test, y_hat_rf))"
   ]
  },
  {
   "cell_type": "code",
   "execution_count": 18,
   "id": "a13ba435-b57c-4e81-a207-9658803efe10",
   "metadata": {},
   "outputs": [
    {
     "data": {
      "text/plain": [
       "[<matplotlib.lines.Line2D at 0x7fda4e0af190>]"
      ]
     },
     "execution_count": 18,
     "metadata": {},
     "output_type": "execute_result"
    },
    {
     "data": {
      "image/png": "[encoded data removed]",
      "text/plain": [
       "<Figure size 640x480 with 1 Axes>"
      ]
     },
     "metadata": {},
     "output_type": "display_data"
    }
   ],
   "source": [
    "plt.plot(y_hat_rf, y_test, \"o\")\n",
    "plt.plot(y_test, y_test, \"-\")"
   ]
  },
  {
   "cell_type": "code",
   "execution_count": 19,
   "id": "cdf93e9c-e61c-4f99-ac5a-4d51e8b2f4ad",
   "metadata": {},
   "outputs": [],
   "source": [
    "from interpret.glassbox import ExplainableBoostingRegressor\n",
    "ebm = ExplainableBoostingRegressor()\n",
    "ebm.fit(X_train, y_train)\n",
    "y_hat_ebm = ebm.predict(X_test)"
   ]
  },
  {
   "cell_type": "code",
   "execution_count": 20,
   "id": "99c848f0-879c-479a-aae2-5ec67878d533",
   "metadata": {},
   "outputs": [
    {
     "name": "stdout",
     "output_type": "stream",
     "text": [
      "Linear Regression Model\n",
      "mean_absolute_error:  29.88629211922297\n",
      "mean_squared_error:  1710.5219336949328\n",
      "r2:  0.799262187206355\n"
     ]
    }
   ],
   "source": [
    "print(\"Linear Regression Model\")\n",
    "print(\"mean_absolute_error: \", mean_absolute_error(y_test, y_hat_ebm))\n",
    "print(\"mean_squared_error: \", mean_squared_error(y_test, y_hat_ebm))\n",
    "print(\"r2: \", r2_score(y_test, y_hat_ebm))"
   ]
  },
  {
   "cell_type": "code",
   "execution_count": 21,
   "id": "cc521981-66a7-49a8-9e0f-f05ff2f2a5bb",
   "metadata": {},
   "outputs": [
    {
     "data": {
      "text/plain": [
       "[<matplotlib.lines.Line2D at 0x7fdb68b47f40>]"
      ]
     },
     "execution_count": 21,
     "metadata": {},
     "output_type": "execute_result"
    },
    {
     "data": {
      "image/png": "[encoded data removed]",
      "text/plain": [
       "<Figure size 640x480 with 1 Axes>"
      ]
     },
     "metadata": {},
     "output_type": "display_data"
    }
   ],
   "source": [
    "plt.plot(y_hat_ebm, y_test, \"o\")\n",
    "plt.plot(y_test, y_test, \"-\")"
   ]
  },
  {
   "cell_type": "code",
   "execution_count": 22,
   "id": "364941dc-5d93-4cf7-9638-a59dac665ee8",
   "metadata": {},
   "outputs": [],
   "source": [
    "from merf import MERF\n",
    "merf = MERF()"
   ]
  },
  {
   "cell_type": "code",
   "execution_count": 23,
   "id": "f5facaa7-7086-4f56-8346-98765d508c19",
   "metadata": {},
   "outputs": [
    {
     "name": "stderr",
     "output_type": "stream",
     "text": [
      "INFO     [merf.py:307] Training GLL is 1763.3817123147687 at iteration 1.\n",
      "INFO     [merf.py:307] Training GLL is 1870.6218704909504 at iteration 2.\n",
      "INFO     [merf.py:307] Training GLL is 1907.8271937117267 at iteration 3.\n",
      "INFO     [merf.py:307] Training GLL is 1917.7421474746807 at iteration 4.\n",
      "INFO     [merf.py:307] Training GLL is 1940.1322305242377 at iteration 5.\n",
      "INFO     [merf.py:307] Training GLL is 1954.298382232997 at iteration 6.\n",
      "INFO     [merf.py:307] Training GLL is 1963.5869201183036 at iteration 7.\n",
      "INFO     [merf.py:307] Training GLL is 1958.6200378598992 at iteration 8.\n",
      "INFO     [merf.py:307] Training GLL is 1958.6875917054062 at iteration 9.\n",
      "INFO     [merf.py:307] Training GLL is 1974.6210287979754 at iteration 10.\n",
      "INFO     [merf.py:307] Training GLL is 1962.9141082223468 at iteration 11.\n",
      "INFO     [merf.py:307] Training GLL is 1979.9544334991142 at iteration 12.\n",
      "INFO     [merf.py:307] Training GLL is 1974.629933478824 at iteration 13.\n",
      "INFO     [merf.py:307] Training GLL is 1975.1997896158846 at iteration 14.\n",
      "INFO     [merf.py:307] Training GLL is 1996.8425550183122 at iteration 15.\n",
      "INFO     [merf.py:307] Training GLL is 1996.5776671569074 at iteration 16.\n",
      "INFO     [merf.py:307] Training GLL is 1996.0038768111663 at iteration 17.\n",
      "INFO     [merf.py:307] Training GLL is 2007.4828706103815 at iteration 18.\n",
      "INFO     [merf.py:307] Training GLL is 1997.2774818986284 at iteration 19.\n",
      "INFO     [merf.py:307] Training GLL is 1998.261373869593 at iteration 20.\n"
     ]
    },
    {
     "data": {
      "text/plain": [
       "<merf.merf.MERF at 0x7fdb68ab21a0>"
      ]
     },
     "execution_count": 23,
     "metadata": {},
     "output_type": "execute_result"
    }
   ],
   "source": [
    "merf.fit(X_train, Z_train, clusters_train, y_train)"
   ]
  },
  {
   "cell_type": "code",
   "execution_count": 24,
   "id": "ead4f880-c746-4d03-9c49-98021a70b6f4",
   "metadata": {},
   "outputs": [],
   "source": [
    "y_hat_merf = merf.predict(X_test, Z_test, clusters_test)"
   ]
  },
  {
   "cell_type": "code",
   "execution_count": 25,
   "id": "46eaa788-adac-4e83-ba75-bde15f17d1db",
   "metadata": {},
   "outputs": [
    {
     "name": "stdout",
     "output_type": "stream",
     "text": [
      "MERF Regression Model\n",
      "mean_absolute_error:  22.68994763980058\n",
      "mean_squared_error:  1460.4859699626766\n",
      "r2:  0.8286050862891772\n"
     ]
    }
   ],
   "source": [
    "print(\"MERF Regression Model\")\n",
    "print(\"mean_absolute_error: \", mean_absolute_error(y_test, y_hat_merf))\n",
    "print(\"mean_squared_error: \", mean_squared_error(y_test, y_hat_merf))\n",
    "print(\"r2: \", r2_score(y_test, y_hat_merf))"
   ]
  },
  {
   "cell_type": "code",
   "execution_count": 26,
   "id": "f2d30fb2-779c-4030-9ffa-f9a9d83d1217",
   "metadata": {},
   "outputs": [
    {
     "data": {
      "text/plain": [
       "[<matplotlib.lines.Line2D at 0x7fdb68b65300>]"
      ]
     },
     "execution_count": 26,
     "metadata": {},
     "output_type": "execute_result"
    },
    {
     "data": {
      "image/png": "[encoded data removed]",
      "text/plain": [
       "<Figure size 640x480 with 1 Axes>"
      ]
     },
     "metadata": {},
     "output_type": "display_data"
    }
   ],
   "source": [
    "plt.plot(y_hat_merf, y_test, \"o\")\n",
    "plt.plot(y_test, y_test, \"-\")"
   ]
  },
  {
   "cell_type": "code",
   "execution_count": 27,
   "id": "42129b7b-6f75-41e7-b565-cf44a175dadf",
   "metadata": {},
   "outputs": [
    {
     "name": "stderr",
     "output_type": "stream",
     "text": [
      "INFO     [merf.py:307] Training GLL is 1756.0443098578774 at iteration 1.\n",
      "INFO     [merf.py:307] Training GLL is 1870.6299808880237 at iteration 2.\n",
      "INFO     [merf.py:307] Training GLL is 1912.2472198141095 at iteration 3.\n",
      "INFO     [merf.py:307] Training GLL is 1929.4846161297685 at iteration 4.\n",
      "INFO     [merf.py:307] Training GLL is 1950.4886212027704 at iteration 5.\n",
      "INFO     [merf.py:307] Training GLL is 1965.556734921893 at iteration 6.\n",
      "INFO     [merf.py:307] Training GLL is 1966.2954209093828 at iteration 7.\n",
      "INFO     [merf.py:307] Training GLL is 1958.6409588405618 at iteration 8.\n",
      "INFO     [merf.py:307] Training GLL is 1959.456316351379 at iteration 9.\n",
      "INFO     [merf.py:307] Training GLL is 1980.5484296238556 at iteration 10.\n",
      "INFO     [merf.py:307] Training GLL is 1974.6592953690306 at iteration 11.\n",
      "INFO     [merf.py:307] Training GLL is 1972.7337181526273 at iteration 12.\n",
      "INFO     [merf.py:307] Training GLL is 1972.2167235724894 at iteration 13.\n",
      "INFO     [merf.py:307] Training GLL is 1969.0154173477276 at iteration 14.\n",
      "INFO     [merf.py:307] Training GLL is 1985.8735022996786 at iteration 15.\n",
      "INFO     [merf.py:307] Training GLL is 1991.5518261299442 at iteration 16.\n",
      "INFO     [merf.py:307] Training GLL is 2013.8915582551788 at iteration 17.\n",
      "INFO     [merf.py:307] Training GLL is 2010.7922731798976 at iteration 18.\n",
      "INFO     [merf.py:307] Training GLL is 2004.071512798519 at iteration 19.\n",
      "INFO     [merf.py:307] Training GLL is 2011.8739566409765 at iteration 20.\n"
     ]
    },
    {
     "data": {
      "text/plain": [
       "<merf.merf.MERF at 0x7fdb688b1c90>"
      ]
     },
     "execution_count": 27,
     "metadata": {},
     "output_type": "execute_result"
    }
   ],
   "source": [
    "mrf_rf = MERF(rf)\n",
    "mrf_rf.fit(X_train, Z_train, clusters_train, y_train)"
   ]
  },
  {
   "cell_type": "code",
   "execution_count": 28,
   "id": "8f23720e-b2fd-4d7a-82dc-7a9aaa45d94a",
   "metadata": {},
   "outputs": [],
   "source": [
    "y_hat_merf_rf = mrf_rf.predict(X_test, Z_test, clusters_test)"
   ]
  },
  {
   "cell_type": "code",
   "execution_count": 29,
   "id": "244d858c-8288-4b3e-9cc3-a8ae0ec386a5",
   "metadata": {},
   "outputs": [
    {
     "name": "stdout",
     "output_type": "stream",
     "text": [
      "MERF+RF Regression Model\n",
      "mean_absolute_error:  23.526416819017854\n",
      "mean_squared_error:  1513.2422472646606\n",
      "r2:  0.8224138884400743\n"
     ]
    }
   ],
   "source": [
    "print(\"MERF+RF Regression Model\")\n",
    "print(\"mean_absolute_error: \", mean_absolute_error(y_test, y_hat_merf_rf))\n",
    "print(\"mean_squared_error: \", mean_squared_error(y_test, y_hat_merf_rf))\n",
    "print(\"r2: \", r2_score(y_test, y_hat_merf_rf))"
   ]
  },
  {
   "cell_type": "code",
   "execution_count": 30,
   "id": "028bf8f6-fe99-409a-9066-2c6bdeab6e13",
   "metadata": {},
   "outputs": [
    {
     "name": "stderr",
     "output_type": "stream",
     "text": [
      "INFO     [merf.py:307] Training GLL is 2437.4899014848297 at iteration 1.\n",
      "INFO     [merf.py:307] Training GLL is 2427.8988250485686 at iteration 2.\n",
      "INFO     [merf.py:307] Training GLL is 2434.7665505313316 at iteration 3.\n",
      "INFO     [merf.py:307] Training GLL is 2438.171820183171 at iteration 4.\n",
      "INFO     [merf.py:307] Training GLL is 2440.0531107244506 at iteration 5.\n",
      "INFO     [merf.py:307] Training GLL is 2441.3670563152627 at iteration 6.\n",
      "INFO     [merf.py:307] Training GLL is 2442.47436043523 at iteration 7.\n",
      "INFO     [merf.py:307] Training GLL is 2443.4993851274453 at iteration 8.\n",
      "INFO     [merf.py:307] Training GLL is 2444.4805964485568 at iteration 9.\n",
      "INFO     [merf.py:307] Training GLL is 2445.426522080128 at iteration 10.\n",
      "INFO     [merf.py:307] Training GLL is 2446.335611113075 at iteration 11.\n",
      "INFO     [merf.py:307] Training GLL is 2447.203061949204 at iteration 12.\n",
      "INFO     [merf.py:307] Training GLL is 2448.0230791132976 at iteration 13.\n",
      "INFO     [merf.py:307] Training GLL is 2448.789573847746 at iteration 14.\n",
      "INFO     [merf.py:307] Training GLL is 2449.496363235542 at iteration 15.\n",
      "INFO     [merf.py:307] Training GLL is 2450.1372283921314 at iteration 16.\n",
      "INFO     [merf.py:307] Training GLL is 2450.705949842018 at iteration 17.\n",
      "INFO     [merf.py:307] Training GLL is 2451.1963552777793 at iteration 18.\n",
      "INFO     [merf.py:307] Training GLL is 2451.602387485692 at iteration 19.\n",
      "INFO     [merf.py:307] Training GLL is 2451.918191600278 at iteration 20.\n"
     ]
    },
    {
     "data": {
      "text/plain": [
       "<merf.merf.MERF at 0x7fdb6879e230>"
      ]
     },
     "execution_count": 30,
     "metadata": {},
     "output_type": "execute_result"
    }
   ],
   "source": [
    "mrf_lm = MERF(lm)\n",
    "mrf_lm.fit(X_train, Z_train, clusters_train, y_train)"
   ]
  },
  {
   "cell_type": "code",
   "execution_count": 31,
   "id": "ca5689b7-0ada-40a8-99e9-d6f8003231b0",
   "metadata": {},
   "outputs": [],
   "source": [
    "y_hat_merf_lm = mrf_lm.predict(X_test, Z_test, clusters_test)"
   ]
  },
  {
   "cell_type": "code",
   "execution_count": 32,
   "id": "0fb47c77-cc8e-4f2f-b62a-5d36bf3fc039",
   "metadata": {},
   "outputs": [
    {
     "name": "stdout",
     "output_type": "stream",
     "text": [
      "MERF+LM Regression Model\n",
      "mean_absolute_error:  41.65389016189721\n",
      "mean_squared_error:  2853.789317204953\n",
      "r2:  0.6650943700720995\n"
     ]
    }
   ],
   "source": [
    "print(\"MERF+LM Regression Model\")\n",
    "print(\"mean_absolute_error: \", mean_absolute_error(y_test, y_hat_merf_lm))\n",
    "print(\"mean_squared_error: \", mean_squared_error(y_test, y_hat_merf_lm))\n",
    "print(\"r2: \", r2_score(y_test, y_hat_merf_lm))"
   ]
  },
  {
   "cell_type": "code",
   "execution_count": 33,
   "id": "d66c0f33-74c2-4ad3-96f7-ce1740b3ed08",
   "metadata": {},
   "outputs": [
    {
     "data": {
      "text/plain": [
       "[<matplotlib.lines.Line2D at 0x7fdb689bb0d0>]"
      ]
     },
     "execution_count": 33,
     "metadata": {},
     "output_type": "execute_result"
    },
    {
     "data": {
      "image/png": "[encoded data removed]",
      "text/plain": [
       "<Figure size 640x480 with 1 Axes>"
      ]
     },
     "metadata": {},
     "output_type": "display_data"
    }
   ],
   "source": [
    "plt.plot(y_hat_merf_lm, y_test, \"o\")\n",
    "plt.plot(y_test, y_test, \"-\")"
   ]
  },
  {
   "cell_type": "code",
   "execution_count": 34,
   "id": "b985593e-11c8-48c8-8c09-6f59d4a3e872",
   "metadata": {},
   "outputs": [
    {
     "name": "stderr",
     "output_type": "stream",
     "text": [
      "INFO     [_binning.py:2584] Creating native dataset\n",
      "INFO     [bin.py:29] eval_terms\n",
      "INFO     [bin.py:29] eval_terms\n",
      "INFO     [bin.py:29] eval_terms\n",
      "INFO     [bin.py:29] eval_terms\n",
      "INFO     [bin.py:29] eval_terms\n",
      "INFO     [bin.py:29] eval_terms\n",
      "INFO     [bin.py:29] eval_terms\n",
      "INFO     [bin.py:29] eval_terms\n",
      "INFO     [_binning.py:2584] Creating native dataset\n",
      "INFO     [ebm.py:702] Estimating with FAST\n",
      "INFO     [bin.py:29] eval_terms\n",
      "INFO     [bin.py:29] eval_terms\n",
      "INFO     [merf.py:307] Training GLL is 1729.2322117100189 at iteration 1.\n",
      "INFO     [_binning.py:2584] Creating native dataset\n",
      "INFO     [bin.py:29] eval_terms\n",
      "INFO     [bin.py:29] eval_terms\n",
      "INFO     [bin.py:29] eval_terms\n",
      "INFO     [bin.py:29] eval_terms\n",
      "INFO     [bin.py:29] eval_terms\n",
      "INFO     [bin.py:29] eval_terms\n",
      "INFO     [bin.py:29] eval_terms\n",
      "INFO     [bin.py:29] eval_terms\n",
      "INFO     [_binning.py:2584] Creating native dataset\n",
      "INFO     [ebm.py:702] Estimating with FAST\n",
      "INFO     [bin.py:29] eval_terms\n",
      "INFO     [bin.py:29] eval_terms\n",
      "INFO     [merf.py:307] Training GLL is 1722.6336802748651 at iteration 2.\n",
      "INFO     [_binning.py:2584] Creating native dataset\n",
      "INFO     [bin.py:29] eval_terms\n",
      "INFO     [bin.py:29] eval_terms\n",
      "INFO     [bin.py:29] eval_terms\n",
      "INFO     [bin.py:29] eval_terms\n",
      "INFO     [bin.py:29] eval_terms\n",
      "INFO     [bin.py:29] eval_terms\n",
      "INFO     [bin.py:29] eval_terms\n",
      "INFO     [bin.py:29] eval_terms\n",
      "INFO     [_binning.py:2584] Creating native dataset\n",
      "INFO     [ebm.py:702] Estimating with FAST\n",
      "INFO     [bin.py:29] eval_terms\n",
      "INFO     [bin.py:29] eval_terms\n",
      "INFO     [merf.py:307] Training GLL is 1741.7049929706577 at iteration 3.\n",
      "INFO     [_binning.py:2584] Creating native dataset\n",
      "INFO     [bin.py:29] eval_terms\n",
      "INFO     [bin.py:29] eval_terms\n",
      "INFO     [bin.py:29] eval_terms\n",
      "INFO     [bin.py:29] eval_terms\n",
      "INFO     [bin.py:29] eval_terms\n",
      "INFO     [bin.py:29] eval_terms\n",
      "INFO     [bin.py:29] eval_terms\n",
      "INFO     [bin.py:29] eval_terms\n",
      "INFO     [_binning.py:2584] Creating native dataset\n",
      "INFO     [ebm.py:702] Estimating with FAST\n",
      "INFO     [bin.py:29] eval_terms\n",
      "INFO     [bin.py:29] eval_terms\n",
      "INFO     [merf.py:307] Training GLL is 1762.391802675483 at iteration 4.\n",
      "INFO     [_binning.py:2584] Creating native dataset\n",
      "INFO     [bin.py:29] eval_terms\n",
      "INFO     [bin.py:29] eval_terms\n",
      "INFO     [bin.py:29] eval_terms\n",
      "INFO     [bin.py:29] eval_terms\n",
      "INFO     [bin.py:29] eval_terms\n",
      "INFO     [bin.py:29] eval_terms\n",
      "INFO     [bin.py:29] eval_terms\n",
      "INFO     [bin.py:29] eval_terms\n",
      "INFO     [_binning.py:2584] Creating native dataset\n",
      "INFO     [ebm.py:702] Estimating with FAST\n",
      "INFO     [bin.py:29] eval_terms\n",
      "INFO     [bin.py:29] eval_terms\n",
      "INFO     [merf.py:307] Training GLL is 1757.2373504751026 at iteration 5.\n",
      "INFO     [_binning.py:2584] Creating native dataset\n",
      "INFO     [bin.py:29] eval_terms\n",
      "INFO     [bin.py:29] eval_terms\n",
      "INFO     [bin.py:29] eval_terms\n",
      "INFO     [bin.py:29] eval_terms\n",
      "INFO     [bin.py:29] eval_terms\n",
      "INFO     [bin.py:29] eval_terms\n",
      "INFO     [bin.py:29] eval_terms\n",
      "INFO     [bin.py:29] eval_terms\n",
      "INFO     [_binning.py:2584] Creating native dataset\n",
      "INFO     [ebm.py:702] Estimating with FAST\n",
      "INFO     [bin.py:29] eval_terms\n",
      "INFO     [bin.py:29] eval_terms\n",
      "INFO     [merf.py:307] Training GLL is 1829.2879109190922 at iteration 6.\n",
      "INFO     [_binning.py:2584] Creating native dataset\n",
      "INFO     [bin.py:29] eval_terms\n",
      "INFO     [bin.py:29] eval_terms\n",
      "INFO     [bin.py:29] eval_terms\n",
      "INFO     [bin.py:29] eval_terms\n",
      "INFO     [bin.py:29] eval_terms\n",
      "INFO     [bin.py:29] eval_terms\n",
      "INFO     [bin.py:29] eval_terms\n",
      "INFO     [bin.py:29] eval_terms\n",
      "INFO     [_binning.py:2584] Creating native dataset\n",
      "INFO     [ebm.py:702] Estimating with FAST\n",
      "INFO     [bin.py:29] eval_terms\n",
      "INFO     [bin.py:29] eval_terms\n",
      "INFO     [merf.py:307] Training GLL is 1843.3488100314746 at iteration 7.\n",
      "INFO     [_binning.py:2584] Creating native dataset\n",
      "INFO     [bin.py:29] eval_terms\n",
      "INFO     [bin.py:29] eval_terms\n",
      "INFO     [bin.py:29] eval_terms\n",
      "INFO     [bin.py:29] eval_terms\n",
      "INFO     [bin.py:29] eval_terms\n",
      "INFO     [bin.py:29] eval_terms\n",
      "INFO     [bin.py:29] eval_terms\n",
      "INFO     [bin.py:29] eval_terms\n",
      "INFO     [_binning.py:2584] Creating native dataset\n",
      "INFO     [ebm.py:702] Estimating with FAST\n",
      "INFO     [bin.py:29] eval_terms\n",
      "INFO     [bin.py:29] eval_terms\n",
      "INFO     [merf.py:307] Training GLL is 1845.6852501846533 at iteration 8.\n",
      "INFO     [_binning.py:2584] Creating native dataset\n",
      "INFO     [bin.py:29] eval_terms\n",
      "INFO     [bin.py:29] eval_terms\n",
      "INFO     [bin.py:29] eval_terms\n",
      "INFO     [bin.py:29] eval_terms\n",
      "INFO     [bin.py:29] eval_terms\n",
      "INFO     [bin.py:29] eval_terms\n",
      "INFO     [bin.py:29] eval_terms\n",
      "INFO     [bin.py:29] eval_terms\n",
      "INFO     [_binning.py:2584] Creating native dataset\n",
      "INFO     [ebm.py:702] Estimating with FAST\n",
      "INFO     [bin.py:29] eval_terms\n",
      "INFO     [bin.py:29] eval_terms\n",
      "INFO     [merf.py:307] Training GLL is 1854.0603037378419 at iteration 9.\n",
      "INFO     [_binning.py:2584] Creating native dataset\n",
      "INFO     [bin.py:29] eval_terms\n",
      "INFO     [bin.py:29] eval_terms\n",
      "INFO     [bin.py:29] eval_terms\n",
      "INFO     [bin.py:29] eval_terms\n",
      "INFO     [bin.py:29] eval_terms\n",
      "INFO     [bin.py:29] eval_terms\n",
      "INFO     [bin.py:29] eval_terms\n",
      "INFO     [bin.py:29] eval_terms\n",
      "INFO     [_binning.py:2584] Creating native dataset\n",
      "INFO     [ebm.py:702] Estimating with FAST\n",
      "INFO     [bin.py:29] eval_terms\n",
      "INFO     [bin.py:29] eval_terms\n",
      "INFO     [merf.py:307] Training GLL is 1841.5651430986702 at iteration 10.\n",
      "INFO     [_binning.py:2584] Creating native dataset\n",
      "INFO     [bin.py:29] eval_terms\n",
      "INFO     [bin.py:29] eval_terms\n",
      "INFO     [bin.py:29] eval_terms\n",
      "INFO     [bin.py:29] eval_terms\n",
      "INFO     [bin.py:29] eval_terms\n",
      "INFO     [bin.py:29] eval_terms\n",
      "INFO     [bin.py:29] eval_terms\n",
      "INFO     [bin.py:29] eval_terms\n",
      "INFO     [_binning.py:2584] Creating native dataset\n",
      "INFO     [ebm.py:702] Estimating with FAST\n",
      "INFO     [bin.py:29] eval_terms\n",
      "INFO     [bin.py:29] eval_terms\n",
      "INFO     [merf.py:307] Training GLL is 1840.8167716915584 at iteration 11.\n",
      "INFO     [_binning.py:2584] Creating native dataset\n",
      "INFO     [bin.py:29] eval_terms\n",
      "INFO     [bin.py:29] eval_terms\n",
      "INFO     [bin.py:29] eval_terms\n",
      "INFO     [bin.py:29] eval_terms\n",
      "INFO     [bin.py:29] eval_terms\n",
      "INFO     [bin.py:29] eval_terms\n",
      "INFO     [bin.py:29] eval_terms\n",
      "INFO     [bin.py:29] eval_terms\n",
      "INFO     [_binning.py:2584] Creating native dataset\n",
      "INFO     [ebm.py:702] Estimating with FAST\n",
      "INFO     [bin.py:29] eval_terms\n",
      "INFO     [bin.py:29] eval_terms\n",
      "INFO     [merf.py:307] Training GLL is 1858.6193161061392 at iteration 12.\n",
      "INFO     [_binning.py:2584] Creating native dataset\n",
      "INFO     [bin.py:29] eval_terms\n",
      "INFO     [bin.py:29] eval_terms\n",
      "INFO     [bin.py:29] eval_terms\n",
      "INFO     [bin.py:29] eval_terms\n",
      "INFO     [bin.py:29] eval_terms\n",
      "INFO     [bin.py:29] eval_terms\n",
      "INFO     [bin.py:29] eval_terms\n",
      "INFO     [bin.py:29] eval_terms\n",
      "INFO     [_binning.py:2584] Creating native dataset\n",
      "INFO     [ebm.py:702] Estimating with FAST\n",
      "INFO     [bin.py:29] eval_terms\n",
      "INFO     [bin.py:29] eval_terms\n",
      "INFO     [merf.py:307] Training GLL is 1855.8811580852757 at iteration 13.\n",
      "INFO     [_binning.py:2584] Creating native dataset\n",
      "INFO     [bin.py:29] eval_terms\n",
      "INFO     [bin.py:29] eval_terms\n",
      "INFO     [bin.py:29] eval_terms\n",
      "INFO     [bin.py:29] eval_terms\n",
      "INFO     [bin.py:29] eval_terms\n",
      "INFO     [bin.py:29] eval_terms\n",
      "INFO     [bin.py:29] eval_terms\n",
      "INFO     [bin.py:29] eval_terms\n",
      "INFO     [_binning.py:2584] Creating native dataset\n",
      "INFO     [ebm.py:702] Estimating with FAST\n",
      "INFO     [bin.py:29] eval_terms\n",
      "INFO     [bin.py:29] eval_terms\n",
      "INFO     [merf.py:307] Training GLL is 1877.5603737348674 at iteration 14.\n",
      "INFO     [_binning.py:2584] Creating native dataset\n",
      "INFO     [bin.py:29] eval_terms\n",
      "INFO     [bin.py:29] eval_terms\n",
      "INFO     [bin.py:29] eval_terms\n",
      "INFO     [bin.py:29] eval_terms\n",
      "INFO     [bin.py:29] eval_terms\n",
      "INFO     [bin.py:29] eval_terms\n",
      "INFO     [bin.py:29] eval_terms\n",
      "INFO     [bin.py:29] eval_terms\n",
      "INFO     [_binning.py:2584] Creating native dataset\n",
      "INFO     [ebm.py:702] Estimating with FAST\n",
      "INFO     [bin.py:29] eval_terms\n",
      "INFO     [bin.py:29] eval_terms\n",
      "INFO     [merf.py:307] Training GLL is 1888.8149421934836 at iteration 15.\n",
      "INFO     [_binning.py:2584] Creating native dataset\n",
      "INFO     [bin.py:29] eval_terms\n",
      "INFO     [bin.py:29] eval_terms\n",
      "INFO     [bin.py:29] eval_terms\n",
      "INFO     [bin.py:29] eval_terms\n",
      "INFO     [bin.py:29] eval_terms\n",
      "INFO     [bin.py:29] eval_terms\n",
      "INFO     [bin.py:29] eval_terms\n",
      "INFO     [bin.py:29] eval_terms\n",
      "INFO     [_binning.py:2584] Creating native dataset\n",
      "INFO     [ebm.py:702] Estimating with FAST\n",
      "INFO     [bin.py:29] eval_terms\n",
      "INFO     [bin.py:29] eval_terms\n",
      "INFO     [merf.py:307] Training GLL is 1898.6859052262948 at iteration 16.\n",
      "INFO     [_binning.py:2584] Creating native dataset\n",
      "INFO     [bin.py:29] eval_terms\n",
      "INFO     [bin.py:29] eval_terms\n",
      "INFO     [bin.py:29] eval_terms\n",
      "INFO     [bin.py:29] eval_terms\n",
      "INFO     [bin.py:29] eval_terms\n",
      "INFO     [bin.py:29] eval_terms\n",
      "INFO     [bin.py:29] eval_terms\n",
      "INFO     [bin.py:29] eval_terms\n",
      "INFO     [_binning.py:2584] Creating native dataset\n",
      "INFO     [ebm.py:702] Estimating with FAST\n",
      "INFO     [bin.py:29] eval_terms\n",
      "INFO     [bin.py:29] eval_terms\n",
      "INFO     [merf.py:307] Training GLL is 1901.1670785781039 at iteration 17.\n",
      "INFO     [_binning.py:2584] Creating native dataset\n",
      "INFO     [bin.py:29] eval_terms\n",
      "INFO     [bin.py:29] eval_terms\n",
      "INFO     [bin.py:29] eval_terms\n",
      "INFO     [bin.py:29] eval_terms\n",
      "INFO     [bin.py:29] eval_terms\n",
      "INFO     [bin.py:29] eval_terms\n",
      "INFO     [bin.py:29] eval_terms\n",
      "INFO     [bin.py:29] eval_terms\n",
      "INFO     [_binning.py:2584] Creating native dataset\n",
      "INFO     [ebm.py:702] Estimating with FAST\n",
      "INFO     [bin.py:29] eval_terms\n",
      "INFO     [bin.py:29] eval_terms\n",
      "INFO     [merf.py:307] Training GLL is 1909.0686819364796 at iteration 18.\n",
      "INFO     [_binning.py:2584] Creating native dataset\n",
      "INFO     [bin.py:29] eval_terms\n",
      "INFO     [bin.py:29] eval_terms\n",
      "INFO     [bin.py:29] eval_terms\n",
      "INFO     [bin.py:29] eval_terms\n",
      "INFO     [bin.py:29] eval_terms\n",
      "INFO     [bin.py:29] eval_terms\n",
      "INFO     [bin.py:29] eval_terms\n",
      "INFO     [bin.py:29] eval_terms\n",
      "INFO     [_binning.py:2584] Creating native dataset\n",
      "INFO     [ebm.py:702] Estimating with FAST\n",
      "INFO     [bin.py:29] eval_terms\n",
      "INFO     [bin.py:29] eval_terms\n",
      "INFO     [merf.py:307] Training GLL is 1920.060517314308 at iteration 19.\n",
      "INFO     [_binning.py:2584] Creating native dataset\n",
      "INFO     [bin.py:29] eval_terms\n",
      "INFO     [bin.py:29] eval_terms\n",
      "INFO     [bin.py:29] eval_terms\n",
      "INFO     [bin.py:29] eval_terms\n",
      "INFO     [bin.py:29] eval_terms\n",
      "INFO     [bin.py:29] eval_terms\n",
      "INFO     [bin.py:29] eval_terms\n",
      "INFO     [bin.py:29] eval_terms\n",
      "INFO     [_binning.py:2584] Creating native dataset\n",
      "INFO     [ebm.py:702] Estimating with FAST\n",
      "INFO     [bin.py:29] eval_terms\n",
      "INFO     [bin.py:29] eval_terms\n",
      "INFO     [merf.py:307] Training GLL is 1925.9246843298638 at iteration 20.\n"
     ]
    },
    {
     "data": {
      "text/plain": [
       "<merf.merf.MERF at 0x7fdb688b1f90>"
      ]
     },
     "execution_count": 34,
     "metadata": {},
     "output_type": "execute_result"
    }
   ],
   "source": [
    "mrf_ebm = MERF(ebm)\n",
    "mrf_ebm.fit(X_train, Z_train, clusters_train, y_train)"
   ]
  },
  {
   "cell_type": "code",
   "execution_count": 35,
   "id": "3210e5e1-bc3e-4b7c-bae9-a7326a064dda",
   "metadata": {},
   "outputs": [
    {
     "name": "stderr",
     "output_type": "stream",
     "text": [
      "INFO     [bin.py:29] eval_terms\n"
     ]
    }
   ],
   "source": [
    "y_hat_merf_ebm = mrf_ebm.predict(X_test, Z_test, clusters_test)"
   ]
  },
  {
   "cell_type": "code",
   "execution_count": 36,
   "id": "aa8d71ec-0f0e-4b36-9e7c-ec0688ef4a07",
   "metadata": {},
   "outputs": [
    {
     "name": "stdout",
     "output_type": "stream",
     "text": [
      "MERF+EBM Regression Model\n",
      "mean_absolute_error:  29.893672342605583\n",
      "mean_squared_error:  1805.5081944718838\n",
      "r2:  0.7881151017126167\n"
     ]
    }
   ],
   "source": [
    "print(\"MERF+EBM Regression Model\")\n",
    "print(\"mean_absolute_error: \", mean_absolute_error(y_test, y_hat_merf_ebm))\n",
    "print(\"mean_squared_error: \", mean_squared_error(y_test, y_hat_merf_ebm))\n",
    "print(\"r2: \", r2_score(y_test, y_hat_merf_ebm))"
   ]
  },
  {
   "cell_type": "code",
   "execution_count": 37,
   "id": "d3bf32eb-6e04-476b-aae9-ba8224d72e0b",
   "metadata": {},
   "outputs": [
    {
     "data": {
      "text/plain": [
       "[<matplotlib.lines.Line2D at 0x7fdb689fd4b0>]"
      ]
     },
     "execution_count": 37,
     "metadata": {},
     "output_type": "execute_result"
    },
    {
     "data": {
      "image/png": "[encoded data removed]",
      "text/plain": [
       "<Figure size 640x480 with 1 Axes>"
      ]
     },
     "metadata": {},
     "output_type": "display_data"
    }
   ],
   "source": [
    "plt.plot(y_hat_merf, y_test, \"o\")\n",
    "plt.plot(y_test, y_test, \"-\")"
   ]
  },
  {
   "cell_type": "code",
   "execution_count": 38,
   "id": "739e6057-e474-4d18-8e77-6c8281ad0f07",
   "metadata": {},
   "outputs": [
    {
     "name": "stdout",
     "output_type": "stream",
     "text": [
      "r2 summary:\n",
      "Linear:  0.6247992212591051\n",
      "RF:  0.8024510481561682\n",
      "EBM:  0.799262187206355\n",
      "MERF:  0.8286050862891772\n",
      "RF->MERF:  0.8224138884400743\n",
      "Linear->MERF:  0.6650943700720995\n",
      "EBM->MERF:  0.7881151017126167\n"
     ]
    }
   ],
   "source": [
    "print(\"r2 summary:\")\n",
    "print(\"Linear: \", r2_score(y_test, y_hat_lm))\n",
    "print(\"RF: \", r2_score(y_test, y_hat_rf))\n",
    "print(\"EBM: \", r2_score(y_test, y_hat_ebm))\n",
    "print(\"MERF: \", r2_score(y_test, y_hat_merf))\n",
    "print(\"RF->MERF: \", r2_score(y_test, y_hat_merf_rf))\n",
    "print(\"Linear->MERF: \", r2_score(y_test, y_hat_merf_lm))\n",
    "print(\"EBM->MERF: \", r2_score(y_test, y_hat_merf_ebm))"
   ]
  },
  {
   "cell_type": "code",
   "execution_count": null,
   "id": "fb2959fc-7291-406d-a22f-f21081d124b4",
   "metadata": {},
   "outputs": [],
   "source": []
  }
 ],
 "metadata": {
  "kernelspec": {
   "display_name": "Springtime x86",
   "language": "python",
   "name": "springtime_x86"
  },
  "language_info": {
   "codemirror_mode": {
    "name": "ipython",
    "version": 3
   },
   "file_extension": ".py",
   "mimetype": "text/x-python",
   "name": "python",
   "nbconvert_exporter": "python",
   "pygments_lexer": "ipython3",
   "version": "3.10.0"
  }
 },
 "nbformat": 4,
 "nbformat_minor": 5
}
