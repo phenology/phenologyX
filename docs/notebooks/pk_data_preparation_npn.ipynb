{
 "cells": [
  {
   "cell_type": "markdown",
   "id": "18c79f8b-c888-4b03-a255-1adfc813fd10",
   "metadata": {},
   "source": [
    "# Modelling for predicting the spring onset of natural vegetation across the Northern Hemisphere\n",
    "\n",
    "https://doi.org/10.1016/j.ecolind.2021.108126\n"
   ]
  },
  {
   "cell_type": "markdown",
   "id": "aedb37bc-126b-4a09-9fbd-4a4c38295187",
   "metadata": {},
   "source": [
    "## Data\n",
    "\n",
    "- Observation data from the USA National Phenology Network (USA-NPN)\n",
    "- MODIS land cover type product and the land cover dynamics product\n",
    "- Daymet gridded climate data covering Northern America\n",
    "- Climate data obtained from Global Land Data Assimilation System (GLDAS) covering the Northern Hemisphere"
   ]
  },
  {
   "cell_type": "markdown",
   "id": "7102c4b8-b70d-4e80-be4c-0d5ba9e30b29",
   "metadata": {},
   "source": [
    "### USA-NPN\n",
    "\n",
    "- Observation records of vegetation phenology from 2895 sites from 2007 to 2017\n",
    "- Four vegetation types defined in the USA-NPN dataset, including deciduous broadleaf forests (DBF), evergreen broadleaf forests (EBF), graminoid (GRA), and drought deciduous broadleaf forests (DDBF)\n",
    "- Spring onset: breaking leaf buds for DBF, breaking leaf buds for ENF, breaking leaf buds for DDBF, and initial growth of grasses/sedges for GRA\n",
    "- Averaging the timing of spring onsets for all records at the same site in the same year\n",
    "- Excluding observation data in the sites located in the pixels that are classified as urban and build-up in the MODIS land cover maps"
   ]
  },
  {
   "cell_type": "code",
   "execution_count": 1,
   "id": "4535bcd5-66cc-4a24-83d5-5526be46a71d",
   "metadata": {
    "tags": []
   },
   "outputs": [],
   "source": [
    "import springtime\n",
    "from springtime.datasets.rnpn import RNPN, npn_species, npn_phenophases"
   ]
  },
  {
   "cell_type": "markdown",
   "id": "efba4069-9554-49d0-8c7f-f9e2d1519713",
   "metadata": {},
   "source": [
    "# Find species"
   ]
  },
  {
   "cell_type": "code",
   "execution_count": 4,
   "id": "1e85ce37-7712-4845-bab4-c8bd8643a39b",
   "metadata": {
    "tags": []
   },
   "outputs": [
    {
     "data": {
      "text/html": [
       "<div>\n",
       "<style scoped>\n",
       "    .dataframe tbody tr th:only-of-type {\n",
       "        vertical-align: middle;\n",
       "    }\n",
       "\n",
       "    .dataframe tbody tr th {\n",
       "        vertical-align: top;\n",
       "    }\n",
       "\n",
       "    .dataframe thead th {\n",
       "        text-align: right;\n",
       "    }\n",
       "</style>\n",
       "<table border=\"1\" class=\"dataframe\">\n",
       "  <thead>\n",
       "    <tr style=\"text-align: right;\">\n",
       "      <th></th>\n",
       "      <th>species_id</th>\n",
       "      <th>common_name</th>\n",
       "      <th>genus</th>\n",
       "      <th>genus_id</th>\n",
       "      <th>genus_common_name</th>\n",
       "      <th>species</th>\n",
       "      <th>kingdom</th>\n",
       "      <th>itis_taxonomic_sn</th>\n",
       "      <th>functional_type</th>\n",
       "      <th>class_id</th>\n",
       "      <th>class_common_name</th>\n",
       "      <th>class_name</th>\n",
       "      <th>order_id</th>\n",
       "      <th>order_common_name</th>\n",
       "      <th>order_name</th>\n",
       "      <th>family_id</th>\n",
       "      <th>family_name</th>\n",
       "      <th>family_common_name</th>\n",
       "    </tr>\n",
       "  </thead>\n",
       "  <tbody>\n",
       "    <tr>\n",
       "      <th>1</th>\n",
       "      <td>120</td>\n",
       "      <td>'ohi'a lehua</td>\n",
       "      <td>Metrosideros</td>\n",
       "      <td>798</td>\n",
       "      <td>Lehuas (Metrosideros)</td>\n",
       "      <td>polymorpha</td>\n",
       "      <td>Plantae</td>\n",
       "      <td>27259</td>\n",
       "      <td>Evergreen broadleaf</td>\n",
       "      <td>15</td>\n",
       "      <td>Flowering Plants</td>\n",
       "      <td>Magnoliopsida</td>\n",
       "      <td>89</td>\n",
       "      <td>Myrtle and Evening-primrose Families</td>\n",
       "      <td>Myrtales</td>\n",
       "      <td>301</td>\n",
       "      <td>Myrtaceae</td>\n",
       "      <td>Myrtle Family</td>\n",
       "    </tr>\n",
       "    <tr>\n",
       "      <th>2</th>\n",
       "      <td>1436</td>\n",
       "      <td>absinthium</td>\n",
       "      <td>Artemisia</td>\n",
       "      <td>437</td>\n",
       "      <td>Sagebrushes (Artemisia)</td>\n",
       "      <td>absinthium</td>\n",
       "      <td>Plantae</td>\n",
       "      <td>35445</td>\n",
       "      <td>Forb</td>\n",
       "      <td>15</td>\n",
       "      <td>Flowering Plants</td>\n",
       "      <td>Magnoliopsida</td>\n",
       "      <td>69</td>\n",
       "      <td>Aster, Bellflower and Buckbean Families</td>\n",
       "      <td>Asterales</td>\n",
       "      <td>242</td>\n",
       "      <td>Asteraceae</td>\n",
       "      <td>Aster Family</td>\n",
       "    </tr>\n",
       "    <tr>\n",
       "      <th>3</th>\n",
       "      <td>1227</td>\n",
       "      <td>Acadian flycatcher</td>\n",
       "      <td>Empidonax</td>\n",
       "      <td>612</td>\n",
       "      <td>Empidonax Flycatchers (Empidonax)</td>\n",
       "      <td>virescens</td>\n",
       "      <td>Animalia</td>\n",
       "      <td>178339</td>\n",
       "      <td>Bird</td>\n",
       "      <td>5</td>\n",
       "      <td>Birds</td>\n",
       "      <td>Aves</td>\n",
       "      <td>31</td>\n",
       "      <td>Perching Birds</td>\n",
       "      <td>Passeriformes</td>\n",
       "      <td>154</td>\n",
       "      <td>Tyrannidae</td>\n",
       "      <td>Tyrant Flycatchers</td>\n",
       "    </tr>\n",
       "    <tr>\n",
       "      <th>4</th>\n",
       "      <td>1229</td>\n",
       "      <td>acorn woodpecker</td>\n",
       "      <td>Melanerpes</td>\n",
       "      <td>790</td>\n",
       "      <td>Melanerpine Woodpeckers (Melanerpes)</td>\n",
       "      <td>formicivorus</td>\n",
       "      <td>Animalia</td>\n",
       "      <td>178189</td>\n",
       "      <td>Bird</td>\n",
       "      <td>5</td>\n",
       "      <td>Birds</td>\n",
       "      <td>Aves</td>\n",
       "      <td>33</td>\n",
       "      <td>Woodpeckers</td>\n",
       "      <td>Piciformes</td>\n",
       "      <td>158</td>\n",
       "      <td>Picidae</td>\n",
       "      <td>Woodpeckers</td>\n",
       "    </tr>\n",
       "    <tr>\n",
       "      <th>5</th>\n",
       "      <td>2110</td>\n",
       "      <td>Adam and Eve</td>\n",
       "      <td>Aplectrum</td>\n",
       "      <td>1285</td>\n",
       "      <td>Adam and Eves (Aplectrum)</td>\n",
       "      <td>hyemale</td>\n",
       "      <td>Plantae</td>\n",
       "      <td>43489</td>\n",
       "      <td>Forb</td>\n",
       "      <td>15</td>\n",
       "      <td>Flowering Plants</td>\n",
       "      <td>Magnoliopsida</td>\n",
       "      <td>68</td>\n",
       "      <td>Asparagas, Iris, Orchid and Aloe Families</td>\n",
       "      <td>Asparagales</td>\n",
       "      <td>307</td>\n",
       "      <td>Orchidaceae</td>\n",
       "      <td>Orchid Family</td>\n",
       "    </tr>\n",
       "  </tbody>\n",
       "</table>\n",
       "</div>"
      ],
      "text/plain": [
       "   species_id         common_name         genus  genus_id  \\\n",
       "1         120        'ohi'a lehua  Metrosideros       798   \n",
       "2        1436          absinthium     Artemisia       437   \n",
       "3        1227  Acadian flycatcher     Empidonax       612   \n",
       "4        1229    acorn woodpecker    Melanerpes       790   \n",
       "5        2110        Adam and Eve     Aplectrum      1285   \n",
       "\n",
       "                      genus_common_name       species   kingdom  \\\n",
       "1                 Lehuas (Metrosideros)    polymorpha   Plantae   \n",
       "2               Sagebrushes (Artemisia)    absinthium   Plantae   \n",
       "3     Empidonax Flycatchers (Empidonax)     virescens  Animalia   \n",
       "4  Melanerpine Woodpeckers (Melanerpes)  formicivorus  Animalia   \n",
       "5             Adam and Eves (Aplectrum)       hyemale   Plantae   \n",
       "\n",
       "   itis_taxonomic_sn      functional_type  class_id class_common_name  \\\n",
       "1              27259  Evergreen broadleaf        15  Flowering Plants   \n",
       "2              35445                 Forb        15  Flowering Plants   \n",
       "3             178339                 Bird         5             Birds   \n",
       "4             178189                 Bird         5             Birds   \n",
       "5              43489                 Forb        15  Flowering Plants   \n",
       "\n",
       "      class_name  order_id                          order_common_name  \\\n",
       "1  Magnoliopsida        89       Myrtle and Evening-primrose Families   \n",
       "2  Magnoliopsida        69    Aster, Bellflower and Buckbean Families   \n",
       "3           Aves        31                             Perching Birds   \n",
       "4           Aves        33                                Woodpeckers   \n",
       "5  Magnoliopsida        68  Asparagas, Iris, Orchid and Aloe Families   \n",
       "\n",
       "      order_name  family_id  family_name  family_common_name  \n",
       "1       Myrtales        301    Myrtaceae       Myrtle Family  \n",
       "2      Asterales        242   Asteraceae        Aster Family  \n",
       "3  Passeriformes        154   Tyrannidae  Tyrant Flycatchers  \n",
       "4     Piciformes        158      Picidae         Woodpeckers  \n",
       "5    Asparagales        307  Orchidaceae       Orchid Family  "
      ]
     },
     "execution_count": 4,
     "metadata": {},
     "output_type": "execute_result"
    }
   ],
   "source": [
    "# List IDs and names for available species, phenophases\n",
    "species = npn_species()\n",
    "species.head()"
   ]
  },
  {
   "cell_type": "markdown",
   "id": "19606a37-7130-49cc-9341-9abbeefa0807",
   "metadata": {},
   "source": [
    "## Deciduous broadleaf"
   ]
  },
  {
   "cell_type": "code",
   "execution_count": 8,
   "id": "6a3e294a-3064-4efd-9456-43cfb4a7256c",
   "metadata": {
    "tags": []
   },
   "outputs": [
    {
     "data": {
      "text/html": [
       "<div>\n",
       "<style scoped>\n",
       "    .dataframe tbody tr th:only-of-type {\n",
       "        vertical-align: middle;\n",
       "    }\n",
       "\n",
       "    .dataframe tbody tr th {\n",
       "        vertical-align: top;\n",
       "    }\n",
       "\n",
       "    .dataframe thead th {\n",
       "        text-align: right;\n",
       "    }\n",
       "</style>\n",
       "<table border=\"1\" class=\"dataframe\">\n",
       "  <thead>\n",
       "    <tr style=\"text-align: right;\">\n",
       "      <th></th>\n",
       "      <th>species_id</th>\n",
       "      <th>common_name</th>\n",
       "      <th>genus</th>\n",
       "      <th>genus_id</th>\n",
       "      <th>genus_common_name</th>\n",
       "      <th>species</th>\n",
       "      <th>kingdom</th>\n",
       "      <th>itis_taxonomic_sn</th>\n",
       "      <th>functional_type</th>\n",
       "      <th>class_id</th>\n",
       "      <th>class_common_name</th>\n",
       "      <th>class_name</th>\n",
       "      <th>order_id</th>\n",
       "      <th>order_common_name</th>\n",
       "      <th>order_name</th>\n",
       "      <th>family_id</th>\n",
       "      <th>family_name</th>\n",
       "      <th>family_common_name</th>\n",
       "    </tr>\n",
       "  </thead>\n",
       "  <tbody>\n",
       "    <tr>\n",
       "      <th>11</th>\n",
       "      <td>1174</td>\n",
       "      <td>Allegheny serviceberry</td>\n",
       "      <td>Amelanchier</td>\n",
       "      <td>402</td>\n",
       "      <td>Serviceberries (Amelanchier)</td>\n",
       "      <td>laevis</td>\n",
       "      <td>Plantae</td>\n",
       "      <td>182046</td>\n",
       "      <td>Deciduous broadleaf</td>\n",
       "      <td>15</td>\n",
       "      <td>Flowering Plants</td>\n",
       "      <td>Magnoliopsida</td>\n",
       "      <td>96</td>\n",
       "      <td>Oleaster, Buckthorn, Rose and Elm Families</td>\n",
       "      <td>Rosales</td>\n",
       "      <td>325</td>\n",
       "      <td>Rosaceae</td>\n",
       "      <td>Rose Family</td>\n",
       "    </tr>\n",
       "    <tr>\n",
       "      <th>24</th>\n",
       "      <td>1446</td>\n",
       "      <td>alternateleaf dogwood</td>\n",
       "      <td>Cornus</td>\n",
       "      <td>560</td>\n",
       "      <td>Dogwoods (Cornus)</td>\n",
       "      <td>alternifolia</td>\n",
       "      <td>Plantae</td>\n",
       "      <td>27813</td>\n",
       "      <td>Deciduous broadleaf</td>\n",
       "      <td>15</td>\n",
       "      <td>Flowering Plants</td>\n",
       "      <td>Magnoliopsida</td>\n",
       "      <td>75</td>\n",
       "      <td>Dogwood, Hydrangea and Tupelo Families</td>\n",
       "      <td>Cornales</td>\n",
       "      <td>262</td>\n",
       "      <td>Cornaceae</td>\n",
       "      <td>Dogwood Family</td>\n",
       "    </tr>\n",
       "    <tr>\n",
       "      <th>27</th>\n",
       "      <td>93</td>\n",
       "      <td>American basswood</td>\n",
       "      <td>Tilia</td>\n",
       "      <td>1056</td>\n",
       "      <td>Lindens (Tilia)</td>\n",
       "      <td>americana</td>\n",
       "      <td>Plantae</td>\n",
       "      <td>21536</td>\n",
       "      <td>Deciduous broadleaf</td>\n",
       "      <td>15</td>\n",
       "      <td>Flowering Plants</td>\n",
       "      <td>Magnoliopsida</td>\n",
       "      <td>88</td>\n",
       "      <td>Mallow and Mezereum Families</td>\n",
       "      <td>Malvales</td>\n",
       "      <td>294</td>\n",
       "      <td>Malvaceae</td>\n",
       "      <td>Mallow Family</td>\n",
       "    </tr>\n",
       "    <tr>\n",
       "      <th>28</th>\n",
       "      <td>812</td>\n",
       "      <td>American beautyberry</td>\n",
       "      <td>Callicarpa</td>\n",
       "      <td>477</td>\n",
       "      <td>Beautyberries (Callicarpa)</td>\n",
       "      <td>americana</td>\n",
       "      <td>Plantae</td>\n",
       "      <td>32144</td>\n",
       "      <td>Deciduous broadleaf</td>\n",
       "      <td>15</td>\n",
       "      <td>Flowering Plants</td>\n",
       "      <td>Magnoliopsida</td>\n",
       "      <td>83</td>\n",
       "      <td>Mint, Olive and Plantain Families</td>\n",
       "      <td>Lamiales</td>\n",
       "      <td>286</td>\n",
       "      <td>Lamiaceae</td>\n",
       "      <td>Mint Family</td>\n",
       "    </tr>\n",
       "    <tr>\n",
       "      <th>29</th>\n",
       "      <td>79</td>\n",
       "      <td>American beech</td>\n",
       "      <td>Fagus</td>\n",
       "      <td>645</td>\n",
       "      <td>Beeches (Fagus)</td>\n",
       "      <td>grandifolia</td>\n",
       "      <td>Plantae</td>\n",
       "      <td>19462</td>\n",
       "      <td>Deciduous broadleaf</td>\n",
       "      <td>15</td>\n",
       "      <td>Flowering Plants</td>\n",
       "      <td>Magnoliopsida</td>\n",
       "      <td>79</td>\n",
       "      <td>Birch, Beech, Walnut and Bayberry Families</td>\n",
       "      <td>Fagales</td>\n",
       "      <td>271</td>\n",
       "      <td>Fagaceae</td>\n",
       "      <td>Beech Family</td>\n",
       "    </tr>\n",
       "  </tbody>\n",
       "</table>\n",
       "</div>"
      ],
      "text/plain": [
       "    species_id             common_name        genus  genus_id  \\\n",
       "11        1174  Allegheny serviceberry  Amelanchier       402   \n",
       "24        1446   alternateleaf dogwood       Cornus       560   \n",
       "27          93       American basswood        Tilia      1056   \n",
       "28         812    American beautyberry   Callicarpa       477   \n",
       "29          79          American beech        Fagus       645   \n",
       "\n",
       "               genus_common_name       species  kingdom  itis_taxonomic_sn  \\\n",
       "11  Serviceberries (Amelanchier)        laevis  Plantae             182046   \n",
       "24             Dogwoods (Cornus)  alternifolia  Plantae              27813   \n",
       "27               Lindens (Tilia)     americana  Plantae              21536   \n",
       "28    Beautyberries (Callicarpa)     americana  Plantae              32144   \n",
       "29               Beeches (Fagus)   grandifolia  Plantae              19462   \n",
       "\n",
       "        functional_type  class_id class_common_name     class_name  order_id  \\\n",
       "11  Deciduous broadleaf        15  Flowering Plants  Magnoliopsida        96   \n",
       "24  Deciduous broadleaf        15  Flowering Plants  Magnoliopsida        75   \n",
       "27  Deciduous broadleaf        15  Flowering Plants  Magnoliopsida        88   \n",
       "28  Deciduous broadleaf        15  Flowering Plants  Magnoliopsida        83   \n",
       "29  Deciduous broadleaf        15  Flowering Plants  Magnoliopsida        79   \n",
       "\n",
       "                             order_common_name order_name  family_id  \\\n",
       "11  Oleaster, Buckthorn, Rose and Elm Families    Rosales        325   \n",
       "24      Dogwood, Hydrangea and Tupelo Families   Cornales        262   \n",
       "27                Mallow and Mezereum Families   Malvales        294   \n",
       "28           Mint, Olive and Plantain Families   Lamiales        286   \n",
       "29  Birch, Beech, Walnut and Bayberry Families    Fagales        271   \n",
       "\n",
       "   family_name family_common_name  \n",
       "11    Rosaceae        Rose Family  \n",
       "24   Cornaceae     Dogwood Family  \n",
       "27   Malvaceae      Mallow Family  \n",
       "28   Lamiaceae        Mint Family  \n",
       "29    Fagaceae       Beech Family  "
      ]
     },
     "execution_count": 8,
     "metadata": {},
     "output_type": "execute_result"
    }
   ],
   "source": [
    "deciduous_broadleaf = species.query('functional_type==\"Deciduous broadleaf\"')\n",
    "deciduous_broadleaf.head()"
   ]
  },
  {
   "cell_type": "markdown",
   "id": "a3ee3f04-721f-43db-9a49-740f3d2fb067",
   "metadata": {},
   "source": [
    "## Evergreen"
   ]
  },
  {
   "cell_type": "code",
   "execution_count": 22,
   "id": "f76585b2-2160-4d19-b98d-3d4b38456eb4",
   "metadata": {
    "tags": []
   },
   "outputs": [],
   "source": [
    "evergreen_broadleaf = species.query('functional_type==\"Evergreen broadleaf\"')"
   ]
  },
  {
   "cell_type": "markdown",
   "id": "fd4d8bc3-9cdc-4841-a74e-8213403e43a1",
   "metadata": {},
   "source": [
    "# Phenophases"
   ]
  },
  {
   "cell_type": "code",
   "execution_count": 16,
   "id": "d31d0d39-9518-46e0-86d1-946759039424",
   "metadata": {
    "tags": []
   },
   "outputs": [
    {
     "data": {
      "text/html": [
       "<div>\n",
       "<style scoped>\n",
       "    .dataframe tbody tr th:only-of-type {\n",
       "        vertical-align: middle;\n",
       "    }\n",
       "\n",
       "    .dataframe tbody tr th {\n",
       "        vertical-align: top;\n",
       "    }\n",
       "\n",
       "    .dataframe thead th {\n",
       "        text-align: right;\n",
       "    }\n",
       "</style>\n",
       "<table border=\"1\" class=\"dataframe\">\n",
       "  <thead>\n",
       "    <tr style=\"text-align: right;\">\n",
       "      <th></th>\n",
       "      <th>phenophase_id</th>\n",
       "      <th>phenophase_name</th>\n",
       "      <th>phenophase_category</th>\n",
       "      <th>color</th>\n",
       "      <th>pheno_class_id</th>\n",
       "    </tr>\n",
       "  </thead>\n",
       "  <tbody>\n",
       "    <tr>\n",
       "      <th>1</th>\n",
       "      <td>56</td>\n",
       "      <td>First leaf</td>\n",
       "      <td>Leaves</td>\n",
       "      <td>NA_character_</td>\n",
       "      <td>1</td>\n",
       "    </tr>\n",
       "    <tr>\n",
       "      <th>2</th>\n",
       "      <td>57</td>\n",
       "      <td>75% leaf elongation</td>\n",
       "      <td>Leaves</td>\n",
       "      <td>NA_character_</td>\n",
       "      <td>2</td>\n",
       "    </tr>\n",
       "    <tr>\n",
       "      <th>3</th>\n",
       "      <td>58</td>\n",
       "      <td>First flower</td>\n",
       "      <td>Flowers</td>\n",
       "      <td>NA_character_</td>\n",
       "      <td>7</td>\n",
       "    </tr>\n",
       "    <tr>\n",
       "      <th>4</th>\n",
       "      <td>59</td>\n",
       "      <td>Last flower</td>\n",
       "      <td>Flowers</td>\n",
       "      <td>NA_character_</td>\n",
       "      <td>9</td>\n",
       "    </tr>\n",
       "    <tr>\n",
       "      <th>5</th>\n",
       "      <td>60</td>\n",
       "      <td>First fruit ripe</td>\n",
       "      <td>Fruits</td>\n",
       "      <td>NA_character_</td>\n",
       "      <td>12</td>\n",
       "    </tr>\n",
       "  </tbody>\n",
       "</table>\n",
       "</div>"
      ],
      "text/plain": [
       "   phenophase_id       phenophase_name phenophase_category          color  \\\n",
       "1             56           First leaf               Leaves  NA_character_   \n",
       "2             57  75% leaf elongation               Leaves  NA_character_   \n",
       "3             58         First flower              Flowers  NA_character_   \n",
       "4             59           Last flower             Flowers  NA_character_   \n",
       "5             60     First fruit ripe               Fruits  NA_character_   \n",
       "\n",
       "   pheno_class_id  \n",
       "1               1  \n",
       "2               2  \n",
       "3               7  \n",
       "4               9  \n",
       "5              12  "
      ]
     },
     "execution_count": 16,
     "metadata": {},
     "output_type": "execute_result"
    }
   ],
   "source": [
    "phenophases = npn_phenophases()\n",
    "phenophases.head()"
   ]
  },
  {
   "cell_type": "code",
   "execution_count": 19,
   "id": "45f177b9-68f0-43ca-99ee-7ab15b4c97e1",
   "metadata": {
    "tags": []
   },
   "outputs": [],
   "source": [
    "def lookup(df, column, expression):\n",
    "    \"\"\"Return rows where column matches expression.\"\"\"\n",
    "    return df[df[column].str.lower().str.contains(expression)]"
   ]
  },
  {
   "cell_type": "code",
   "execution_count": 20,
   "id": "f542dff3-1fcb-4dd3-8a94-c0835d12a994",
   "metadata": {
    "tags": []
   },
   "outputs": [
    {
     "data": {
      "text/html": [
       "<div>\n",
       "<style scoped>\n",
       "    .dataframe tbody tr th:only-of-type {\n",
       "        vertical-align: middle;\n",
       "    }\n",
       "\n",
       "    .dataframe tbody tr th {\n",
       "        vertical-align: top;\n",
       "    }\n",
       "\n",
       "    .dataframe thead th {\n",
       "        text-align: right;\n",
       "    }\n",
       "</style>\n",
       "<table border=\"1\" class=\"dataframe\">\n",
       "  <thead>\n",
       "    <tr style=\"text-align: right;\">\n",
       "      <th></th>\n",
       "      <th>phenophase_id</th>\n",
       "      <th>phenophase_name</th>\n",
       "      <th>phenophase_category</th>\n",
       "      <th>color</th>\n",
       "      <th>pheno_class_id</th>\n",
       "    </tr>\n",
       "  </thead>\n",
       "  <tbody>\n",
       "    <tr>\n",
       "      <th>100</th>\n",
       "      <td>371</td>\n",
       "      <td>Breaking leaf buds</td>\n",
       "      <td>Leaves</td>\n",
       "      <td>Green1</td>\n",
       "      <td>1</td>\n",
       "    </tr>\n",
       "    <tr>\n",
       "      <th>101</th>\n",
       "      <td>373</td>\n",
       "      <td>Breaking leaf buds</td>\n",
       "      <td>Leaves</td>\n",
       "      <td>Green1</td>\n",
       "      <td>1</td>\n",
       "    </tr>\n",
       "  </tbody>\n",
       "</table>\n",
       "</div>"
      ],
      "text/plain": [
       "     phenophase_id      phenophase_name phenophase_category   color  \\\n",
       "100            371   Breaking leaf buds              Leaves  Green1   \n",
       "101            373  Breaking leaf buds               Leaves  Green1   \n",
       "\n",
       "     pheno_class_id  \n",
       "100               1  \n",
       "101               1  "
      ]
     },
     "execution_count": 20,
     "metadata": {},
     "output_type": "execute_result"
    }
   ],
   "source": [
    "breaking_leaf_buds = lookup(phenophases, \"phenophase_name\", \"breaking leaf buds\")\n",
    "breaking_leaf_buds"
   ]
  },
  {
   "cell_type": "code",
   "execution_count": 21,
   "id": "1a17983a-45b7-4236-9654-92168fcb9ff7",
   "metadata": {
    "tags": []
   },
   "outputs": [
    {
     "data": {
      "text/html": [
       "<div>\n",
       "<style scoped>\n",
       "    .dataframe tbody tr th:only-of-type {\n",
       "        vertical-align: middle;\n",
       "    }\n",
       "\n",
       "    .dataframe tbody tr th {\n",
       "        vertical-align: top;\n",
       "    }\n",
       "\n",
       "    .dataframe thead th {\n",
       "        text-align: right;\n",
       "    }\n",
       "</style>\n",
       "<table border=\"1\" class=\"dataframe\">\n",
       "  <thead>\n",
       "    <tr style=\"text-align: right;\">\n",
       "      <th></th>\n",
       "      <th>phenophase_id</th>\n",
       "      <th>phenophase_name</th>\n",
       "      <th>phenophase_category</th>\n",
       "      <th>color</th>\n",
       "      <th>pheno_class_id</th>\n",
       "    </tr>\n",
       "  </thead>\n",
       "  <tbody>\n",
       "    <tr>\n",
       "      <th>138</th>\n",
       "      <td>482</td>\n",
       "      <td>Initial growth</td>\n",
       "      <td>Leaves</td>\n",
       "      <td>Green1</td>\n",
       "      <td>1</td>\n",
       "    </tr>\n",
       "    <tr>\n",
       "      <th>148</th>\n",
       "      <td>492</td>\n",
       "      <td>Initial growth</td>\n",
       "      <td>Leaves</td>\n",
       "      <td>Green1</td>\n",
       "      <td>1</td>\n",
       "    </tr>\n",
       "    <tr>\n",
       "      <th>164</th>\n",
       "      <td>508</td>\n",
       "      <td>Initial growth</td>\n",
       "      <td>Leaves</td>\n",
       "      <td>Green1</td>\n",
       "      <td>1</td>\n",
       "    </tr>\n",
       "  </tbody>\n",
       "</table>\n",
       "</div>"
      ],
      "text/plain": [
       "     phenophase_id  phenophase_name phenophase_category   color  \\\n",
       "138            482  Initial growth               Leaves  Green1   \n",
       "148            492  Initial growth               Leaves  Green1   \n",
       "164            508  Initial growth               Leaves  Green1   \n",
       "\n",
       "     pheno_class_id  \n",
       "138               1  \n",
       "148               1  \n",
       "164               1  "
      ]
     },
     "execution_count": 21,
     "metadata": {},
     "output_type": "execute_result"
    }
   ],
   "source": [
    "initial_growth = lookup(phenophases, \"phenophase_name\", \"initial growth\")\n",
    "initial_growth"
   ]
  },
  {
   "cell_type": "markdown",
   "id": "d1c76cba-50ab-433b-9b84-81a1f711eee9",
   "metadata": {},
   "source": [
    "# Species and Phenophases summary\n",
    "\n",
    "**Species id**: \n",
    "- DBF (1174,1446,...)\n",
    "- EBF(120, 1861,...)\n",
    "- GRA(1677,1032,1971,...)\n",
    "\n",
    "**Phenophases**:\n",
    "\n",
    "- breaking leaf buds (371,373)\n",
    "- initial growth (482,492,508)"
   ]
  },
  {
   "cell_type": "markdown",
   "id": "8f347fd1-a470-4c12-b37b-596d3538d2f0",
   "metadata": {},
   "source": [
    "### Data preparation"
   ]
  },
  {
   "cell_type": "code",
   "execution_count": 14,
   "id": "face47c9-7e8a-4375-b3fc-0da2569c7431",
   "metadata": {},
   "outputs": [],
   "source": [
    "# Load dataset\n",
    "# years is needed! [start,end+1]!\n",
    "# If there is no data for one year we get error---check years=[2013, 2014]\n",
    "\n",
    "# A lot of queries returned no data Error! For example the one below\n",
    "\n",
    "# dataset = NPNPhenor(species=1446, phenophase=373, years=[2007, 2018])\n",
    "# dataset.download()\n",
    "# df1 = dataset.load()\n",
    "# df1"
   ]
  },
  {
   "cell_type": "code",
   "execution_count": 27,
   "id": "0a81aaab-3882-4871-815f-8409ae070f0a",
   "metadata": {
    "tags": []
   },
   "outputs": [
    {
     "data": {
      "text/plain": [
       "RNPN(dataset='RNPN', years=(2007, 2018), species_ids=[1174, 1446, 93, 812, 79, 1832, 724, 1048, 71, 823, 91, 206, 1762, 970, 76, 1245, 1246, 810, 444, 1208, 1362, 1007, 1353, 20, 717, 1447, 2087, 1173, 1857, 320, 982, 72, 1485, 1878, 1875, 1880, 802, 1, 1188, 778, 87, 1176, 873, 28, 1849, 1481, 90, 839, 1458, 33, 1591, 1159, 80, 1494, 941, 1510, 1691, 1015, 2093, 2046, 328, 2, 799, 2042, 101, 1452, 2131, 2143, 765, 713, 1211, 1161, 1632, 64, 1373, 1181, 1649, 871, 1682, 1358, 1049, 2066, 2052, 1212, 1748, 1045, 2050, 29, 293, 1807, 89, 201, 829, 36, 1364, 303, 2101, 1431, 92, 897, 1499, 2145, 1759, 1489, 1732, 835, 944, 322, 1493, 430, 2053, 1000, 1817, 804, 976, 1733, 1044, 7, 1780, 1736, 1781, 1760, 1363, 1771, 836, 1006, 2142, 12, 73, 1066, 1367, 1843, 977, 988, 1871, 996, 1744, 1163, 1636, 62, 1805, 1448, 319, 75, 77, 2071, 1162, 1608, 94, 95, 885, 949, 1716, 1487, 942, 1250, 1438, 227, 1835, 1374, 1923, 1741, 1179, 1839, 1344, 216, 789, 214, 1169, 1775, 1503, 884, 723, 1214, 1509, 1779, 1754, 2059, 1177, 1471, 1758, 2140, 1184, 1199, 1033, 1248, 2097, 983, 1361, 1371, 1342, 1009, 1674, 827, 1370, 1001, 1761, 102, 915, 779, 1822, 312, 783, 1840, 872, 316, 1854, 1997, 2047, 69, 962, 1191, 99, 83, 1201, 88, 824, 1776, 67, 1189, 989, 992, 1616, 1698, 1755, 2060, 999, 1008, 27, 1345, 63, 784, 1200, 325, 1897, 1059, 3, 2007, 35, 1372, 997, 70, 1439, 1850, 1339, 59, 1821, 1030, 1607, 1730, 314, 1023, 1348, 719, 2061, 2048, 4, 1019, 1756, 2044, 844, 1010, 68, 1190, 1987, 211, 1213, 1215, 1491, 1692, 1777, 781, 1680, 1216, 1060, 2036, 994, 1753, 1187, 1217, 1484, 315, 1207, 292, 60, 61, 1605, 2049, 2043, 86, 98, 923, 935, 81, 780, 770, 1876, 321, 1056, 1472, 1719, 309, 920, 82, 1486, 919, 1977, 1185, 65, 704, 1031, 1350, 1505, 777, 952, 1851, 940, 1369, 764, 2116, 1647, 74, 1728, 326, 100, 2194, 2138, 1366, 96, 1873, 1192, 993, 1818, 217, 1905, 97, 1172, 228], phenophase_ids=[371, 373], area=None)"
      ]
     },
     "execution_count": 27,
     "metadata": {},
     "output_type": "execute_result"
    }
   ],
   "source": [
    "npn_broadleaf = RNPN(years=(2007, 2018), species_ids=deciduous_broadleaf.species_id.to_list(), phenophase_ids=breaking_leaf_buds.phenophase_id.to_list())\n",
    "npn_broadleaf"
   ]
  },
  {
   "cell_type": "code",
   "execution_count": 28,
   "id": "9374dfdb-af81-47b7-b222-d3b322fddecb",
   "metadata": {
    "tags": []
   },
   "outputs": [
    {
     "ename": "OSError",
     "evalue": "[Errno 36] File name too long: '/tmp/data/rnpn/rnpn_npn_data_y_2007_2018_s_1174_1446_93_812_79_1832_724_1048_71_823_91_206_1762_970_76_1245_1246_810_444_1208_1362_1007_1353_20_717_1447_2087_1173_1857_320_982_72_1485_1878_1875_1880_802_1_1188_778_87_1176_873_28_1849_1481_90_839_1458_33_1591_1159_80_1494_941_1510_1691_1015_2093_2046_328_2_799_2042_101_1452_2131_2143_765_713_1211_1161_1632_64_1373_1181_1649_871_1682_1358_1049_2066_2052_1212_1748_1045_2050_29_293_1807_89_201_829_36_1364_303_2101_1431_92_897_1499_2145_1759_1489_1732_835_944_322_1493_430_2053_1000_1817_804_976_1733_1044_7_1780_1736_1781_1760_1363_1771_836_1006_2142_12_73_1066_1367_1843_977_988_1871_996_1744_1163_1636_62_1805_1448_319_75_77_2071_1162_1608_94_95_885_949_1716_1487_942_1250_1438_227_1835_1374_1923_1741_1179_1839_1344_216_789_214_1169_1775_1503_884_723_1214_1509_1779_1754_2059_1177_1471_1758_2140_1184_1199_1033_1248_2097_983_1361_1371_1342_1009_1674_827_1370_1001_1761_102_915_779_1822_312_783_1840_872_316_1854_1997_2047_69_962_1191_99_83_1201_88_824_1776_67_1189_989_992_1616_1698_1755_2060_999_1008_27_1345_63_784_1200_325_1897_1059_3_2007_35_1372_997_70_1439_1850_1339_59_1821_1030_1607_1730_314_1023_1348_719_2061_2048_4_1019_1756_2044_844_1010_68_1190_1987_211_1213_1215_1491_1692_1777_781_1680_1216_1060_2036_994_1753_1187_1217_1484_315_1207_292_60_61_1605_2049_2043_86_98_923_935_81_780_770_1876_321_1056_1472_1719_309_920_82_1486_919_1977_1185_65_704_1031_1350_1505_777_952_1851_940_1369_764_2116_1647_74_1728_326_100_2194_2138_1366_96_1873_1192_993_1818_217_1905_97_1172_228_p_371_373.csv'",
     "output_type": "error",
     "traceback": [
      "\u001b[0;31m---------------------------------------------------------------------------\u001b[0m",
      "\u001b[0;31mOSError\u001b[0m                                   Traceback (most recent call last)",
      "Cell \u001b[0;32mIn[28], line 1\u001b[0m\n\u001b[0;32m----> 1\u001b[0m \u001b[43mnpn_broadleaf\u001b[49m\u001b[38;5;241;43m.\u001b[39;49m\u001b[43mdownload\u001b[49m\u001b[43m(\u001b[49m\u001b[43m)\u001b[49m\n",
      "File \u001b[0;32m~/phenology/springtime/src/springtime/datasets/rnpn.py:106\u001b[0m, in \u001b[0;36mRNPN.download\u001b[0;34m(self)\u001b[0m\n\u001b[1;32m    102\u001b[0m \u001b[38;5;28mself\u001b[39m\u001b[38;5;241m.\u001b[39mdirectory\u001b[38;5;241m.\u001b[39mmkdir(parents\u001b[38;5;241m=\u001b[39m\u001b[38;5;28;01mTrue\u001b[39;00m, exist_ok\u001b[38;5;241m=\u001b[39m\u001b[38;5;28;01mTrue\u001b[39;00m)\n\u001b[1;32m    104\u001b[0m filename \u001b[38;5;241m=\u001b[39m \u001b[38;5;28mself\u001b[39m\u001b[38;5;241m.\u001b[39m_filename()\n\u001b[0;32m--> 106\u001b[0m \u001b[38;5;28;01mif\u001b[39;00m \u001b[43mfilename\u001b[49m\u001b[38;5;241;43m.\u001b[39;49m\u001b[43mexists\u001b[49m\u001b[43m(\u001b[49m\u001b[43m)\u001b[49m:\n\u001b[1;32m    107\u001b[0m     \u001b[38;5;28mprint\u001b[39m(\u001b[38;5;124mf\u001b[39m\u001b[38;5;124m\"\u001b[39m\u001b[38;5;132;01m{\u001b[39;00mfilename\u001b[38;5;132;01m}\u001b[39;00m\u001b[38;5;124m already exists, skipping\u001b[39m\u001b[38;5;124m\"\u001b[39m)\n\u001b[1;32m    108\u001b[0m \u001b[38;5;28;01melse\u001b[39;00m:\n",
      "File \u001b[0;32m~/mambaforge/envs/springtime/lib/python3.10/pathlib.py:1288\u001b[0m, in \u001b[0;36mPath.exists\u001b[0;34m(self)\u001b[0m\n\u001b[1;32m   1284\u001b[0m \u001b[38;5;250m\u001b[39m\u001b[38;5;124;03m\"\"\"\u001b[39;00m\n\u001b[1;32m   1285\u001b[0m \u001b[38;5;124;03mWhether this path exists.\u001b[39;00m\n\u001b[1;32m   1286\u001b[0m \u001b[38;5;124;03m\"\"\"\u001b[39;00m\n\u001b[1;32m   1287\u001b[0m \u001b[38;5;28;01mtry\u001b[39;00m:\n\u001b[0;32m-> 1288\u001b[0m     \u001b[38;5;28;43mself\u001b[39;49m\u001b[38;5;241;43m.\u001b[39;49m\u001b[43mstat\u001b[49m\u001b[43m(\u001b[49m\u001b[43m)\u001b[49m\n\u001b[1;32m   1289\u001b[0m \u001b[38;5;28;01mexcept\u001b[39;00m \u001b[38;5;167;01mOSError\u001b[39;00m \u001b[38;5;28;01mas\u001b[39;00m e:\n\u001b[1;32m   1290\u001b[0m     \u001b[38;5;28;01mif\u001b[39;00m \u001b[38;5;129;01mnot\u001b[39;00m _ignore_error(e):\n",
      "File \u001b[0;32m~/mambaforge/envs/springtime/lib/python3.10/pathlib.py:1095\u001b[0m, in \u001b[0;36mPath.stat\u001b[0;34m(self, follow_symlinks)\u001b[0m\n\u001b[1;32m   1090\u001b[0m \u001b[38;5;28;01mdef\u001b[39;00m \u001b[38;5;21mstat\u001b[39m(\u001b[38;5;28mself\u001b[39m, \u001b[38;5;241m*\u001b[39m, follow_symlinks\u001b[38;5;241m=\u001b[39m\u001b[38;5;28;01mTrue\u001b[39;00m):\n\u001b[1;32m   1091\u001b[0m \u001b[38;5;250m    \u001b[39m\u001b[38;5;124;03m\"\"\"\u001b[39;00m\n\u001b[1;32m   1092\u001b[0m \u001b[38;5;124;03m    Return the result of the stat() system call on this path, like\u001b[39;00m\n\u001b[1;32m   1093\u001b[0m \u001b[38;5;124;03m    os.stat() does.\u001b[39;00m\n\u001b[1;32m   1094\u001b[0m \u001b[38;5;124;03m    \"\"\"\u001b[39;00m\n\u001b[0;32m-> 1095\u001b[0m     \u001b[38;5;28;01mreturn\u001b[39;00m \u001b[38;5;28;43mself\u001b[39;49m\u001b[38;5;241;43m.\u001b[39;49m\u001b[43m_accessor\u001b[49m\u001b[38;5;241;43m.\u001b[39;49m\u001b[43mstat\u001b[49m\u001b[43m(\u001b[49m\u001b[38;5;28;43mself\u001b[39;49m\u001b[43m,\u001b[49m\u001b[43m \u001b[49m\u001b[43mfollow_symlinks\u001b[49m\u001b[38;5;241;43m=\u001b[39;49m\u001b[43mfollow_symlinks\u001b[49m\u001b[43m)\u001b[49m\n",
      "\u001b[0;31mOSError\u001b[0m: [Errno 36] File name too long: '/tmp/data/rnpn/rnpn_npn_data_y_2007_2018_s_1174_1446_93_812_79_1832_724_1048_71_823_91_206_1762_970_76_1245_1246_810_444_1208_1362_1007_1353_20_717_1447_2087_1173_1857_320_982_72_1485_1878_1875_1880_802_1_1188_778_87_1176_873_28_1849_1481_90_839_1458_33_1591_1159_80_1494_941_1510_1691_1015_2093_2046_328_2_799_2042_101_1452_2131_2143_765_713_1211_1161_1632_64_1373_1181_1649_871_1682_1358_1049_2066_2052_1212_1748_1045_2050_29_293_1807_89_201_829_36_1364_303_2101_1431_92_897_1499_2145_1759_1489_1732_835_944_322_1493_430_2053_1000_1817_804_976_1733_1044_7_1780_1736_1781_1760_1363_1771_836_1006_2142_12_73_1066_1367_1843_977_988_1871_996_1744_1163_1636_62_1805_1448_319_75_77_2071_1162_1608_94_95_885_949_1716_1487_942_1250_1438_227_1835_1374_1923_1741_1179_1839_1344_216_789_214_1169_1775_1503_884_723_1214_1509_1779_1754_2059_1177_1471_1758_2140_1184_1199_1033_1248_2097_983_1361_1371_1342_1009_1674_827_1370_1001_1761_102_915_779_1822_312_783_1840_872_316_1854_1997_2047_69_962_1191_99_83_1201_88_824_1776_67_1189_989_992_1616_1698_1755_2060_999_1008_27_1345_63_784_1200_325_1897_1059_3_2007_35_1372_997_70_1439_1850_1339_59_1821_1030_1607_1730_314_1023_1348_719_2061_2048_4_1019_1756_2044_844_1010_68_1190_1987_211_1213_1215_1491_1692_1777_781_1680_1216_1060_2036_994_1753_1187_1217_1484_315_1207_292_60_61_1605_2049_2043_86_98_923_935_81_780_770_1876_321_1056_1472_1719_309_920_82_1486_919_1977_1185_65_704_1031_1350_1505_777_952_1851_940_1369_764_2116_1647_74_1728_326_100_2194_2138_1366_96_1873_1192_993_1818_217_1905_97_1172_228_p_371_373.csv'"
     ]
    }
   ],
   "source": [
    "npn_broadleaf.download()"
   ]
  },
  {
   "cell_type": "code",
   "execution_count": 19,
   "id": "1cbcb5da-dbbd-4b7c-8fd7-9988e06c0e8d",
   "metadata": {},
   "outputs": [
    {
     "name": "stdout",
     "output_type": "stream",
     "text": [
      "338\n",
      "137\n"
     ]
    }
   ],
   "source": [
    "# In totall there are 1755 species!\n",
    "print(len(ls_sp1))\n",
    "print(len(ls_sp2))"
   ]
  },
  {
   "cell_type": "code",
   "execution_count": 20,
   "id": "48112415-31f1-42ee-a0b2-f1454384f178",
   "metadata": {},
   "outputs": [
    {
     "name": "stdout",
     "output_type": "stream",
     "text": [
      "downloading /tmp/data/NPN/phenor_npn_data_103_371_2007-01-01_2007-12-31.rds\n",
      "  |======================================================================| 100%\n"
     ]
    },
    {
     "name": "stderr",
     "output_type": "stream",
     "text": [
      "R[write to console]: No encoding supplied: defaulting to UTF-8.\n",
      "\n",
      "R[write to console]: Error in (function (species = 3, phenophase = 371, start = \"2000-01-01\",  : \n",
      "  Query returned no data, check your input parameters!\n",
      "\n"
     ]
    },
    {
     "name": "stdout",
     "output_type": "stream",
     "text": [
      "downloading /tmp/data/NPN/phenor_npn_data_103_373_2007-01-01_2007-12-31.rds\n",
      "  |======================================================================| 100%\n"
     ]
    },
    {
     "name": "stderr",
     "output_type": "stream",
     "text": [
      "R[write to console]: No encoding supplied: defaulting to UTF-8.\n",
      "\n",
      "R[write to console]: Error in (function (species = 3, phenophase = 371, start = \"2000-01-01\",  : \n",
      "  Query returned no data, check your input parameters!\n",
      "\n"
     ]
    },
    {
     "name": "stdout",
     "output_type": "stream",
     "text": [
      "downloading /tmp/data/NPN/phenor_npn_data_104_371_2007-01-01_2007-12-31.rds\n",
      "  |======================================================================| 100%\n"
     ]
    },
    {
     "name": "stderr",
     "output_type": "stream",
     "text": [
      "R[write to console]: No encoding supplied: defaulting to UTF-8.\n",
      "\n",
      "R[write to console]: Error in (function (species = 3, phenophase = 371, start = \"2000-01-01\",  : \n",
      "  Query returned no data, check your input parameters!\n",
      "\n"
     ]
    },
    {
     "name": "stdout",
     "output_type": "stream",
     "text": [
      "downloading /tmp/data/NPN/phenor_npn_data_104_373_2007-01-01_2007-12-31.rds\n",
      "  |======================================================================| 100%\n"
     ]
    },
    {
     "name": "stderr",
     "output_type": "stream",
     "text": [
      "R[write to console]: No encoding supplied: defaulting to UTF-8.\n",
      "\n",
      "R[write to console]: Error in (function (species = 3, phenophase = 371, start = \"2000-01-01\",  : \n",
      "  Query returned no data, check your input parameters!\n",
      "\n"
     ]
    },
    {
     "name": "stdout",
     "output_type": "stream",
     "text": [
      "downloading /tmp/data/NPN/phenor_npn_data_106_371_2007-01-01_2007-12-31.rds\n",
      "  |======================================================================| 100%\n"
     ]
    },
    {
     "name": "stderr",
     "output_type": "stream",
     "text": [
      "R[write to console]: No encoding supplied: defaulting to UTF-8.\n",
      "\n",
      "R[write to console]: Error in (function (species = 3, phenophase = 371, start = \"2000-01-01\",  : \n",
      "  Query returned no data, check your input parameters!\n",
      "\n"
     ]
    },
    {
     "name": "stdout",
     "output_type": "stream",
     "text": [
      "downloading /tmp/data/NPN/phenor_npn_data_106_373_2007-01-01_2007-12-31.rds\n",
      "  |======================================================================| 100%\n"
     ]
    },
    {
     "name": "stderr",
     "output_type": "stream",
     "text": [
      "R[write to console]: No encoding supplied: defaulting to UTF-8.\n",
      "\n",
      "R[write to console]: Error in (function (species = 3, phenophase = 371, start = \"2000-01-01\",  : \n",
      "  Query returned no data, check your input parameters!\n",
      "\n"
     ]
    },
    {
     "name": "stdout",
     "output_type": "stream",
     "text": [
      "downloading /tmp/data/NPN/phenor_npn_data_107_371_2007-01-01_2007-12-31.rds\n",
      "  |======================================================================| 100%\n"
     ]
    },
    {
     "name": "stderr",
     "output_type": "stream",
     "text": [
      "R[write to console]: No encoding supplied: defaulting to UTF-8.\n",
      "\n",
      "R[write to console]: Error in (function (species = 3, phenophase = 371, start = \"2000-01-01\",  : \n",
      "  Query returned no data, check your input parameters!\n",
      "\n"
     ]
    },
    {
     "name": "stdout",
     "output_type": "stream",
     "text": [
      "downloading /tmp/data/NPN/phenor_npn_data_107_373_2007-01-01_2007-12-31.rds\n",
      "  |======================================================================| 100%\n"
     ]
    },
    {
     "name": "stderr",
     "output_type": "stream",
     "text": [
      "R[write to console]: No encoding supplied: defaulting to UTF-8.\n",
      "\n",
      "R[write to console]: Error in (function (species = 3, phenophase = 371, start = \"2000-01-01\",  : \n",
      "  Query returned no data, check your input parameters!\n",
      "\n"
     ]
    },
    {
     "name": "stdout",
     "output_type": "stream",
     "text": [
      "downloading /tmp/data/NPN/phenor_npn_data_109_371_2007-01-01_2007-12-31.rds\n",
      "  |======================================================================| 100%\n"
     ]
    },
    {
     "name": "stderr",
     "output_type": "stream",
     "text": [
      "R[write to console]: No encoding supplied: defaulting to UTF-8.\n",
      "\n",
      "R[write to console]: Error in (function (species = 3, phenophase = 371, start = \"2000-01-01\",  : \n",
      "  Query returned no data, check your input parameters!\n",
      "\n"
     ]
    },
    {
     "name": "stdout",
     "output_type": "stream",
     "text": [
      "downloading /tmp/data/NPN/phenor_npn_data_109_373_2007-01-01_2007-12-31.rds\n",
      "  |======================================================================| 100%\n"
     ]
    },
    {
     "name": "stderr",
     "output_type": "stream",
     "text": [
      "R[write to console]: No encoding supplied: defaulting to UTF-8.\n",
      "\n",
      "R[write to console]: Error in (function (species = 3, phenophase = 371, start = \"2000-01-01\",  : \n",
      "  Query returned no data, check your input parameters!\n",
      "\n"
     ]
    },
    {
     "name": "stdout",
     "output_type": "stream",
     "text": [
      "downloading /tmp/data/NPN/phenor_npn_data_110_371_2007-01-01_2007-12-31.rds\n",
      "  |======================================================================| 100%\n"
     ]
    },
    {
     "name": "stderr",
     "output_type": "stream",
     "text": [
      "R[write to console]: No encoding supplied: defaulting to UTF-8.\n",
      "\n",
      "R[write to console]: Error in (function (species = 3, phenophase = 371, start = \"2000-01-01\",  : \n",
      "  Query returned no data, check your input parameters!\n",
      "\n"
     ]
    },
    {
     "name": "stdout",
     "output_type": "stream",
     "text": [
      "downloading /tmp/data/NPN/phenor_npn_data_110_373_2007-01-01_2007-12-31.rds\n",
      "  |======================================================================| 100%\n"
     ]
    },
    {
     "name": "stderr",
     "output_type": "stream",
     "text": [
      "R[write to console]: No encoding supplied: defaulting to UTF-8.\n",
      "\n",
      "R[write to console]: Error in (function (species = 3, phenophase = 371, start = \"2000-01-01\",  : \n",
      "  Query returned no data, check your input parameters!\n",
      "\n"
     ]
    },
    {
     "name": "stdout",
     "output_type": "stream",
     "text": [
      "downloading /tmp/data/NPN/phenor_npn_data_111_371_2007-01-01_2007-12-31.rds\n",
      "  |======================================================================| 100%\n"
     ]
    },
    {
     "name": "stderr",
     "output_type": "stream",
     "text": [
      "R[write to console]: No encoding supplied: defaulting to UTF-8.\n",
      "\n",
      "R[write to console]: Error in (function (species = 3, phenophase = 371, start = \"2000-01-01\",  : \n",
      "  Query returned no data, check your input parameters!\n",
      "\n"
     ]
    },
    {
     "name": "stdout",
     "output_type": "stream",
     "text": [
      "downloading /tmp/data/NPN/phenor_npn_data_111_373_2007-01-01_2007-12-31.rds\n",
      "  |======================================================================| 100%\n"
     ]
    },
    {
     "name": "stderr",
     "output_type": "stream",
     "text": [
      "R[write to console]: No encoding supplied: defaulting to UTF-8.\n",
      "\n",
      "R[write to console]: Error in (function (species = 3, phenophase = 371, start = \"2000-01-01\",  : \n",
      "  Query returned no data, check your input parameters!\n",
      "\n"
     ]
    },
    {
     "name": "stdout",
     "output_type": "stream",
     "text": [
      "downloading /tmp/data/NPN/phenor_npn_data_112_371_2007-01-01_2007-12-31.rds\n",
      "  |======================================================================| 100%\n"
     ]
    },
    {
     "name": "stderr",
     "output_type": "stream",
     "text": [
      "R[write to console]: No encoding supplied: defaulting to UTF-8.\n",
      "\n",
      "R[write to console]: Error in (function (species = 3, phenophase = 371, start = \"2000-01-01\",  : \n",
      "  Query returned no data, check your input parameters!\n",
      "\n"
     ]
    },
    {
     "name": "stdout",
     "output_type": "stream",
     "text": [
      "downloading /tmp/data/NPN/phenor_npn_data_112_373_2007-01-01_2007-12-31.rds\n",
      "  |======================================================================| 100%\n"
     ]
    },
    {
     "name": "stderr",
     "output_type": "stream",
     "text": [
      "R[write to console]: No encoding supplied: defaulting to UTF-8.\n",
      "\n",
      "R[write to console]: Error in (function (species = 3, phenophase = 371, start = \"2000-01-01\",  : \n",
      "  Query returned no data, check your input parameters!\n",
      "\n"
     ]
    },
    {
     "name": "stdout",
     "output_type": "stream",
     "text": [
      "downloading /tmp/data/NPN/phenor_npn_data_113_371_2007-01-01_2007-12-31.rds\n",
      "  |======================================================================| 100%\n"
     ]
    },
    {
     "name": "stderr",
     "output_type": "stream",
     "text": [
      "R[write to console]: No encoding supplied: defaulting to UTF-8.\n",
      "\n",
      "R[write to console]: Error in (function (species = 3, phenophase = 371, start = \"2000-01-01\",  : \n",
      "  Query returned no data, check your input parameters!\n",
      "\n"
     ]
    },
    {
     "name": "stdout",
     "output_type": "stream",
     "text": [
      "downloading /tmp/data/NPN/phenor_npn_data_113_373_2007-01-01_2007-12-31.rds\n",
      "  |======================================================================| 100%\n"
     ]
    },
    {
     "name": "stderr",
     "output_type": "stream",
     "text": [
      "R[write to console]: No encoding supplied: defaulting to UTF-8.\n",
      "\n",
      "R[write to console]: Error in (function (species = 3, phenophase = 371, start = \"2000-01-01\",  : \n",
      "  Query returned no data, check your input parameters!\n",
      "\n"
     ]
    },
    {
     "name": "stdout",
     "output_type": "stream",
     "text": [
      "downloading /tmp/data/NPN/phenor_npn_data_114_371_2007-01-01_2007-12-31.rds\n",
      "  |======================================================================| 100%\n"
     ]
    },
    {
     "name": "stderr",
     "output_type": "stream",
     "text": [
      "R[write to console]: No encoding supplied: defaulting to UTF-8.\n",
      "\n",
      "R[write to console]: Error in (function (species = 3, phenophase = 371, start = \"2000-01-01\",  : \n",
      "  Query returned no data, check your input parameters!\n",
      "\n"
     ]
    },
    {
     "name": "stdout",
     "output_type": "stream",
     "text": [
      "downloading /tmp/data/NPN/phenor_npn_data_114_373_2007-01-01_2007-12-31.rds\n",
      "  |======================================================================| 100%\n"
     ]
    },
    {
     "name": "stderr",
     "output_type": "stream",
     "text": [
      "R[write to console]: No encoding supplied: defaulting to UTF-8.\n",
      "\n",
      "R[write to console]: Error in (function (species = 3, phenophase = 371, start = \"2000-01-01\",  : \n",
      "  Query returned no data, check your input parameters!\n",
      "\n"
     ]
    },
    {
     "name": "stdout",
     "output_type": "stream",
     "text": [
      "downloading /tmp/data/NPN/phenor_npn_data_115_371_2007-01-01_2007-12-31.rds\n",
      "  |======================================================================| 100%\n"
     ]
    },
    {
     "name": "stderr",
     "output_type": "stream",
     "text": [
      "R[write to console]: No encoding supplied: defaulting to UTF-8.\n",
      "\n",
      "R[write to console]: Error in (function (species = 3, phenophase = 371, start = \"2000-01-01\",  : \n",
      "  Query returned no data, check your input parameters!\n",
      "\n"
     ]
    },
    {
     "name": "stdout",
     "output_type": "stream",
     "text": [
      "downloading /tmp/data/NPN/phenor_npn_data_115_373_2007-01-01_2007-12-31.rds\n",
      "  |======================================================================| 100%\n"
     ]
    },
    {
     "name": "stderr",
     "output_type": "stream",
     "text": [
      "R[write to console]: No encoding supplied: defaulting to UTF-8.\n",
      "\n",
      "R[write to console]: Error in (function (species = 3, phenophase = 371, start = \"2000-01-01\",  : \n",
      "  Query returned no data, check your input parameters!\n",
      "\n"
     ]
    },
    {
     "name": "stdout",
     "output_type": "stream",
     "text": [
      "downloading /tmp/data/NPN/phenor_npn_data_116_371_2007-01-01_2007-12-31.rds\n",
      "  |======================================================================| 100%\n"
     ]
    },
    {
     "name": "stderr",
     "output_type": "stream",
     "text": [
      "R[write to console]: No encoding supplied: defaulting to UTF-8.\n",
      "\n",
      "R[write to console]: Error in (function (species = 3, phenophase = 371, start = \"2000-01-01\",  : \n",
      "  Query returned no data, check your input parameters!\n",
      "\n"
     ]
    },
    {
     "name": "stdout",
     "output_type": "stream",
     "text": [
      "downloading /tmp/data/NPN/phenor_npn_data_116_373_2007-01-01_2007-12-31.rds\n",
      "  |======================================================================| 100%\n"
     ]
    },
    {
     "name": "stderr",
     "output_type": "stream",
     "text": [
      "R[write to console]: No encoding supplied: defaulting to UTF-8.\n",
      "\n",
      "R[write to console]: Error in (function (species = 3, phenophase = 371, start = \"2000-01-01\",  : \n",
      "  Query returned no data, check your input parameters!\n",
      "\n"
     ]
    },
    {
     "name": "stdout",
     "output_type": "stream",
     "text": [
      "downloading /tmp/data/NPN/phenor_npn_data_117_371_2007-01-01_2007-12-31.rds\n",
      "  |======================================================================| 100%\n"
     ]
    },
    {
     "name": "stderr",
     "output_type": "stream",
     "text": [
      "R[write to console]: No encoding supplied: defaulting to UTF-8.\n",
      "\n",
      "R[write to console]: Error in (function (species = 3, phenophase = 371, start = \"2000-01-01\",  : \n",
      "  Query returned no data, check your input parameters!\n",
      "\n"
     ]
    },
    {
     "name": "stdout",
     "output_type": "stream",
     "text": [
      "downloading /tmp/data/NPN/phenor_npn_data_117_373_2007-01-01_2007-12-31.rds\n",
      "  |======================================================================| 100%\n"
     ]
    },
    {
     "name": "stderr",
     "output_type": "stream",
     "text": [
      "R[write to console]: No encoding supplied: defaulting to UTF-8.\n",
      "\n",
      "R[write to console]: Error in (function (species = 3, phenophase = 371, start = \"2000-01-01\",  : \n",
      "  Query returned no data, check your input parameters!\n",
      "\n"
     ]
    },
    {
     "name": "stdout",
     "output_type": "stream",
     "text": [
      "downloading /tmp/data/NPN/phenor_npn_data_119_371_2007-01-01_2007-12-31.rds\n",
      "  |======================================================================| 100%\n"
     ]
    },
    {
     "name": "stderr",
     "output_type": "stream",
     "text": [
      "R[write to console]: No encoding supplied: defaulting to UTF-8.\n",
      "\n",
      "R[write to console]: Error in (function (species = 3, phenophase = 371, start = \"2000-01-01\",  : \n",
      "  Query returned no data, check your input parameters!\n",
      "\n"
     ]
    },
    {
     "name": "stdout",
     "output_type": "stream",
     "text": [
      "downloading /tmp/data/NPN/phenor_npn_data_119_373_2007-01-01_2007-12-31.rds\n",
      "  |======================================================================| 100%\n"
     ]
    },
    {
     "name": "stderr",
     "output_type": "stream",
     "text": [
      "R[write to console]: No encoding supplied: defaulting to UTF-8.\n",
      "\n",
      "R[write to console]: Error in (function (species = 3, phenophase = 371, start = \"2000-01-01\",  : \n",
      "  Query returned no data, check your input parameters!\n",
      "\n"
     ]
    },
    {
     "name": "stdout",
     "output_type": "stream",
     "text": [
      "downloading /tmp/data/NPN/phenor_npn_data_120_371_2007-01-01_2007-12-31.rds\n",
      "  |======================================================================| 100%\n"
     ]
    },
    {
     "name": "stderr",
     "output_type": "stream",
     "text": [
      "R[write to console]: No encoding supplied: defaulting to UTF-8.\n",
      "\n",
      "R[write to console]: Error in (function (species = 3, phenophase = 371, start = \"2000-01-01\",  : \n",
      "  Query returned no data, check your input parameters!\n",
      "\n"
     ]
    },
    {
     "name": "stdout",
     "output_type": "stream",
     "text": [
      "downloading /tmp/data/NPN/phenor_npn_data_120_373_2007-01-01_2007-12-31.rds\n",
      "  |======================================================================| 100%\n"
     ]
    },
    {
     "name": "stderr",
     "output_type": "stream",
     "text": [
      "R[write to console]: No encoding supplied: defaulting to UTF-8.\n",
      "\n",
      "R[write to console]: Error in (function (species = 3, phenophase = 371, start = \"2000-01-01\",  : \n",
      "  Query returned no data, check your input parameters!\n",
      "\n"
     ]
    },
    {
     "name": "stdout",
     "output_type": "stream",
     "text": [
      "downloading /tmp/data/NPN/phenor_npn_data_121_371_2007-01-01_2007-12-31.rds\n",
      "  |======================================================================| 100%\n"
     ]
    },
    {
     "name": "stderr",
     "output_type": "stream",
     "text": [
      "R[write to console]: No encoding supplied: defaulting to UTF-8.\n",
      "\n",
      "R[write to console]: Error in (function (species = 3, phenophase = 371, start = \"2000-01-01\",  : \n",
      "  Query returned no data, check your input parameters!\n",
      "\n"
     ]
    },
    {
     "name": "stdout",
     "output_type": "stream",
     "text": [
      "downloading /tmp/data/NPN/phenor_npn_data_121_373_2007-01-01_2007-12-31.rds\n",
      "  |======================================================================| 100%\n"
     ]
    },
    {
     "name": "stderr",
     "output_type": "stream",
     "text": [
      "R[write to console]: No encoding supplied: defaulting to UTF-8.\n",
      "\n",
      "R[write to console]: Error in (function (species = 3, phenophase = 371, start = \"2000-01-01\",  : \n",
      "  Query returned no data, check your input parameters!\n",
      "\n"
     ]
    },
    {
     "name": "stdout",
     "output_type": "stream",
     "text": [
      "downloading /tmp/data/NPN/phenor_npn_data_127_371_2007-01-01_2007-12-31.rds\n",
      "  |======================================================================| 100%\n"
     ]
    },
    {
     "name": "stderr",
     "output_type": "stream",
     "text": [
      "R[write to console]: No encoding supplied: defaulting to UTF-8.\n",
      "\n",
      "R[write to console]: Error in (function (species = 3, phenophase = 371, start = \"2000-01-01\",  : \n",
      "  Query returned no data, check your input parameters!\n",
      "\n"
     ]
    },
    {
     "name": "stdout",
     "output_type": "stream",
     "text": [
      "downloading /tmp/data/NPN/phenor_npn_data_127_373_2007-01-01_2007-12-31.rds\n",
      "  |======================================================================| 100%\n"
     ]
    },
    {
     "name": "stderr",
     "output_type": "stream",
     "text": [
      "R[write to console]: No encoding supplied: defaulting to UTF-8.\n",
      "\n",
      "R[write to console]: Error in (function (species = 3, phenophase = 371, start = \"2000-01-01\",  : \n",
      "  Query returned no data, check your input parameters!\n",
      "\n"
     ]
    },
    {
     "name": "stdout",
     "output_type": "stream",
     "text": [
      "downloading /tmp/data/NPN/phenor_npn_data_218_371_2007-01-01_2007-12-31.rds\n",
      "  |======================================================================| 100%\n"
     ]
    },
    {
     "name": "stderr",
     "output_type": "stream",
     "text": [
      "R[write to console]: No encoding supplied: defaulting to UTF-8.\n",
      "\n",
      "R[write to console]: Error in (function (species = 3, phenophase = 371, start = \"2000-01-01\",  : \n",
      "  Query returned no data, check your input parameters!\n",
      "\n"
     ]
    },
    {
     "name": "stdout",
     "output_type": "stream",
     "text": [
      "downloading /tmp/data/NPN/phenor_npn_data_218_373_2007-01-01_2007-12-31.rds\n",
      "  |======================================================================| 100%\n"
     ]
    },
    {
     "name": "stderr",
     "output_type": "stream",
     "text": [
      "R[write to console]: No encoding supplied: defaulting to UTF-8.\n",
      "\n",
      "R[write to console]: Error in (function (species = 3, phenophase = 371, start = \"2000-01-01\",  : \n",
      "  Query returned no data, check your input parameters!\n",
      "\n"
     ]
    },
    {
     "name": "stdout",
     "output_type": "stream",
     "text": [
      "downloading /tmp/data/NPN/phenor_npn_data_221_371_2007-01-01_2007-12-31.rds\n",
      "  |======================================================================| 100%\n"
     ]
    },
    {
     "name": "stderr",
     "output_type": "stream",
     "text": [
      "R[write to console]: No encoding supplied: defaulting to UTF-8.\n",
      "\n",
      "R[write to console]: Error in (function (species = 3, phenophase = 371, start = \"2000-01-01\",  : \n",
      "  Query returned no data, check your input parameters!\n",
      "\n"
     ]
    },
    {
     "name": "stdout",
     "output_type": "stream",
     "text": [
      "downloading /tmp/data/NPN/phenor_npn_data_221_373_2007-01-01_2007-12-31.rds\n",
      "  |======================================================================| 100%\n"
     ]
    },
    {
     "name": "stderr",
     "output_type": "stream",
     "text": [
      "R[write to console]: No encoding supplied: defaulting to UTF-8.\n",
      "\n",
      "R[write to console]: Error in (function (species = 3, phenophase = 371, start = \"2000-01-01\",  : \n",
      "  Query returned no data, check your input parameters!\n",
      "\n"
     ]
    },
    {
     "name": "stdout",
     "output_type": "stream",
     "text": [
      "downloading /tmp/data/NPN/phenor_npn_data_222_371_2007-01-01_2007-12-31.rds\n",
      "  |======================================================================| 100%\n"
     ]
    },
    {
     "name": "stderr",
     "output_type": "stream",
     "text": [
      "R[write to console]: No encoding supplied: defaulting to UTF-8.\n",
      "\n",
      "R[write to console]: Error in (function (species = 3, phenophase = 371, start = \"2000-01-01\",  : \n",
      "  Query returned no data, check your input parameters!\n",
      "\n"
     ]
    },
    {
     "name": "stdout",
     "output_type": "stream",
     "text": [
      "downloading /tmp/data/NPN/phenor_npn_data_222_373_2007-01-01_2007-12-31.rds\n",
      "  |======================================================================| 100%\n"
     ]
    },
    {
     "name": "stderr",
     "output_type": "stream",
     "text": [
      "R[write to console]: No encoding supplied: defaulting to UTF-8.\n",
      "\n",
      "R[write to console]: Error in (function (species = 3, phenophase = 371, start = \"2000-01-01\",  : \n",
      "  Query returned no data, check your input parameters!\n",
      "\n"
     ]
    },
    {
     "name": "stdout",
     "output_type": "stream",
     "text": [
      "downloading /tmp/data/NPN/phenor_npn_data_226_371_2007-01-01_2007-12-31.rds\n",
      "  |======================================================================| 100%\n"
     ]
    },
    {
     "name": "stderr",
     "output_type": "stream",
     "text": [
      "R[write to console]: No encoding supplied: defaulting to UTF-8.\n",
      "\n",
      "R[write to console]: Error in (function (species = 3, phenophase = 371, start = \"2000-01-01\",  : \n",
      "  Query returned no data, check your input parameters!\n",
      "\n"
     ]
    },
    {
     "name": "stdout",
     "output_type": "stream",
     "text": [
      "downloading /tmp/data/NPN/phenor_npn_data_226_373_2007-01-01_2007-12-31.rds\n",
      "  |======================================================================| 100%\n"
     ]
    },
    {
     "name": "stderr",
     "output_type": "stream",
     "text": [
      "R[write to console]: No encoding supplied: defaulting to UTF-8.\n",
      "\n",
      "R[write to console]: Error in (function (species = 3, phenophase = 371, start = \"2000-01-01\",  : \n",
      "  Query returned no data, check your input parameters!\n",
      "\n"
     ]
    },
    {
     "name": "stdout",
     "output_type": "stream",
     "text": [
      "downloading /tmp/data/NPN/phenor_npn_data_298_371_2007-01-01_2007-12-31.rds\n",
      "  |======================================================================| 100%\n"
     ]
    },
    {
     "name": "stderr",
     "output_type": "stream",
     "text": [
      "R[write to console]: No encoding supplied: defaulting to UTF-8.\n",
      "\n",
      "R[write to console]: Error in (function (species = 3, phenophase = 371, start = \"2000-01-01\",  : \n",
      "  Query returned no data, check your input parameters!\n",
      "\n"
     ]
    },
    {
     "name": "stdout",
     "output_type": "stream",
     "text": [
      "downloading /tmp/data/NPN/phenor_npn_data_298_373_2007-01-01_2007-12-31.rds\n",
      "  |======================================================================| 100%\n"
     ]
    },
    {
     "name": "stderr",
     "output_type": "stream",
     "text": [
      "R[write to console]: No encoding supplied: defaulting to UTF-8.\n",
      "\n",
      "R[write to console]: Error in (function (species = 3, phenophase = 371, start = \"2000-01-01\",  : \n",
      "  Query returned no data, check your input parameters!\n",
      "\n"
     ]
    },
    {
     "name": "stdout",
     "output_type": "stream",
     "text": [
      "downloading /tmp/data/NPN/phenor_npn_data_306_371_2007-01-01_2007-12-31.rds\n",
      "  |======================================================================| 100%\n"
     ]
    },
    {
     "name": "stderr",
     "output_type": "stream",
     "text": [
      "R[write to console]: No encoding supplied: defaulting to UTF-8.\n",
      "\n",
      "R[write to console]: Error in (function (species = 3, phenophase = 371, start = \"2000-01-01\",  : \n",
      "  Query returned no data, check your input parameters!\n",
      "\n"
     ]
    },
    {
     "name": "stdout",
     "output_type": "stream",
     "text": [
      "downloading /tmp/data/NPN/phenor_npn_data_306_373_2007-01-01_2007-12-31.rds\n",
      "  |======================================================================| 100%\n"
     ]
    },
    {
     "name": "stderr",
     "output_type": "stream",
     "text": [
      "R[write to console]: No encoding supplied: defaulting to UTF-8.\n",
      "\n",
      "R[write to console]: Error in (function (species = 3, phenophase = 371, start = \"2000-01-01\",  : \n",
      "  Query returned no data, check your input parameters!\n",
      "\n"
     ]
    },
    {
     "name": "stdout",
     "output_type": "stream",
     "text": [
      "downloading /tmp/data/NPN/phenor_npn_data_311_371_2007-01-01_2007-12-31.rds\n",
      "  |======================================================================| 100%\n"
     ]
    },
    {
     "name": "stderr",
     "output_type": "stream",
     "text": [
      "R[write to console]: No encoding supplied: defaulting to UTF-8.\n",
      "\n",
      "R[write to console]: Error in (function (species = 3, phenophase = 371, start = \"2000-01-01\",  : \n",
      "  Query returned no data, check your input parameters!\n",
      "\n"
     ]
    },
    {
     "name": "stdout",
     "output_type": "stream",
     "text": [
      "downloading /tmp/data/NPN/phenor_npn_data_311_373_2007-01-01_2007-12-31.rds\n",
      "  |======================================================================| 100%\n"
     ]
    },
    {
     "name": "stderr",
     "output_type": "stream",
     "text": [
      "R[write to console]: No encoding supplied: defaulting to UTF-8.\n",
      "\n",
      "R[write to console]: Error in (function (species = 3, phenophase = 371, start = \"2000-01-01\",  : \n",
      "  Query returned no data, check your input parameters!\n",
      "\n"
     ]
    },
    {
     "name": "stdout",
     "output_type": "stream",
     "text": [
      "downloading /tmp/data/NPN/phenor_npn_data_313_371_2007-01-01_2007-12-31.rds\n",
      "  |======================================================================| 100%\n"
     ]
    },
    {
     "name": "stderr",
     "output_type": "stream",
     "text": [
      "R[write to console]: No encoding supplied: defaulting to UTF-8.\n",
      "\n",
      "R[write to console]: Error in (function (species = 3, phenophase = 371, start = \"2000-01-01\",  : \n",
      "  Query returned no data, check your input parameters!\n",
      "\n"
     ]
    },
    {
     "name": "stdout",
     "output_type": "stream",
     "text": [
      "downloading /tmp/data/NPN/phenor_npn_data_313_373_2007-01-01_2007-12-31.rds\n",
      "  |======================================================================| 100%\n"
     ]
    },
    {
     "name": "stderr",
     "output_type": "stream",
     "text": [
      "R[write to console]: No encoding supplied: defaulting to UTF-8.\n",
      "\n",
      "R[write to console]: Error in (function (species = 3, phenophase = 371, start = \"2000-01-01\",  : \n",
      "  Query returned no data, check your input parameters!\n",
      "\n"
     ]
    },
    {
     "name": "stdout",
     "output_type": "stream",
     "text": [
      "downloading /tmp/data/NPN/phenor_npn_data_318_371_2007-01-01_2007-12-31.rds\n",
      "  |======================================================================| 100%\n"
     ]
    },
    {
     "name": "stderr",
     "output_type": "stream",
     "text": [
      "R[write to console]: No encoding supplied: defaulting to UTF-8.\n",
      "\n",
      "R[write to console]: Error in (function (species = 3, phenophase = 371, start = \"2000-01-01\",  : \n",
      "  Query returned no data, check your input parameters!\n",
      "\n"
     ]
    },
    {
     "name": "stdout",
     "output_type": "stream",
     "text": [
      "downloading /tmp/data/NPN/phenor_npn_data_318_373_2007-01-01_2007-12-31.rds\n",
      "  |======================================================================| 100%\n"
     ]
    },
    {
     "name": "stderr",
     "output_type": "stream",
     "text": [
      "R[write to console]: No encoding supplied: defaulting to UTF-8.\n",
      "\n",
      "R[write to console]: Error in (function (species = 3, phenophase = 371, start = \"2000-01-01\",  : \n",
      "  Query returned no data, check your input parameters!\n",
      "\n"
     ]
    },
    {
     "name": "stdout",
     "output_type": "stream",
     "text": [
      "downloading /tmp/data/NPN/phenor_npn_data_324_371_2007-01-01_2007-12-31.rds\n",
      "  |======================================================================| 100%\n"
     ]
    },
    {
     "name": "stderr",
     "output_type": "stream",
     "text": [
      "R[write to console]: No encoding supplied: defaulting to UTF-8.\n",
      "\n",
      "R[write to console]: Error in (function (species = 3, phenophase = 371, start = \"2000-01-01\",  : \n",
      "  Query returned no data, check your input parameters!\n",
      "\n"
     ]
    },
    {
     "name": "stdout",
     "output_type": "stream",
     "text": [
      "downloading /tmp/data/NPN/phenor_npn_data_324_373_2007-01-01_2007-12-31.rds\n",
      "  |======================================================================| 100%\n"
     ]
    },
    {
     "name": "stderr",
     "output_type": "stream",
     "text": [
      "R[write to console]: No encoding supplied: defaulting to UTF-8.\n",
      "\n",
      "R[write to console]: Error in (function (species = 3, phenophase = 371, start = \"2000-01-01\",  : \n",
      "  Query returned no data, check your input parameters!\n",
      "\n"
     ]
    },
    {
     "name": "stdout",
     "output_type": "stream",
     "text": [
      "downloading /tmp/data/NPN/phenor_npn_data_327_371_2007-01-01_2007-12-31.rds\n",
      "  |======================================================================| 100%\n"
     ]
    },
    {
     "name": "stderr",
     "output_type": "stream",
     "text": [
      "R[write to console]: No encoding supplied: defaulting to UTF-8.\n",
      "\n",
      "R[write to console]: Error in (function (species = 3, phenophase = 371, start = \"2000-01-01\",  : \n",
      "  Query returned no data, check your input parameters!\n",
      "\n"
     ]
    },
    {
     "name": "stdout",
     "output_type": "stream",
     "text": [
      "downloading /tmp/data/NPN/phenor_npn_data_327_373_2007-01-01_2007-12-31.rds\n",
      "  |======================================================================| 100%\n"
     ]
    },
    {
     "name": "stderr",
     "output_type": "stream",
     "text": [
      "R[write to console]: No encoding supplied: defaulting to UTF-8.\n",
      "\n",
      "R[write to console]: Error in (function (species = 3, phenophase = 371, start = \"2000-01-01\",  : \n",
      "  Query returned no data, check your input parameters!\n",
      "\n"
     ]
    },
    {
     "name": "stdout",
     "output_type": "stream",
     "text": [
      "downloading /tmp/data/NPN/phenor_npn_data_329_371_2007-01-01_2007-12-31.rds\n",
      "  |======================================================================| 100%\n"
     ]
    },
    {
     "name": "stderr",
     "output_type": "stream",
     "text": [
      "R[write to console]: No encoding supplied: defaulting to UTF-8.\n",
      "\n",
      "R[write to console]: Error in (function (species = 3, phenophase = 371, start = \"2000-01-01\",  : \n",
      "  Query returned no data, check your input parameters!\n",
      "\n"
     ]
    },
    {
     "name": "stdout",
     "output_type": "stream",
     "text": [
      "downloading /tmp/data/NPN/phenor_npn_data_329_373_2007-01-01_2007-12-31.rds\n",
      "  |======================================================================| 100%\n"
     ]
    },
    {
     "name": "stderr",
     "output_type": "stream",
     "text": [
      "R[write to console]: No encoding supplied: defaulting to UTF-8.\n",
      "\n",
      "R[write to console]: Error in (function (species = 3, phenophase = 371, start = \"2000-01-01\",  : \n",
      "  Query returned no data, check your input parameters!\n",
      "\n"
     ]
    },
    {
     "name": "stdout",
     "output_type": "stream",
     "text": [
      "downloading /tmp/data/NPN/phenor_npn_data_435_371_2007-01-01_2007-12-31.rds\n",
      "  |======================================================================| 100%\n"
     ]
    },
    {
     "name": "stderr",
     "output_type": "stream",
     "text": [
      "R[write to console]: No encoding supplied: defaulting to UTF-8.\n",
      "\n",
      "R[write to console]: Error in (function (species = 3, phenophase = 371, start = \"2000-01-01\",  : \n",
      "  Query returned no data, check your input parameters!\n",
      "\n"
     ]
    },
    {
     "name": "stdout",
     "output_type": "stream",
     "text": [
      "downloading /tmp/data/NPN/phenor_npn_data_435_373_2007-01-01_2007-12-31.rds\n",
      "  |======================================================================| 100%\n"
     ]
    },
    {
     "name": "stderr",
     "output_type": "stream",
     "text": [
      "R[write to console]: No encoding supplied: defaulting to UTF-8.\n",
      "\n",
      "R[write to console]: Error in (function (species = 3, phenophase = 371, start = \"2000-01-01\",  : \n",
      "  Query returned no data, check your input parameters!\n",
      "\n"
     ]
    },
    {
     "name": "stdout",
     "output_type": "stream",
     "text": [
      "downloading /tmp/data/NPN/phenor_npn_data_441_371_2007-01-01_2007-12-31.rds\n",
      "  |======================================================================| 100%\n"
     ]
    },
    {
     "name": "stderr",
     "output_type": "stream",
     "text": [
      "R[write to console]: No encoding supplied: defaulting to UTF-8.\n",
      "\n",
      "R[write to console]: Error in (function (species = 3, phenophase = 371, start = \"2000-01-01\",  : \n",
      "  Query returned no data, check your input parameters!\n",
      "\n"
     ]
    },
    {
     "name": "stdout",
     "output_type": "stream",
     "text": [
      "downloading /tmp/data/NPN/phenor_npn_data_441_373_2007-01-01_2007-12-31.rds\n",
      "  |======================================================================| 100%\n"
     ]
    },
    {
     "name": "stderr",
     "output_type": "stream",
     "text": [
      "R[write to console]: No encoding supplied: defaulting to UTF-8.\n",
      "\n",
      "R[write to console]: Error in (function (species = 3, phenophase = 371, start = \"2000-01-01\",  : \n",
      "  Query returned no data, check your input parameters!\n",
      "\n"
     ]
    },
    {
     "name": "stdout",
     "output_type": "stream",
     "text": [
      "downloading /tmp/data/NPN/phenor_npn_data_442_371_2007-01-01_2007-12-31.rds\n",
      "  |======================================================================| 100%\n"
     ]
    },
    {
     "name": "stderr",
     "output_type": "stream",
     "text": [
      "R[write to console]: No encoding supplied: defaulting to UTF-8.\n",
      "\n",
      "R[write to console]: Error in (function (species = 3, phenophase = 371, start = \"2000-01-01\",  : \n",
      "  Query returned no data, check your input parameters!\n",
      "\n"
     ]
    },
    {
     "name": "stdout",
     "output_type": "stream",
     "text": [
      "downloading /tmp/data/NPN/phenor_npn_data_442_373_2007-01-01_2007-12-31.rds\n",
      "  |======================================================================| 100%\n"
     ]
    },
    {
     "name": "stderr",
     "output_type": "stream",
     "text": [
      "R[write to console]: No encoding supplied: defaulting to UTF-8.\n",
      "\n",
      "R[write to console]: Error in (function (species = 3, phenophase = 371, start = \"2000-01-01\",  : \n",
      "  Query returned no data, check your input parameters!\n",
      "\n"
     ]
    },
    {
     "name": "stdout",
     "output_type": "stream",
     "text": [
      "downloading /tmp/data/NPN/phenor_npn_data_443_371_2007-01-01_2007-12-31.rds\n",
      "  |======================================================================| 100%\n"
     ]
    },
    {
     "name": "stderr",
     "output_type": "stream",
     "text": [
      "R[write to console]: No encoding supplied: defaulting to UTF-8.\n",
      "\n",
      "R[write to console]: Error in (function (species = 3, phenophase = 371, start = \"2000-01-01\",  : \n",
      "  Query returned no data, check your input parameters!\n",
      "\n"
     ]
    },
    {
     "name": "stdout",
     "output_type": "stream",
     "text": [
      "downloading /tmp/data/NPN/phenor_npn_data_443_373_2007-01-01_2007-12-31.rds\n",
      "  |======================================================================| 100%\n"
     ]
    },
    {
     "name": "stderr",
     "output_type": "stream",
     "text": [
      "R[write to console]: No encoding supplied: defaulting to UTF-8.\n",
      "\n",
      "R[write to console]: Error in (function (species = 3, phenophase = 371, start = \"2000-01-01\",  : \n",
      "  Query returned no data, check your input parameters!\n",
      "\n"
     ]
    },
    {
     "name": "stdout",
     "output_type": "stream",
     "text": [
      "downloading /tmp/data/NPN/phenor_npn_data_701_371_2007-01-01_2007-12-31.rds\n",
      "  |======================================================================| 100%\n"
     ]
    },
    {
     "name": "stderr",
     "output_type": "stream",
     "text": [
      "R[write to console]: No encoding supplied: defaulting to UTF-8.\n",
      "\n",
      "R[write to console]: Error in (function (species = 3, phenophase = 371, start = \"2000-01-01\",  : \n",
      "  Query returned no data, check your input parameters!\n",
      "\n"
     ]
    },
    {
     "name": "stdout",
     "output_type": "stream",
     "text": [
      "downloading /tmp/data/NPN/phenor_npn_data_701_373_2007-01-01_2007-12-31.rds\n",
      "  |======================================================================| 100%\n"
     ]
    },
    {
     "name": "stderr",
     "output_type": "stream",
     "text": [
      "R[write to console]: No encoding supplied: defaulting to UTF-8.\n",
      "\n",
      "R[write to console]: Error in (function (species = 3, phenophase = 371, start = \"2000-01-01\",  : \n",
      "  Query returned no data, check your input parameters!\n",
      "\n"
     ]
    },
    {
     "name": "stdout",
     "output_type": "stream",
     "text": [
      "downloading /tmp/data/NPN/phenor_npn_data_702_371_2007-01-01_2007-12-31.rds\n",
      "  |======================================================================| 100%\n"
     ]
    },
    {
     "name": "stderr",
     "output_type": "stream",
     "text": [
      "R[write to console]: No encoding supplied: defaulting to UTF-8.\n",
      "\n",
      "R[write to console]: Error in (function (species = 3, phenophase = 371, start = \"2000-01-01\",  : \n",
      "  Query returned no data, check your input parameters!\n",
      "\n"
     ]
    },
    {
     "name": "stdout",
     "output_type": "stream",
     "text": [
      "downloading /tmp/data/NPN/phenor_npn_data_702_373_2007-01-01_2007-12-31.rds\n",
      "  |======================================================================| 100%\n"
     ]
    },
    {
     "name": "stderr",
     "output_type": "stream",
     "text": [
      "R[write to console]: No encoding supplied: defaulting to UTF-8.\n",
      "\n",
      "R[write to console]: Error in (function (species = 3, phenophase = 371, start = \"2000-01-01\",  : \n",
      "  Query returned no data, check your input parameters!\n",
      "\n"
     ]
    },
    {
     "name": "stdout",
     "output_type": "stream",
     "text": [
      "downloading /tmp/data/NPN/phenor_npn_data_705_371_2007-01-01_2007-12-31.rds\n",
      "  |======================================================================| 100%\n"
     ]
    },
    {
     "name": "stderr",
     "output_type": "stream",
     "text": [
      "R[write to console]: No encoding supplied: defaulting to UTF-8.\n",
      "\n",
      "R[write to console]: Error in (function (species = 3, phenophase = 371, start = \"2000-01-01\",  : \n",
      "  Query returned no data, check your input parameters!\n",
      "\n"
     ]
    },
    {
     "name": "stdout",
     "output_type": "stream",
     "text": [
      "downloading /tmp/data/NPN/phenor_npn_data_705_373_2007-01-01_2007-12-31.rds\n",
      "  |======================================================================| 100%\n"
     ]
    },
    {
     "name": "stderr",
     "output_type": "stream",
     "text": [
      "R[write to console]: No encoding supplied: defaulting to UTF-8.\n",
      "\n",
      "R[write to console]: Error in (function (species = 3, phenophase = 371, start = \"2000-01-01\",  : \n",
      "  Query returned no data, check your input parameters!\n",
      "\n"
     ]
    },
    {
     "name": "stdout",
     "output_type": "stream",
     "text": [
      "downloading /tmp/data/NPN/phenor_npn_data_706_371_2007-01-01_2007-12-31.rds\n",
      "  |======================================================================| 100%\n"
     ]
    },
    {
     "name": "stderr",
     "output_type": "stream",
     "text": [
      "R[write to console]: No encoding supplied: defaulting to UTF-8.\n",
      "\n",
      "R[write to console]: Error in (function (species = 3, phenophase = 371, start = \"2000-01-01\",  : \n",
      "  Query returned no data, check your input parameters!\n",
      "\n"
     ]
    },
    {
     "name": "stdout",
     "output_type": "stream",
     "text": [
      "downloading /tmp/data/NPN/phenor_npn_data_706_373_2007-01-01_2007-12-31.rds\n",
      "  |======================================================================| 100%\n"
     ]
    },
    {
     "name": "stderr",
     "output_type": "stream",
     "text": [
      "R[write to console]: No encoding supplied: defaulting to UTF-8.\n",
      "\n",
      "R[write to console]: Error in (function (species = 3, phenophase = 371, start = \"2000-01-01\",  : \n",
      "  Query returned no data, check your input parameters!\n",
      "\n"
     ]
    },
    {
     "name": "stdout",
     "output_type": "stream",
     "text": [
      "downloading /tmp/data/NPN/phenor_npn_data_707_371_2007-01-01_2007-12-31.rds\n",
      "  |======================================================================| 100%\n"
     ]
    },
    {
     "name": "stderr",
     "output_type": "stream",
     "text": [
      "R[write to console]: No encoding supplied: defaulting to UTF-8.\n",
      "\n",
      "R[write to console]: Error in (function (species = 3, phenophase = 371, start = \"2000-01-01\",  : \n",
      "  Query returned no data, check your input parameters!\n",
      "\n"
     ]
    },
    {
     "name": "stdout",
     "output_type": "stream",
     "text": [
      "downloading /tmp/data/NPN/phenor_npn_data_707_373_2007-01-01_2007-12-31.rds\n",
      "  |======================================================================| 100%\n"
     ]
    },
    {
     "name": "stderr",
     "output_type": "stream",
     "text": [
      "R[write to console]: No encoding supplied: defaulting to UTF-8.\n",
      "\n",
      "R[write to console]: Error in (function (species = 3, phenophase = 371, start = \"2000-01-01\",  : \n",
      "  Query returned no data, check your input parameters!\n",
      "\n"
     ]
    },
    {
     "name": "stdout",
     "output_type": "stream",
     "text": [
      "downloading /tmp/data/NPN/phenor_npn_data_716_371_2007-01-01_2007-12-31.rds\n",
      "  |======================================================================| 100%\n"
     ]
    },
    {
     "name": "stderr",
     "output_type": "stream",
     "text": [
      "R[write to console]: No encoding supplied: defaulting to UTF-8.\n",
      "\n",
      "R[write to console]: Error in (function (species = 3, phenophase = 371, start = \"2000-01-01\",  : \n",
      "  Query returned no data, check your input parameters!\n",
      "\n"
     ]
    },
    {
     "name": "stdout",
     "output_type": "stream",
     "text": [
      "downloading /tmp/data/NPN/phenor_npn_data_716_373_2007-01-01_2007-12-31.rds\n",
      "  |======================================================================| 100%\n"
     ]
    },
    {
     "name": "stderr",
     "output_type": "stream",
     "text": [
      "R[write to console]: No encoding supplied: defaulting to UTF-8.\n",
      "\n",
      "R[write to console]: Error in (function (species = 3, phenophase = 371, start = \"2000-01-01\",  : \n",
      "  Query returned no data, check your input parameters!\n",
      "\n"
     ]
    },
    {
     "name": "stdout",
     "output_type": "stream",
     "text": [
      "downloading /tmp/data/NPN/phenor_npn_data_721_371_2007-01-01_2007-12-31.rds\n",
      "  |======================================================================| 100%\n"
     ]
    },
    {
     "name": "stderr",
     "output_type": "stream",
     "text": [
      "R[write to console]: No encoding supplied: defaulting to UTF-8.\n",
      "\n",
      "R[write to console]: Error in (function (species = 3, phenophase = 371, start = \"2000-01-01\",  : \n",
      "  Query returned no data, check your input parameters!\n",
      "\n"
     ]
    },
    {
     "name": "stdout",
     "output_type": "stream",
     "text": [
      "downloading /tmp/data/NPN/phenor_npn_data_721_373_2007-01-01_2007-12-31.rds\n",
      "  |======================================================================| 100%\n"
     ]
    },
    {
     "name": "stderr",
     "output_type": "stream",
     "text": [
      "R[write to console]: No encoding supplied: defaulting to UTF-8.\n",
      "\n",
      "R[write to console]: Error in (function (species = 3, phenophase = 371, start = \"2000-01-01\",  : \n",
      "  Query returned no data, check your input parameters!\n",
      "\n"
     ]
    },
    {
     "name": "stdout",
     "output_type": "stream",
     "text": [
      "downloading /tmp/data/NPN/phenor_npn_data_722_371_2007-01-01_2007-12-31.rds\n",
      "  |======================================================================| 100%\n"
     ]
    },
    {
     "name": "stderr",
     "output_type": "stream",
     "text": [
      "R[write to console]: No encoding supplied: defaulting to UTF-8.\n",
      "\n",
      "R[write to console]: Error in (function (species = 3, phenophase = 371, start = \"2000-01-01\",  : \n",
      "  Query returned no data, check your input parameters!\n",
      "\n"
     ]
    },
    {
     "name": "stdout",
     "output_type": "stream",
     "text": [
      "downloading /tmp/data/NPN/phenor_npn_data_722_373_2007-01-01_2007-12-31.rds\n",
      "  |======================================================================| 100%\n"
     ]
    },
    {
     "name": "stderr",
     "output_type": "stream",
     "text": [
      "R[write to console]: No encoding supplied: defaulting to UTF-8.\n",
      "\n",
      "R[write to console]: Error in (function (species = 3, phenophase = 371, start = \"2000-01-01\",  : \n",
      "  Query returned no data, check your input parameters!\n",
      "\n"
     ]
    },
    {
     "name": "stdout",
     "output_type": "stream",
     "text": [
      "downloading /tmp/data/NPN/phenor_npn_data_743_371_2007-01-01_2007-12-31.rds\n",
      "  |======================================================================| 100%\n"
     ]
    },
    {
     "name": "stderr",
     "output_type": "stream",
     "text": [
      "R[write to console]: No encoding supplied: defaulting to UTF-8.\n",
      "\n",
      "R[write to console]: Error in (function (species = 3, phenophase = 371, start = \"2000-01-01\",  : \n",
      "  Query returned no data, check your input parameters!\n",
      "\n"
     ]
    },
    {
     "name": "stdout",
     "output_type": "stream",
     "text": [
      "downloading /tmp/data/NPN/phenor_npn_data_743_373_2007-01-01_2007-12-31.rds\n",
      "  |======================================================================| 100%\n"
     ]
    },
    {
     "name": "stderr",
     "output_type": "stream",
     "text": [
      "R[write to console]: No encoding supplied: defaulting to UTF-8.\n",
      "\n",
      "R[write to console]: Error in (function (species = 3, phenophase = 371, start = \"2000-01-01\",  : \n",
      "  Query returned no data, check your input parameters!\n",
      "\n"
     ]
    },
    {
     "name": "stdout",
     "output_type": "stream",
     "text": [
      "downloading /tmp/data/NPN/phenor_npn_data_760_371_2007-01-01_2007-12-31.rds\n",
      "  |======================================================================| 100%\n"
     ]
    },
    {
     "name": "stderr",
     "output_type": "stream",
     "text": [
      "R[write to console]: No encoding supplied: defaulting to UTF-8.\n",
      "\n",
      "R[write to console]: Error in (function (species = 3, phenophase = 371, start = \"2000-01-01\",  : \n",
      "  Query returned no data, check your input parameters!\n",
      "\n"
     ]
    },
    {
     "name": "stdout",
     "output_type": "stream",
     "text": [
      "downloading /tmp/data/NPN/phenor_npn_data_760_373_2007-01-01_2007-12-31.rds\n",
      "  |======================================================================| 100%\n"
     ]
    },
    {
     "name": "stderr",
     "output_type": "stream",
     "text": [
      "R[write to console]: No encoding supplied: defaulting to UTF-8.\n",
      "\n",
      "R[write to console]: Error in (function (species = 3, phenophase = 371, start = \"2000-01-01\",  : \n",
      "  Query returned no data, check your input parameters!\n",
      "\n"
     ]
    },
    {
     "name": "stdout",
     "output_type": "stream",
     "text": [
      "downloading /tmp/data/NPN/phenor_npn_data_761_371_2007-01-01_2007-12-31.rds\n",
      "  |======================================================================| 100%\n"
     ]
    },
    {
     "name": "stderr",
     "output_type": "stream",
     "text": [
      "R[write to console]: No encoding supplied: defaulting to UTF-8.\n",
      "\n",
      "R[write to console]: Error in (function (species = 3, phenophase = 371, start = \"2000-01-01\",  : \n",
      "  Query returned no data, check your input parameters!\n",
      "\n"
     ]
    },
    {
     "name": "stdout",
     "output_type": "stream",
     "text": [
      "downloading /tmp/data/NPN/phenor_npn_data_761_373_2007-01-01_2007-12-31.rds\n",
      "  |======================================================================| 100%\n"
     ]
    },
    {
     "name": "stderr",
     "output_type": "stream",
     "text": [
      "R[write to console]: No encoding supplied: defaulting to UTF-8.\n",
      "\n",
      "R[write to console]: Error in (function (species = 3, phenophase = 371, start = \"2000-01-01\",  : \n",
      "  Query returned no data, check your input parameters!\n",
      "\n"
     ]
    },
    {
     "name": "stdout",
     "output_type": "stream",
     "text": [
      "downloading /tmp/data/NPN/phenor_npn_data_766_371_2007-01-01_2007-12-31.rds\n",
      "  |======================================================================| 100%\n"
     ]
    },
    {
     "name": "stderr",
     "output_type": "stream",
     "text": [
      "R[write to console]: No encoding supplied: defaulting to UTF-8.\n",
      "\n",
      "R[write to console]: Error in (function (species = 3, phenophase = 371, start = \"2000-01-01\",  : \n",
      "  Query returned no data, check your input parameters!\n",
      "\n"
     ]
    },
    {
     "name": "stdout",
     "output_type": "stream",
     "text": [
      "downloading /tmp/data/NPN/phenor_npn_data_766_373_2007-01-01_2007-12-31.rds\n",
      "  |======================================================================| 100%\n"
     ]
    },
    {
     "name": "stderr",
     "output_type": "stream",
     "text": [
      "R[write to console]: No encoding supplied: defaulting to UTF-8.\n",
      "\n",
      "R[write to console]: Error in (function (species = 3, phenophase = 371, start = \"2000-01-01\",  : \n",
      "  Query returned no data, check your input parameters!\n",
      "\n"
     ]
    },
    {
     "name": "stdout",
     "output_type": "stream",
     "text": [
      "downloading /tmp/data/NPN/phenor_npn_data_769_371_2007-01-01_2007-12-31.rds\n",
      "  |======================================================================| 100%\n"
     ]
    },
    {
     "name": "stderr",
     "output_type": "stream",
     "text": [
      "R[write to console]: No encoding supplied: defaulting to UTF-8.\n",
      "\n",
      "R[write to console]: Error in (function (species = 3, phenophase = 371, start = \"2000-01-01\",  : \n",
      "  Query returned no data, check your input parameters!\n",
      "\n"
     ]
    },
    {
     "name": "stdout",
     "output_type": "stream",
     "text": [
      "downloading /tmp/data/NPN/phenor_npn_data_769_373_2007-01-01_2007-12-31.rds\n",
      "  |======================================================================| 100%\n"
     ]
    },
    {
     "name": "stderr",
     "output_type": "stream",
     "text": [
      "R[write to console]: No encoding supplied: defaulting to UTF-8.\n",
      "\n",
      "R[write to console]: Error in (function (species = 3, phenophase = 371, start = \"2000-01-01\",  : \n",
      "  Query returned no data, check your input parameters!\n",
      "\n"
     ]
    },
    {
     "name": "stdout",
     "output_type": "stream",
     "text": [
      "downloading /tmp/data/NPN/phenor_npn_data_785_371_2007-01-01_2007-12-31.rds\n",
      "  |======================================================================| 100%\n"
     ]
    },
    {
     "name": "stderr",
     "output_type": "stream",
     "text": [
      "R[write to console]: No encoding supplied: defaulting to UTF-8.\n",
      "\n",
      "R[write to console]: Error in (function (species = 3, phenophase = 371, start = \"2000-01-01\",  : \n",
      "  Query returned no data, check your input parameters!\n",
      "\n"
     ]
    },
    {
     "name": "stdout",
     "output_type": "stream",
     "text": [
      "downloading /tmp/data/NPN/phenor_npn_data_785_373_2007-01-01_2007-12-31.rds\n",
      "  |======================================================================| 100%\n"
     ]
    },
    {
     "name": "stderr",
     "output_type": "stream",
     "text": [
      "R[write to console]: No encoding supplied: defaulting to UTF-8.\n",
      "\n",
      "R[write to console]: Error in (function (species = 3, phenophase = 371, start = \"2000-01-01\",  : \n",
      "  Query returned no data, check your input parameters!\n",
      "\n"
     ]
    },
    {
     "name": "stdout",
     "output_type": "stream",
     "text": [
      "downloading /tmp/data/NPN/phenor_npn_data_790_371_2007-01-01_2007-12-31.rds\n",
      "  |======================================================================| 100%\n"
     ]
    },
    {
     "name": "stderr",
     "output_type": "stream",
     "text": [
      "R[write to console]: No encoding supplied: defaulting to UTF-8.\n",
      "\n",
      "R[write to console]: Error in (function (species = 3, phenophase = 371, start = \"2000-01-01\",  : \n",
      "  Query returned no data, check your input parameters!\n",
      "\n"
     ]
    },
    {
     "name": "stdout",
     "output_type": "stream",
     "text": [
      "downloading /tmp/data/NPN/phenor_npn_data_790_373_2007-01-01_2007-12-31.rds\n",
      "  |======================================================================| 100%\n"
     ]
    },
    {
     "name": "stderr",
     "output_type": "stream",
     "text": [
      "R[write to console]: No encoding supplied: defaulting to UTF-8.\n",
      "\n",
      "R[write to console]: Error in (function (species = 3, phenophase = 371, start = \"2000-01-01\",  : \n",
      "  Query returned no data, check your input parameters!\n",
      "\n"
     ]
    },
    {
     "name": "stdout",
     "output_type": "stream",
     "text": [
      "downloading /tmp/data/NPN/phenor_npn_data_793_371_2007-01-01_2007-12-31.rds\n",
      "  |======================================================================| 100%\n"
     ]
    },
    {
     "name": "stderr",
     "output_type": "stream",
     "text": [
      "R[write to console]: No encoding supplied: defaulting to UTF-8.\n",
      "\n",
      "R[write to console]: Error in (function (species = 3, phenophase = 371, start = \"2000-01-01\",  : \n",
      "  Query returned no data, check your input parameters!\n",
      "\n"
     ]
    },
    {
     "name": "stdout",
     "output_type": "stream",
     "text": [
      "downloading /tmp/data/NPN/phenor_npn_data_793_373_2007-01-01_2007-12-31.rds\n",
      "  |======================================================================| 100%\n"
     ]
    },
    {
     "name": "stderr",
     "output_type": "stream",
     "text": [
      "R[write to console]: No encoding supplied: defaulting to UTF-8.\n",
      "\n",
      "R[write to console]: Error in (function (species = 3, phenophase = 371, start = \"2000-01-01\",  : \n",
      "  Query returned no data, check your input parameters!\n",
      "\n"
     ]
    },
    {
     "name": "stdout",
     "output_type": "stream",
     "text": [
      "downloading /tmp/data/NPN/phenor_npn_data_830_371_2007-01-01_2007-12-31.rds\n",
      "  |======================================================================| 100%\n"
     ]
    },
    {
     "name": "stderr",
     "output_type": "stream",
     "text": [
      "R[write to console]: No encoding supplied: defaulting to UTF-8.\n",
      "\n",
      "R[write to console]: Error in (function (species = 3, phenophase = 371, start = \"2000-01-01\",  : \n",
      "  Query returned no data, check your input parameters!\n",
      "\n"
     ]
    },
    {
     "name": "stdout",
     "output_type": "stream",
     "text": [
      "downloading /tmp/data/NPN/phenor_npn_data_830_373_2007-01-01_2007-12-31.rds\n",
      "  |======================================================================| 100%\n"
     ]
    },
    {
     "name": "stderr",
     "output_type": "stream",
     "text": [
      "R[write to console]: No encoding supplied: defaulting to UTF-8.\n",
      "\n",
      "R[write to console]: Error in (function (species = 3, phenophase = 371, start = \"2000-01-01\",  : \n",
      "  Query returned no data, check your input parameters!\n",
      "\n"
     ]
    },
    {
     "name": "stdout",
     "output_type": "stream",
     "text": [
      "downloading /tmp/data/NPN/phenor_npn_data_857_371_2007-01-01_2007-12-31.rds\n",
      "  |======================================================================| 100%\n"
     ]
    },
    {
     "name": "stderr",
     "output_type": "stream",
     "text": [
      "R[write to console]: No encoding supplied: defaulting to UTF-8.\n",
      "\n",
      "R[write to console]: Error in (function (species = 3, phenophase = 371, start = \"2000-01-01\",  : \n",
      "  Query returned no data, check your input parameters!\n",
      "\n"
     ]
    },
    {
     "name": "stdout",
     "output_type": "stream",
     "text": [
      "downloading /tmp/data/NPN/phenor_npn_data_857_373_2007-01-01_2007-12-31.rds\n",
      "  |======================================================================| 100%\n"
     ]
    },
    {
     "name": "stderr",
     "output_type": "stream",
     "text": [
      "R[write to console]: No encoding supplied: defaulting to UTF-8.\n",
      "\n",
      "R[write to console]: Error in (function (species = 3, phenophase = 371, start = \"2000-01-01\",  : \n",
      "  Query returned no data, check your input parameters!\n",
      "\n"
     ]
    },
    {
     "name": "stdout",
     "output_type": "stream",
     "text": [
      "downloading /tmp/data/NPN/phenor_npn_data_860_371_2007-01-01_2007-12-31.rds\n",
      "  |======================================================================| 100%\n"
     ]
    },
    {
     "name": "stderr",
     "output_type": "stream",
     "text": [
      "R[write to console]: No encoding supplied: defaulting to UTF-8.\n",
      "\n",
      "R[write to console]: Error in (function (species = 3, phenophase = 371, start = \"2000-01-01\",  : \n",
      "  Query returned no data, check your input parameters!\n",
      "\n"
     ]
    },
    {
     "name": "stdout",
     "output_type": "stream",
     "text": [
      "downloading /tmp/data/NPN/phenor_npn_data_860_373_2007-01-01_2007-12-31.rds\n",
      "  |======================================================================| 100%\n"
     ]
    },
    {
     "name": "stderr",
     "output_type": "stream",
     "text": [
      "R[write to console]: No encoding supplied: defaulting to UTF-8.\n",
      "\n",
      "R[write to console]: Error in (function (species = 3, phenophase = 371, start = \"2000-01-01\",  : \n",
      "  Query returned no data, check your input parameters!\n",
      "\n"
     ]
    },
    {
     "name": "stdout",
     "output_type": "stream",
     "text": [
      "downloading /tmp/data/NPN/phenor_npn_data_861_371_2007-01-01_2007-12-31.rds\n",
      "  |======================================================================| 100%\n"
     ]
    },
    {
     "name": "stderr",
     "output_type": "stream",
     "text": [
      "R[write to console]: No encoding supplied: defaulting to UTF-8.\n",
      "\n",
      "R[write to console]: Error in (function (species = 3, phenophase = 371, start = \"2000-01-01\",  : \n",
      "  Query returned no data, check your input parameters!\n",
      "\n"
     ]
    },
    {
     "name": "stdout",
     "output_type": "stream",
     "text": [
      "downloading /tmp/data/NPN/phenor_npn_data_861_373_2007-01-01_2007-12-31.rds\n",
      "  |======================================================================| 100%\n"
     ]
    },
    {
     "name": "stderr",
     "output_type": "stream",
     "text": [
      "R[write to console]: No encoding supplied: defaulting to UTF-8.\n",
      "\n",
      "R[write to console]: Error in (function (species = 3, phenophase = 371, start = \"2000-01-01\",  : \n",
      "  Query returned no data, check your input parameters!\n",
      "\n"
     ]
    },
    {
     "name": "stdout",
     "output_type": "stream",
     "text": [
      "downloading /tmp/data/NPN/phenor_npn_data_877_371_2007-01-01_2007-12-31.rds\n",
      "  |======================================================================| 100%\n"
     ]
    },
    {
     "name": "stderr",
     "output_type": "stream",
     "text": [
      "R[write to console]: No encoding supplied: defaulting to UTF-8.\n",
      "\n",
      "R[write to console]: Error in (function (species = 3, phenophase = 371, start = \"2000-01-01\",  : \n",
      "  Query returned no data, check your input parameters!\n",
      "\n"
     ]
    },
    {
     "name": "stdout",
     "output_type": "stream",
     "text": [
      "downloading /tmp/data/NPN/phenor_npn_data_877_373_2007-01-01_2007-12-31.rds\n",
      "  |======================================================================| 100%\n"
     ]
    },
    {
     "name": "stderr",
     "output_type": "stream",
     "text": [
      "R[write to console]: No encoding supplied: defaulting to UTF-8.\n",
      "\n",
      "R[write to console]: Error in (function (species = 3, phenophase = 371, start = \"2000-01-01\",  : \n",
      "  Query returned no data, check your input parameters!\n",
      "\n"
     ]
    },
    {
     "name": "stdout",
     "output_type": "stream",
     "text": [
      "downloading /tmp/data/NPN/phenor_npn_data_878_371_2007-01-01_2007-12-31.rds\n",
      "  |======================================================================| 100%\n"
     ]
    },
    {
     "name": "stderr",
     "output_type": "stream",
     "text": [
      "R[write to console]: No encoding supplied: defaulting to UTF-8.\n",
      "\n",
      "R[write to console]: Error in (function (species = 3, phenophase = 371, start = \"2000-01-01\",  : \n",
      "  Query returned no data, check your input parameters!\n",
      "\n"
     ]
    },
    {
     "name": "stdout",
     "output_type": "stream",
     "text": [
      "downloading /tmp/data/NPN/phenor_npn_data_878_373_2007-01-01_2007-12-31.rds\n",
      "  |======================================================================| 100%\n"
     ]
    },
    {
     "name": "stderr",
     "output_type": "stream",
     "text": [
      "R[write to console]: No encoding supplied: defaulting to UTF-8.\n",
      "\n",
      "R[write to console]: Error in (function (species = 3, phenophase = 371, start = \"2000-01-01\",  : \n",
      "  Query returned no data, check your input parameters!\n",
      "\n"
     ]
    },
    {
     "name": "stdout",
     "output_type": "stream",
     "text": [
      "downloading /tmp/data/NPN/phenor_npn_data_879_371_2007-01-01_2007-12-31.rds\n",
      "  |======================================================================| 100%\n"
     ]
    },
    {
     "name": "stderr",
     "output_type": "stream",
     "text": [
      "R[write to console]: No encoding supplied: defaulting to UTF-8.\n",
      "\n",
      "R[write to console]: Error in (function (species = 3, phenophase = 371, start = \"2000-01-01\",  : \n",
      "  Query returned no data, check your input parameters!\n",
      "\n"
     ]
    },
    {
     "name": "stdout",
     "output_type": "stream",
     "text": [
      "downloading /tmp/data/NPN/phenor_npn_data_879_373_2007-01-01_2007-12-31.rds\n",
      "  |======================================================================| 100%\n"
     ]
    },
    {
     "name": "stderr",
     "output_type": "stream",
     "text": [
      "R[write to console]: No encoding supplied: defaulting to UTF-8.\n",
      "\n",
      "R[write to console]: Error in (function (species = 3, phenophase = 371, start = \"2000-01-01\",  : \n",
      "  Query returned no data, check your input parameters!\n",
      "\n"
     ]
    },
    {
     "name": "stdout",
     "output_type": "stream",
     "text": [
      "downloading /tmp/data/NPN/phenor_npn_data_880_371_2007-01-01_2007-12-31.rds\n",
      "  |======================================================================| 100%\n"
     ]
    },
    {
     "name": "stderr",
     "output_type": "stream",
     "text": [
      "R[write to console]: No encoding supplied: defaulting to UTF-8.\n",
      "\n",
      "R[write to console]: Error in (function (species = 3, phenophase = 371, start = \"2000-01-01\",  : \n",
      "  Query returned no data, check your input parameters!\n",
      "\n"
     ]
    },
    {
     "name": "stdout",
     "output_type": "stream",
     "text": [
      "downloading /tmp/data/NPN/phenor_npn_data_880_373_2007-01-01_2007-12-31.rds\n",
      "  |======================================================================| 100%\n"
     ]
    },
    {
     "name": "stderr",
     "output_type": "stream",
     "text": [
      "R[write to console]: No encoding supplied: defaulting to UTF-8.\n",
      "\n",
      "R[write to console]: Error in (function (species = 3, phenophase = 371, start = \"2000-01-01\",  : \n",
      "  Query returned no data, check your input parameters!\n",
      "\n"
     ]
    },
    {
     "name": "stdout",
     "output_type": "stream",
     "text": [
      "downloading /tmp/data/NPN/phenor_npn_data_887_371_2007-01-01_2007-12-31.rds\n",
      "  |======================================================================| 100%\n"
     ]
    },
    {
     "name": "stderr",
     "output_type": "stream",
     "text": [
      "R[write to console]: No encoding supplied: defaulting to UTF-8.\n",
      "\n",
      "R[write to console]: Error in (function (species = 3, phenophase = 371, start = \"2000-01-01\",  : \n",
      "  Query returned no data, check your input parameters!\n",
      "\n"
     ]
    },
    {
     "name": "stdout",
     "output_type": "stream",
     "text": [
      "downloading /tmp/data/NPN/phenor_npn_data_887_373_2007-01-01_2007-12-31.rds\n",
      "  |======================================================================| 100%\n"
     ]
    },
    {
     "name": "stderr",
     "output_type": "stream",
     "text": [
      "R[write to console]: No encoding supplied: defaulting to UTF-8.\n",
      "\n",
      "R[write to console]: Error in (function (species = 3, phenophase = 371, start = \"2000-01-01\",  : \n",
      "  Query returned no data, check your input parameters!\n",
      "\n"
     ]
    },
    {
     "name": "stdout",
     "output_type": "stream",
     "text": [
      "downloading /tmp/data/NPN/phenor_npn_data_895_371_2007-01-01_2007-12-31.rds\n",
      "  |======================================================================| 100%\n"
     ]
    },
    {
     "name": "stderr",
     "output_type": "stream",
     "text": [
      "R[write to console]: No encoding supplied: defaulting to UTF-8.\n",
      "\n",
      "R[write to console]: Error in (function (species = 3, phenophase = 371, start = \"2000-01-01\",  : \n",
      "  Query returned no data, check your input parameters!\n",
      "\n"
     ]
    },
    {
     "name": "stdout",
     "output_type": "stream",
     "text": [
      "downloading /tmp/data/NPN/phenor_npn_data_895_373_2007-01-01_2007-12-31.rds\n",
      "  |======================================================================| 100%\n"
     ]
    },
    {
     "name": "stderr",
     "output_type": "stream",
     "text": [
      "R[write to console]: No encoding supplied: defaulting to UTF-8.\n",
      "\n",
      "R[write to console]: Error in (function (species = 3, phenophase = 371, start = \"2000-01-01\",  : \n",
      "  Query returned no data, check your input parameters!\n",
      "\n"
     ]
    },
    {
     "name": "stdout",
     "output_type": "stream",
     "text": [
      "downloading /tmp/data/NPN/phenor_npn_data_903_371_2007-01-01_2007-12-31.rds\n",
      "  |======================================================================| 100%\n"
     ]
    },
    {
     "name": "stderr",
     "output_type": "stream",
     "text": [
      "R[write to console]: No encoding supplied: defaulting to UTF-8.\n",
      "\n",
      "R[write to console]: Error in (function (species = 3, phenophase = 371, start = \"2000-01-01\",  : \n",
      "  Query returned no data, check your input parameters!\n",
      "\n"
     ]
    },
    {
     "name": "stdout",
     "output_type": "stream",
     "text": [
      "downloading /tmp/data/NPN/phenor_npn_data_903_373_2007-01-01_2007-12-31.rds\n",
      "  |======================================================================| 100%\n"
     ]
    },
    {
     "name": "stderr",
     "output_type": "stream",
     "text": [
      "R[write to console]: No encoding supplied: defaulting to UTF-8.\n",
      "\n",
      "R[write to console]: Error in (function (species = 3, phenophase = 371, start = \"2000-01-01\",  : \n",
      "  Query returned no data, check your input parameters!\n",
      "\n"
     ]
    },
    {
     "name": "stdout",
     "output_type": "stream",
     "text": [
      "downloading /tmp/data/NPN/phenor_npn_data_904_371_2007-01-01_2007-12-31.rds\n",
      "  |======================================================================| 100%\n"
     ]
    },
    {
     "name": "stderr",
     "output_type": "stream",
     "text": [
      "R[write to console]: No encoding supplied: defaulting to UTF-8.\n",
      "\n",
      "R[write to console]: Error in (function (species = 3, phenophase = 371, start = \"2000-01-01\",  : \n",
      "  Query returned no data, check your input parameters!\n",
      "\n"
     ]
    },
    {
     "name": "stdout",
     "output_type": "stream",
     "text": [
      "downloading /tmp/data/NPN/phenor_npn_data_904_373_2007-01-01_2007-12-31.rds\n",
      "  |======================================================================| 100%\n"
     ]
    },
    {
     "name": "stderr",
     "output_type": "stream",
     "text": [
      "R[write to console]: No encoding supplied: defaulting to UTF-8.\n",
      "\n",
      "R[write to console]: Error in (function (species = 3, phenophase = 371, start = \"2000-01-01\",  : \n",
      "  Query returned no data, check your input parameters!\n",
      "\n"
     ]
    },
    {
     "name": "stdout",
     "output_type": "stream",
     "text": [
      "downloading /tmp/data/NPN/phenor_npn_data_905_371_2007-01-01_2007-12-31.rds\n",
      "  |======================================================================| 100%\n"
     ]
    },
    {
     "name": "stderr",
     "output_type": "stream",
     "text": [
      "R[write to console]: No encoding supplied: defaulting to UTF-8.\n",
      "\n",
      "R[write to console]: Error in (function (species = 3, phenophase = 371, start = \"2000-01-01\",  : \n",
      "  Query returned no data, check your input parameters!\n",
      "\n"
     ]
    },
    {
     "name": "stdout",
     "output_type": "stream",
     "text": [
      "downloading /tmp/data/NPN/phenor_npn_data_905_373_2007-01-01_2007-12-31.rds\n",
      "  |======================================================================| 100%\n"
     ]
    },
    {
     "name": "stderr",
     "output_type": "stream",
     "text": [
      "R[write to console]: No encoding supplied: defaulting to UTF-8.\n",
      "\n",
      "R[write to console]: Error in (function (species = 3, phenophase = 371, start = \"2000-01-01\",  : \n",
      "  Query returned no data, check your input parameters!\n",
      "\n"
     ]
    },
    {
     "name": "stdout",
     "output_type": "stream",
     "text": [
      "downloading /tmp/data/NPN/phenor_npn_data_907_371_2007-01-01_2007-12-31.rds\n",
      "  |======================================================================| 100%\n"
     ]
    },
    {
     "name": "stderr",
     "output_type": "stream",
     "text": [
      "R[write to console]: No encoding supplied: defaulting to UTF-8.\n",
      "\n",
      "R[write to console]: Error in (function (species = 3, phenophase = 371, start = \"2000-01-01\",  : \n",
      "  Query returned no data, check your input parameters!\n",
      "\n"
     ]
    },
    {
     "name": "stdout",
     "output_type": "stream",
     "text": [
      "downloading /tmp/data/NPN/phenor_npn_data_907_373_2007-01-01_2007-12-31.rds\n",
      "  |======================================================================| 100%\n"
     ]
    },
    {
     "name": "stderr",
     "output_type": "stream",
     "text": [
      "R[write to console]: No encoding supplied: defaulting to UTF-8.\n",
      "\n",
      "R[write to console]: Error in (function (species = 3, phenophase = 371, start = \"2000-01-01\",  : \n",
      "  Query returned no data, check your input parameters!\n",
      "\n"
     ]
    },
    {
     "name": "stdout",
     "output_type": "stream",
     "text": [
      "downloading /tmp/data/NPN/phenor_npn_data_909_371_2007-01-01_2007-12-31.rds\n",
      "  |======================================================================| 100%\n"
     ]
    },
    {
     "name": "stderr",
     "output_type": "stream",
     "text": [
      "R[write to console]: No encoding supplied: defaulting to UTF-8.\n",
      "\n",
      "R[write to console]: Error in (function (species = 3, phenophase = 371, start = \"2000-01-01\",  : \n",
      "  Query returned no data, check your input parameters!\n",
      "\n"
     ]
    },
    {
     "name": "stdout",
     "output_type": "stream",
     "text": [
      "downloading /tmp/data/NPN/phenor_npn_data_909_373_2007-01-01_2007-12-31.rds\n",
      "  |======================================================================| 100%\n"
     ]
    },
    {
     "name": "stderr",
     "output_type": "stream",
     "text": [
      "R[write to console]: No encoding supplied: defaulting to UTF-8.\n",
      "\n",
      "R[write to console]: Error in (function (species = 3, phenophase = 371, start = \"2000-01-01\",  : \n",
      "  Query returned no data, check your input parameters!\n",
      "\n"
     ]
    },
    {
     "name": "stdout",
     "output_type": "stream",
     "text": [
      "downloading /tmp/data/NPN/phenor_npn_data_924_371_2007-01-01_2007-12-31.rds\n",
      "  |======================================================================| 100%\n"
     ]
    },
    {
     "name": "stderr",
     "output_type": "stream",
     "text": [
      "R[write to console]: No encoding supplied: defaulting to UTF-8.\n",
      "\n",
      "R[write to console]: Error in (function (species = 3, phenophase = 371, start = \"2000-01-01\",  : \n",
      "  Query returned no data, check your input parameters!\n",
      "\n"
     ]
    },
    {
     "name": "stdout",
     "output_type": "stream",
     "text": [
      "downloading /tmp/data/NPN/phenor_npn_data_924_373_2007-01-01_2007-12-31.rds\n",
      "  |======================================================================| 100%\n"
     ]
    },
    {
     "name": "stderr",
     "output_type": "stream",
     "text": [
      "R[write to console]: No encoding supplied: defaulting to UTF-8.\n",
      "\n",
      "R[write to console]: Error in (function (species = 3, phenophase = 371, start = \"2000-01-01\",  : \n",
      "  Query returned no data, check your input parameters!\n",
      "\n"
     ]
    },
    {
     "name": "stdout",
     "output_type": "stream",
     "text": [
      "downloading /tmp/data/NPN/phenor_npn_data_925_371_2007-01-01_2007-12-31.rds\n",
      "  |======================================================================| 100%\n"
     ]
    },
    {
     "name": "stderr",
     "output_type": "stream",
     "text": [
      "R[write to console]: No encoding supplied: defaulting to UTF-8.\n",
      "\n",
      "R[write to console]: Error in (function (species = 3, phenophase = 371, start = \"2000-01-01\",  : \n",
      "  Query returned no data, check your input parameters!\n",
      "\n"
     ]
    },
    {
     "name": "stdout",
     "output_type": "stream",
     "text": [
      "downloading /tmp/data/NPN/phenor_npn_data_925_373_2007-01-01_2007-12-31.rds\n",
      "  |======================================================================| 100%\n"
     ]
    },
    {
     "name": "stderr",
     "output_type": "stream",
     "text": [
      "R[write to console]: No encoding supplied: defaulting to UTF-8.\n",
      "\n",
      "R[write to console]: Error in (function (species = 3, phenophase = 371, start = \"2000-01-01\",  : \n",
      "  Query returned no data, check your input parameters!\n",
      "\n"
     ]
    },
    {
     "name": "stdout",
     "output_type": "stream",
     "text": [
      "downloading /tmp/data/NPN/phenor_npn_data_933_371_2007-01-01_2007-12-31.rds\n",
      "  |======================================================================| 100%\n"
     ]
    },
    {
     "name": "stderr",
     "output_type": "stream",
     "text": [
      "R[write to console]: No encoding supplied: defaulting to UTF-8.\n",
      "\n",
      "R[write to console]: Error in (function (species = 3, phenophase = 371, start = \"2000-01-01\",  : \n",
      "  Query returned no data, check your input parameters!\n",
      "\n"
     ]
    },
    {
     "name": "stdout",
     "output_type": "stream",
     "text": [
      "downloading /tmp/data/NPN/phenor_npn_data_933_373_2007-01-01_2007-12-31.rds\n",
      "  |======================================================================| 100%\n"
     ]
    },
    {
     "name": "stderr",
     "output_type": "stream",
     "text": [
      "R[write to console]: No encoding supplied: defaulting to UTF-8.\n",
      "\n",
      "R[write to console]: Error in (function (species = 3, phenophase = 371, start = \"2000-01-01\",  : \n",
      "  Query returned no data, check your input parameters!\n",
      "\n"
     ]
    },
    {
     "name": "stdout",
     "output_type": "stream",
     "text": [
      "downloading /tmp/data/NPN/phenor_npn_data_979_371_2007-01-01_2007-12-31.rds\n",
      "  |======================================================================| 100%\n"
     ]
    },
    {
     "name": "stderr",
     "output_type": "stream",
     "text": [
      "R[write to console]: No encoding supplied: defaulting to UTF-8.\n",
      "\n",
      "R[write to console]: Error in (function (species = 3, phenophase = 371, start = \"2000-01-01\",  : \n",
      "  Query returned no data, check your input parameters!\n",
      "\n"
     ]
    },
    {
     "name": "stdout",
     "output_type": "stream",
     "text": [
      "downloading /tmp/data/NPN/phenor_npn_data_979_373_2007-01-01_2007-12-31.rds\n",
      "  |======================================================================| 100%\n"
     ]
    },
    {
     "name": "stderr",
     "output_type": "stream",
     "text": [
      "R[write to console]: No encoding supplied: defaulting to UTF-8.\n",
      "\n",
      "R[write to console]: Error in (function (species = 3, phenophase = 371, start = \"2000-01-01\",  : \n",
      "  Query returned no data, check your input parameters!\n",
      "\n"
     ]
    },
    {
     "name": "stdout",
     "output_type": "stream",
     "text": [
      "downloading /tmp/data/NPN/phenor_npn_data_980_371_2007-01-01_2007-12-31.rds\n",
      "  |======================================================================| 100%\n"
     ]
    },
    {
     "name": "stderr",
     "output_type": "stream",
     "text": [
      "R[write to console]: No encoding supplied: defaulting to UTF-8.\n",
      "\n",
      "R[write to console]: Error in (function (species = 3, phenophase = 371, start = \"2000-01-01\",  : \n",
      "  Query returned no data, check your input parameters!\n",
      "\n"
     ]
    },
    {
     "name": "stdout",
     "output_type": "stream",
     "text": [
      "downloading /tmp/data/NPN/phenor_npn_data_980_373_2007-01-01_2007-12-31.rds\n",
      "  |======================================================================| 100%\n"
     ]
    },
    {
     "name": "stderr",
     "output_type": "stream",
     "text": [
      "R[write to console]: No encoding supplied: defaulting to UTF-8.\n",
      "\n",
      "R[write to console]: Error in (function (species = 3, phenophase = 371, start = \"2000-01-01\",  : \n",
      "  Query returned no data, check your input parameters!\n",
      "\n"
     ]
    },
    {
     "name": "stdout",
     "output_type": "stream",
     "text": [
      "downloading /tmp/data/NPN/phenor_npn_data_981_371_2007-01-01_2007-12-31.rds\n",
      "  |======================================================================| 100%\n"
     ]
    },
    {
     "name": "stderr",
     "output_type": "stream",
     "text": [
      "R[write to console]: No encoding supplied: defaulting to UTF-8.\n",
      "\n",
      "R[write to console]: Error in (function (species = 3, phenophase = 371, start = \"2000-01-01\",  : \n",
      "  Query returned no data, check your input parameters!\n",
      "\n"
     ]
    },
    {
     "name": "stdout",
     "output_type": "stream",
     "text": [
      "downloading /tmp/data/NPN/phenor_npn_data_981_373_2007-01-01_2007-12-31.rds\n",
      "  |======================================================================| 100%\n"
     ]
    },
    {
     "name": "stderr",
     "output_type": "stream",
     "text": [
      "R[write to console]: No encoding supplied: defaulting to UTF-8.\n",
      "\n",
      "R[write to console]: Error in (function (species = 3, phenophase = 371, start = \"2000-01-01\",  : \n",
      "  Query returned no data, check your input parameters!\n",
      "\n"
     ]
    },
    {
     "name": "stdout",
     "output_type": "stream",
     "text": [
      "downloading /tmp/data/NPN/phenor_npn_data_985_371_2007-01-01_2007-12-31.rds\n",
      "  |======================================================================| 100%\n"
     ]
    },
    {
     "name": "stderr",
     "output_type": "stream",
     "text": [
      "R[write to console]: No encoding supplied: defaulting to UTF-8.\n",
      "\n",
      "R[write to console]: Error in (function (species = 3, phenophase = 371, start = \"2000-01-01\",  : \n",
      "  Query returned no data, check your input parameters!\n",
      "\n"
     ]
    },
    {
     "name": "stdout",
     "output_type": "stream",
     "text": [
      "downloading /tmp/data/NPN/phenor_npn_data_985_373_2007-01-01_2007-12-31.rds\n",
      "  |======================================================================| 100%\n"
     ]
    },
    {
     "name": "stderr",
     "output_type": "stream",
     "text": [
      "R[write to console]: No encoding supplied: defaulting to UTF-8.\n",
      "\n",
      "R[write to console]: Error in (function (species = 3, phenophase = 371, start = \"2000-01-01\",  : \n",
      "  Query returned no data, check your input parameters!\n",
      "\n"
     ]
    },
    {
     "name": "stdout",
     "output_type": "stream",
     "text": [
      "downloading /tmp/data/NPN/phenor_npn_data_995_371_2007-01-01_2007-12-31.rds\n",
      "  |======================================================================| 100%\n"
     ]
    },
    {
     "name": "stderr",
     "output_type": "stream",
     "text": [
      "R[write to console]: No encoding supplied: defaulting to UTF-8.\n",
      "\n",
      "R[write to console]: Error in (function (species = 3, phenophase = 371, start = \"2000-01-01\",  : \n",
      "  Query returned no data, check your input parameters!\n",
      "\n"
     ]
    },
    {
     "name": "stdout",
     "output_type": "stream",
     "text": [
      "downloading /tmp/data/NPN/phenor_npn_data_995_373_2007-01-01_2007-12-31.rds\n",
      "  |======================================================================| 100%\n"
     ]
    },
    {
     "name": "stderr",
     "output_type": "stream",
     "text": [
      "R[write to console]: No encoding supplied: defaulting to UTF-8.\n",
      "\n",
      "R[write to console]: Error in (function (species = 3, phenophase = 371, start = \"2000-01-01\",  : \n",
      "  Query returned no data, check your input parameters!\n",
      "\n"
     ]
    },
    {
     "name": "stdout",
     "output_type": "stream",
     "text": [
      "downloading /tmp/data/NPN/phenor_npn_data_1003_371_2007-01-01_2007-12-31.rds\n",
      "  |======================================================================| 100%\n"
     ]
    },
    {
     "name": "stderr",
     "output_type": "stream",
     "text": [
      "R[write to console]: No encoding supplied: defaulting to UTF-8.\n",
      "\n",
      "R[write to console]: Error in (function (species = 3, phenophase = 371, start = \"2000-01-01\",  : \n",
      "  Query returned no data, check your input parameters!\n",
      "\n"
     ]
    },
    {
     "name": "stdout",
     "output_type": "stream",
     "text": [
      "downloading /tmp/data/NPN/phenor_npn_data_1003_373_2007-01-01_2007-12-31.rds\n",
      "  |======================================================================| 100%\n"
     ]
    },
    {
     "name": "stderr",
     "output_type": "stream",
     "text": [
      "R[write to console]: No encoding supplied: defaulting to UTF-8.\n",
      "\n",
      "R[write to console]: Error in (function (species = 3, phenophase = 371, start = \"2000-01-01\",  : \n",
      "  Query returned no data, check your input parameters!\n",
      "\n"
     ]
    },
    {
     "name": "stdout",
     "output_type": "stream",
     "text": [
      "downloading /tmp/data/NPN/phenor_npn_data_1011_371_2007-01-01_2007-12-31.rds\n",
      "  |======================================================================| 100%\n"
     ]
    },
    {
     "name": "stderr",
     "output_type": "stream",
     "text": [
      "R[write to console]: No encoding supplied: defaulting to UTF-8.\n",
      "\n",
      "R[write to console]: Error in (function (species = 3, phenophase = 371, start = \"2000-01-01\",  : \n",
      "  Query returned no data, check your input parameters!\n",
      "\n"
     ]
    },
    {
     "name": "stdout",
     "output_type": "stream",
     "text": [
      "downloading /tmp/data/NPN/phenor_npn_data_1011_373_2007-01-01_2007-12-31.rds\n",
      "  |======================================================================| 100%\n"
     ]
    },
    {
     "name": "stderr",
     "output_type": "stream",
     "text": [
      "R[write to console]: No encoding supplied: defaulting to UTF-8.\n",
      "\n",
      "R[write to console]: Error in (function (species = 3, phenophase = 371, start = \"2000-01-01\",  : \n",
      "  Query returned no data, check your input parameters!\n",
      "\n"
     ]
    },
    {
     "name": "stdout",
     "output_type": "stream",
     "text": [
      "downloading /tmp/data/NPN/phenor_npn_data_1055_371_2007-01-01_2007-12-31.rds\n",
      "  |======================================================================| 100%\n"
     ]
    },
    {
     "name": "stderr",
     "output_type": "stream",
     "text": [
      "R[write to console]: No encoding supplied: defaulting to UTF-8.\n",
      "\n",
      "R[write to console]: Error in (function (species = 3, phenophase = 371, start = \"2000-01-01\",  : \n",
      "  Query returned no data, check your input parameters!\n",
      "\n"
     ]
    },
    {
     "name": "stdout",
     "output_type": "stream",
     "text": [
      "downloading /tmp/data/NPN/phenor_npn_data_1055_373_2007-01-01_2007-12-31.rds\n",
      "  |======================================================================| 100%\n"
     ]
    },
    {
     "name": "stderr",
     "output_type": "stream",
     "text": [
      "R[write to console]: No encoding supplied: defaulting to UTF-8.\n",
      "\n",
      "R[write to console]: Error in (function (species = 3, phenophase = 371, start = \"2000-01-01\",  : \n",
      "  Query returned no data, check your input parameters!\n",
      "\n"
     ]
    },
    {
     "name": "stdout",
     "output_type": "stream",
     "text": [
      "downloading /tmp/data/NPN/phenor_npn_data_1057_371_2007-01-01_2007-12-31.rds\n",
      "  |======================================================================| 100%\n"
     ]
    },
    {
     "name": "stderr",
     "output_type": "stream",
     "text": [
      "R[write to console]: No encoding supplied: defaulting to UTF-8.\n",
      "\n",
      "R[write to console]: Error in (function (species = 3, phenophase = 371, start = \"2000-01-01\",  : \n",
      "  Query returned no data, check your input parameters!\n",
      "\n"
     ]
    },
    {
     "name": "stdout",
     "output_type": "stream",
     "text": [
      "downloading /tmp/data/NPN/phenor_npn_data_1057_373_2007-01-01_2007-12-31.rds\n",
      "  |======================================================================| 100%\n"
     ]
    },
    {
     "name": "stderr",
     "output_type": "stream",
     "text": [
      "R[write to console]: No encoding supplied: defaulting to UTF-8.\n",
      "\n",
      "R[write to console]: Error in (function (species = 3, phenophase = 371, start = \"2000-01-01\",  : \n",
      "  Query returned no data, check your input parameters!\n",
      "\n"
     ]
    },
    {
     "name": "stdout",
     "output_type": "stream",
     "text": [
      "downloading /tmp/data/NPN/phenor_npn_data_1058_371_2007-01-01_2007-12-31.rds\n",
      "  |======================================================================| 100%\n"
     ]
    },
    {
     "name": "stderr",
     "output_type": "stream",
     "text": [
      "R[write to console]: No encoding supplied: defaulting to UTF-8.\n",
      "\n",
      "R[write to console]: Error in (function (species = 3, phenophase = 371, start = \"2000-01-01\",  : \n",
      "  Query returned no data, check your input parameters!\n",
      "\n"
     ]
    },
    {
     "name": "stdout",
     "output_type": "stream",
     "text": [
      "downloading /tmp/data/NPN/phenor_npn_data_1058_373_2007-01-01_2007-12-31.rds\n",
      "  |======================================================================| 100%\n"
     ]
    },
    {
     "name": "stderr",
     "output_type": "stream",
     "text": [
      "R[write to console]: No encoding supplied: defaulting to UTF-8.\n",
      "\n",
      "R[write to console]: Error in (function (species = 3, phenophase = 371, start = \"2000-01-01\",  : \n",
      "  Query returned no data, check your input parameters!\n",
      "\n"
     ]
    },
    {
     "name": "stdout",
     "output_type": "stream",
     "text": [
      "downloading /tmp/data/NPN/phenor_npn_data_1067_371_2007-01-01_2007-12-31.rds\n",
      "  |======================================================================| 100%\n"
     ]
    },
    {
     "name": "stderr",
     "output_type": "stream",
     "text": [
      "R[write to console]: No encoding supplied: defaulting to UTF-8.\n",
      "\n",
      "R[write to console]: Error in (function (species = 3, phenophase = 371, start = \"2000-01-01\",  : \n",
      "  Query returned no data, check your input parameters!\n",
      "\n"
     ]
    },
    {
     "name": "stdout",
     "output_type": "stream",
     "text": [
      "downloading /tmp/data/NPN/phenor_npn_data_1067_373_2007-01-01_2007-12-31.rds\n",
      "  |======================================================================| 100%\n"
     ]
    },
    {
     "name": "stderr",
     "output_type": "stream",
     "text": [
      "R[write to console]: No encoding supplied: defaulting to UTF-8.\n",
      "\n",
      "R[write to console]: Error in (function (species = 3, phenophase = 371, start = \"2000-01-01\",  : \n",
      "  Query returned no data, check your input parameters!\n",
      "\n"
     ]
    },
    {
     "name": "stdout",
     "output_type": "stream",
     "text": [
      "downloading /tmp/data/NPN/phenor_npn_data_1068_371_2007-01-01_2007-12-31.rds\n",
      "  |======================================================================| 100%\n"
     ]
    },
    {
     "name": "stderr",
     "output_type": "stream",
     "text": [
      "R[write to console]: No encoding supplied: defaulting to UTF-8.\n",
      "\n",
      "R[write to console]: Error in (function (species = 3, phenophase = 371, start = \"2000-01-01\",  : \n",
      "  Query returned no data, check your input parameters!\n",
      "\n"
     ]
    },
    {
     "name": "stdout",
     "output_type": "stream",
     "text": [
      "downloading /tmp/data/NPN/phenor_npn_data_1068_373_2007-01-01_2007-12-31.rds\n",
      "  |======================================================================| 100%\n"
     ]
    },
    {
     "name": "stderr",
     "output_type": "stream",
     "text": [
      "R[write to console]: No encoding supplied: defaulting to UTF-8.\n",
      "\n",
      "R[write to console]: Error in (function (species = 3, phenophase = 371, start = \"2000-01-01\",  : \n",
      "  Query returned no data, check your input parameters!\n",
      "\n"
     ]
    },
    {
     "name": "stdout",
     "output_type": "stream",
     "text": [
      "downloading /tmp/data/NPN/phenor_npn_data_1069_371_2007-01-01_2007-12-31.rds\n",
      "  |======================================================================| 100%\n"
     ]
    },
    {
     "name": "stderr",
     "output_type": "stream",
     "text": [
      "R[write to console]: No encoding supplied: defaulting to UTF-8.\n",
      "\n",
      "R[write to console]: Error in (function (species = 3, phenophase = 371, start = \"2000-01-01\",  : \n",
      "  Query returned no data, check your input parameters!\n",
      "\n"
     ]
    },
    {
     "name": "stdout",
     "output_type": "stream",
     "text": [
      "downloading /tmp/data/NPN/phenor_npn_data_1069_373_2007-01-01_2007-12-31.rds\n",
      "  |======================================================================| 100%\n"
     ]
    },
    {
     "name": "stderr",
     "output_type": "stream",
     "text": [
      "R[write to console]: No encoding supplied: defaulting to UTF-8.\n",
      "\n",
      "R[write to console]: Error in (function (species = 3, phenophase = 371, start = \"2000-01-01\",  : \n",
      "  Query returned no data, check your input parameters!\n",
      "\n"
     ]
    },
    {
     "name": "stdout",
     "output_type": "stream",
     "text": [
      "downloading /tmp/data/NPN/phenor_npn_data_1160_371_2007-01-01_2007-12-31.rds\n",
      "  |======================================================================| 100%\n"
     ]
    },
    {
     "name": "stderr",
     "output_type": "stream",
     "text": [
      "R[write to console]: No encoding supplied: defaulting to UTF-8.\n",
      "\n",
      "R[write to console]: Error in (function (species = 3, phenophase = 371, start = \"2000-01-01\",  : \n",
      "  Query returned no data, check your input parameters!\n",
      "\n"
     ]
    },
    {
     "name": "stdout",
     "output_type": "stream",
     "text": [
      "downloading /tmp/data/NPN/phenor_npn_data_1160_373_2007-01-01_2007-12-31.rds\n",
      "  |======================================================================| 100%\n"
     ]
    },
    {
     "name": "stderr",
     "output_type": "stream",
     "text": [
      "R[write to console]: No encoding supplied: defaulting to UTF-8.\n",
      "\n",
      "R[write to console]: Error in (function (species = 3, phenophase = 371, start = \"2000-01-01\",  : \n",
      "  Query returned no data, check your input parameters!\n",
      "\n"
     ]
    },
    {
     "name": "stdout",
     "output_type": "stream",
     "text": [
      "downloading /tmp/data/NPN/phenor_npn_data_1166_371_2007-01-01_2007-12-31.rds\n",
      "  |======================================================================| 100%\n"
     ]
    },
    {
     "name": "stderr",
     "output_type": "stream",
     "text": [
      "R[write to console]: No encoding supplied: defaulting to UTF-8.\n",
      "\n",
      "R[write to console]: Error in (function (species = 3, phenophase = 371, start = \"2000-01-01\",  : \n",
      "  Query returned no data, check your input parameters!\n",
      "\n"
     ]
    },
    {
     "name": "stdout",
     "output_type": "stream",
     "text": [
      "downloading /tmp/data/NPN/phenor_npn_data_1166_373_2007-01-01_2007-12-31.rds\n",
      "  |======================================================================| 100%\n"
     ]
    },
    {
     "name": "stderr",
     "output_type": "stream",
     "text": [
      "R[write to console]: No encoding supplied: defaulting to UTF-8.\n",
      "\n",
      "R[write to console]: Error in (function (species = 3, phenophase = 371, start = \"2000-01-01\",  : \n",
      "  Query returned no data, check your input parameters!\n",
      "\n"
     ]
    },
    {
     "name": "stdout",
     "output_type": "stream",
     "text": [
      "downloading /tmp/data/NPN/phenor_npn_data_1170_371_2007-01-01_2007-12-31.rds\n",
      "  |======================================================================| 100%\n"
     ]
    },
    {
     "name": "stderr",
     "output_type": "stream",
     "text": [
      "R[write to console]: No encoding supplied: defaulting to UTF-8.\n",
      "\n",
      "R[write to console]: Error in (function (species = 3, phenophase = 371, start = \"2000-01-01\",  : \n",
      "  Query returned no data, check your input parameters!\n",
      "\n"
     ]
    },
    {
     "name": "stdout",
     "output_type": "stream",
     "text": [
      "downloading /tmp/data/NPN/phenor_npn_data_1170_373_2007-01-01_2007-12-31.rds\n",
      "  |======================================================================| 100%\n"
     ]
    },
    {
     "name": "stderr",
     "output_type": "stream",
     "text": [
      "R[write to console]: No encoding supplied: defaulting to UTF-8.\n",
      "\n",
      "R[write to console]: Error in (function (species = 3, phenophase = 371, start = \"2000-01-01\",  : \n",
      "  Query returned no data, check your input parameters!\n",
      "\n"
     ]
    },
    {
     "name": "stdout",
     "output_type": "stream",
     "text": [
      "downloading /tmp/data/NPN/phenor_npn_data_1178_371_2007-01-01_2007-12-31.rds\n",
      "  |======================================================================| 100%\n"
     ]
    },
    {
     "name": "stderr",
     "output_type": "stream",
     "text": [
      "R[write to console]: No encoding supplied: defaulting to UTF-8.\n",
      "\n",
      "R[write to console]: Error in (function (species = 3, phenophase = 371, start = \"2000-01-01\",  : \n",
      "  Query returned no data, check your input parameters!\n",
      "\n"
     ]
    },
    {
     "name": "stdout",
     "output_type": "stream",
     "text": [
      "downloading /tmp/data/NPN/phenor_npn_data_1178_373_2007-01-01_2007-12-31.rds\n",
      "  |======================================================================| 100%\n"
     ]
    },
    {
     "name": "stderr",
     "output_type": "stream",
     "text": [
      "R[write to console]: No encoding supplied: defaulting to UTF-8.\n",
      "\n",
      "R[write to console]: Error in (function (species = 3, phenophase = 371, start = \"2000-01-01\",  : \n",
      "  Query returned no data, check your input parameters!\n",
      "\n"
     ]
    },
    {
     "name": "stdout",
     "output_type": "stream",
     "text": [
      "downloading /tmp/data/NPN/phenor_npn_data_1322_371_2007-01-01_2007-12-31.rds\n",
      "  |======================================================================| 100%\n"
     ]
    },
    {
     "name": "stderr",
     "output_type": "stream",
     "text": [
      "R[write to console]: No encoding supplied: defaulting to UTF-8.\n",
      "\n",
      "R[write to console]: Error in (function (species = 3, phenophase = 371, start = \"2000-01-01\",  : \n",
      "  Query returned no data, check your input parameters!\n",
      "\n"
     ]
    },
    {
     "name": "stdout",
     "output_type": "stream",
     "text": [
      "downloading /tmp/data/NPN/phenor_npn_data_1322_373_2007-01-01_2007-12-31.rds\n",
      "  |======================================================================| 100%\n"
     ]
    },
    {
     "name": "stderr",
     "output_type": "stream",
     "text": [
      "R[write to console]: No encoding supplied: defaulting to UTF-8.\n",
      "\n",
      "R[write to console]: Error in (function (species = 3, phenophase = 371, start = \"2000-01-01\",  : \n",
      "  Query returned no data, check your input parameters!\n",
      "\n"
     ]
    },
    {
     "name": "stdout",
     "output_type": "stream",
     "text": [
      "downloading /tmp/data/NPN/phenor_npn_data_1323_371_2007-01-01_2007-12-31.rds\n",
      "  |======================================================================| 100%\n"
     ]
    },
    {
     "name": "stderr",
     "output_type": "stream",
     "text": [
      "R[write to console]: No encoding supplied: defaulting to UTF-8.\n",
      "\n",
      "R[write to console]: Error in (function (species = 3, phenophase = 371, start = \"2000-01-01\",  : \n",
      "  Query returned no data, check your input parameters!\n",
      "\n"
     ]
    },
    {
     "name": "stdout",
     "output_type": "stream",
     "text": [
      "downloading /tmp/data/NPN/phenor_npn_data_1323_373_2007-01-01_2007-12-31.rds\n",
      "  |======================================================================| 100%\n"
     ]
    },
    {
     "name": "stderr",
     "output_type": "stream",
     "text": [
      "R[write to console]: No encoding supplied: defaulting to UTF-8.\n",
      "\n",
      "R[write to console]: Error in (function (species = 3, phenophase = 371, start = \"2000-01-01\",  : \n",
      "  Query returned no data, check your input parameters!\n",
      "\n"
     ]
    },
    {
     "name": "stdout",
     "output_type": "stream",
     "text": [
      "downloading /tmp/data/NPN/phenor_npn_data_1324_371_2007-01-01_2007-12-31.rds\n",
      "  |======================================================================| 100%\n"
     ]
    },
    {
     "name": "stderr",
     "output_type": "stream",
     "text": [
      "R[write to console]: No encoding supplied: defaulting to UTF-8.\n",
      "\n",
      "R[write to console]: Error in (function (species = 3, phenophase = 371, start = \"2000-01-01\",  : \n",
      "  Query returned no data, check your input parameters!\n",
      "\n"
     ]
    },
    {
     "name": "stdout",
     "output_type": "stream",
     "text": [
      "downloading /tmp/data/NPN/phenor_npn_data_1324_373_2007-01-01_2007-12-31.rds\n",
      "  |======================================================================| 100%\n"
     ]
    },
    {
     "name": "stderr",
     "output_type": "stream",
     "text": [
      "R[write to console]: No encoding supplied: defaulting to UTF-8.\n",
      "\n",
      "R[write to console]: Error in (function (species = 3, phenophase = 371, start = \"2000-01-01\",  : \n",
      "  Query returned no data, check your input parameters!\n",
      "\n"
     ]
    },
    {
     "name": "stdout",
     "output_type": "stream",
     "text": [
      "downloading /tmp/data/NPN/phenor_npn_data_1346_371_2007-01-01_2007-12-31.rds\n",
      "  |======================================================================| 100%\n"
     ]
    },
    {
     "name": "stderr",
     "output_type": "stream",
     "text": [
      "R[write to console]: No encoding supplied: defaulting to UTF-8.\n",
      "\n",
      "R[write to console]: Error in (function (species = 3, phenophase = 371, start = \"2000-01-01\",  : \n",
      "  Query returned no data, check your input parameters!\n",
      "\n"
     ]
    },
    {
     "name": "stdout",
     "output_type": "stream",
     "text": [
      "downloading /tmp/data/NPN/phenor_npn_data_1346_373_2007-01-01_2007-12-31.rds\n",
      "  |======================================================================| 100%\n"
     ]
    },
    {
     "name": "stderr",
     "output_type": "stream",
     "text": [
      "R[write to console]: No encoding supplied: defaulting to UTF-8.\n",
      "\n",
      "R[write to console]: Error in (function (species = 3, phenophase = 371, start = \"2000-01-01\",  : \n",
      "  Query returned no data, check your input parameters!\n",
      "\n"
     ]
    },
    {
     "name": "stdout",
     "output_type": "stream",
     "text": [
      "downloading /tmp/data/NPN/phenor_npn_data_1349_371_2007-01-01_2007-12-31.rds\n",
      "  |======================================================================| 100%\n"
     ]
    },
    {
     "name": "stderr",
     "output_type": "stream",
     "text": [
      "R[write to console]: No encoding supplied: defaulting to UTF-8.\n",
      "\n",
      "R[write to console]: Error in (function (species = 3, phenophase = 371, start = \"2000-01-01\",  : \n",
      "  Query returned no data, check your input parameters!\n",
      "\n"
     ]
    },
    {
     "name": "stdout",
     "output_type": "stream",
     "text": [
      "downloading /tmp/data/NPN/phenor_npn_data_1349_373_2007-01-01_2007-12-31.rds\n",
      "  |======================================================================| 100%\n"
     ]
    },
    {
     "name": "stderr",
     "output_type": "stream",
     "text": [
      "R[write to console]: No encoding supplied: defaulting to UTF-8.\n",
      "\n",
      "R[write to console]: Error in (function (species = 3, phenophase = 371, start = \"2000-01-01\",  : \n",
      "  Query returned no data, check your input parameters!\n",
      "\n"
     ]
    },
    {
     "name": "stdout",
     "output_type": "stream",
     "text": [
      "downloading /tmp/data/NPN/phenor_npn_data_1351_371_2007-01-01_2007-12-31.rds\n",
      "  |======================================================================| 100%\n"
     ]
    },
    {
     "name": "stderr",
     "output_type": "stream",
     "text": [
      "R[write to console]: No encoding supplied: defaulting to UTF-8.\n",
      "\n",
      "R[write to console]: Error in (function (species = 3, phenophase = 371, start = \"2000-01-01\",  : \n",
      "  Query returned no data, check your input parameters!\n",
      "\n"
     ]
    },
    {
     "name": "stdout",
     "output_type": "stream",
     "text": [
      "downloading /tmp/data/NPN/phenor_npn_data_1351_373_2007-01-01_2007-12-31.rds\n",
      "  |======================================================================| 100%\n"
     ]
    },
    {
     "name": "stderr",
     "output_type": "stream",
     "text": [
      "R[write to console]: No encoding supplied: defaulting to UTF-8.\n",
      "\n",
      "R[write to console]: Error in (function (species = 3, phenophase = 371, start = \"2000-01-01\",  : \n",
      "  Query returned no data, check your input parameters!\n",
      "\n"
     ]
    },
    {
     "name": "stdout",
     "output_type": "stream",
     "text": [
      "downloading /tmp/data/NPN/phenor_npn_data_1359_371_2007-01-01_2007-12-31.rds\n",
      "  |======================================================================| 100%\n"
     ]
    },
    {
     "name": "stderr",
     "output_type": "stream",
     "text": [
      "R[write to console]: No encoding supplied: defaulting to UTF-8.\n",
      "\n",
      "R[write to console]: Error in (function (species = 3, phenophase = 371, start = \"2000-01-01\",  : \n",
      "  Query returned no data, check your input parameters!\n",
      "\n"
     ]
    },
    {
     "name": "stdout",
     "output_type": "stream",
     "text": [
      "downloading /tmp/data/NPN/phenor_npn_data_1359_373_2007-01-01_2007-12-31.rds\n",
      "  |======================================================================| 100%\n"
     ]
    },
    {
     "name": "stderr",
     "output_type": "stream",
     "text": [
      "R[write to console]: No encoding supplied: defaulting to UTF-8.\n",
      "\n",
      "R[write to console]: Error in (function (species = 3, phenophase = 371, start = \"2000-01-01\",  : \n",
      "  Query returned no data, check your input parameters!\n",
      "\n"
     ]
    },
    {
     "name": "stdout",
     "output_type": "stream",
     "text": [
      "downloading /tmp/data/NPN/phenor_npn_data_1360_371_2007-01-01_2007-12-31.rds\n",
      "  |======================================================================| 100%\n"
     ]
    },
    {
     "name": "stderr",
     "output_type": "stream",
     "text": [
      "R[write to console]: No encoding supplied: defaulting to UTF-8.\n",
      "\n",
      "R[write to console]: Error in (function (species = 3, phenophase = 371, start = \"2000-01-01\",  : \n",
      "  Query returned no data, check your input parameters!\n",
      "\n"
     ]
    },
    {
     "name": "stdout",
     "output_type": "stream",
     "text": [
      "downloading /tmp/data/NPN/phenor_npn_data_1360_373_2007-01-01_2007-12-31.rds\n",
      "  |======================================================================| 100%\n"
     ]
    },
    {
     "name": "stderr",
     "output_type": "stream",
     "text": [
      "R[write to console]: No encoding supplied: defaulting to UTF-8.\n",
      "\n",
      "R[write to console]: Error in (function (species = 3, phenophase = 371, start = \"2000-01-01\",  : \n",
      "  Query returned no data, check your input parameters!\n",
      "\n"
     ]
    },
    {
     "name": "stdout",
     "output_type": "stream",
     "text": [
      "downloading /tmp/data/NPN/phenor_npn_data_1368_371_2007-01-01_2007-12-31.rds\n",
      "  |======================================================================| 100%\n"
     ]
    },
    {
     "name": "stderr",
     "output_type": "stream",
     "text": [
      "R[write to console]: No encoding supplied: defaulting to UTF-8.\n",
      "\n",
      "R[write to console]: Error in (function (species = 3, phenophase = 371, start = \"2000-01-01\",  : \n",
      "  Query returned no data, check your input parameters!\n",
      "\n"
     ]
    },
    {
     "name": "stdout",
     "output_type": "stream",
     "text": [
      "downloading /tmp/data/NPN/phenor_npn_data_1368_373_2007-01-01_2007-12-31.rds\n",
      "  |======================================================================| 100%\n"
     ]
    },
    {
     "name": "stderr",
     "output_type": "stream",
     "text": [
      "R[write to console]: No encoding supplied: defaulting to UTF-8.\n",
      "\n",
      "R[write to console]: Error in (function (species = 3, phenophase = 371, start = \"2000-01-01\",  : \n",
      "  Query returned no data, check your input parameters!\n",
      "\n"
     ]
    },
    {
     "name": "stdout",
     "output_type": "stream",
     "text": [
      "downloading /tmp/data/NPN/phenor_npn_data_1430_371_2007-01-01_2007-12-31.rds\n",
      "  |======================================================================| 100%\n"
     ]
    },
    {
     "name": "stderr",
     "output_type": "stream",
     "text": [
      "R[write to console]: No encoding supplied: defaulting to UTF-8.\n",
      "\n",
      "R[write to console]: Error in (function (species = 3, phenophase = 371, start = \"2000-01-01\",  : \n",
      "  Query returned no data, check your input parameters!\n",
      "\n"
     ]
    },
    {
     "name": "stdout",
     "output_type": "stream",
     "text": [
      "downloading /tmp/data/NPN/phenor_npn_data_1430_373_2007-01-01_2007-12-31.rds\n",
      "  |======================================================================| 100%\n"
     ]
    },
    {
     "name": "stderr",
     "output_type": "stream",
     "text": [
      "R[write to console]: No encoding supplied: defaulting to UTF-8.\n",
      "\n",
      "R[write to console]: Error in (function (species = 3, phenophase = 371, start = \"2000-01-01\",  : \n",
      "  Query returned no data, check your input parameters!\n",
      "\n"
     ]
    },
    {
     "name": "stdout",
     "output_type": "stream",
     "text": [
      "downloading /tmp/data/NPN/phenor_npn_data_1443_371_2007-01-01_2007-12-31.rds\n",
      "  |======================================================================| 100%\n"
     ]
    },
    {
     "name": "stderr",
     "output_type": "stream",
     "text": [
      "R[write to console]: No encoding supplied: defaulting to UTF-8.\n",
      "\n",
      "R[write to console]: Error in (function (species = 3, phenophase = 371, start = \"2000-01-01\",  : \n",
      "  Query returned no data, check your input parameters!\n",
      "\n"
     ]
    },
    {
     "name": "stdout",
     "output_type": "stream",
     "text": [
      "downloading /tmp/data/NPN/phenor_npn_data_1443_373_2007-01-01_2007-12-31.rds\n",
      "  |======================================================================| 100%\n"
     ]
    },
    {
     "name": "stderr",
     "output_type": "stream",
     "text": [
      "R[write to console]: No encoding supplied: defaulting to UTF-8.\n",
      "\n",
      "R[write to console]: Error in (function (species = 3, phenophase = 371, start = \"2000-01-01\",  : \n",
      "  Query returned no data, check your input parameters!\n",
      "\n"
     ]
    },
    {
     "name": "stdout",
     "output_type": "stream",
     "text": [
      "downloading /tmp/data/NPN/phenor_npn_data_1444_371_2007-01-01_2007-12-31.rds\n",
      "  |======================================================================| 100%\n"
     ]
    },
    {
     "name": "stderr",
     "output_type": "stream",
     "text": [
      "R[write to console]: No encoding supplied: defaulting to UTF-8.\n",
      "\n",
      "R[write to console]: Error in (function (species = 3, phenophase = 371, start = \"2000-01-01\",  : \n",
      "  Query returned no data, check your input parameters!\n",
      "\n"
     ]
    },
    {
     "name": "stdout",
     "output_type": "stream",
     "text": [
      "downloading /tmp/data/NPN/phenor_npn_data_1444_373_2007-01-01_2007-12-31.rds\n",
      "  |======================================================================| 100%\n"
     ]
    },
    {
     "name": "stderr",
     "output_type": "stream",
     "text": [
      "R[write to console]: No encoding supplied: defaulting to UTF-8.\n",
      "\n",
      "R[write to console]: Error in (function (species = 3, phenophase = 371, start = \"2000-01-01\",  : \n",
      "  Query returned no data, check your input parameters!\n",
      "\n"
     ]
    },
    {
     "name": "stdout",
     "output_type": "stream",
     "text": [
      "downloading /tmp/data/NPN/phenor_npn_data_1467_371_2007-01-01_2007-12-31.rds\n",
      "  |======================================================================| 100%\n"
     ]
    },
    {
     "name": "stderr",
     "output_type": "stream",
     "text": [
      "R[write to console]: No encoding supplied: defaulting to UTF-8.\n",
      "\n",
      "R[write to console]: Error in (function (species = 3, phenophase = 371, start = \"2000-01-01\",  : \n",
      "  Query returned no data, check your input parameters!\n",
      "\n"
     ]
    },
    {
     "name": "stdout",
     "output_type": "stream",
     "text": [
      "downloading /tmp/data/NPN/phenor_npn_data_1467_373_2007-01-01_2007-12-31.rds\n",
      "  |======================================================================| 100%\n"
     ]
    },
    {
     "name": "stderr",
     "output_type": "stream",
     "text": [
      "R[write to console]: No encoding supplied: defaulting to UTF-8.\n",
      "\n",
      "R[write to console]: Error in (function (species = 3, phenophase = 371, start = \"2000-01-01\",  : \n",
      "  Query returned no data, check your input parameters!\n",
      "\n"
     ]
    },
    {
     "name": "stdout",
     "output_type": "stream",
     "text": [
      "downloading /tmp/data/NPN/phenor_npn_data_1479_371_2007-01-01_2007-12-31.rds\n",
      "  |======================================================================| 100%\n"
     ]
    },
    {
     "name": "stderr",
     "output_type": "stream",
     "text": [
      "R[write to console]: No encoding supplied: defaulting to UTF-8.\n",
      "\n",
      "R[write to console]: Error in (function (species = 3, phenophase = 371, start = \"2000-01-01\",  : \n",
      "  Query returned no data, check your input parameters!\n",
      "\n"
     ]
    },
    {
     "name": "stdout",
     "output_type": "stream",
     "text": [
      "downloading /tmp/data/NPN/phenor_npn_data_1479_373_2007-01-01_2007-12-31.rds\n",
      "  |======================================================================| 100%\n"
     ]
    },
    {
     "name": "stderr",
     "output_type": "stream",
     "text": [
      "R[write to console]: No encoding supplied: defaulting to UTF-8.\n",
      "\n",
      "R[write to console]: Error in (function (species = 3, phenophase = 371, start = \"2000-01-01\",  : \n",
      "  Query returned no data, check your input parameters!\n",
      "\n"
     ]
    },
    {
     "name": "stdout",
     "output_type": "stream",
     "text": [
      "downloading /tmp/data/NPN/phenor_npn_data_1490_371_2007-01-01_2007-12-31.rds\n",
      "  |======================================================================| 100%\n"
     ]
    },
    {
     "name": "stderr",
     "output_type": "stream",
     "text": [
      "R[write to console]: No encoding supplied: defaulting to UTF-8.\n",
      "\n",
      "R[write to console]: Error in (function (species = 3, phenophase = 371, start = \"2000-01-01\",  : \n",
      "  Query returned no data, check your input parameters!\n",
      "\n"
     ]
    },
    {
     "name": "stdout",
     "output_type": "stream",
     "text": [
      "downloading /tmp/data/NPN/phenor_npn_data_1490_373_2007-01-01_2007-12-31.rds\n",
      "  |======================================================================| 100%\n"
     ]
    },
    {
     "name": "stderr",
     "output_type": "stream",
     "text": [
      "R[write to console]: No encoding supplied: defaulting to UTF-8.\n",
      "\n",
      "R[write to console]: Error in (function (species = 3, phenophase = 371, start = \"2000-01-01\",  : \n",
      "  Query returned no data, check your input parameters!\n",
      "\n"
     ]
    },
    {
     "name": "stdout",
     "output_type": "stream",
     "text": [
      "downloading /tmp/data/NPN/phenor_npn_data_1593_371_2007-01-01_2007-12-31.rds\n",
      "  |======================================================================| 100%\n"
     ]
    },
    {
     "name": "stderr",
     "output_type": "stream",
     "text": [
      "R[write to console]: No encoding supplied: defaulting to UTF-8.\n",
      "\n",
      "R[write to console]: Error in (function (species = 3, phenophase = 371, start = \"2000-01-01\",  : \n",
      "  Query returned no data, check your input parameters!\n",
      "\n"
     ]
    },
    {
     "name": "stdout",
     "output_type": "stream",
     "text": [
      "downloading /tmp/data/NPN/phenor_npn_data_1593_373_2007-01-01_2007-12-31.rds\n",
      "  |======================================================================| 100%\n"
     ]
    },
    {
     "name": "stderr",
     "output_type": "stream",
     "text": [
      "R[write to console]: No encoding supplied: defaulting to UTF-8.\n",
      "\n",
      "R[write to console]: Error in (function (species = 3, phenophase = 371, start = \"2000-01-01\",  : \n",
      "  Query returned no data, check your input parameters!\n",
      "\n"
     ]
    },
    {
     "name": "stdout",
     "output_type": "stream",
     "text": [
      "downloading /tmp/data/NPN/phenor_npn_data_1594_371_2007-01-01_2007-12-31.rds\n",
      "  |======================================================================| 100%\n"
     ]
    },
    {
     "name": "stderr",
     "output_type": "stream",
     "text": [
      "R[write to console]: No encoding supplied: defaulting to UTF-8.\n",
      "\n",
      "R[write to console]: Error in (function (species = 3, phenophase = 371, start = \"2000-01-01\",  : \n",
      "  Query returned no data, check your input parameters!\n",
      "\n"
     ]
    },
    {
     "name": "stdout",
     "output_type": "stream",
     "text": [
      "downloading /tmp/data/NPN/phenor_npn_data_1594_373_2007-01-01_2007-12-31.rds\n",
      "  |======================================================================| 100%\n"
     ]
    },
    {
     "name": "stderr",
     "output_type": "stream",
     "text": [
      "R[write to console]: No encoding supplied: defaulting to UTF-8.\n",
      "\n",
      "R[write to console]: Error in (function (species = 3, phenophase = 371, start = \"2000-01-01\",  : \n",
      "  Query returned no data, check your input parameters!\n",
      "\n"
     ]
    },
    {
     "name": "stdout",
     "output_type": "stream",
     "text": [
      "downloading /tmp/data/NPN/phenor_npn_data_1602_371_2007-01-01_2007-12-31.rds\n",
      "  |======================================================================| 100%\n"
     ]
    },
    {
     "name": "stderr",
     "output_type": "stream",
     "text": [
      "R[write to console]: No encoding supplied: defaulting to UTF-8.\n",
      "\n",
      "R[write to console]: Error in (function (species = 3, phenophase = 371, start = \"2000-01-01\",  : \n",
      "  Query returned no data, check your input parameters!\n",
      "\n"
     ]
    },
    {
     "name": "stdout",
     "output_type": "stream",
     "text": [
      "downloading /tmp/data/NPN/phenor_npn_data_1602_373_2007-01-01_2007-12-31.rds\n",
      "  |======================================================================| 100%\n"
     ]
    },
    {
     "name": "stderr",
     "output_type": "stream",
     "text": [
      "R[write to console]: No encoding supplied: defaulting to UTF-8.\n",
      "\n",
      "R[write to console]: Error in (function (species = 3, phenophase = 371, start = \"2000-01-01\",  : \n",
      "  Query returned no data, check your input parameters!\n",
      "\n"
     ]
    },
    {
     "name": "stdout",
     "output_type": "stream",
     "text": [
      "downloading /tmp/data/NPN/phenor_npn_data_1609_371_2007-01-01_2007-12-31.rds\n",
      "  |======================================================================| 100%\n"
     ]
    },
    {
     "name": "stderr",
     "output_type": "stream",
     "text": [
      "R[write to console]: No encoding supplied: defaulting to UTF-8.\n",
      "\n",
      "R[write to console]: Error in (function (species = 3, phenophase = 371, start = \"2000-01-01\",  : \n",
      "  Query returned no data, check your input parameters!\n",
      "\n"
     ]
    },
    {
     "name": "stdout",
     "output_type": "stream",
     "text": [
      "downloading /tmp/data/NPN/phenor_npn_data_1609_373_2007-01-01_2007-12-31.rds\n",
      "  |======================================================================| 100%\n"
     ]
    },
    {
     "name": "stderr",
     "output_type": "stream",
     "text": [
      "R[write to console]: No encoding supplied: defaulting to UTF-8.\n",
      "\n",
      "R[write to console]: Error in (function (species = 3, phenophase = 371, start = \"2000-01-01\",  : \n",
      "  Query returned no data, check your input parameters!\n",
      "\n"
     ]
    },
    {
     "name": "stdout",
     "output_type": "stream",
     "text": [
      "downloading /tmp/data/NPN/phenor_npn_data_1626_371_2007-01-01_2007-12-31.rds\n",
      "  |======================================================================| 100%\n"
     ]
    },
    {
     "name": "stderr",
     "output_type": "stream",
     "text": [
      "R[write to console]: No encoding supplied: defaulting to UTF-8.\n",
      "\n",
      "R[write to console]: Error in (function (species = 3, phenophase = 371, start = \"2000-01-01\",  : \n",
      "  Query returned no data, check your input parameters!\n",
      "\n"
     ]
    },
    {
     "name": "stdout",
     "output_type": "stream",
     "text": [
      "downloading /tmp/data/NPN/phenor_npn_data_1626_373_2007-01-01_2007-12-31.rds\n",
      "  |======================================================================| 100%\n"
     ]
    },
    {
     "name": "stderr",
     "output_type": "stream",
     "text": [
      "R[write to console]: No encoding supplied: defaulting to UTF-8.\n",
      "\n",
      "R[write to console]: Error in (function (species = 3, phenophase = 371, start = \"2000-01-01\",  : \n",
      "  Query returned no data, check your input parameters!\n",
      "\n"
     ]
    },
    {
     "name": "stdout",
     "output_type": "stream",
     "text": [
      "downloading /tmp/data/NPN/phenor_npn_data_1628_371_2007-01-01_2007-12-31.rds\n",
      "  |======================================================================| 100%\n"
     ]
    },
    {
     "name": "stderr",
     "output_type": "stream",
     "text": [
      "R[write to console]: No encoding supplied: defaulting to UTF-8.\n",
      "\n",
      "R[write to console]: Error in (function (species = 3, phenophase = 371, start = \"2000-01-01\",  : \n",
      "  Query returned no data, check your input parameters!\n",
      "\n"
     ]
    },
    {
     "name": "stdout",
     "output_type": "stream",
     "text": [
      "downloading /tmp/data/NPN/phenor_npn_data_1628_373_2007-01-01_2007-12-31.rds\n",
      "  |======================================================================| 100%\n"
     ]
    },
    {
     "name": "stderr",
     "output_type": "stream",
     "text": [
      "R[write to console]: No encoding supplied: defaulting to UTF-8.\n",
      "\n",
      "R[write to console]: Error in (function (species = 3, phenophase = 371, start = \"2000-01-01\",  : \n",
      "  Query returned no data, check your input parameters!\n",
      "\n"
     ]
    },
    {
     "name": "stdout",
     "output_type": "stream",
     "text": [
      "downloading /tmp/data/NPN/phenor_npn_data_1644_371_2007-01-01_2007-12-31.rds\n",
      "  |======================================================================| 100%\n"
     ]
    },
    {
     "name": "stderr",
     "output_type": "stream",
     "text": [
      "R[write to console]: No encoding supplied: defaulting to UTF-8.\n",
      "\n",
      "R[write to console]: Error in (function (species = 3, phenophase = 371, start = \"2000-01-01\",  : \n",
      "  Query returned no data, check your input parameters!\n",
      "\n"
     ]
    },
    {
     "name": "stdout",
     "output_type": "stream",
     "text": [
      "downloading /tmp/data/NPN/phenor_npn_data_1644_373_2007-01-01_2007-12-31.rds\n",
      "  |======================================================================| 100%\n"
     ]
    },
    {
     "name": "stderr",
     "output_type": "stream",
     "text": [
      "R[write to console]: No encoding supplied: defaulting to UTF-8.\n",
      "\n",
      "R[write to console]: Error in (function (species = 3, phenophase = 371, start = \"2000-01-01\",  : \n",
      "  Query returned no data, check your input parameters!\n",
      "\n"
     ]
    },
    {
     "name": "stdout",
     "output_type": "stream",
     "text": [
      "downloading /tmp/data/NPN/phenor_npn_data_1681_371_2007-01-01_2007-12-31.rds\n",
      "  |======================================================================| 100%\n"
     ]
    },
    {
     "name": "stderr",
     "output_type": "stream",
     "text": [
      "R[write to console]: No encoding supplied: defaulting to UTF-8.\n",
      "\n",
      "R[write to console]: Error in (function (species = 3, phenophase = 371, start = \"2000-01-01\",  : \n",
      "  Query returned no data, check your input parameters!\n",
      "\n"
     ]
    },
    {
     "name": "stdout",
     "output_type": "stream",
     "text": [
      "downloading /tmp/data/NPN/phenor_npn_data_1681_373_2007-01-01_2007-12-31.rds\n",
      "  |======================================================================| 100%\n"
     ]
    },
    {
     "name": "stderr",
     "output_type": "stream",
     "text": [
      "R[write to console]: No encoding supplied: defaulting to UTF-8.\n",
      "\n",
      "R[write to console]: Error in (function (species = 3, phenophase = 371, start = \"2000-01-01\",  : \n",
      "  Query returned no data, check your input parameters!\n",
      "\n"
     ]
    },
    {
     "name": "stdout",
     "output_type": "stream",
     "text": [
      "downloading /tmp/data/NPN/phenor_npn_data_1689_371_2007-01-01_2007-12-31.rds\n",
      "  |======================================================================| 100%\n"
     ]
    },
    {
     "name": "stderr",
     "output_type": "stream",
     "text": [
      "R[write to console]: No encoding supplied: defaulting to UTF-8.\n",
      "\n",
      "R[write to console]: Error in (function (species = 3, phenophase = 371, start = \"2000-01-01\",  : \n",
      "  Query returned no data, check your input parameters!\n",
      "\n"
     ]
    },
    {
     "name": "stdout",
     "output_type": "stream",
     "text": [
      "downloading /tmp/data/NPN/phenor_npn_data_1689_373_2007-01-01_2007-12-31.rds\n",
      "  |======================================================================| 100%\n"
     ]
    },
    {
     "name": "stderr",
     "output_type": "stream",
     "text": [
      "R[write to console]: No encoding supplied: defaulting to UTF-8.\n",
      "\n",
      "R[write to console]: Error in (function (species = 3, phenophase = 371, start = \"2000-01-01\",  : \n",
      "  Query returned no data, check your input parameters!\n",
      "\n"
     ]
    },
    {
     "name": "stdout",
     "output_type": "stream",
     "text": [
      "downloading /tmp/data/NPN/phenor_npn_data_1717_371_2007-01-01_2007-12-31.rds\n",
      "  |======================================================================| 100%\n"
     ]
    },
    {
     "name": "stderr",
     "output_type": "stream",
     "text": [
      "R[write to console]: No encoding supplied: defaulting to UTF-8.\n",
      "\n",
      "R[write to console]: Error in (function (species = 3, phenophase = 371, start = \"2000-01-01\",  : \n",
      "  Query returned no data, check your input parameters!\n",
      "\n"
     ]
    },
    {
     "name": "stdout",
     "output_type": "stream",
     "text": [
      "downloading /tmp/data/NPN/phenor_npn_data_1717_373_2007-01-01_2007-12-31.rds\n",
      "  |======================================================================| 100%\n"
     ]
    },
    {
     "name": "stderr",
     "output_type": "stream",
     "text": [
      "R[write to console]: No encoding supplied: defaulting to UTF-8.\n",
      "\n",
      "R[write to console]: Error in (function (species = 3, phenophase = 371, start = \"2000-01-01\",  : \n",
      "  Query returned no data, check your input parameters!\n",
      "\n"
     ]
    },
    {
     "name": "stdout",
     "output_type": "stream",
     "text": [
      "downloading /tmp/data/NPN/phenor_npn_data_1720_371_2007-01-01_2007-12-31.rds\n",
      "  |======================================================================| 100%\n"
     ]
    },
    {
     "name": "stderr",
     "output_type": "stream",
     "text": [
      "R[write to console]: No encoding supplied: defaulting to UTF-8.\n",
      "\n",
      "R[write to console]: Error in (function (species = 3, phenophase = 371, start = \"2000-01-01\",  : \n",
      "  Query returned no data, check your input parameters!\n",
      "\n"
     ]
    },
    {
     "name": "stdout",
     "output_type": "stream",
     "text": [
      "downloading /tmp/data/NPN/phenor_npn_data_1720_373_2007-01-01_2007-12-31.rds\n",
      "  |======================================================================| 100%\n"
     ]
    },
    {
     "name": "stderr",
     "output_type": "stream",
     "text": [
      "R[write to console]: No encoding supplied: defaulting to UTF-8.\n",
      "\n",
      "R[write to console]: Error in (function (species = 3, phenophase = 371, start = \"2000-01-01\",  : \n",
      "  Query returned no data, check your input parameters!\n",
      "\n"
     ]
    },
    {
     "name": "stdout",
     "output_type": "stream",
     "text": [
      "downloading /tmp/data/NPN/phenor_npn_data_1766_371_2007-01-01_2007-12-31.rds\n",
      "  |======================================================================| 100%\n"
     ]
    },
    {
     "name": "stderr",
     "output_type": "stream",
     "text": [
      "R[write to console]: No encoding supplied: defaulting to UTF-8.\n",
      "\n",
      "R[write to console]: Error in (function (species = 3, phenophase = 371, start = \"2000-01-01\",  : \n",
      "  Query returned no data, check your input parameters!\n",
      "\n"
     ]
    },
    {
     "name": "stdout",
     "output_type": "stream",
     "text": [
      "downloading /tmp/data/NPN/phenor_npn_data_1766_373_2007-01-01_2007-12-31.rds\n",
      "  |======================================================================| 100%\n"
     ]
    },
    {
     "name": "stderr",
     "output_type": "stream",
     "text": [
      "R[write to console]: No encoding supplied: defaulting to UTF-8.\n",
      "\n",
      "R[write to console]: Error in (function (species = 3, phenophase = 371, start = \"2000-01-01\",  : \n",
      "  Query returned no data, check your input parameters!\n",
      "\n"
     ]
    },
    {
     "name": "stdout",
     "output_type": "stream",
     "text": [
      "downloading /tmp/data/NPN/phenor_npn_data_1799_371_2007-01-01_2007-12-31.rds\n",
      "  |======================================================================| 100%\n"
     ]
    },
    {
     "name": "stderr",
     "output_type": "stream",
     "text": [
      "R[write to console]: No encoding supplied: defaulting to UTF-8.\n",
      "\n",
      "R[write to console]: Error in (function (species = 3, phenophase = 371, start = \"2000-01-01\",  : \n",
      "  Query returned no data, check your input parameters!\n",
      "\n"
     ]
    },
    {
     "name": "stdout",
     "output_type": "stream",
     "text": [
      "downloading /tmp/data/NPN/phenor_npn_data_1799_373_2007-01-01_2007-12-31.rds\n",
      "  |======================================================================| 100%\n"
     ]
    },
    {
     "name": "stderr",
     "output_type": "stream",
     "text": [
      "R[write to console]: No encoding supplied: defaulting to UTF-8.\n",
      "\n",
      "R[write to console]: Error in (function (species = 3, phenophase = 371, start = \"2000-01-01\",  : \n",
      "  Query returned no data, check your input parameters!\n",
      "\n"
     ]
    },
    {
     "name": "stdout",
     "output_type": "stream",
     "text": [
      "downloading /tmp/data/NPN/phenor_npn_data_1824_371_2007-01-01_2007-12-31.rds\n",
      "  |======================================================================| 100%\n"
     ]
    },
    {
     "name": "stderr",
     "output_type": "stream",
     "text": [
      "R[write to console]: No encoding supplied: defaulting to UTF-8.\n",
      "\n",
      "R[write to console]: Error in (function (species = 3, phenophase = 371, start = \"2000-01-01\",  : \n",
      "  Query returned no data, check your input parameters!\n",
      "\n"
     ]
    },
    {
     "name": "stdout",
     "output_type": "stream",
     "text": [
      "downloading /tmp/data/NPN/phenor_npn_data_1824_373_2007-01-01_2007-12-31.rds\n",
      "  |======================================================================| 100%\n"
     ]
    },
    {
     "name": "stderr",
     "output_type": "stream",
     "text": [
      "R[write to console]: No encoding supplied: defaulting to UTF-8.\n",
      "\n",
      "R[write to console]: Error in (function (species = 3, phenophase = 371, start = \"2000-01-01\",  : \n",
      "  Query returned no data, check your input parameters!\n",
      "\n"
     ]
    },
    {
     "name": "stdout",
     "output_type": "stream",
     "text": [
      "downloading /tmp/data/NPN/phenor_npn_data_1845_371_2007-01-01_2007-12-31.rds\n",
      "  |======================================================================| 100%\n"
     ]
    },
    {
     "name": "stderr",
     "output_type": "stream",
     "text": [
      "R[write to console]: No encoding supplied: defaulting to UTF-8.\n",
      "\n",
      "R[write to console]: Error in (function (species = 3, phenophase = 371, start = \"2000-01-01\",  : \n",
      "  Query returned no data, check your input parameters!\n",
      "\n"
     ]
    },
    {
     "name": "stdout",
     "output_type": "stream",
     "text": [
      "downloading /tmp/data/NPN/phenor_npn_data_1845_373_2007-01-01_2007-12-31.rds\n",
      "  |======================================================================| 100%\n"
     ]
    },
    {
     "name": "stderr",
     "output_type": "stream",
     "text": [
      "R[write to console]: No encoding supplied: defaulting to UTF-8.\n",
      "\n",
      "R[write to console]: Error in (function (species = 3, phenophase = 371, start = \"2000-01-01\",  : \n",
      "  Query returned no data, check your input parameters!\n",
      "\n"
     ]
    },
    {
     "name": "stdout",
     "output_type": "stream",
     "text": [
      "downloading /tmp/data/NPN/phenor_npn_data_1846_371_2007-01-01_2007-12-31.rds\n",
      "  |======================================================================| 100%\n"
     ]
    },
    {
     "name": "stderr",
     "output_type": "stream",
     "text": [
      "R[write to console]: No encoding supplied: defaulting to UTF-8.\n",
      "\n",
      "R[write to console]: Error in (function (species = 3, phenophase = 371, start = \"2000-01-01\",  : \n",
      "  Query returned no data, check your input parameters!\n",
      "\n"
     ]
    },
    {
     "name": "stdout",
     "output_type": "stream",
     "text": [
      "downloading /tmp/data/NPN/phenor_npn_data_1846_373_2007-01-01_2007-12-31.rds\n",
      "  |======================================================================| 100%\n"
     ]
    },
    {
     "name": "stderr",
     "output_type": "stream",
     "text": [
      "R[write to console]: No encoding supplied: defaulting to UTF-8.\n",
      "\n",
      "R[write to console]: Error in (function (species = 3, phenophase = 371, start = \"2000-01-01\",  : \n",
      "  Query returned no data, check your input parameters!\n",
      "\n"
     ]
    },
    {
     "name": "stdout",
     "output_type": "stream",
     "text": [
      "downloading /tmp/data/NPN/phenor_npn_data_1861_371_2007-01-01_2007-12-31.rds\n",
      "  |======================================================================| 100%\n"
     ]
    },
    {
     "name": "stderr",
     "output_type": "stream",
     "text": [
      "R[write to console]: No encoding supplied: defaulting to UTF-8.\n",
      "\n",
      "R[write to console]: Error in (function (species = 3, phenophase = 371, start = \"2000-01-01\",  : \n",
      "  Query returned no data, check your input parameters!\n",
      "\n"
     ]
    },
    {
     "name": "stdout",
     "output_type": "stream",
     "text": [
      "downloading /tmp/data/NPN/phenor_npn_data_1861_373_2007-01-01_2007-12-31.rds\n",
      "  |======================================================================| 100%\n"
     ]
    },
    {
     "name": "stderr",
     "output_type": "stream",
     "text": [
      "R[write to console]: No encoding supplied: defaulting to UTF-8.\n",
      "\n",
      "R[write to console]: Error in (function (species = 3, phenophase = 371, start = \"2000-01-01\",  : \n",
      "  Query returned no data, check your input parameters!\n",
      "\n"
     ]
    },
    {
     "name": "stdout",
     "output_type": "stream",
     "text": [
      "downloading /tmp/data/NPN/phenor_npn_data_1870_371_2007-01-01_2007-12-31.rds\n",
      "  |======================================================================| 100%\n"
     ]
    },
    {
     "name": "stderr",
     "output_type": "stream",
     "text": [
      "R[write to console]: No encoding supplied: defaulting to UTF-8.\n",
      "\n",
      "R[write to console]: Error in (function (species = 3, phenophase = 371, start = \"2000-01-01\",  : \n",
      "  Query returned no data, check your input parameters!\n",
      "\n"
     ]
    },
    {
     "name": "stdout",
     "output_type": "stream",
     "text": [
      "downloading /tmp/data/NPN/phenor_npn_data_1870_373_2007-01-01_2007-12-31.rds\n",
      "  |======================================================================| 100%\n"
     ]
    },
    {
     "name": "stderr",
     "output_type": "stream",
     "text": [
      "R[write to console]: No encoding supplied: defaulting to UTF-8.\n",
      "\n",
      "R[write to console]: Error in (function (species = 3, phenophase = 371, start = \"2000-01-01\",  : \n",
      "  Query returned no data, check your input parameters!\n",
      "\n"
     ]
    },
    {
     "name": "stdout",
     "output_type": "stream",
     "text": [
      "downloading /tmp/data/NPN/phenor_npn_data_1887_371_2007-01-01_2007-12-31.rds\n",
      "  |======================================================================| 100%\n"
     ]
    },
    {
     "name": "stderr",
     "output_type": "stream",
     "text": [
      "R[write to console]: No encoding supplied: defaulting to UTF-8.\n",
      "\n",
      "R[write to console]: Error in (function (species = 3, phenophase = 371, start = \"2000-01-01\",  : \n",
      "  Query returned no data, check your input parameters!\n",
      "\n"
     ]
    },
    {
     "name": "stdout",
     "output_type": "stream",
     "text": [
      "downloading /tmp/data/NPN/phenor_npn_data_1887_373_2007-01-01_2007-12-31.rds\n",
      "  |======================================================================| 100%\n"
     ]
    },
    {
     "name": "stderr",
     "output_type": "stream",
     "text": [
      "R[write to console]: No encoding supplied: defaulting to UTF-8.\n",
      "\n",
      "R[write to console]: Error in (function (species = 3, phenophase = 371, start = \"2000-01-01\",  : \n",
      "  Query returned no data, check your input parameters!\n",
      "\n"
     ]
    },
    {
     "name": "stdout",
     "output_type": "stream",
     "text": [
      "downloading /tmp/data/NPN/phenor_npn_data_1892_371_2007-01-01_2007-12-31.rds\n",
      "  |======================================================================| 100%\n"
     ]
    },
    {
     "name": "stderr",
     "output_type": "stream",
     "text": [
      "R[write to console]: No encoding supplied: defaulting to UTF-8.\n",
      "\n",
      "R[write to console]: Error in (function (species = 3, phenophase = 371, start = \"2000-01-01\",  : \n",
      "  Query returned no data, check your input parameters!\n",
      "\n"
     ]
    },
    {
     "name": "stdout",
     "output_type": "stream",
     "text": [
      "downloading /tmp/data/NPN/phenor_npn_data_1892_373_2007-01-01_2007-12-31.rds\n",
      "  |======================================================================| 100%\n"
     ]
    },
    {
     "name": "stderr",
     "output_type": "stream",
     "text": [
      "R[write to console]: No encoding supplied: defaulting to UTF-8.\n",
      "\n",
      "R[write to console]: Error in (function (species = 3, phenophase = 371, start = \"2000-01-01\",  : \n",
      "  Query returned no data, check your input parameters!\n",
      "\n"
     ]
    },
    {
     "name": "stdout",
     "output_type": "stream",
     "text": [
      "downloading /tmp/data/NPN/phenor_npn_data_1910_371_2007-01-01_2007-12-31.rds\n",
      "  |======================================================================| 100%\n"
     ]
    },
    {
     "name": "stderr",
     "output_type": "stream",
     "text": [
      "R[write to console]: No encoding supplied: defaulting to UTF-8.\n",
      "\n",
      "R[write to console]: Error in (function (species = 3, phenophase = 371, start = \"2000-01-01\",  : \n",
      "  Query returned no data, check your input parameters!\n",
      "\n"
     ]
    },
    {
     "name": "stdout",
     "output_type": "stream",
     "text": [
      "downloading /tmp/data/NPN/phenor_npn_data_1910_373_2007-01-01_2007-12-31.rds\n",
      "  |======================================================================| 100%\n"
     ]
    },
    {
     "name": "stderr",
     "output_type": "stream",
     "text": [
      "R[write to console]: No encoding supplied: defaulting to UTF-8.\n",
      "\n",
      "R[write to console]: Error in (function (species = 3, phenophase = 371, start = \"2000-01-01\",  : \n",
      "  Query returned no data, check your input parameters!\n",
      "\n"
     ]
    },
    {
     "name": "stdout",
     "output_type": "stream",
     "text": [
      "downloading /tmp/data/NPN/phenor_npn_data_1922_371_2007-01-01_2007-12-31.rds\n",
      "  |======================================================================| 100%\n"
     ]
    },
    {
     "name": "stderr",
     "output_type": "stream",
     "text": [
      "R[write to console]: No encoding supplied: defaulting to UTF-8.\n",
      "\n",
      "R[write to console]: Error in (function (species = 3, phenophase = 371, start = \"2000-01-01\",  : \n",
      "  Query returned no data, check your input parameters!\n",
      "\n"
     ]
    },
    {
     "name": "stdout",
     "output_type": "stream",
     "text": [
      "downloading /tmp/data/NPN/phenor_npn_data_1922_373_2007-01-01_2007-12-31.rds\n",
      "  |======================================================================| 100%\n"
     ]
    },
    {
     "name": "stderr",
     "output_type": "stream",
     "text": [
      "R[write to console]: No encoding supplied: defaulting to UTF-8.\n",
      "\n",
      "R[write to console]: Error in (function (species = 3, phenophase = 371, start = \"2000-01-01\",  : \n",
      "  Query returned no data, check your input parameters!\n",
      "\n"
     ]
    },
    {
     "name": "stdout",
     "output_type": "stream",
     "text": [
      "downloading /tmp/data/NPN/phenor_npn_data_1927_371_2007-01-01_2007-12-31.rds\n",
      "  |======================================================================| 100%\n"
     ]
    },
    {
     "name": "stderr",
     "output_type": "stream",
     "text": [
      "R[write to console]: No encoding supplied: defaulting to UTF-8.\n",
      "\n",
      "R[write to console]: Error in (function (species = 3, phenophase = 371, start = \"2000-01-01\",  : \n",
      "  Query returned no data, check your input parameters!\n",
      "\n"
     ]
    },
    {
     "name": "stdout",
     "output_type": "stream",
     "text": [
      "downloading /tmp/data/NPN/phenor_npn_data_1927_373_2007-01-01_2007-12-31.rds\n",
      "  |======================================================================| 100%\n"
     ]
    },
    {
     "name": "stderr",
     "output_type": "stream",
     "text": [
      "R[write to console]: No encoding supplied: defaulting to UTF-8.\n",
      "\n",
      "R[write to console]: Error in (function (species = 3, phenophase = 371, start = \"2000-01-01\",  : \n",
      "  Query returned no data, check your input parameters!\n",
      "\n"
     ]
    },
    {
     "name": "stdout",
     "output_type": "stream",
     "text": [
      "downloading /tmp/data/NPN/phenor_npn_data_1934_371_2007-01-01_2007-12-31.rds\n",
      "  |======================================================================| 100%\n"
     ]
    },
    {
     "name": "stderr",
     "output_type": "stream",
     "text": [
      "R[write to console]: No encoding supplied: defaulting to UTF-8.\n",
      "\n",
      "R[write to console]: Error in (function (species = 3, phenophase = 371, start = \"2000-01-01\",  : \n",
      "  Query returned no data, check your input parameters!\n",
      "\n"
     ]
    },
    {
     "name": "stdout",
     "output_type": "stream",
     "text": [
      "downloading /tmp/data/NPN/phenor_npn_data_1934_373_2007-01-01_2007-12-31.rds\n",
      "  |======================================================================| 100%\n"
     ]
    },
    {
     "name": "stderr",
     "output_type": "stream",
     "text": [
      "R[write to console]: No encoding supplied: defaulting to UTF-8.\n",
      "\n",
      "R[write to console]: Error in (function (species = 3, phenophase = 371, start = \"2000-01-01\",  : \n",
      "  Query returned no data, check your input parameters!\n",
      "\n"
     ]
    },
    {
     "name": "stdout",
     "output_type": "stream",
     "text": [
      "downloading /tmp/data/NPN/phenor_npn_data_1938_371_2007-01-01_2007-12-31.rds\n",
      "  |======================================================================| 100%\n"
     ]
    },
    {
     "name": "stderr",
     "output_type": "stream",
     "text": [
      "R[write to console]: No encoding supplied: defaulting to UTF-8.\n",
      "\n",
      "R[write to console]: Error in (function (species = 3, phenophase = 371, start = \"2000-01-01\",  : \n",
      "  Query returned no data, check your input parameters!\n",
      "\n"
     ]
    },
    {
     "name": "stdout",
     "output_type": "stream",
     "text": [
      "downloading /tmp/data/NPN/phenor_npn_data_1938_373_2007-01-01_2007-12-31.rds\n",
      "  |======================================================================| 100%\n"
     ]
    },
    {
     "name": "stderr",
     "output_type": "stream",
     "text": [
      "R[write to console]: No encoding supplied: defaulting to UTF-8.\n",
      "\n",
      "R[write to console]: Error in (function (species = 3, phenophase = 371, start = \"2000-01-01\",  : \n",
      "  Query returned no data, check your input parameters!\n",
      "\n"
     ]
    },
    {
     "name": "stdout",
     "output_type": "stream",
     "text": [
      "downloading /tmp/data/NPN/phenor_npn_data_1961_371_2007-01-01_2007-12-31.rds\n",
      "  |======================================================================| 100%\n"
     ]
    },
    {
     "name": "stderr",
     "output_type": "stream",
     "text": [
      "R[write to console]: No encoding supplied: defaulting to UTF-8.\n",
      "\n",
      "R[write to console]: Error in (function (species = 3, phenophase = 371, start = \"2000-01-01\",  : \n",
      "  Query returned no data, check your input parameters!\n",
      "\n"
     ]
    },
    {
     "name": "stdout",
     "output_type": "stream",
     "text": [
      "downloading /tmp/data/NPN/phenor_npn_data_1961_373_2007-01-01_2007-12-31.rds\n",
      "  |======================================================================| 100%\n"
     ]
    },
    {
     "name": "stderr",
     "output_type": "stream",
     "text": [
      "R[write to console]: No encoding supplied: defaulting to UTF-8.\n",
      "\n",
      "R[write to console]: Error in (function (species = 3, phenophase = 371, start = \"2000-01-01\",  : \n",
      "  Query returned no data, check your input parameters!\n",
      "\n"
     ]
    },
    {
     "name": "stdout",
     "output_type": "stream",
     "text": [
      "downloading /tmp/data/NPN/phenor_npn_data_1968_371_2007-01-01_2007-12-31.rds\n",
      "  |======================================================================| 100%\n"
     ]
    },
    {
     "name": "stderr",
     "output_type": "stream",
     "text": [
      "R[write to console]: No encoding supplied: defaulting to UTF-8.\n",
      "\n",
      "R[write to console]: Error in (function (species = 3, phenophase = 371, start = \"2000-01-01\",  : \n",
      "  Query returned no data, check your input parameters!\n",
      "\n"
     ]
    },
    {
     "name": "stdout",
     "output_type": "stream",
     "text": [
      "downloading /tmp/data/NPN/phenor_npn_data_1968_373_2007-01-01_2007-12-31.rds\n",
      "  |======================================================================| 100%\n"
     ]
    },
    {
     "name": "stderr",
     "output_type": "stream",
     "text": [
      "R[write to console]: No encoding supplied: defaulting to UTF-8.\n",
      "\n",
      "R[write to console]: Error in (function (species = 3, phenophase = 371, start = \"2000-01-01\",  : \n",
      "  Query returned no data, check your input parameters!\n",
      "\n"
     ]
    },
    {
     "name": "stdout",
     "output_type": "stream",
     "text": [
      "downloading /tmp/data/NPN/phenor_npn_data_1969_371_2007-01-01_2007-12-31.rds\n",
      "  |======================================================================| 100%\n"
     ]
    },
    {
     "name": "stderr",
     "output_type": "stream",
     "text": [
      "R[write to console]: No encoding supplied: defaulting to UTF-8.\n",
      "\n",
      "R[write to console]: Error in (function (species = 3, phenophase = 371, start = \"2000-01-01\",  : \n",
      "  Query returned no data, check your input parameters!\n",
      "\n"
     ]
    },
    {
     "name": "stdout",
     "output_type": "stream",
     "text": [
      "downloading /tmp/data/NPN/phenor_npn_data_1969_373_2007-01-01_2007-12-31.rds\n",
      "  |======================================================================| 100%\n"
     ]
    },
    {
     "name": "stderr",
     "output_type": "stream",
     "text": [
      "R[write to console]: No encoding supplied: defaulting to UTF-8.\n",
      "\n",
      "R[write to console]: Error in (function (species = 3, phenophase = 371, start = \"2000-01-01\",  : \n",
      "  Query returned no data, check your input parameters!\n",
      "\n"
     ]
    },
    {
     "name": "stdout",
     "output_type": "stream",
     "text": [
      "downloading /tmp/data/NPN/phenor_npn_data_1970_371_2007-01-01_2007-12-31.rds\n",
      "  |======================================================================| 100%\n"
     ]
    },
    {
     "name": "stderr",
     "output_type": "stream",
     "text": [
      "R[write to console]: No encoding supplied: defaulting to UTF-8.\n",
      "\n",
      "R[write to console]: Error in (function (species = 3, phenophase = 371, start = \"2000-01-01\",  : \n",
      "  Query returned no data, check your input parameters!\n",
      "\n"
     ]
    },
    {
     "name": "stdout",
     "output_type": "stream",
     "text": [
      "downloading /tmp/data/NPN/phenor_npn_data_1970_373_2007-01-01_2007-12-31.rds\n",
      "  |======================================================================| 100%\n"
     ]
    },
    {
     "name": "stderr",
     "output_type": "stream",
     "text": [
      "R[write to console]: No encoding supplied: defaulting to UTF-8.\n",
      "\n",
      "R[write to console]: Error in (function (species = 3, phenophase = 371, start = \"2000-01-01\",  : \n",
      "  Query returned no data, check your input parameters!\n",
      "\n"
     ]
    },
    {
     "name": "stdout",
     "output_type": "stream",
     "text": [
      "downloading /tmp/data/NPN/phenor_npn_data_1975_371_2007-01-01_2007-12-31.rds\n",
      "  |======================================================================| 100%\n"
     ]
    },
    {
     "name": "stderr",
     "output_type": "stream",
     "text": [
      "R[write to console]: No encoding supplied: defaulting to UTF-8.\n",
      "\n",
      "R[write to console]: Error in (function (species = 3, phenophase = 371, start = \"2000-01-01\",  : \n",
      "  Query returned no data, check your input parameters!\n",
      "\n"
     ]
    },
    {
     "name": "stdout",
     "output_type": "stream",
     "text": [
      "downloading /tmp/data/NPN/phenor_npn_data_1975_373_2007-01-01_2007-12-31.rds\n",
      "  |======================================================================| 100%\n"
     ]
    },
    {
     "name": "stderr",
     "output_type": "stream",
     "text": [
      "R[write to console]: No encoding supplied: defaulting to UTF-8.\n",
      "\n",
      "R[write to console]: Error in (function (species = 3, phenophase = 371, start = \"2000-01-01\",  : \n",
      "  Query returned no data, check your input parameters!\n",
      "\n"
     ]
    },
    {
     "name": "stdout",
     "output_type": "stream",
     "text": [
      "downloading /tmp/data/NPN/phenor_npn_data_1976_371_2007-01-01_2007-12-31.rds\n",
      "  |======================================================================| 100%\n"
     ]
    },
    {
     "name": "stderr",
     "output_type": "stream",
     "text": [
      "R[write to console]: No encoding supplied: defaulting to UTF-8.\n",
      "\n",
      "R[write to console]: Error in (function (species = 3, phenophase = 371, start = \"2000-01-01\",  : \n",
      "  Query returned no data, check your input parameters!\n",
      "\n"
     ]
    },
    {
     "name": "stdout",
     "output_type": "stream",
     "text": [
      "downloading /tmp/data/NPN/phenor_npn_data_1976_373_2007-01-01_2007-12-31.rds\n",
      "  |======================================================================| 100%\n"
     ]
    },
    {
     "name": "stderr",
     "output_type": "stream",
     "text": [
      "R[write to console]: No encoding supplied: defaulting to UTF-8.\n",
      "\n",
      "R[write to console]: Error in (function (species = 3, phenophase = 371, start = \"2000-01-01\",  : \n",
      "  Query returned no data, check your input parameters!\n",
      "\n"
     ]
    },
    {
     "name": "stdout",
     "output_type": "stream",
     "text": [
      "downloading /tmp/data/NPN/phenor_npn_data_1982_371_2007-01-01_2007-12-31.rds\n",
      "  |======================================================================| 100%\n"
     ]
    },
    {
     "name": "stderr",
     "output_type": "stream",
     "text": [
      "R[write to console]: No encoding supplied: defaulting to UTF-8.\n",
      "\n",
      "R[write to console]: Error in (function (species = 3, phenophase = 371, start = \"2000-01-01\",  : \n",
      "  Query returned no data, check your input parameters!\n",
      "\n"
     ]
    },
    {
     "name": "stdout",
     "output_type": "stream",
     "text": [
      "downloading /tmp/data/NPN/phenor_npn_data_1982_373_2007-01-01_2007-12-31.rds\n",
      "  |======================================================================| 100%\n"
     ]
    },
    {
     "name": "stderr",
     "output_type": "stream",
     "text": [
      "R[write to console]: No encoding supplied: defaulting to UTF-8.\n",
      "\n",
      "R[write to console]: Error in (function (species = 3, phenophase = 371, start = \"2000-01-01\",  : \n",
      "  Query returned no data, check your input parameters!\n",
      "\n"
     ]
    },
    {
     "name": "stdout",
     "output_type": "stream",
     "text": [
      "downloading /tmp/data/NPN/phenor_npn_data_1985_371_2007-01-01_2007-12-31.rds\n",
      "  |======================================================================| 100%\n"
     ]
    },
    {
     "name": "stderr",
     "output_type": "stream",
     "text": [
      "R[write to console]: No encoding supplied: defaulting to UTF-8.\n",
      "\n",
      "R[write to console]: Error in (function (species = 3, phenophase = 371, start = \"2000-01-01\",  : \n",
      "  Query returned no data, check your input parameters!\n",
      "\n"
     ]
    },
    {
     "name": "stdout",
     "output_type": "stream",
     "text": [
      "downloading /tmp/data/NPN/phenor_npn_data_1985_373_2007-01-01_2007-12-31.rds\n",
      "  |======================================================================| 100%\n"
     ]
    },
    {
     "name": "stderr",
     "output_type": "stream",
     "text": [
      "R[write to console]: No encoding supplied: defaulting to UTF-8.\n",
      "\n",
      "R[write to console]: Error in (function (species = 3, phenophase = 371, start = \"2000-01-01\",  : \n",
      "  Query returned no data, check your input parameters!\n",
      "\n"
     ]
    },
    {
     "name": "stdout",
     "output_type": "stream",
     "text": [
      "downloading /tmp/data/NPN/phenor_npn_data_2006_371_2007-01-01_2007-12-31.rds\n",
      "  |======================================================================| 100%\n"
     ]
    },
    {
     "name": "stderr",
     "output_type": "stream",
     "text": [
      "R[write to console]: No encoding supplied: defaulting to UTF-8.\n",
      "\n",
      "R[write to console]: Error in (function (species = 3, phenophase = 371, start = \"2000-01-01\",  : \n",
      "  Query returned no data, check your input parameters!\n",
      "\n"
     ]
    },
    {
     "name": "stdout",
     "output_type": "stream",
     "text": [
      "downloading /tmp/data/NPN/phenor_npn_data_2006_373_2007-01-01_2007-12-31.rds\n",
      "  |======================================================================| 100%\n"
     ]
    },
    {
     "name": "stderr",
     "output_type": "stream",
     "text": [
      "R[write to console]: No encoding supplied: defaulting to UTF-8.\n",
      "\n",
      "R[write to console]: Error in (function (species = 3, phenophase = 371, start = \"2000-01-01\",  : \n",
      "  Query returned no data, check your input parameters!\n",
      "\n"
     ]
    },
    {
     "name": "stdout",
     "output_type": "stream",
     "text": [
      "downloading /tmp/data/NPN/phenor_npn_data_2054_371_2007-01-01_2007-12-31.rds\n",
      "  |======================================================================| 100%\n"
     ]
    },
    {
     "name": "stderr",
     "output_type": "stream",
     "text": [
      "R[write to console]: No encoding supplied: defaulting to UTF-8.\n",
      "\n",
      "R[write to console]: Error in (function (species = 3, phenophase = 371, start = \"2000-01-01\",  : \n",
      "  Query returned no data, check your input parameters!\n",
      "\n"
     ]
    },
    {
     "name": "stdout",
     "output_type": "stream",
     "text": [
      "downloading /tmp/data/NPN/phenor_npn_data_2054_373_2007-01-01_2007-12-31.rds\n",
      "  |======================================================================| 100%\n"
     ]
    },
    {
     "name": "stderr",
     "output_type": "stream",
     "text": [
      "R[write to console]: No encoding supplied: defaulting to UTF-8.\n",
      "\n",
      "R[write to console]: Error in (function (species = 3, phenophase = 371, start = \"2000-01-01\",  : \n",
      "  Query returned no data, check your input parameters!\n",
      "\n"
     ]
    },
    {
     "name": "stdout",
     "output_type": "stream",
     "text": [
      "downloading /tmp/data/NPN/phenor_npn_data_2057_371_2007-01-01_2007-12-31.rds\n",
      "  |======================================================================| 100%\n"
     ]
    },
    {
     "name": "stderr",
     "output_type": "stream",
     "text": [
      "R[write to console]: No encoding supplied: defaulting to UTF-8.\n",
      "\n",
      "R[write to console]: Error in (function (species = 3, phenophase = 371, start = \"2000-01-01\",  : \n",
      "  Query returned no data, check your input parameters!\n",
      "\n"
     ]
    },
    {
     "name": "stdout",
     "output_type": "stream",
     "text": [
      "downloading /tmp/data/NPN/phenor_npn_data_2057_373_2007-01-01_2007-12-31.rds\n",
      "  |======================================================================| 100%\n"
     ]
    },
    {
     "name": "stderr",
     "output_type": "stream",
     "text": [
      "R[write to console]: No encoding supplied: defaulting to UTF-8.\n",
      "\n",
      "R[write to console]: Error in (function (species = 3, phenophase = 371, start = \"2000-01-01\",  : \n",
      "  Query returned no data, check your input parameters!\n",
      "\n"
     ]
    },
    {
     "name": "stdout",
     "output_type": "stream",
     "text": [
      "downloading /tmp/data/NPN/phenor_npn_data_2064_371_2007-01-01_2007-12-31.rds\n",
      "  |======================================================================| 100%\n"
     ]
    },
    {
     "name": "stderr",
     "output_type": "stream",
     "text": [
      "R[write to console]: No encoding supplied: defaulting to UTF-8.\n",
      "\n",
      "R[write to console]: Error in (function (species = 3, phenophase = 371, start = \"2000-01-01\",  : \n",
      "  Query returned no data, check your input parameters!\n",
      "\n"
     ]
    },
    {
     "name": "stdout",
     "output_type": "stream",
     "text": [
      "downloading /tmp/data/NPN/phenor_npn_data_2064_373_2007-01-01_2007-12-31.rds\n",
      "  |======================================================================| 100%\n"
     ]
    },
    {
     "name": "stderr",
     "output_type": "stream",
     "text": [
      "R[write to console]: No encoding supplied: defaulting to UTF-8.\n",
      "\n",
      "R[write to console]: Error in (function (species = 3, phenophase = 371, start = \"2000-01-01\",  : \n",
      "  Query returned no data, check your input parameters!\n",
      "\n"
     ]
    },
    {
     "name": "stdout",
     "output_type": "stream",
     "text": [
      "downloading /tmp/data/NPN/phenor_npn_data_2139_371_2007-01-01_2007-12-31.rds\n",
      "  |======================================================================| 100%\n"
     ]
    },
    {
     "name": "stderr",
     "output_type": "stream",
     "text": [
      "R[write to console]: No encoding supplied: defaulting to UTF-8.\n",
      "\n",
      "R[write to console]: Error in (function (species = 3, phenophase = 371, start = \"2000-01-01\",  : \n",
      "  Query returned no data, check your input parameters!\n",
      "\n"
     ]
    },
    {
     "name": "stdout",
     "output_type": "stream",
     "text": [
      "downloading /tmp/data/NPN/phenor_npn_data_2139_373_2007-01-01_2007-12-31.rds\n",
      "  |======================================================================| 100%\n"
     ]
    },
    {
     "name": "stderr",
     "output_type": "stream",
     "text": [
      "R[write to console]: No encoding supplied: defaulting to UTF-8.\n",
      "\n",
      "R[write to console]: Error in (function (species = 3, phenophase = 371, start = \"2000-01-01\",  : \n",
      "  Query returned no data, check your input parameters!\n",
      "\n"
     ]
    },
    {
     "name": "stdout",
     "output_type": "stream",
     "text": [
      "[]\n"
     ]
    },
    {
     "ename": "ValueError",
     "evalue": "No objects to concatenate",
     "output_type": "error",
     "traceback": [
      "\u001b[0;31m---------------------------------------------------------------------------\u001b[0m",
      "\u001b[0;31mValueError\u001b[0m                                Traceback (most recent call last)",
      "Cell \u001b[0;32mIn[20], line 22\u001b[0m\n\u001b[1;32m     19\u001b[0m \u001b[38;5;28mprint\u001b[39m(all_filenames)\n\u001b[1;32m     21\u001b[0m \u001b[38;5;66;03m# combine all files in the list\u001b[39;00m\n\u001b[0;32m---> 22\u001b[0m combined_csv \u001b[38;5;241m=\u001b[39m \u001b[43mpd\u001b[49m\u001b[38;5;241;43m.\u001b[39;49m\u001b[43mconcat\u001b[49m\u001b[43m(\u001b[49m\u001b[43m[\u001b[49m\u001b[43mpd\u001b[49m\u001b[38;5;241;43m.\u001b[39;49m\u001b[43mread_csv\u001b[49m\u001b[43m(\u001b[49m\u001b[43mf\u001b[49m\u001b[43m)\u001b[49m\u001b[43m \u001b[49m\u001b[38;5;28;43;01mfor\u001b[39;49;00m\u001b[43m \u001b[49m\u001b[43mf\u001b[49m\u001b[43m \u001b[49m\u001b[38;5;129;43;01min\u001b[39;49;00m\u001b[43m \u001b[49m\u001b[43mall_filenames\u001b[49m\u001b[43m \u001b[49m\u001b[43m]\u001b[49m\u001b[43m)\u001b[49m\n\u001b[1;32m     23\u001b[0m combined_csv\u001b[38;5;241m.\u001b[39mto_csv( current_path \u001b[38;5;241m+\u001b[39m \u001b[38;5;124m\"\u001b[39m\u001b[38;5;124m/combined_csv.csv\u001b[39m\u001b[38;5;124m\"\u001b[39m, index\u001b[38;5;241m=\u001b[39m\u001b[38;5;28;01mFalse\u001b[39;00m, encoding\u001b[38;5;241m=\u001b[39m\u001b[38;5;124m'\u001b[39m\u001b[38;5;124mutf-8-sig\u001b[39m\u001b[38;5;124m'\u001b[39m)\n",
      "File \u001b[0;32m~/mambaforge-pypy3/envs/springtime/lib/python3.9/site-packages/pandas/util/_decorators.py:331\u001b[0m, in \u001b[0;36mdeprecate_nonkeyword_arguments.<locals>.decorate.<locals>.wrapper\u001b[0;34m(*args, **kwargs)\u001b[0m\n\u001b[1;32m    325\u001b[0m \u001b[38;5;28;01mif\u001b[39;00m \u001b[38;5;28mlen\u001b[39m(args) \u001b[38;5;241m>\u001b[39m num_allow_args:\n\u001b[1;32m    326\u001b[0m     warnings\u001b[38;5;241m.\u001b[39mwarn(\n\u001b[1;32m    327\u001b[0m         msg\u001b[38;5;241m.\u001b[39mformat(arguments\u001b[38;5;241m=\u001b[39m_format_argument_list(allow_args)),\n\u001b[1;32m    328\u001b[0m         \u001b[38;5;167;01mFutureWarning\u001b[39;00m,\n\u001b[1;32m    329\u001b[0m         stacklevel\u001b[38;5;241m=\u001b[39mfind_stack_level(),\n\u001b[1;32m    330\u001b[0m     )\n\u001b[0;32m--> 331\u001b[0m \u001b[38;5;28;01mreturn\u001b[39;00m \u001b[43mfunc\u001b[49m\u001b[43m(\u001b[49m\u001b[38;5;241;43m*\u001b[39;49m\u001b[43margs\u001b[49m\u001b[43m,\u001b[49m\u001b[43m \u001b[49m\u001b[38;5;241;43m*\u001b[39;49m\u001b[38;5;241;43m*\u001b[39;49m\u001b[43mkwargs\u001b[49m\u001b[43m)\u001b[49m\n",
      "File \u001b[0;32m~/mambaforge-pypy3/envs/springtime/lib/python3.9/site-packages/pandas/core/reshape/concat.py:368\u001b[0m, in \u001b[0;36mconcat\u001b[0;34m(objs, axis, join, ignore_index, keys, levels, names, verify_integrity, sort, copy)\u001b[0m\n\u001b[1;32m    146\u001b[0m \u001b[38;5;129m@deprecate_nonkeyword_arguments\u001b[39m(version\u001b[38;5;241m=\u001b[39m\u001b[38;5;28;01mNone\u001b[39;00m, allowed_args\u001b[38;5;241m=\u001b[39m[\u001b[38;5;124m\"\u001b[39m\u001b[38;5;124mobjs\u001b[39m\u001b[38;5;124m\"\u001b[39m])\n\u001b[1;32m    147\u001b[0m \u001b[38;5;28;01mdef\u001b[39;00m \u001b[38;5;21mconcat\u001b[39m(\n\u001b[1;32m    148\u001b[0m     objs: Iterable[NDFrame] \u001b[38;5;241m|\u001b[39m Mapping[HashableT, NDFrame],\n\u001b[0;32m   (...)\u001b[0m\n\u001b[1;32m    157\u001b[0m     copy: \u001b[38;5;28mbool\u001b[39m \u001b[38;5;241m=\u001b[39m \u001b[38;5;28;01mTrue\u001b[39;00m,\n\u001b[1;32m    158\u001b[0m ) \u001b[38;5;241m-\u001b[39m\u001b[38;5;241m>\u001b[39m DataFrame \u001b[38;5;241m|\u001b[39m Series:\n\u001b[1;32m    159\u001b[0m \u001b[38;5;250m    \u001b[39m\u001b[38;5;124;03m\"\"\"\u001b[39;00m\n\u001b[1;32m    160\u001b[0m \u001b[38;5;124;03m    Concatenate pandas objects along a particular axis.\u001b[39;00m\n\u001b[1;32m    161\u001b[0m \n\u001b[0;32m   (...)\u001b[0m\n\u001b[1;32m    366\u001b[0m \u001b[38;5;124;03m    1   3   4\u001b[39;00m\n\u001b[1;32m    367\u001b[0m \u001b[38;5;124;03m    \"\"\"\u001b[39;00m\n\u001b[0;32m--> 368\u001b[0m     op \u001b[38;5;241m=\u001b[39m \u001b[43m_Concatenator\u001b[49m\u001b[43m(\u001b[49m\n\u001b[1;32m    369\u001b[0m \u001b[43m        \u001b[49m\u001b[43mobjs\u001b[49m\u001b[43m,\u001b[49m\n\u001b[1;32m    370\u001b[0m \u001b[43m        \u001b[49m\u001b[43maxis\u001b[49m\u001b[38;5;241;43m=\u001b[39;49m\u001b[43maxis\u001b[49m\u001b[43m,\u001b[49m\n\u001b[1;32m    371\u001b[0m \u001b[43m        \u001b[49m\u001b[43mignore_index\u001b[49m\u001b[38;5;241;43m=\u001b[39;49m\u001b[43mignore_index\u001b[49m\u001b[43m,\u001b[49m\n\u001b[1;32m    372\u001b[0m \u001b[43m        \u001b[49m\u001b[43mjoin\u001b[49m\u001b[38;5;241;43m=\u001b[39;49m\u001b[43mjoin\u001b[49m\u001b[43m,\u001b[49m\n\u001b[1;32m    373\u001b[0m \u001b[43m        \u001b[49m\u001b[43mkeys\u001b[49m\u001b[38;5;241;43m=\u001b[39;49m\u001b[43mkeys\u001b[49m\u001b[43m,\u001b[49m\n\u001b[1;32m    374\u001b[0m \u001b[43m        \u001b[49m\u001b[43mlevels\u001b[49m\u001b[38;5;241;43m=\u001b[39;49m\u001b[43mlevels\u001b[49m\u001b[43m,\u001b[49m\n\u001b[1;32m    375\u001b[0m \u001b[43m        \u001b[49m\u001b[43mnames\u001b[49m\u001b[38;5;241;43m=\u001b[39;49m\u001b[43mnames\u001b[49m\u001b[43m,\u001b[49m\n\u001b[1;32m    376\u001b[0m \u001b[43m        \u001b[49m\u001b[43mverify_integrity\u001b[49m\u001b[38;5;241;43m=\u001b[39;49m\u001b[43mverify_integrity\u001b[49m\u001b[43m,\u001b[49m\n\u001b[1;32m    377\u001b[0m \u001b[43m        \u001b[49m\u001b[43mcopy\u001b[49m\u001b[38;5;241;43m=\u001b[39;49m\u001b[43mcopy\u001b[49m\u001b[43m,\u001b[49m\n\u001b[1;32m    378\u001b[0m \u001b[43m        \u001b[49m\u001b[43msort\u001b[49m\u001b[38;5;241;43m=\u001b[39;49m\u001b[43msort\u001b[49m\u001b[43m,\u001b[49m\n\u001b[1;32m    379\u001b[0m \u001b[43m    \u001b[49m\u001b[43m)\u001b[49m\n\u001b[1;32m    381\u001b[0m     \u001b[38;5;28;01mreturn\u001b[39;00m op\u001b[38;5;241m.\u001b[39mget_result()\n",
      "File \u001b[0;32m~/mambaforge-pypy3/envs/springtime/lib/python3.9/site-packages/pandas/core/reshape/concat.py:425\u001b[0m, in \u001b[0;36m_Concatenator.__init__\u001b[0;34m(self, objs, axis, join, keys, levels, names, ignore_index, verify_integrity, copy, sort)\u001b[0m\n\u001b[1;32m    422\u001b[0m     objs \u001b[38;5;241m=\u001b[39m \u001b[38;5;28mlist\u001b[39m(objs)\n\u001b[1;32m    424\u001b[0m \u001b[38;5;28;01mif\u001b[39;00m \u001b[38;5;28mlen\u001b[39m(objs) \u001b[38;5;241m==\u001b[39m \u001b[38;5;241m0\u001b[39m:\n\u001b[0;32m--> 425\u001b[0m     \u001b[38;5;28;01mraise\u001b[39;00m \u001b[38;5;167;01mValueError\u001b[39;00m(\u001b[38;5;124m\"\u001b[39m\u001b[38;5;124mNo objects to concatenate\u001b[39m\u001b[38;5;124m\"\u001b[39m)\n\u001b[1;32m    427\u001b[0m \u001b[38;5;28;01mif\u001b[39;00m keys \u001b[38;5;129;01mis\u001b[39;00m \u001b[38;5;28;01mNone\u001b[39;00m:\n\u001b[1;32m    428\u001b[0m     objs \u001b[38;5;241m=\u001b[39m \u001b[38;5;28mlist\u001b[39m(com\u001b[38;5;241m.\u001b[39mnot_none(\u001b[38;5;241m*\u001b[39mobjs))\n",
      "\u001b[0;31mValueError\u001b[0m: No objects to concatenate"
     ]
    }
   ],
   "source": [
    "#ls_species = ls_sp1\n",
    "ls_species = ls_sp2\n",
    "ls_phases = [371,373]\n",
    "with tempfile.TemporaryDirectory() as tmpdirname:\n",
    "    for i in ls_species:\n",
    "        for j in ls_phases:\n",
    "            try:\n",
    "                dataset = NPNPhenor(species=i, phenophase=j, years=[2007, 2018])\n",
    "                dataset.download()\n",
    "                df1 = dataset.load()\n",
    "                df1.to_csv(tmpdirname + \"/species_\" + str(i)+str(j)+ \".csv\")\n",
    "                print(df1.shape)\n",
    "            except:\n",
    "                pass\n",
    "\n",
    "    # list all CSV files in working directory.\n",
    "    os.chdir(tmpdirname)\n",
    "    all_filenames = [i for i in glob.glob('*.csv')]\n",
    "    print(all_filenames)\n",
    "    \n",
    "    # combine all files in the list\n",
    "    combined_csv = pd.concat([pd.read_csv(f) for f in all_filenames ])\n",
    "    combined_csv.to_csv( current_path + \"/combined_csv.csv\", index=False, encoding='utf-8-sig')"
   ]
  },
  {
   "cell_type": "code",
   "execution_count": null,
   "id": "84aaf938-f8a8-4fa4-b4bc-1ebb92784fab",
   "metadata": {},
   "outputs": [],
   "source": [
    "# dataset = NPNPhenor(species=36, phenophase=483, years=[2012, 2013])\n",
    "# dataset.download()\n",
    "# df1 = dataset.load()\n",
    "# list(df1.columns)"
   ]
  },
  {
   "cell_type": "code",
   "execution_count": null,
   "id": "bac02238-6613-4abe-8be5-33d163b49329",
   "metadata": {},
   "outputs": [],
   "source": []
  }
 ],
 "metadata": {
  "kernelspec": {
   "display_name": "Springtime NB",
   "language": "python",
   "name": "springtime_nb"
  },
  "language_info": {
   "codemirror_mode": {
    "name": "ipython",
    "version": 3
   },
   "file_extension": ".py",
   "mimetype": "text/x-python",
   "name": "python",
   "nbconvert_exporter": "python",
   "pygments_lexer": "ipython3",
   "version": "3.10.0"
  }
 },
 "nbformat": 4,
 "nbformat_minor": 5
}
