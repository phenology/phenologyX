{
 "cells": [
  {
   "cell_type": "markdown",
   "id": "18c79f8b-c888-4b03-a255-1adfc813fd10",
   "metadata": {},
   "source": [
    "# Modelling for predicting the spring onset of natural vegetation across the Northern Hemisphere\n",
    "\n",
    "https://doi.org/10.1016/j.ecolind.2021.108126\n"
   ]
  },
  {
   "cell_type": "markdown",
   "id": "aedb37bc-126b-4a09-9fbd-4a4c38295187",
   "metadata": {},
   "source": [
    "## Data\n",
    "\n",
    "- Observation data from the USA National Phenology Network (USA-NPN)\n",
    "- MODIS land cover type product and the land cover dynamics product\n",
    "- Daymet gridded climate data covering Northern America\n",
    "- Climate data obtained from Global Land Data Assimilation System (GLDAS) covering the Northern Hemisphere"
   ]
  },
  {
   "cell_type": "markdown",
   "id": "7102c4b8-b70d-4e80-be4c-0d5ba9e30b29",
   "metadata": {},
   "source": [
    "### USA-NPN\n",
    "\n",
    "- Observation records of vegetation phenology from 2895 sites from 2007 to 2017\n",
    "- Four vegetation types defined in the USA-NPN dataset, including deciduous broadleaf forests (DBF), evergreen broadleaf forests (EBF), graminoid (GRA), and drought deciduous broadleaf forests (DDBF)\n",
    "- Spring onset: breaking leaf buds for DBF, breaking leaf buds for ENF, breaking leaf buds for DDBF, and initial growth of grasses/sedges for GRA\n",
    "- Averaging the timing of spring onsets for all records at the same site in the same year\n",
    "- Excluding observation data in the sites located in the pixels that are classified as urban and build-up in the MODIS land cover maps"
   ]
  },
  {
   "cell_type": "code",
   "execution_count": 1,
   "id": "4535bcd5-66cc-4a24-83d5-5526be46a71d",
   "metadata": {
    "tags": []
   },
   "outputs": [],
   "source": [
    "import springtime\n",
    "from springtime.datasets.rnpn import RNPN, npn_species, npn_phenophases"
   ]
  },
  {
   "cell_type": "markdown",
   "id": "efba4069-9554-49d0-8c7f-f9e2d1519713",
   "metadata": {},
   "source": [
    "# Find species"
   ]
  },
  {
   "cell_type": "code",
   "execution_count": 2,
   "id": "1e85ce37-7712-4845-bab4-c8bd8643a39b",
   "metadata": {
    "tags": []
   },
   "outputs": [
    {
     "data": {
      "text/html": [
       "<div>\n",
       "<style scoped>\n",
       "    .dataframe tbody tr th:only-of-type {\n",
       "        vertical-align: middle;\n",
       "    }\n",
       "\n",
       "    .dataframe tbody tr th {\n",
       "        vertical-align: top;\n",
       "    }\n",
       "\n",
       "    .dataframe thead th {\n",
       "        text-align: right;\n",
       "    }\n",
       "</style>\n",
       "<table border=\"1\" class=\"dataframe\">\n",
       "  <thead>\n",
       "    <tr style=\"text-align: right;\">\n",
       "      <th></th>\n",
       "      <th>species_id</th>\n",
       "      <th>common_name</th>\n",
       "      <th>genus</th>\n",
       "      <th>genus_id</th>\n",
       "      <th>genus_common_name</th>\n",
       "      <th>species</th>\n",
       "      <th>kingdom</th>\n",
       "      <th>itis_taxonomic_sn</th>\n",
       "      <th>functional_type</th>\n",
       "      <th>class_id</th>\n",
       "      <th>class_common_name</th>\n",
       "      <th>class_name</th>\n",
       "      <th>order_id</th>\n",
       "      <th>order_common_name</th>\n",
       "      <th>order_name</th>\n",
       "      <th>family_id</th>\n",
       "      <th>family_name</th>\n",
       "      <th>family_common_name</th>\n",
       "    </tr>\n",
       "  </thead>\n",
       "  <tbody>\n",
       "    <tr>\n",
       "      <th>1</th>\n",
       "      <td>120</td>\n",
       "      <td>'ohi'a lehua</td>\n",
       "      <td>Metrosideros</td>\n",
       "      <td>798</td>\n",
       "      <td>Lehuas (Metrosideros)</td>\n",
       "      <td>polymorpha</td>\n",
       "      <td>Plantae</td>\n",
       "      <td>27259</td>\n",
       "      <td>Evergreen broadleaf</td>\n",
       "      <td>15</td>\n",
       "      <td>Flowering Plants</td>\n",
       "      <td>Magnoliopsida</td>\n",
       "      <td>89</td>\n",
       "      <td>Myrtle and Evening-primrose Families</td>\n",
       "      <td>Myrtales</td>\n",
       "      <td>301</td>\n",
       "      <td>Myrtaceae</td>\n",
       "      <td>Myrtle Family</td>\n",
       "    </tr>\n",
       "    <tr>\n",
       "      <th>2</th>\n",
       "      <td>1436</td>\n",
       "      <td>absinthium</td>\n",
       "      <td>Artemisia</td>\n",
       "      <td>437</td>\n",
       "      <td>Sagebrushes (Artemisia)</td>\n",
       "      <td>absinthium</td>\n",
       "      <td>Plantae</td>\n",
       "      <td>35445</td>\n",
       "      <td>Forb</td>\n",
       "      <td>15</td>\n",
       "      <td>Flowering Plants</td>\n",
       "      <td>Magnoliopsida</td>\n",
       "      <td>69</td>\n",
       "      <td>Aster, Bellflower and Buckbean Families</td>\n",
       "      <td>Asterales</td>\n",
       "      <td>242</td>\n",
       "      <td>Asteraceae</td>\n",
       "      <td>Aster Family</td>\n",
       "    </tr>\n",
       "    <tr>\n",
       "      <th>3</th>\n",
       "      <td>1227</td>\n",
       "      <td>Acadian flycatcher</td>\n",
       "      <td>Empidonax</td>\n",
       "      <td>612</td>\n",
       "      <td>Empidonax Flycatchers (Empidonax)</td>\n",
       "      <td>virescens</td>\n",
       "      <td>Animalia</td>\n",
       "      <td>178339</td>\n",
       "      <td>Bird</td>\n",
       "      <td>5</td>\n",
       "      <td>Birds</td>\n",
       "      <td>Aves</td>\n",
       "      <td>31</td>\n",
       "      <td>Perching Birds</td>\n",
       "      <td>Passeriformes</td>\n",
       "      <td>154</td>\n",
       "      <td>Tyrannidae</td>\n",
       "      <td>Tyrant Flycatchers</td>\n",
       "    </tr>\n",
       "    <tr>\n",
       "      <th>4</th>\n",
       "      <td>1229</td>\n",
       "      <td>acorn woodpecker</td>\n",
       "      <td>Melanerpes</td>\n",
       "      <td>790</td>\n",
       "      <td>Melanerpine Woodpeckers (Melanerpes)</td>\n",
       "      <td>formicivorus</td>\n",
       "      <td>Animalia</td>\n",
       "      <td>178189</td>\n",
       "      <td>Bird</td>\n",
       "      <td>5</td>\n",
       "      <td>Birds</td>\n",
       "      <td>Aves</td>\n",
       "      <td>33</td>\n",
       "      <td>Woodpeckers</td>\n",
       "      <td>Piciformes</td>\n",
       "      <td>158</td>\n",
       "      <td>Picidae</td>\n",
       "      <td>Woodpeckers</td>\n",
       "    </tr>\n",
       "    <tr>\n",
       "      <th>5</th>\n",
       "      <td>2110</td>\n",
       "      <td>Adam and Eve</td>\n",
       "      <td>Aplectrum</td>\n",
       "      <td>1285</td>\n",
       "      <td>Adam and Eves (Aplectrum)</td>\n",
       "      <td>hyemale</td>\n",
       "      <td>Plantae</td>\n",
       "      <td>43489</td>\n",
       "      <td>Forb</td>\n",
       "      <td>15</td>\n",
       "      <td>Flowering Plants</td>\n",
       "      <td>Magnoliopsida</td>\n",
       "      <td>68</td>\n",
       "      <td>Asparagas, Iris, Orchid and Aloe Families</td>\n",
       "      <td>Asparagales</td>\n",
       "      <td>307</td>\n",
       "      <td>Orchidaceae</td>\n",
       "      <td>Orchid Family</td>\n",
       "    </tr>\n",
       "  </tbody>\n",
       "</table>\n",
       "</div>"
      ],
      "text/plain": [
       "   species_id         common_name         genus  genus_id  \\\n",
       "1         120        'ohi'a lehua  Metrosideros       798   \n",
       "2        1436          absinthium     Artemisia       437   \n",
       "3        1227  Acadian flycatcher     Empidonax       612   \n",
       "4        1229    acorn woodpecker    Melanerpes       790   \n",
       "5        2110        Adam and Eve     Aplectrum      1285   \n",
       "\n",
       "                      genus_common_name       species   kingdom  \\\n",
       "1                 Lehuas (Metrosideros)    polymorpha   Plantae   \n",
       "2               Sagebrushes (Artemisia)    absinthium   Plantae   \n",
       "3     Empidonax Flycatchers (Empidonax)     virescens  Animalia   \n",
       "4  Melanerpine Woodpeckers (Melanerpes)  formicivorus  Animalia   \n",
       "5             Adam and Eves (Aplectrum)       hyemale   Plantae   \n",
       "\n",
       "   itis_taxonomic_sn      functional_type  class_id class_common_name  \\\n",
       "1              27259  Evergreen broadleaf        15  Flowering Plants   \n",
       "2              35445                 Forb        15  Flowering Plants   \n",
       "3             178339                 Bird         5             Birds   \n",
       "4             178189                 Bird         5             Birds   \n",
       "5              43489                 Forb        15  Flowering Plants   \n",
       "\n",
       "      class_name  order_id                          order_common_name  \\\n",
       "1  Magnoliopsida        89       Myrtle and Evening-primrose Families   \n",
       "2  Magnoliopsida        69    Aster, Bellflower and Buckbean Families   \n",
       "3           Aves        31                             Perching Birds   \n",
       "4           Aves        33                                Woodpeckers   \n",
       "5  Magnoliopsida        68  Asparagas, Iris, Orchid and Aloe Families   \n",
       "\n",
       "      order_name  family_id  family_name  family_common_name  \n",
       "1       Myrtales        301    Myrtaceae       Myrtle Family  \n",
       "2      Asterales        242   Asteraceae        Aster Family  \n",
       "3  Passeriformes        154   Tyrannidae  Tyrant Flycatchers  \n",
       "4     Piciformes        158      Picidae         Woodpeckers  \n",
       "5    Asparagales        307  Orchidaceae       Orchid Family  "
      ]
     },
     "execution_count": 2,
     "metadata": {},
     "output_type": "execute_result"
    }
   ],
   "source": [
    "# List IDs and names for available species, phenophases\n",
    "species = npn_species()\n",
    "species.head()"
   ]
  },
  {
   "cell_type": "code",
   "execution_count": 25,
   "id": "f76585b2-2160-4d19-b98d-3d4b38456eb4",
   "metadata": {
    "tags": []
   },
   "outputs": [],
   "source": [
    "from springtime.utils import NamedIdentifiers\n",
    "\n",
    "def npn_species_ids_by_functional_type(functional_type):\n",
    "    species = lookup(npn_species(), \"functional_type\", functional_type)\n",
    "    return NamedIdentifiers(name=functional_type, items=species.species_id.to_list())\n",
    "\n",
    "def npn_phenophase_ids_by_name(phenophase_name):\n",
    "    phenophases = lookup(npn_phenophases(), \"phenophase_name\", phenophase_name)\n",
    "    return NamedIdentifiers(name=phenophase_name, items=phenophases.phenophase_id.to_list())\n",
    "\n",
    "def lookup(df, column, expression):\n",
    "    \"\"\"Return rows where column matches expression.\"\"\"\n",
    "    return df[df[column].str.lower().str.contains(expression.lower())]"
   ]
  },
  {
   "cell_type": "code",
   "execution_count": 16,
   "id": "f01a76ba-f15b-4d95-880a-d39cafc1c38e",
   "metadata": {
    "tags": []
   },
   "outputs": [
    {
     "data": {
      "text/plain": [
       "NamedIdentifiers(name='Deciduous broadleaf', items=[1174, 1446, 93, 812, 79, 1832, 724, 1048, 71, 823, 91, 206, 1762, 970, 1455, 76, 1245, 1246, 810, 126, 444, 1208, 1362, 1007, 1353, 20, 717, 1447, 2087, 1173, 1857, 124, 320, 1483, 1461, 982, 72, 1485, 1878, 1875, 1880, 1355, 105, 802, 1, 1188, 778, 87, 1176, 873, 28, 1849, 1481, 90, 839, 1458, 33, 1591, 1159, 1013, 80, 1494, 440, 941, 1510, 1691, 1015, 122, 2093, 2046, 328, 2, 799, 859, 1462, 2042, 101, 1452, 788, 2131, 1466, 2143, 765, 858, 713, 1211, 1161, 1632, 64, 1373, 1181, 1649, 871, 1682, 776, 1358, 2085, 1049, 2066, 2052, 1212, 1748, 1045, 2050, 29, 293, 796, 1807, 89, 201, 829, 36, 1364, 303, 2101, 1431, 92, 897, 1499, 125, 2145, 1759, 108, 896, 1489, 1732, 828, 1341, 22, 832, 1071, 835, 944, 322, 1493, 430, 2053, 1000, 1817, 804, 976, 1733, 708, 1044, 7, 1780, 854, 1432, 1736, 1781, 1760, 1363, 1771, 836, 1913, 1006, 2142, 12, 73, 1066, 1367, 1843, 977, 2027, 988, 1871, 996, 1744, 1163, 1636, 1470, 62, 1805, 1448, 319, 75, 2082, 77, 775, 1463, 2071, 66, 1162, 1608, 94, 95, 84, 885, 949, 1716, 1487, 942, 1468, 1250, 1438, 227, 1835, 1374, 1923, 1741, 1179, 1839, 1344, 216, 789, 214, 1169, 1775, 1072, 1503, 884, 723, 1214, 1509, 1477, 85, 2162, 1779, 1754, 2059, 1177, 1471, 1758, 2140, 1184, 1199, 1033, 1338, 1248, 2097, 225, 983, 1361, 1371, 1342, 1009, 1674, 827, 1370, 1001, 1761, 102, 915, 779, 1822, 312, 16, 783, 1840, 771, 872, 316, 1854, 1997, 2047, 69, 962, 1191, 1498, 99, 83, 1201, 88, 824, 1776, 67, 1189, 989, 1437, 992, 1500, 1616, 1698, 1755, 2060, 1900, 999, 1008, 27, 1345, 63, 784, 1200, 325, 1897, 1059, 3, 2007, 35, 1372, 997, 70, 1439, 1850, 1339, 59, 1821, 1030, 1607, 1730, 436, 314, 1023, 1348, 719, 2061, 2048, 798, 4, 1019, 1756, 2044, 844, 1010, 1482, 837, 68, 1190, 1987, 211, 1213, 1215, 1491, 1692, 1777, 781, 1680, 1216, 1060, 2036, 994, 1753, 1187, 1217, 1484, 1924, 1965, 315, 1207, 292, 1456, 60, 61, 1605, 1450, 2049, 2043, 1967, 86, 98, 923, 935, 81, 780, 128, 770, 1876, 321, 1056, 1472, 1622, 1719, 309, 920, 82, 1486, 919, 1977, 1185, 65, 704, 1031, 1350, 317, 1505, 777, 952, 1851, 940, 1369, 764, 2116, 1647, 74, 78, 1728, 118, 326, 100, 984, 1506, 2194, 2138, 1734, 1366, 96, 1873, 1192, 993, 1618, 1818, 217, 1905, 97, 1172, 1495, 123, 228])"
      ]
     },
     "execution_count": 16,
     "metadata": {},
     "output_type": "execute_result"
    }
   ],
   "source": [
    "deciduous_broadleaf = npn_species_ids_by_functional_type(\"Deciduous broadleaf\")\n",
    "deciduous_broadleaf"
   ]
  },
  {
   "cell_type": "code",
   "execution_count": 22,
   "id": "565383b1-8928-4efd-89ae-bbec38cdfa6d",
   "metadata": {
    "tags": []
   },
   "outputs": [
    {
     "data": {
      "text/plain": [
       "NamedIdentifiers(name='Evergreen broadleaf', items=[120, 1343, 1861, 1847, 1717, 1982, 1365, 1804, 1068, 857, 106, 757, 1178, 1910, 313, 905, 790, 1968, 1803, 706, 1444, 111, 298, 1004, 1160, 1057, 1166, 705, 877, 1970, 925, 2057, 2030, 1887, 701, 981, 1206, 218, 1067, 1346, 2080, 702, 1055, 119, 117, 1003, 2045, 1593, 441, 2164, 2064, 879, 112, 987, 1690, 895, 887, 880, 1504, 1938, 933, 221, 2139, 435, 1976, 1799, 913, 1490, 761, 1954, 974, 1845, 115, 1002, 980, 924, 113, 2054, 1247, 769, 442, 104, 103, 121, 301, 318, 1985, 1870, 324, 785, 995, 1975, 329, 305, 1961, 226, 907, 1644, 986, 443, 1688, 1609, 904, 1927, 760, 1430, 860, 1475, 109, 1360, 114, 793, 716, 1594, 1322, 2006, 743, 1628, 1324, 1689, 1469, 1443, 110, 1824, 127, 1969, 1479, 1681, 1830, 1359, 311, 830, 297, 306, 1892, 985, 903, 2092, 979, 1058, 327, 107, 1170, 1069, 1474, 721, 1720, 1368, 1626, 909, 1323, 1934, 707, 861, 1349, 2051, 878, 722, 1602, 1922, 116, 1011, 1846, 766, 222, 1351, 1467, 1766])"
      ]
     },
     "execution_count": 22,
     "metadata": {},
     "output_type": "execute_result"
    }
   ],
   "source": [
    "evergreen_broadleaf = npn_species_ids_by_functional_type(\"Evergreen broadleaf\")\n",
    "evergreen_broadleaf"
   ]
  },
  {
   "cell_type": "markdown",
   "id": "fd4d8bc3-9cdc-4841-a74e-8213403e43a1",
   "metadata": {},
   "source": [
    "# Phenophases"
   ]
  },
  {
   "cell_type": "code",
   "execution_count": 5,
   "id": "d31d0d39-9518-46e0-86d1-946759039424",
   "metadata": {
    "tags": []
   },
   "outputs": [
    {
     "data": {
      "text/html": [
       "<div>\n",
       "<style scoped>\n",
       "    .dataframe tbody tr th:only-of-type {\n",
       "        vertical-align: middle;\n",
       "    }\n",
       "\n",
       "    .dataframe tbody tr th {\n",
       "        vertical-align: top;\n",
       "    }\n",
       "\n",
       "    .dataframe thead th {\n",
       "        text-align: right;\n",
       "    }\n",
       "</style>\n",
       "<table border=\"1\" class=\"dataframe\">\n",
       "  <thead>\n",
       "    <tr style=\"text-align: right;\">\n",
       "      <th></th>\n",
       "      <th>phenophase_id</th>\n",
       "      <th>phenophase_name</th>\n",
       "      <th>phenophase_category</th>\n",
       "      <th>color</th>\n",
       "      <th>pheno_class_id</th>\n",
       "    </tr>\n",
       "  </thead>\n",
       "  <tbody>\n",
       "    <tr>\n",
       "      <th>1</th>\n",
       "      <td>56</td>\n",
       "      <td>First leaf</td>\n",
       "      <td>Leaves</td>\n",
       "      <td>NA_character_</td>\n",
       "      <td>1</td>\n",
       "    </tr>\n",
       "    <tr>\n",
       "      <th>2</th>\n",
       "      <td>57</td>\n",
       "      <td>75% leaf elongation</td>\n",
       "      <td>Leaves</td>\n",
       "      <td>NA_character_</td>\n",
       "      <td>2</td>\n",
       "    </tr>\n",
       "    <tr>\n",
       "      <th>3</th>\n",
       "      <td>58</td>\n",
       "      <td>First flower</td>\n",
       "      <td>Flowers</td>\n",
       "      <td>NA_character_</td>\n",
       "      <td>7</td>\n",
       "    </tr>\n",
       "    <tr>\n",
       "      <th>4</th>\n",
       "      <td>59</td>\n",
       "      <td>Last flower</td>\n",
       "      <td>Flowers</td>\n",
       "      <td>NA_character_</td>\n",
       "      <td>9</td>\n",
       "    </tr>\n",
       "    <tr>\n",
       "      <th>5</th>\n",
       "      <td>60</td>\n",
       "      <td>First fruit ripe</td>\n",
       "      <td>Fruits</td>\n",
       "      <td>NA_character_</td>\n",
       "      <td>12</td>\n",
       "    </tr>\n",
       "  </tbody>\n",
       "</table>\n",
       "</div>"
      ],
      "text/plain": [
       "   phenophase_id       phenophase_name phenophase_category          color  \\\n",
       "1             56           First leaf               Leaves  NA_character_   \n",
       "2             57  75% leaf elongation               Leaves  NA_character_   \n",
       "3             58         First flower              Flowers  NA_character_   \n",
       "4             59           Last flower             Flowers  NA_character_   \n",
       "5             60     First fruit ripe               Fruits  NA_character_   \n",
       "\n",
       "   pheno_class_id  \n",
       "1               1  \n",
       "2               2  \n",
       "3               7  \n",
       "4               9  \n",
       "5              12  "
      ]
     },
     "execution_count": 5,
     "metadata": {},
     "output_type": "execute_result"
    }
   ],
   "source": [
    "phenophases = npn_phenophases()\n",
    "phenophases.head()"
   ]
  },
  {
   "cell_type": "code",
   "execution_count": 26,
   "id": "f542dff3-1fcb-4dd3-8a94-c0835d12a994",
   "metadata": {
    "tags": []
   },
   "outputs": [
    {
     "data": {
      "text/plain": [
       "NamedIdentifiers(name='Breaking leaf buds', items=[371, 373])"
      ]
     },
     "execution_count": 26,
     "metadata": {},
     "output_type": "execute_result"
    }
   ],
   "source": [
    "breaking_leaf_buds = npn_phenophase_ids_by_name(\"Breaking leaf buds\")\n",
    "breaking_leaf_buds"
   ]
  },
  {
   "cell_type": "code",
   "execution_count": 27,
   "id": "1a17983a-45b7-4236-9654-92168fcb9ff7",
   "metadata": {
    "tags": []
   },
   "outputs": [
    {
     "data": {
      "text/plain": [
       "NamedIdentifiers(name='initial growth', items=[482, 492, 508])"
      ]
     },
     "execution_count": 27,
     "metadata": {},
     "output_type": "execute_result"
    }
   ],
   "source": [
    "initial_growth = npn_phenophase_ids_by_name(\"initial growth\")\n",
    "initial_growth"
   ]
  },
  {
   "cell_type": "markdown",
   "id": "8f347fd1-a470-4c12-b37b-596d3538d2f0",
   "metadata": {},
   "source": [
    "### Data preparation"
   ]
  },
  {
   "cell_type": "code",
   "execution_count": 28,
   "id": "0a81aaab-3882-4871-815f-8409ae070f0a",
   "metadata": {
    "tags": []
   },
   "outputs": [
    {
     "data": {
      "text/plain": [
       "RNPN(dataset='RNPN', years=(2007, 2018), species_ids=NamedIdentifiers(name='Deciduous broadleaf', items=[1174, 1446, 93, 812, 79, 1832, 724, 1048, 71, 823, 91, 206, 1762, 970, 1455, 76, 1245, 1246, 810, 126, 444, 1208, 1362, 1007, 1353, 20, 717, 1447, 2087, 1173, 1857, 124, 320, 1483, 1461, 982, 72, 1485, 1878, 1875, 1880, 1355, 105, 802, 1, 1188, 778, 87, 1176, 873, 28, 1849, 1481, 90, 839, 1458, 33, 1591, 1159, 1013, 80, 1494, 440, 941, 1510, 1691, 1015, 122, 2093, 2046, 328, 2, 799, 859, 1462, 2042, 101, 1452, 788, 2131, 1466, 2143, 765, 858, 713, 1211, 1161, 1632, 64, 1373, 1181, 1649, 871, 1682, 776, 1358, 2085, 1049, 2066, 2052, 1212, 1748, 1045, 2050, 29, 293, 796, 1807, 89, 201, 829, 36, 1364, 303, 2101, 1431, 92, 897, 1499, 125, 2145, 1759, 108, 896, 1489, 1732, 828, 1341, 22, 832, 1071, 835, 944, 322, 1493, 430, 2053, 1000, 1817, 804, 976, 1733, 708, 1044, 7, 1780, 854, 1432, 1736, 1781, 1760, 1363, 1771, 836, 1913, 1006, 2142, 12, 73, 1066, 1367, 1843, 977, 2027, 988, 1871, 996, 1744, 1163, 1636, 1470, 62, 1805, 1448, 319, 75, 2082, 77, 775, 1463, 2071, 66, 1162, 1608, 94, 95, 84, 885, 949, 1716, 1487, 942, 1468, 1250, 1438, 227, 1835, 1374, 1923, 1741, 1179, 1839, 1344, 216, 789, 214, 1169, 1775, 1072, 1503, 884, 723, 1214, 1509, 1477, 85, 2162, 1779, 1754, 2059, 1177, 1471, 1758, 2140, 1184, 1199, 1033, 1338, 1248, 2097, 225, 983, 1361, 1371, 1342, 1009, 1674, 827, 1370, 1001, 1761, 102, 915, 779, 1822, 312, 16, 783, 1840, 771, 872, 316, 1854, 1997, 2047, 69, 962, 1191, 1498, 99, 83, 1201, 88, 824, 1776, 67, 1189, 989, 1437, 992, 1500, 1616, 1698, 1755, 2060, 1900, 999, 1008, 27, 1345, 63, 784, 1200, 325, 1897, 1059, 3, 2007, 35, 1372, 997, 70, 1439, 1850, 1339, 59, 1821, 1030, 1607, 1730, 436, 314, 1023, 1348, 719, 2061, 2048, 798, 4, 1019, 1756, 2044, 844, 1010, 1482, 837, 68, 1190, 1987, 211, 1213, 1215, 1491, 1692, 1777, 781, 1680, 1216, 1060, 2036, 994, 1753, 1187, 1217, 1484, 1924, 1965, 315, 1207, 292, 1456, 60, 61, 1605, 1450, 2049, 2043, 1967, 86, 98, 923, 935, 81, 780, 128, 770, 1876, 321, 1056, 1472, 1622, 1719, 309, 920, 82, 1486, 919, 1977, 1185, 65, 704, 1031, 1350, 317, 1505, 777, 952, 1851, 940, 1369, 764, 2116, 1647, 74, 78, 1728, 118, 326, 100, 984, 1506, 2194, 2138, 1734, 1366, 96, 1873, 1192, 993, 1618, 1818, 217, 1905, 97, 1172, 1495, 123, 228]), phenophase_ids=NamedIdentifiers(name='Breaking leaf buds', items=[371, 373]), area=None)"
      ]
     },
     "execution_count": 28,
     "metadata": {},
     "output_type": "execute_result"
    }
   ],
   "source": [
    "npn_broadleaf = RNPN(years=(2007, 2018), species_ids=deciduous_broadleaf, phenophase_ids=breaking_leaf_buds)\n",
    "npn_broadleaf"
   ]
  },
  {
   "cell_type": "code",
   "execution_count": 29,
   "id": "9374dfdb-af81-47b7-b222-d3b322fddecb",
   "metadata": {
    "tags": []
   },
   "outputs": [
    {
     "name": "stdout",
     "output_type": "stream",
     "text": [
      "downloading /tmp/data/rnpn/rnpn_npn_data_y_2007_2018_Deciduous broadleaf_Breaking leaf buds.csv\n"
     ]
    },
    {
     "name": "stderr",
     "output_type": "stream",
     "text": [
      "R[write to console]: using a custom handler function.\n",
      "\n",
      "R[write to console]: opening curl input connection.\n",
      "\n"
     ]
    },
    {
     "name": "stdout",
     "output_type": "stream",
     "text": [
      " Found 13 records..."
     ]
    },
    {
     "name": "stderr",
     "output_type": "stream",
     "text": [
      "R[write to console]: closing curl input connection.\n",
      "\n",
      "R[write to console]: using a custom handler function.\n",
      "\n",
      "R[write to console]: opening curl input connection.\n",
      "\n"
     ]
    },
    {
     "name": "stdout",
     "output_type": "stream",
     "text": [
      " Found 28 records..."
     ]
    },
    {
     "name": "stderr",
     "output_type": "stream",
     "text": [
      "R[write to console]: closing curl input connection.\n",
      "\n",
      "R[write to console]: using a custom handler function.\n",
      "\n",
      "R[write to console]: opening curl input connection.\n",
      "\n"
     ]
    },
    {
     "name": "stdout",
     "output_type": "stream",
     "text": [
      " Found 1102 records..."
     ]
    },
    {
     "name": "stderr",
     "output_type": "stream",
     "text": [
      "R[write to console]: closing curl input connection.\n",
      "\n",
      "R[write to console]: using a custom handler function.\n",
      "\n",
      "R[write to console]: opening curl input connection.\n",
      "\n"
     ]
    },
    {
     "name": "stdout",
     "output_type": "stream",
     "text": [
      " Found 1209 records..."
     ]
    },
    {
     "name": "stderr",
     "output_type": "stream",
     "text": [
      "R[write to console]: closing curl input connection.\n",
      "\n",
      "R[write to console]: using a custom handler function.\n",
      "\n",
      "R[write to console]: opening curl input connection.\n",
      "\n"
     ]
    },
    {
     "name": "stdout",
     "output_type": "stream",
     "text": [
      " Found 1340 records..."
     ]
    },
    {
     "name": "stderr",
     "output_type": "stream",
     "text": [
      "R[write to console]: closing curl input connection.\n",
      "\n",
      "R[write to console]: using a custom handler function.\n",
      "\n",
      "R[write to console]: opening curl input connection.\n",
      "\n",
      "R[write to console]: \n",
      "\n",
      "R[write to console]: closing curl input connection.\n",
      "\n"
     ]
    },
    {
     "ename": "RRuntimeError",
     "evalue": "",
     "output_type": "error",
     "traceback": [
      "\u001b[0;31m---------------------------------------------------------------------------\u001b[0m",
      "\u001b[0;31mRRuntimeError\u001b[0m                             Traceback (most recent call last)",
      "Cell \u001b[0;32mIn[29], line 1\u001b[0m\n\u001b[0;32m----> 1\u001b[0m \u001b[43mnpn_broadleaf\u001b[49m\u001b[38;5;241;43m.\u001b[39;49m\u001b[43mdownload\u001b[49m\u001b[43m(\u001b[49m\u001b[43m)\u001b[49m\n",
      "File \u001b[0;32m~/phenology/springtime/src/springtime/datasets/rnpn.py:106\u001b[0m, in \u001b[0;36mRNPN.download\u001b[0;34m(self)\u001b[0m\n\u001b[1;32m    104\u001b[0m \u001b[38;5;28;01melse\u001b[39;00m:\n\u001b[1;32m    105\u001b[0m     \u001b[38;5;28mprint\u001b[39m(\u001b[38;5;124mf\u001b[39m\u001b[38;5;124m\"\u001b[39m\u001b[38;5;124mdownloading \u001b[39m\u001b[38;5;132;01m{\u001b[39;00mfilename\u001b[38;5;132;01m}\u001b[39;00m\u001b[38;5;124m\"\u001b[39m)\n\u001b[0;32m--> 106\u001b[0m     \u001b[38;5;28;43mself\u001b[39;49m\u001b[38;5;241;43m.\u001b[39;49m\u001b[43m_r_download\u001b[49m\u001b[43m(\u001b[49m\u001b[43mfilename\u001b[49m\u001b[43m)\u001b[49m\n",
      "File \u001b[0;32m~/phenology/springtime/src/springtime/datasets/rnpn.py:131\u001b[0m, in \u001b[0;36mRNPN._r_download\u001b[0;34m(self, filename)\u001b[0m\n\u001b[1;32m    128\u001b[0m     opt_args[\u001b[38;5;124m\"\u001b[39m\u001b[38;5;124mphenophase_id\u001b[39m\u001b[38;5;124m\"\u001b[39m] \u001b[38;5;241m=\u001b[39m \u001b[38;5;28mself\u001b[39m\u001b[38;5;241m.\u001b[39mphenophase_ids\u001b[38;5;241m.\u001b[39mitems\n\u001b[1;32m    130\u001b[0m rnpn \u001b[38;5;241m=\u001b[39m importr(\u001b[38;5;124m\"\u001b[39m\u001b[38;5;124mrnpn\u001b[39m\u001b[38;5;124m\"\u001b[39m)\n\u001b[0;32m--> 131\u001b[0m \u001b[43mrnpn\u001b[49m\u001b[38;5;241;43m.\u001b[39;49m\u001b[43mnpn_download_individual_phenometrics\u001b[49m\u001b[43m(\u001b[49m\n\u001b[1;32m    132\u001b[0m \u001b[43m    \u001b[49m\u001b[43mrequest_source\u001b[49m\u001b[38;5;241;43m=\u001b[39;49m\u001b[43mrequest_source\u001b[49m\u001b[43m,\u001b[49m\n\u001b[1;32m    133\u001b[0m \u001b[43m    \u001b[49m\u001b[43myears\u001b[49m\u001b[38;5;241;43m=\u001b[39;49m\u001b[38;5;28;43mlist\u001b[39;49m\u001b[43m(\u001b[49m\u001b[38;5;28;43mrange\u001b[39;49m\u001b[43m(\u001b[49m\u001b[38;5;28;43mself\u001b[39;49m\u001b[38;5;241;43m.\u001b[39;49m\u001b[43myears\u001b[49m\u001b[43m[\u001b[49m\u001b[38;5;241;43m0\u001b[39;49m\u001b[43m]\u001b[49m\u001b[43m,\u001b[49m\u001b[43m \u001b[49m\u001b[38;5;28;43mself\u001b[39;49m\u001b[38;5;241;43m.\u001b[39;49m\u001b[43myears\u001b[49m\u001b[43m[\u001b[49m\u001b[38;5;241;43m1\u001b[39;49m\u001b[43m]\u001b[49m\u001b[43m \u001b[49m\u001b[38;5;241;43m+\u001b[39;49m\u001b[43m \u001b[49m\u001b[38;5;241;43m1\u001b[39;49m\u001b[43m)\u001b[49m\u001b[43m)\u001b[49m\u001b[43m,\u001b[49m\n\u001b[1;32m    134\u001b[0m \u001b[43m    \u001b[49m\u001b[43mdownload_path\u001b[49m\u001b[38;5;241;43m=\u001b[39;49m\u001b[38;5;28;43mstr\u001b[39;49m\u001b[43m(\u001b[49m\u001b[43mfilename\u001b[49m\u001b[43m)\u001b[49m\u001b[43m,\u001b[49m\n\u001b[1;32m    135\u001b[0m \u001b[43m    \u001b[49m\u001b[38;5;241;43m*\u001b[39;49m\u001b[38;5;241;43m*\u001b[39;49m\u001b[43mopt_args\u001b[49m\u001b[43m,\u001b[49m\n\u001b[1;32m    136\u001b[0m \u001b[43m\u001b[49m\u001b[43m)\u001b[49m\n",
      "File \u001b[0;32m~/.local/share/hatch/env/virtual/springtime/wxKJJoBo/springtime/lib/python3.10/site-packages/rpy2/robjects/functions.py:208\u001b[0m, in \u001b[0;36mSignatureTranslatedFunction.__call__\u001b[0;34m(self, *args, **kwargs)\u001b[0m\n\u001b[1;32m    206\u001b[0m         v \u001b[38;5;241m=\u001b[39m kwargs\u001b[38;5;241m.\u001b[39mpop(k)\n\u001b[1;32m    207\u001b[0m         kwargs[r_k] \u001b[38;5;241m=\u001b[39m v\n\u001b[0;32m--> 208\u001b[0m \u001b[38;5;28;01mreturn\u001b[39;00m (\u001b[38;5;28;43msuper\u001b[39;49m\u001b[43m(\u001b[49m\u001b[43mSignatureTranslatedFunction\u001b[49m\u001b[43m,\u001b[49m\u001b[43m \u001b[49m\u001b[38;5;28;43mself\u001b[39;49m\u001b[43m)\u001b[49m\n\u001b[1;32m    209\u001b[0m \u001b[43m        \u001b[49m\u001b[38;5;241;43m.\u001b[39;49m\u001b[38;5;21;43m__call__\u001b[39;49m\u001b[43m(\u001b[49m\u001b[38;5;241;43m*\u001b[39;49m\u001b[43margs\u001b[49m\u001b[43m,\u001b[49m\u001b[43m \u001b[49m\u001b[38;5;241;43m*\u001b[39;49m\u001b[38;5;241;43m*\u001b[39;49m\u001b[43mkwargs\u001b[49m\u001b[43m)\u001b[49m)\n",
      "File \u001b[0;32m~/.local/share/hatch/env/virtual/springtime/wxKJJoBo/springtime/lib/python3.10/site-packages/rpy2/robjects/functions.py:131\u001b[0m, in \u001b[0;36mFunction.__call__\u001b[0;34m(self, *args, **kwargs)\u001b[0m\n\u001b[1;32m    129\u001b[0m     \u001b[38;5;28;01melse\u001b[39;00m:\n\u001b[1;32m    130\u001b[0m         new_kwargs[k] \u001b[38;5;241m=\u001b[39m cv\u001b[38;5;241m.\u001b[39mpy2rpy(v)\n\u001b[0;32m--> 131\u001b[0m res \u001b[38;5;241m=\u001b[39m \u001b[38;5;28;43msuper\u001b[39;49m\u001b[43m(\u001b[49m\u001b[43mFunction\u001b[49m\u001b[43m,\u001b[49m\u001b[43m \u001b[49m\u001b[38;5;28;43mself\u001b[39;49m\u001b[43m)\u001b[49m\u001b[38;5;241;43m.\u001b[39;49m\u001b[38;5;21;43m__call__\u001b[39;49m\u001b[43m(\u001b[49m\u001b[38;5;241;43m*\u001b[39;49m\u001b[43mnew_args\u001b[49m\u001b[43m,\u001b[49m\u001b[43m \u001b[49m\u001b[38;5;241;43m*\u001b[39;49m\u001b[38;5;241;43m*\u001b[39;49m\u001b[43mnew_kwargs\u001b[49m\u001b[43m)\u001b[49m\n\u001b[1;32m    132\u001b[0m res \u001b[38;5;241m=\u001b[39m cv\u001b[38;5;241m.\u001b[39mrpy2py(res)\n\u001b[1;32m    133\u001b[0m \u001b[38;5;28;01mreturn\u001b[39;00m res\n",
      "File \u001b[0;32m~/.local/share/hatch/env/virtual/springtime/wxKJJoBo/springtime/lib/python3.10/site-packages/rpy2/rinterface_lib/conversion.py:45\u001b[0m, in \u001b[0;36m_cdata_res_to_rinterface.<locals>._\u001b[0;34m(*args, **kwargs)\u001b[0m\n\u001b[1;32m     44\u001b[0m \u001b[38;5;28;01mdef\u001b[39;00m \u001b[38;5;21m_\u001b[39m(\u001b[38;5;241m*\u001b[39margs, \u001b[38;5;241m*\u001b[39m\u001b[38;5;241m*\u001b[39mkwargs):\n\u001b[0;32m---> 45\u001b[0m     cdata \u001b[38;5;241m=\u001b[39m \u001b[43mfunction\u001b[49m\u001b[43m(\u001b[49m\u001b[38;5;241;43m*\u001b[39;49m\u001b[43margs\u001b[49m\u001b[43m,\u001b[49m\u001b[43m \u001b[49m\u001b[38;5;241;43m*\u001b[39;49m\u001b[38;5;241;43m*\u001b[39;49m\u001b[43mkwargs\u001b[49m\u001b[43m)\u001b[49m\n\u001b[1;32m     46\u001b[0m     \u001b[38;5;66;03m# TODO: test cdata is of the expected CType\u001b[39;00m\n\u001b[1;32m     47\u001b[0m     \u001b[38;5;28;01mreturn\u001b[39;00m _cdata_to_rinterface(cdata)\n",
      "File \u001b[0;32m~/.local/share/hatch/env/virtual/springtime/wxKJJoBo/springtime/lib/python3.10/site-packages/rpy2/rinterface.py:817\u001b[0m, in \u001b[0;36mSexpClosure.__call__\u001b[0;34m(self, *args, **kwargs)\u001b[0m\n\u001b[1;32m    810\u001b[0m     res \u001b[38;5;241m=\u001b[39m rmemory\u001b[38;5;241m.\u001b[39mprotect(\n\u001b[1;32m    811\u001b[0m         openrlib\u001b[38;5;241m.\u001b[39mrlib\u001b[38;5;241m.\u001b[39mR_tryEval(\n\u001b[1;32m    812\u001b[0m             call_r,\n\u001b[1;32m    813\u001b[0m             call_context\u001b[38;5;241m.\u001b[39m__sexp__\u001b[38;5;241m.\u001b[39m_cdata,\n\u001b[1;32m    814\u001b[0m             error_occured)\n\u001b[1;32m    815\u001b[0m     )\n\u001b[1;32m    816\u001b[0m     \u001b[38;5;28;01mif\u001b[39;00m error_occured[\u001b[38;5;241m0\u001b[39m]:\n\u001b[0;32m--> 817\u001b[0m         \u001b[38;5;28;01mraise\u001b[39;00m embedded\u001b[38;5;241m.\u001b[39mRRuntimeError(_rinterface\u001b[38;5;241m.\u001b[39m_geterrmessage())\n\u001b[1;32m    818\u001b[0m \u001b[38;5;28;01mreturn\u001b[39;00m res\n",
      "\u001b[0;31mRRuntimeError\u001b[0m: "
     ]
    }
   ],
   "source": [
    "npn_broadleaf.download()"
   ]
  }
 ],
 "metadata": {
  "kernelspec": {
   "display_name": "Springtime NB",
   "language": "python",
   "name": "springtime_nb"
  },
  "language_info": {
   "codemirror_mode": {
    "name": "ipython",
    "version": 3
   },
   "file_extension": ".py",
   "mimetype": "text/x-python",
   "name": "python",
   "nbconvert_exporter": "python",
   "pygments_lexer": "ipython3",
   "version": "3.10.0"
  }
 },
 "nbformat": 4,
 "nbformat_minor": 5
}
