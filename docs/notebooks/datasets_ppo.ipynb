{
 "cells": [
  {
   "cell_type": "markdown",
   "id": "2c427d88-8c0b-409c-a0e1-3a3ee84b9aa3",
   "metadata": {
    "tags": []
   },
   "source": [
    "## Observations from [Plant Phenology Ontology (PPO)](https://www.ebi.ac.uk/ols/ontologies/ppo)\n",
    "\n",
    "See [dataset documentation](https://github.com/PlantPhenoOntology/ppo/blob/master/documentation/ppo.pdf)\n",
    "\n",
    "**Species:** Syringa\n",
    "<br>\n",
    "**Phenophase:** PPO:0002032(flower presence) \n",
    "<br>"
   ]
  },
  {
   "cell_type": "code",
   "execution_count": 9,
   "id": "9e32a89c-e920-45a3-99b9-b2af3519ac75",
   "metadata": {},
   "outputs": [],
   "source": [
    "from springtime.datasets.ppo import RPPO"
   ]
  },
  {
   "cell_type": "code",
   "execution_count": 3,
   "id": "bdf44205-08d0-41a0-9433-9b11f872d012",
   "metadata": {},
   "outputs": [
    {
     "data": {
      "text/plain": [
       "RPPO(dataset='rppo', genus='Syringa', termID='obo:PPO_0002032', years=(1950, 2020), area=None, limit=99000, timeLimit=60)"
      ]
     },
     "execution_count": 3,
     "metadata": {},
     "output_type": "execute_result"
    }
   ],
   "source": [
    "# Create a data instance\n",
    "dataset = RPPO(genus=\"Syringa\", termID=\"obo:PPO_0002032\", limit=99000, years=[1950, 2020])\n",
    "dataset"
   ]
  },
  {
   "cell_type": "code",
   "execution_count": 4,
   "id": "a81971e0-b6d2-4428-9ad6-0405eec42ab7",
   "metadata": {},
   "outputs": [
    {
     "name": "stdout",
     "output_type": "stream",
     "text": [
      "\n",
      "R version 4.2.1 (2022-06-23) -- \"Funny-Looking Kid\"\n",
      "Copyright (C) 2022 The R Foundation for Statistical Computing\n",
      "Platform: aarch64-unknown-linux-gnu (64-bit)\n",
      "\n",
      "R is free software and comes with ABSOLUTELY NO WARRANTY.\n",
      "You are welcome to redistribute it under certain conditions.\n",
      "Type 'license()' or 'licence()' for distribution details.\n",
      "\n",
      "  Natural language support but running in an English locale\n",
      "\n",
      "R is a collaborative project with many contributors.\n",
      "Type 'contributors()' for more information and\n",
      "'citation()' on how to cite R or R packages in publications.\n",
      "\n",
      "Type 'demo()' for some demos, 'help()' for on-line help, or\n",
      "'help.start()' for an HTML browser interface to help.\n",
      "Type 'q()' to quit R.\n",
      "\n",
      ">         library(rppo)\n",
      ">         response <- ppo_data(genus = c(\"Syringa\"), termID='obo:PPO_0002032',\n",
      "+             \n",
      "+             fromYear=1950, toYear=2020,\n",
      "+             limit=99000, timeLimit = 60)\n"
     ]
    },
    {
     "name": "stderr",
     "output_type": "stream",
     "text": [
      "sending request for data ...\n",
      "https://biscicol.org/api/v3/download/_search?q=+genus:Syringa++AND+++termID:\"obo:PPO_0002032\"++AND+++year:>=1950++AND+++year:<=2020++AND+++source:USA-NPN&limit=99000\n"
     ]
    },
    {
     "name": "stdout",
     "output_type": "stream",
     "text": [
      ">         saveRDS(response, file=\"/tmp/data/PPO/Syringa.obo:PPO_0002032.1950-2020.na.rds\")\n",
      ">         \n",
      "> \n"
     ]
    }
   ],
   "source": [
    "# Download dataset\n",
    "dataset.download()"
   ]
  },
  {
   "cell_type": "code",
   "execution_count": 6,
   "id": "f7a51d5d-3036-40a2-a901-9ea93bc29922",
   "metadata": {},
   "outputs": [
    {
     "data": {
      "text/html": [
       "<div>\n",
       "<style scoped>\n",
       "    .dataframe tbody tr th:only-of-type {\n",
       "        vertical-align: middle;\n",
       "    }\n",
       "\n",
       "    .dataframe tbody tr th {\n",
       "        vertical-align: top;\n",
       "    }\n",
       "\n",
       "    .dataframe thead th {\n",
       "        text-align: right;\n",
       "    }\n",
       "</style>\n",
       "<table border=\"1\" class=\"dataframe\">\n",
       "  <thead>\n",
       "    <tr style=\"text-align: right;\">\n",
       "      <th></th>\n",
       "      <th>dayOfYear</th>\n",
       "      <th>year</th>\n",
       "      <th>genus</th>\n",
       "      <th>specificEpithet</th>\n",
       "      <th>eventRemarks</th>\n",
       "      <th>termID</th>\n",
       "      <th>source</th>\n",
       "      <th>eventId</th>\n",
       "      <th>geometry</th>\n",
       "    </tr>\n",
       "  </thead>\n",
       "  <tbody>\n",
       "    <tr>\n",
       "      <th>1</th>\n",
       "      <td>199</td>\n",
       "      <td>2017</td>\n",
       "      <td>Syringa</td>\n",
       "      <td>chinensis</td>\n",
       "      <td>End of flowering (lilac/honeysuckle)</td>\n",
       "      <td>obo:PPO_0002323,obo:PPO_0002324,obo:PPO_000200...</td>\n",
       "      <td>USA-NPN</td>\n",
       "      <td>urn:phenologicalObservingProcess/11412662</td>\n",
       "      <td>POINT (-87.71904 41.91366)</td>\n",
       "    </tr>\n",
       "    <tr>\n",
       "      <th>2</th>\n",
       "      <td>131</td>\n",
       "      <td>2019</td>\n",
       "      <td>Syringa</td>\n",
       "      <td>chinensis</td>\n",
       "      <td>End of flowering (lilac/honeysuckle)</td>\n",
       "      <td>obo:PPO_0002323,obo:PPO_0002324,obo:PPO_000203...</td>\n",
       "      <td>USA-NPN</td>\n",
       "      <td>urn:phenologicalObservingProcess/17008224</td>\n",
       "      <td>POINT (-87.71904 41.91366)</td>\n",
       "    </tr>\n",
       "    <tr>\n",
       "      <th>3</th>\n",
       "      <td>218</td>\n",
       "      <td>2017</td>\n",
       "      <td>Syringa</td>\n",
       "      <td>chinensis</td>\n",
       "      <td>End of flowering (lilac/honeysuckle)</td>\n",
       "      <td>obo:PPO_0002323,obo:PPO_0002324,obo:PPO_000233...</td>\n",
       "      <td>USA-NPN</td>\n",
       "      <td>urn:phenologicalObservingProcess/11562823</td>\n",
       "      <td>POINT (-87.72034 41.91382)</td>\n",
       "    </tr>\n",
       "    <tr>\n",
       "      <th>4</th>\n",
       "      <td>222</td>\n",
       "      <td>2017</td>\n",
       "      <td>Syringa</td>\n",
       "      <td>chinensis</td>\n",
       "      <td>End of flowering (lilac/honeysuckle)</td>\n",
       "      <td>obo:PPO_0002323,obo:PPO_0002324,obo:PPO_000233...</td>\n",
       "      <td>USA-NPN</td>\n",
       "      <td>urn:phenologicalObservingProcess/11599747</td>\n",
       "      <td>POINT (-87.71904 41.91366)</td>\n",
       "    </tr>\n",
       "    <tr>\n",
       "      <th>5</th>\n",
       "      <td>225</td>\n",
       "      <td>2017</td>\n",
       "      <td>Syringa</td>\n",
       "      <td>chinensis</td>\n",
       "      <td>End of flowering (lilac/honeysuckle)</td>\n",
       "      <td>obo:PPO_0002323,obo:PPO_0002324,obo:PPO_000233...</td>\n",
       "      <td>USA-NPN</td>\n",
       "      <td>urn:phenologicalObservingProcess/11605696</td>\n",
       "      <td>POINT (-87.71904 41.91366)</td>\n",
       "    </tr>\n",
       "  </tbody>\n",
       "</table>\n",
       "</div>"
      ],
      "text/plain": [
       "   dayOfYear  year    genus specificEpithet  \\\n",
       "1        199  2017  Syringa       chinensis   \n",
       "2        131  2019  Syringa       chinensis   \n",
       "3        218  2017  Syringa       chinensis   \n",
       "4        222  2017  Syringa       chinensis   \n",
       "5        225  2017  Syringa       chinensis   \n",
       "\n",
       "                           eventRemarks  \\\n",
       "1  End of flowering (lilac/honeysuckle)   \n",
       "2  End of flowering (lilac/honeysuckle)   \n",
       "3  End of flowering (lilac/honeysuckle)   \n",
       "4  End of flowering (lilac/honeysuckle)   \n",
       "5  End of flowering (lilac/honeysuckle)   \n",
       "\n",
       "                                              termID   source  \\\n",
       "1  obo:PPO_0002323,obo:PPO_0002324,obo:PPO_000200...  USA-NPN   \n",
       "2  obo:PPO_0002323,obo:PPO_0002324,obo:PPO_000203...  USA-NPN   \n",
       "3  obo:PPO_0002323,obo:PPO_0002324,obo:PPO_000233...  USA-NPN   \n",
       "4  obo:PPO_0002323,obo:PPO_0002324,obo:PPO_000233...  USA-NPN   \n",
       "5  obo:PPO_0002323,obo:PPO_0002324,obo:PPO_000233...  USA-NPN   \n",
       "\n",
       "                                     eventId                    geometry  \n",
       "1  urn:phenologicalObservingProcess/11412662  POINT (-87.71904 41.91366)  \n",
       "2  urn:phenologicalObservingProcess/17008224  POINT (-87.71904 41.91366)  \n",
       "3  urn:phenologicalObservingProcess/11562823  POINT (-87.72034 41.91382)  \n",
       "4  urn:phenologicalObservingProcess/11599747  POINT (-87.71904 41.91366)  \n",
       "5  urn:phenologicalObservingProcess/11605696  POINT (-87.71904 41.91366)  "
      ]
     },
     "execution_count": 6,
     "metadata": {},
     "output_type": "execute_result"
    }
   ],
   "source": [
    "# Load downloaded dataset\n",
    "df = dataset.load()\n",
    "df.head()"
   ]
  },
  {
   "cell_type": "code",
   "execution_count": null,
   "id": "7aa5a3d4-ddd0-44af-9968-19bf936c7394",
   "metadata": {},
   "outputs": [],
   "source": []
  }
 ],
 "metadata": {
  "kernelspec": {
   "display_name": "Python 3 (ipykernel)",
   "language": "python",
   "name": "python3"
  },
  "language_info": {
   "codemirror_mode": {
    "name": "ipython",
    "version": 3
   },
   "file_extension": ".py",
   "mimetype": "text/x-python",
   "name": "python",
   "nbconvert_exporter": "python",
   "pygments_lexer": "ipython3",
   "version": "3.10.0"
  }
 },
 "nbformat": 4,
 "nbformat_minor": 5
}
