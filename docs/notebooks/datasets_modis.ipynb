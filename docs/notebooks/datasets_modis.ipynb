{
 "cells": [
  {
   "cell_type": "markdown",
   "id": "04cccf9e-4273-4be7-ad7c-9a684008630b",
   "metadata": {},
   "source": [
    "## Data from MODIS"
   ]
  },
  {
   "cell_type": "code",
   "execution_count": null,
   "id": "d2aeb221-abe0-4716-95ee-4015b3216ce2",
   "metadata": {},
   "outputs": [],
   "source": []
  }
 ],
 "metadata": {
  "kernelspec": {
   "display_name": "Python 3 (ipykernel)",
   "language": "python",
   "name": "python3"
  },
  "language_info": {
   "codemirror_mode": {
    "name": "ipython",
    "version": 3
   },
   "file_extension": ".py",
   "mimetype": "text/x-python",
   "name": "python",
   "nbconvert_exporter": "python",
   "pygments_lexer": "ipython3",
   "version": "3.10.0"
  }
 },
 "nbformat": 4,
 "nbformat_minor": 5
}
