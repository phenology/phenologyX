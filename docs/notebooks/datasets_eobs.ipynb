{
 "cells": [
  {
   "cell_type": "markdown",
   "id": "ba0058bf-65bb-4e48-9c73-b04570bab008",
   "metadata": {},
   "source": [
    "## Data from EOBS"
   ]
  },
  {
   "cell_type": "code",
   "execution_count": null,
   "id": "0b8a2158-d6e8-4cda-929b-0e938606714e",
   "metadata": {},
   "outputs": [],
   "source": []
  }
 ],
 "metadata": {
  "kernelspec": {
   "display_name": "Python 3 (ipykernel)",
   "language": "python",
   "name": "python3"
  },
  "language_info": {
   "codemirror_mode": {
    "name": "ipython",
    "version": 3
   },
   "file_extension": ".py",
   "mimetype": "text/x-python",
   "name": "python",
   "nbconvert_exporter": "python",
   "pygments_lexer": "ipython3",
   "version": "3.10.0"
  }
 },
 "nbformat": 4,
 "nbformat_minor": 5
}
