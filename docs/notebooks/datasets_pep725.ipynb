{
 "cells": [
  {
   "cell_type": "markdown",
   "id": "201f0475-389c-4dc4-add4-a222a25948c4",
   "metadata": {
    "tags": []
   },
   "source": [
    "## Observations from [Pan European Phenological database (PEP725)](http://pep725.eu/)\n",
    "\n",
    "**Species:** Syringa vulgaris\n",
    "<br>\n",
    "**First bloom (fb):** bbch=60 (Beginning of flowering: first flowers open - sporadically) "
   ]
  },
  {
   "cell_type": "code",
   "execution_count": 1,
   "id": "37cf5868-af96-402a-a8ed-390d80dd08c3",
   "metadata": {
    "tags": []
   },
   "outputs": [],
   "source": [
    "from springtime.datasets.PEP725Phenor import PEP725Phenor"
   ]
  },
  {
   "cell_type": "markdown",
   "id": "4ba36c87-7ffd-4997-a32b-fbcfd647fb3d",
   "metadata": {},
   "source": [
    "### Data from all the locations"
   ]
  },
  {
   "cell_type": "code",
   "execution_count": 2,
   "id": "bb7e982a-6822-40c7-884e-5a00a47260de",
   "metadata": {
    "tags": []
   },
   "outputs": [
    {
     "data": {
      "text/plain": [
       "PEP725Phenor(dataset='PEP725Phenor', species='Syringa vulgaris', years=(), area=None, bbch=60, credential_file='~/.config/pep725_credentials.txt')"
      ]
     },
     "execution_count": 2,
     "metadata": {},
     "output_type": "execute_result"
    }
   ],
   "source": [
    "# Create a data instance\n",
    "dataset = PEP725Phenor(species='Syringa vulgaris', bbch=60)\n",
    "dataset"
   ]
  },
  {
   "cell_type": "code",
   "execution_count": null,
   "id": "47c33455-aec7-4e7d-a1b9-de5ba7bf02b6",
   "metadata": {},
   "outputs": [],
   "source": [
    "# Download dataset: it needs credential information in credential_file='~/.config/pep725_credentials.txt'\n",
    "dataset.download()"
   ]
  },
  {
   "cell_type": "code",
   "execution_count": null,
   "id": "9dee8860-e369-4953-9c0d-2b713820fcd1",
   "metadata": {},
   "outputs": [
    {
     "name": "stdout",
     "output_type": "stream",
     "text": [
      "\n",
      "R version 4.2.1 (2022-06-23) -- \"Funny-Looking Kid\"\n",
      "Copyright (C) 2022 The R Foundation for Statistical Computing\n",
      "Platform: aarch64-unknown-linux-gnu (64-bit)\n",
      "\n",
      "R is free software and comes with ABSOLUTELY NO WARRANTY.\n",
      "You are welcome to redistribute it under certain conditions.\n",
      "Type 'license()' or 'licence()' for distribution details.\n",
      "\n",
      "  Natural language support but running in an English locale\n",
      "\n",
      "R is a collaborative project with many contributors.\n",
      "Type 'contributors()' for more information and\n",
      "'citation()' on how to cite R or R packages in publications.\n",
      "\n",
      "Type 'demo()' for some demos, 'help()' for on-line help, or\n",
      "'help.start()' for an HTML browser interface to help.\n",
      "Type 'q()' to quit R.\n",
      "\n",
      ">         library(phenor)\n",
      ">         species_id <- phenor::check_pep725_species(species = \"Syringa vulgaris\")\n",
      ">         phenor::pr_dl_pep725(\n",
      "+             credentials = \"~/.config/pep725_credentials.txt\",\n",
      "+             species = species_id,\n",
      "+             path = \"/tmp/data/PEP725/Syringa vulgaris\",\n",
      "+             internal = FALSE\n",
      "+         )\n",
      ">         \n",
      "> \n"
     ]
    },
    {
     "data": {
      "text/html": [
       "<div>\n",
       "<style scoped>\n",
       "    .dataframe tbody tr th:only-of-type {\n",
       "        vertical-align: middle;\n",
       "    }\n",
       "\n",
       "    .dataframe tbody tr th {\n",
       "        vertical-align: top;\n",
       "    }\n",
       "\n",
       "    .dataframe thead th {\n",
       "        text-align: right;\n",
       "    }\n",
       "</style>\n",
       "<table border=\"1\" class=\"dataframe\">\n",
       "  <thead>\n",
       "    <tr style=\"text-align: right;\">\n",
       "      <th></th>\n",
       "      <th>pep_id</th>\n",
       "      <th>bbch</th>\n",
       "      <th>year</th>\n",
       "      <th>day</th>\n",
       "      <th>country</th>\n",
       "      <th>species</th>\n",
       "      <th>national_id</th>\n",
       "      <th>lon</th>\n",
       "      <th>lat</th>\n",
       "      <th>alt</th>\n",
       "      <th>name</th>\n",
       "      <th>geometry</th>\n",
       "    </tr>\n",
       "  </thead>\n",
       "  <tbody>\n",
       "    <tr>\n",
       "      <th>1</th>\n",
       "      <td>6446</td>\n",
       "      <td>60</td>\n",
       "      <td>1991</td>\n",
       "      <td>130</td>\n",
       "      <td>AT</td>\n",
       "      <td>Syringa vulgaris</td>\n",
       "      <td>5120</td>\n",
       "      <td>14.4167</td>\n",
       "      <td>48.2167</td>\n",
       "      <td>225</td>\n",
       "      <td>ASTEN</td>\n",
       "      <td>POINT (14.41670 48.21670)</td>\n",
       "    </tr>\n",
       "    <tr>\n",
       "      <th>2</th>\n",
       "      <td>6446</td>\n",
       "      <td>60</td>\n",
       "      <td>1984</td>\n",
       "      <td>137</td>\n",
       "      <td>AT</td>\n",
       "      <td>Syringa vulgaris</td>\n",
       "      <td>5120</td>\n",
       "      <td>14.4167</td>\n",
       "      <td>48.2167</td>\n",
       "      <td>225</td>\n",
       "      <td>ASTEN</td>\n",
       "      <td>POINT (14.41670 48.21670)</td>\n",
       "    </tr>\n",
       "    <tr>\n",
       "      <th>3</th>\n",
       "      <td>6446</td>\n",
       "      <td>60</td>\n",
       "      <td>1969</td>\n",
       "      <td>124</td>\n",
       "      <td>AT</td>\n",
       "      <td>Syringa vulgaris</td>\n",
       "      <td>5120</td>\n",
       "      <td>14.4167</td>\n",
       "      <td>48.2167</td>\n",
       "      <td>225</td>\n",
       "      <td>ASTEN</td>\n",
       "      <td>POINT (14.41670 48.21670)</td>\n",
       "    </tr>\n",
       "    <tr>\n",
       "      <th>4</th>\n",
       "      <td>6446</td>\n",
       "      <td>60</td>\n",
       "      <td>1989</td>\n",
       "      <td>107</td>\n",
       "      <td>AT</td>\n",
       "      <td>Syringa vulgaris</td>\n",
       "      <td>5120</td>\n",
       "      <td>14.4167</td>\n",
       "      <td>48.2167</td>\n",
       "      <td>225</td>\n",
       "      <td>ASTEN</td>\n",
       "      <td>POINT (14.41670 48.21670)</td>\n",
       "    </tr>\n",
       "    <tr>\n",
       "      <th>5</th>\n",
       "      <td>6446</td>\n",
       "      <td>60</td>\n",
       "      <td>1990</td>\n",
       "      <td>112</td>\n",
       "      <td>AT</td>\n",
       "      <td>Syringa vulgaris</td>\n",
       "      <td>5120</td>\n",
       "      <td>14.4167</td>\n",
       "      <td>48.2167</td>\n",
       "      <td>225</td>\n",
       "      <td>ASTEN</td>\n",
       "      <td>POINT (14.41670 48.21670)</td>\n",
       "    </tr>\n",
       "  </tbody>\n",
       "</table>\n",
       "</div>"
      ],
      "text/plain": [
       "   pep_id  bbch  year  day country           species  national_id      lon  \\\n",
       "1    6446    60  1991  130      AT  Syringa vulgaris         5120  14.4167   \n",
       "2    6446    60  1984  137      AT  Syringa vulgaris         5120  14.4167   \n",
       "3    6446    60  1969  124      AT  Syringa vulgaris         5120  14.4167   \n",
       "4    6446    60  1989  107      AT  Syringa vulgaris         5120  14.4167   \n",
       "5    6446    60  1990  112      AT  Syringa vulgaris         5120  14.4167   \n",
       "\n",
       "       lat  alt   name                   geometry  \n",
       "1  48.2167  225  ASTEN  POINT (14.41670 48.21670)  \n",
       "2  48.2167  225  ASTEN  POINT (14.41670 48.21670)  \n",
       "3  48.2167  225  ASTEN  POINT (14.41670 48.21670)  \n",
       "4  48.2167  225  ASTEN  POINT (14.41670 48.21670)  \n",
       "5  48.2167  225  ASTEN  POINT (14.41670 48.21670)  "
      ]
     },
     "execution_count": 3,
     "metadata": {},
     "output_type": "execute_result"
    }
   ],
   "source": [
    "# Load downloded dataset as a dataframe\n",
    "df = dataset.load()\n",
    "df.head()"
   ]
  }
 ],
 "metadata": {
  "kernelspec": {
   "display_name": "Python 3 (ipykernel)",
   "language": "python",
   "name": "python3"
  },
  "language_info": {
   "codemirror_mode": {
    "name": "ipython",
    "version": 3
   },
   "file_extension": ".py",
   "mimetype": "text/x-python",
   "name": "python",
   "nbconvert_exporter": "python",
   "pygments_lexer": "ipython3",
   "version": "3.10.0"
  }
 },
 "nbformat": 4,
 "nbformat_minor": 5
}
