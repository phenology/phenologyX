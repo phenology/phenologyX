{
 "cells": [
  {
   "cell_type": "code",
   "execution_count": 1,
   "id": "ef55d548-929b-43bd-ad59-f455c3b410d1",
   "metadata": {
    "tags": []
   },
   "outputs": [],
   "source": [
    "from pydaymet import download, get_dataset, compute_stat"
   ]
  },
  {
   "cell_type": "code",
   "execution_count": 2,
   "id": "8818d4b7-82d0-4fca-8e76-06c40178ae3d",
   "metadata": {},
   "outputs": [],
   "source": [
    "# Daymet is in 1 km resolution \n",
    "longitudes = [-80, -79.5]\n",
    "latitudes = [35, 35.1]\n",
    "\n",
    "var_names = ['dayl', 'prcp']\n",
    "years = [2019, 2019]"
   ]
  },
  {
   "cell_type": "code",
   "execution_count": 3,
   "id": "a1fbdfaf-4875-43e2-98c3-7957f6d9dd34",
   "metadata": {
    "collapsed": true,
    "jupyter": {
     "outputs_hidden": true
    },
    "tags": []
   },
   "outputs": [
    {
     "name": "stdout",
     "output_type": "stream",
     "text": [
      "[<xarray.Dataset>\n",
      "Dimensions:                  (x: 40, y: 21, time: 365, nv: 2)\n",
      "Coordinates:\n",
      "  * x                        (x) float32 1.743e+06 1.744e+06 ... 1.782e+06\n",
      "  * y                        (y) float32 -5.67e+05 -5.68e+05 ... -5.87e+05\n",
      "    lat                      (y, x) float32 ...\n",
      "    lon                      (y, x) float32 ...\n",
      "  * time                     (time) datetime64[ns] 2019-01-01T12:00:00 ... 20...\n",
      "    time_bnds                (time, nv) datetime64[ns] ...\n",
      "    lambert_conformal_conic  int16 ...\n",
      "Dimensions without coordinates: nv\n",
      "Data variables:\n",
      "    yearday                  (time) int16 ...\n",
      "    dayl                     (time, y, x) float32 ...\n",
      "Attributes:\n",
      "    start_year:                      2019\n",
      "    source:                          Daymet Software Version 4.0\n",
      "    Version_software:                Daymet Software Version 4.0\n",
      "    Version_data:                    Daymet Data Version 4.0\n",
      "    Conventions:                     CF-1.6\n",
      "    citation:                        Please see http://daymet.ornl.gov/ for c...\n",
      "    references:                      Please see http://daymet.ornl.gov/ for c...\n",
      "    DODS_EXTRA.Unlimited_Dimension:  time, <xarray.Dataset>\n",
      "Dimensions:                  (x: 40, y: 21, time: 365, nv: 2)\n",
      "Coordinates:\n",
      "  * x                        (x) float32 1.743e+06 1.744e+06 ... 1.782e+06\n",
      "  * y                        (y) float32 -5.67e+05 -5.68e+05 ... -5.87e+05\n",
      "    lat                      (y, x) float32 ...\n",
      "    lon                      (y, x) float32 ...\n",
      "  * time                     (time) datetime64[ns] 2019-01-01T12:00:00 ... 20...\n",
      "    time_bnds                (time, nv) datetime64[ns] ...\n",
      "    lambert_conformal_conic  int16 ...\n",
      "Dimensions without coordinates: nv\n",
      "Data variables:\n",
      "    yearday                  (time) int16 ...\n",
      "    prcp                     (time, y, x) float32 ...\n",
      "Attributes:\n",
      "    start_year:                      2019\n",
      "    source:                          Daymet Software Version 4.0\n",
      "    Version_software:                Daymet Software Version 4.0\n",
      "    Version_data:                    Daymet Data Version 4.0\n",
      "    Conventions:                     CF-1.6\n",
      "    citation:                        Please see http://daymet.ornl.gov/ for c...\n",
      "    references:                      Please see http://daymet.ornl.gov/ for c...\n",
      "    DODS_EXTRA.Unlimited_Dimension:  time]\n"
     ]
    }
   ],
   "source": [
    "# no download\n",
    "data_arrays = get_dataset(longitudes, latitudes, var_names, years)\n",
    "print(data_arrays)"
   ]
  },
  {
   "cell_type": "code",
   "execution_count": 5,
   "id": "00fda221-a1df-4a93-b4a5-11d68f2c61f2",
   "metadata": {},
   "outputs": [
    {
     "name": "stdout",
     "output_type": "stream",
     "text": [
      "./daymet_v4_daily_11_25_2022_17_40.nc\n"
     ]
    }
   ],
   "source": [
    "# download\n",
    "data_file_name = download(longitudes, latitudes, var_names, years)\n",
    "print(data_file_name)"
   ]
  },
  {
   "cell_type": "code",
   "execution_count": 4,
   "id": "7186986e-1ad8-4cd8-8f12-5c8e66a117b9",
   "metadata": {},
   "outputs": [
    {
     "name": "stdout",
     "output_type": "stream",
     "text": [
      "[                                lat        lon  yearday  \\\n",
      "x         y         year                                  \n",
      "1742750.0 -567000.0 2019  35.180431 -79.936249    183.0   \n",
      "          -568000.0 2019  35.171341 -79.938965    183.0   \n",
      "          -569000.0 2019  35.162247 -79.941681    183.0   \n",
      "          -570000.0 2019  35.153156 -79.944397    183.0   \n",
      "          -571000.0 2019  35.144066 -79.947113    183.0   \n",
      "...                             ...        ...      ...   \n",
      "1781750.0 -583000.0 2019  34.947311 -79.549149    183.0   \n",
      "          -584000.0 2019  34.938232 -79.551910    183.0   \n",
      "          -585000.0 2019  34.929157 -79.554665    183.0   \n",
      "          -586000.0 2019  34.920082 -79.557419    183.0   \n",
      "          -587000.0 2019  34.911007 -79.560173    183.0   \n",
      "\n",
      "                          lambert_conformal_conic          dayl  \n",
      "x         y         year                                         \n",
      "1742750.0 -567000.0 2019                   -32767  43200.082031  \n",
      "          -568000.0 2019                   -32767  43200.101562  \n",
      "          -569000.0 2019                   -32767  43200.101562  \n",
      "          -570000.0 2019                   -32767  43200.101562  \n",
      "          -571000.0 2019                   -32767  43200.101562  \n",
      "...                                           ...           ...  \n",
      "1781750.0 -583000.0 2019                   -32767  43200.105469  \n",
      "          -584000.0 2019                   -32767  43200.105469  \n",
      "          -585000.0 2019                   -32767  43200.105469  \n",
      "          -586000.0 2019                   -32767  43200.105469  \n",
      "          -587000.0 2019                   -32767  43200.105469  \n",
      "\n",
      "[840 rows x 5 columns],                                 lat        lon  yearday  \\\n",
      "x         y         year                                  \n",
      "1742750.0 -567000.0 2019  35.180431 -79.936249    183.0   \n",
      "          -568000.0 2019  35.171341 -79.938965    183.0   \n",
      "          -569000.0 2019  35.162247 -79.941681    183.0   \n",
      "          -570000.0 2019  35.153156 -79.944397    183.0   \n",
      "          -571000.0 2019  35.144066 -79.947113    183.0   \n",
      "...                             ...        ...      ...   \n",
      "1781750.0 -583000.0 2019  34.947311 -79.549149    183.0   \n",
      "          -584000.0 2019  34.938232 -79.551910    183.0   \n",
      "          -585000.0 2019  34.929157 -79.554665    183.0   \n",
      "          -586000.0 2019  34.920082 -79.557419    183.0   \n",
      "          -587000.0 2019  34.911007 -79.560173    183.0   \n",
      "\n",
      "                          lambert_conformal_conic      prcp  \n",
      "x         y         year                                     \n",
      "1742750.0 -567000.0 2019                   -32767  3.470082  \n",
      "          -568000.0 2019                   -32767  3.502301  \n",
      "          -569000.0 2019                   -32767  3.526630  \n",
      "          -570000.0 2019                   -32767  3.569151  \n",
      "          -571000.0 2019                   -32767  3.582329  \n",
      "...                                           ...       ...  \n",
      "1781750.0 -583000.0 2019                   -32767  3.070794  \n",
      "          -584000.0 2019                   -32767  3.008438  \n",
      "          -585000.0 2019                   -32767  2.975672  \n",
      "          -586000.0 2019                   -32767  3.004247  \n",
      "          -587000.0 2019                   -32767  2.967726  \n",
      "\n",
      "[840 rows x 5 columns]]\n"
     ]
    }
   ],
   "source": [
    "# calculate statistics here annual average \n",
    "data_frames = compute_stat(longitudes, latitudes, var_names, years)\n",
    "print(data_frames)"
   ]
  },
  {
   "cell_type": "code",
   "execution_count": null,
   "id": "9a57f3f5-1839-4bae-bd7b-cf2be236deab",
   "metadata": {},
   "outputs": [],
   "source": []
  }
 ],
 "metadata": {
  "kernelspec": {
   "display_name": "Python 3 (ipykernel)",
   "language": "python",
   "name": "python3"
  },
  "language_info": {
   "codemirror_mode": {
    "name": "ipython",
    "version": 3
   },
   "file_extension": ".py",
   "mimetype": "text/x-python",
   "name": "python",
   "nbconvert_exporter": "python",
   "pygments_lexer": "ipython3",
   "version": "3.10.8"
  }
 },
 "nbformat": 4,
 "nbformat_minor": 5
}
