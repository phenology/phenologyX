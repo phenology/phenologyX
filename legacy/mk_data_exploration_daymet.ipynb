{
 "cells": [
  {
   "cell_type": "markdown",
   "id": "ea1c46b5-d68f-454c-a473-be054ffbd2f9",
   "metadata": {},
   "source": [
    "## Daymet data  "
   ]
  },
  {
   "cell_type": "code",
   "execution_count": 1,
   "id": "333c6f9d-470c-46a4-a52f-c0adf22f5485",
   "metadata": {},
   "outputs": [
    {
     "name": "stdout",
     "output_type": "stream",
     "text": [
      "Creating folder /tmp/data\n"
     ]
    }
   ],
   "source": [
    "import springtime\n",
    "from springtime.datasets.daymet import DaymetSinglePoint, DaymetMultiplePoints, DaymetBoundingBox"
   ]
  },
  {
   "cell_type": "code",
   "execution_count": 2,
   "id": "667f62ae-ebc7-46ff-a4bd-56ef611ec0dc",
   "metadata": {},
   "outputs": [],
   "source": [
    "import numpy as np\n",
    "import seaborn as sns\n",
    "import matplotlib.pyplot as plt\n",
    "import geopandas as gpd\n",
    "import math\n",
    "import folium"
   ]
  },
  {
   "cell_type": "markdown",
   "id": "cd739479-aa08-4130-8a3b-3dece3727797",
   "metadata": {},
   "source": [
    "### Data from a point"
   ]
  },
  {
   "cell_type": "code",
   "execution_count": 3,
   "id": "2380f160-2bdd-4cce-a7de-c1f7352a82f1",
   "metadata": {},
   "outputs": [],
   "source": [
    "#The latitude of Washington, the USA is 47.751076, and the longitude is -120.740135\n",
    "target_lat = 47.751076\n",
    "target_lon = -120.740135\n"
   ]
  },
  {
   "cell_type": "code",
   "execution_count": 4,
   "id": "493ca969-3ee9-4ec1-8769-22574cacc22d",
   "metadata": {},
   "outputs": [
    {
     "data": {
      "text/plain": [
       "DaymetSinglePoint(dataset='daymet_single_point', point=(-120.740135, 47.751076), years=(1990, 2020))"
      ]
     },
     "execution_count": 4,
     "metadata": {},
     "output_type": "execute_result"
    }
   ],
   "source": [
    "dataset = DaymetSinglePoint(point=(target_lon,target_lat), years=[1990, 2020])\n",
    "dataset"
   ]
  },
  {
   "cell_type": "code",
   "execution_count": 5,
   "id": "03b57bb9-c59b-4e06-a30a-f384265740d1",
   "metadata": {},
   "outputs": [
    {
     "name": "stdout",
     "output_type": "stream",
     "text": [
      "\n",
      "R version 4.2.1 (2022-06-23) -- \"Funny-Looking Kid\"\n",
      "Copyright (C) 2022 The R Foundation for Statistical Computing\n",
      "Platform: aarch64-unknown-linux-gnu (64-bit)\n",
      "\n",
      "R is free software and comes with ABSOLUTELY NO WARRANTY.\n",
      "You are welcome to redistribute it under certain conditions.\n",
      "Type 'license()' or 'licence()' for distribution details.\n",
      "\n",
      "  Natural language support but running in an English locale\n",
      "\n",
      "R is a collaborative project with many contributors.\n",
      "Type 'contributors()' for more information and\n",
      "'citation()' on how to cite R or R packages in publications.\n",
      "\n",
      "Type 'demo()' for some demos, 'help()' for on-line help, or\n",
      "'help.start()' for an HTML browser interface to help.\n",
      "Type 'q()' to quit R.\n",
      "\n",
      ">         library(daymetr)\n",
      ">         daymetr::download_daymet(\n",
      "+             site = \"daymet_single_point_-120.740135_47.751076\",\n",
      "+             lat = 47.751076,\n",
      "+             lon = -120.740135,\n",
      "+             start = 1990,\n",
      "+             end =  2020,\n",
      "+             path=\"/tmp/data\",\n",
      "+             internal = FALSE)\n"
     ]
    },
    {
     "name": "stderr",
     "output_type": "stream",
     "text": [
      "Downloading DAYMET data for: daymet_single_point_-120.740135_47.751076 at 47.751076/-120.740135 latitude/longitude !\n",
      "\n"
     ]
    },
    {
     "name": "stdout",
     "output_type": "stream",
     "text": [
      ">         \n",
      "> \n"
     ]
    },
    {
     "name": "stderr",
     "output_type": "stream",
     "text": [
      "Done !\n",
      "\n"
     ]
    },
    {
     "data": {
      "text/html": [
       "<div>\n",
       "<style scoped>\n",
       "    .dataframe tbody tr th:only-of-type {\n",
       "        vertical-align: middle;\n",
       "    }\n",
       "\n",
       "    .dataframe tbody tr th {\n",
       "        vertical-align: top;\n",
       "    }\n",
       "\n",
       "    .dataframe thead th {\n",
       "        text-align: right;\n",
       "    }\n",
       "</style>\n",
       "<table border=\"1\" class=\"dataframe\">\n",
       "  <thead>\n",
       "    <tr style=\"text-align: right;\">\n",
       "      <th></th>\n",
       "      <th>year</th>\n",
       "      <th>yday</th>\n",
       "      <th>dayl (s)</th>\n",
       "      <th>prcp (mm/day)</th>\n",
       "      <th>srad (W/m^2)</th>\n",
       "      <th>swe (kg/m^2)</th>\n",
       "      <th>tmax (deg c)</th>\n",
       "      <th>tmin (deg c)</th>\n",
       "      <th>vp (Pa)</th>\n",
       "    </tr>\n",
       "  </thead>\n",
       "  <tbody>\n",
       "    <tr>\n",
       "      <th>0</th>\n",
       "      <td>1990</td>\n",
       "      <td>1</td>\n",
       "      <td>29818.61</td>\n",
       "      <td>12.68</td>\n",
       "      <td>86.56</td>\n",
       "      <td>66.10</td>\n",
       "      <td>2.14</td>\n",
       "      <td>-2.68</td>\n",
       "      <td>501.57</td>\n",
       "    </tr>\n",
       "    <tr>\n",
       "      <th>1</th>\n",
       "      <td>1990</td>\n",
       "      <td>2</td>\n",
       "      <td>29875.77</td>\n",
       "      <td>10.44</td>\n",
       "      <td>114.20</td>\n",
       "      <td>66.00</td>\n",
       "      <td>1.47</td>\n",
       "      <td>-5.76</td>\n",
       "      <td>397.66</td>\n",
       "    </tr>\n",
       "    <tr>\n",
       "      <th>2</th>\n",
       "      <td>1990</td>\n",
       "      <td>3</td>\n",
       "      <td>29937.57</td>\n",
       "      <td>7.58</td>\n",
       "      <td>98.15</td>\n",
       "      <td>65.27</td>\n",
       "      <td>1.33</td>\n",
       "      <td>-4.27</td>\n",
       "      <td>445.06</td>\n",
       "    </tr>\n",
       "    <tr>\n",
       "      <th>3</th>\n",
       "      <td>1990</td>\n",
       "      <td>4</td>\n",
       "      <td>30003.96</td>\n",
       "      <td>15.35</td>\n",
       "      <td>111.24</td>\n",
       "      <td>63.49</td>\n",
       "      <td>5.19</td>\n",
       "      <td>-1.76</td>\n",
       "      <td>537.01</td>\n",
       "    </tr>\n",
       "    <tr>\n",
       "      <th>4</th>\n",
       "      <td>1990</td>\n",
       "      <td>5</td>\n",
       "      <td>30074.88</td>\n",
       "      <td>11.16</td>\n",
       "      <td>109.80</td>\n",
       "      <td>61.99</td>\n",
       "      <td>4.23</td>\n",
       "      <td>-2.43</td>\n",
       "      <td>510.71</td>\n",
       "    </tr>\n",
       "  </tbody>\n",
       "</table>\n",
       "</div>"
      ],
      "text/plain": [
       "   year  yday  dayl (s)  prcp (mm/day)  srad (W/m^2)  swe (kg/m^2)  \\\n",
       "0  1990     1  29818.61          12.68         86.56         66.10   \n",
       "1  1990     2  29875.77          10.44        114.20         66.00   \n",
       "2  1990     3  29937.57           7.58         98.15         65.27   \n",
       "3  1990     4  30003.96          15.35        111.24         63.49   \n",
       "4  1990     5  30074.88          11.16        109.80         61.99   \n",
       "\n",
       "   tmax (deg c)  tmin (deg c)  vp (Pa)  \n",
       "0          2.14         -2.68   501.57  \n",
       "1          1.47         -5.76   397.66  \n",
       "2          1.33         -4.27   445.06  \n",
       "3          5.19         -1.76   537.01  \n",
       "4          4.23         -2.43   510.71  "
      ]
     },
     "execution_count": 5,
     "metadata": {},
     "output_type": "execute_result"
    }
   ],
   "source": [
    "dataset.download()\n",
    "df_wa_point = dataset.load()\n",
    "df_wa_point.head()"
   ]
  },
  {
   "cell_type": "code",
   "execution_count": 6,
   "id": "7cc36dc7-5ea3-44ca-9c7b-470bf69dfde2",
   "metadata": {},
   "outputs": [
    {
     "data": {
      "image/png": "[encoded data removed]",
      "text/plain": [
       "<Figure size 640x480 with 1 Axes>"
      ]
     },
     "metadata": {},
     "output_type": "display_data"
    }
   ],
   "source": [
    "ts1 = df_wa_point.groupby('year', as_index=False)['tmax (deg c)'].mean()\n",
    "ts1.plot(x=\"year\",y=\"tmax (deg c)\")\n",
    "plt.title('Average temperature')\n",
    "plt.ylabel('tmax')\n",
    "\n",
    "plt.show()"
   ]
  },
  {
   "cell_type": "markdown",
   "id": "c3821817-dacf-4b19-b9b7-9f97dbdd00f6",
   "metadata": {},
   "source": [
    "### Data from multiple points"
   ]
  },
  {
   "cell_type": "code",
   "execution_count": 7,
   "id": "cd9852e8-3bae-45f3-bbfe-2138feefe58c",
   "metadata": {},
   "outputs": [
    {
     "data": {
      "text/plain": [
       "DaymetMultiplePoints(dataset='daymet_multiple_points', points=[(-120.740135, 47.751076), (-73.935242, 40.73061), (-86.660156, 35.860119)], years=(1990, 2020))"
      ]
     },
     "execution_count": 7,
     "metadata": {},
     "output_type": "execute_result"
    }
   ],
   "source": [
    "#The latitude of Washington, the USA is 47.751076, and the longitude is -120.740135\n",
    "target_lat1 = 47.751076\n",
    "target_lon1 = -120.740135\n",
    "# The latitude of New York City, NY, USA is 40.730610, and the longitude is -73.935242.\n",
    "target_lat2 = 40.730610\n",
    "target_lon2 = -73.935242\n",
    "# The latitude of Tennessee, USA is 35.860119, and the longitude is -86.660156. Tennessee,\n",
    "target_lat3 = 35.860119\n",
    "target_lon3 = -86.660156\n",
    "\n",
    "dataset = DaymetMultiplePoints(points=[(target_lon1,target_lat1),(target_lon2,target_lat2),(target_lon3,target_lat3)], years=[1990, 2020])\n",
    "dataset"
   ]
  },
  {
   "cell_type": "code",
   "execution_count": 8,
   "id": "9c71dc0c-3d7f-4e1c-9c50-78022de6348a",
   "metadata": {},
   "outputs": [
    {
     "name": "stdout",
     "output_type": "stream",
     "text": [
      "\n",
      "R version 4.2.1 (2022-06-23) -- \"Funny-Looking Kid\"\n",
      "Copyright (C) 2022 The R Foundation for Statistical Computing\n",
      "Platform: aarch64-unknown-linux-gnu (64-bit)\n",
      "\n",
      "R is free software and comes with ABSOLUTELY NO WARRANTY.\n",
      "You are welcome to redistribute it under certain conditions.\n",
      "Type 'license()' or 'licence()' for distribution details.\n",
      "\n",
      "  Natural language support but running in an English locale\n",
      "\n",
      "R is a collaborative project with many contributors.\n",
      "Type 'contributors()' for more information and\n",
      "'citation()' on how to cite R or R packages in publications.\n",
      "\n",
      "Type 'demo()' for some demos, 'help()' for on-line help, or\n",
      "'help.start()' for an HTML browser interface to help.\n",
      "Type 'q()' to quit R.\n",
      "\n",
      ">         library(daymetr)\n",
      ">         daymetr::download_daymet(\n",
      "+             site = \"daymet_single_point_-73.935242_40.73061\",\n",
      "+             lat = 40.73061,\n",
      "+             lon = -73.935242,\n",
      "+             start = 1990,\n",
      "+             end =  2020,\n",
      "+             path=\"/tmp/data\",\n",
      "+             internal = FALSE)\n"
     ]
    },
    {
     "name": "stderr",
     "output_type": "stream",
     "text": [
      "Downloading DAYMET data for: daymet_single_point_-73.935242_40.73061 at 40.73061/-73.935242 latitude/longitude !\n",
      "\n",
      "Done !\n",
      "\n"
     ]
    },
    {
     "name": "stdout",
     "output_type": "stream",
     "text": [
      ">         \n",
      "> \n",
      "\n",
      "R version 4.2.1 (2022-06-23) -- \"Funny-Looking Kid\"\n",
      "Copyright (C) 2022 The R Foundation for Statistical Computing\n",
      "Platform: aarch64-unknown-linux-gnu (64-bit)\n",
      "\n",
      "R is free software and comes with ABSOLUTELY NO WARRANTY.\n",
      "You are welcome to redistribute it under certain conditions.\n",
      "Type 'license()' or 'licence()' for distribution details.\n",
      "\n",
      "  Natural language support but running in an English locale\n",
      "\n",
      "R is a collaborative project with many contributors.\n",
      "Type 'contributors()' for more information and\n",
      "'citation()' on how to cite R or R packages in publications.\n",
      "\n",
      "Type 'demo()' for some demos, 'help()' for on-line help, or\n",
      "'help.start()' for an HTML browser interface to help.\n",
      "Type 'q()' to quit R.\n",
      "\n",
      ">         library(daymetr)\n",
      ">         daymetr::download_daymet(\n",
      "+             site = \"daymet_single_point_-86.660156_35.860119\",\n",
      "+             lat = 35.860119,\n",
      "+             lon = -86.660156,\n",
      "+             start = 1990,\n",
      "+             end =  2020,\n",
      "+             path=\"/tmp/data\",\n",
      "+             internal = FALSE)\n"
     ]
    },
    {
     "name": "stderr",
     "output_type": "stream",
     "text": [
      "Downloading DAYMET data for: daymet_single_point_-86.660156_35.860119 at 35.860119/-86.660156 latitude/longitude !\n",
      "\n",
      "Done !\n",
      "\n"
     ]
    },
    {
     "name": "stdout",
     "output_type": "stream",
     "text": [
      ">         \n",
      "> \n"
     ]
    },
    {
     "data": {
      "text/html": [
       "<div>\n",
       "<style scoped>\n",
       "    .dataframe tbody tr th:only-of-type {\n",
       "        vertical-align: middle;\n",
       "    }\n",
       "\n",
       "    .dataframe tbody tr th {\n",
       "        vertical-align: top;\n",
       "    }\n",
       "\n",
       "    .dataframe thead th {\n",
       "        text-align: right;\n",
       "    }\n",
       "</style>\n",
       "<table border=\"1\" class=\"dataframe\">\n",
       "  <thead>\n",
       "    <tr style=\"text-align: right;\">\n",
       "      <th></th>\n",
       "      <th>year</th>\n",
       "      <th>yday</th>\n",
       "      <th>dayl (s)</th>\n",
       "      <th>prcp (mm/day)</th>\n",
       "      <th>srad (W/m^2)</th>\n",
       "      <th>swe (kg/m^2)</th>\n",
       "      <th>tmax (deg c)</th>\n",
       "      <th>tmin (deg c)</th>\n",
       "      <th>vp (Pa)</th>\n",
       "      <th>x</th>\n",
       "      <th>y</th>\n",
       "      <th>geometry</th>\n",
       "    </tr>\n",
       "  </thead>\n",
       "  <tbody>\n",
       "    <tr>\n",
       "      <th>0</th>\n",
       "      <td>1990</td>\n",
       "      <td>1</td>\n",
       "      <td>29818.61</td>\n",
       "      <td>12.68</td>\n",
       "      <td>86.56</td>\n",
       "      <td>66.10</td>\n",
       "      <td>2.14</td>\n",
       "      <td>-2.68</td>\n",
       "      <td>501.57</td>\n",
       "      <td>-120.740135</td>\n",
       "      <td>47.751076</td>\n",
       "      <td>POINT (-120.74013 47.75108)</td>\n",
       "    </tr>\n",
       "    <tr>\n",
       "      <th>1</th>\n",
       "      <td>1990</td>\n",
       "      <td>2</td>\n",
       "      <td>29875.77</td>\n",
       "      <td>10.44</td>\n",
       "      <td>114.20</td>\n",
       "      <td>66.00</td>\n",
       "      <td>1.47</td>\n",
       "      <td>-5.76</td>\n",
       "      <td>397.66</td>\n",
       "      <td>-120.740135</td>\n",
       "      <td>47.751076</td>\n",
       "      <td>POINT (-120.74013 47.75108)</td>\n",
       "    </tr>\n",
       "    <tr>\n",
       "      <th>2</th>\n",
       "      <td>1990</td>\n",
       "      <td>3</td>\n",
       "      <td>29937.57</td>\n",
       "      <td>7.58</td>\n",
       "      <td>98.15</td>\n",
       "      <td>65.27</td>\n",
       "      <td>1.33</td>\n",
       "      <td>-4.27</td>\n",
       "      <td>445.06</td>\n",
       "      <td>-120.740135</td>\n",
       "      <td>47.751076</td>\n",
       "      <td>POINT (-120.74013 47.75108)</td>\n",
       "    </tr>\n",
       "    <tr>\n",
       "      <th>3</th>\n",
       "      <td>1990</td>\n",
       "      <td>4</td>\n",
       "      <td>30003.96</td>\n",
       "      <td>15.35</td>\n",
       "      <td>111.24</td>\n",
       "      <td>63.49</td>\n",
       "      <td>5.19</td>\n",
       "      <td>-1.76</td>\n",
       "      <td>537.01</td>\n",
       "      <td>-120.740135</td>\n",
       "      <td>47.751076</td>\n",
       "      <td>POINT (-120.74013 47.75108)</td>\n",
       "    </tr>\n",
       "    <tr>\n",
       "      <th>4</th>\n",
       "      <td>1990</td>\n",
       "      <td>5</td>\n",
       "      <td>30074.88</td>\n",
       "      <td>11.16</td>\n",
       "      <td>109.80</td>\n",
       "      <td>61.99</td>\n",
       "      <td>4.23</td>\n",
       "      <td>-2.43</td>\n",
       "      <td>510.71</td>\n",
       "      <td>-120.740135</td>\n",
       "      <td>47.751076</td>\n",
       "      <td>POINT (-120.74013 47.75108)</td>\n",
       "    </tr>\n",
       "  </tbody>\n",
       "</table>\n",
       "</div>"
      ],
      "text/plain": [
       "   year  yday  dayl (s)  prcp (mm/day)  srad (W/m^2)  swe (kg/m^2)  \\\n",
       "0  1990     1  29818.61          12.68         86.56         66.10   \n",
       "1  1990     2  29875.77          10.44        114.20         66.00   \n",
       "2  1990     3  29937.57           7.58         98.15         65.27   \n",
       "3  1990     4  30003.96          15.35        111.24         63.49   \n",
       "4  1990     5  30074.88          11.16        109.80         61.99   \n",
       "\n",
       "   tmax (deg c)  tmin (deg c)  vp (Pa)           x          y  \\\n",
       "0          2.14         -2.68   501.57 -120.740135  47.751076   \n",
       "1          1.47         -5.76   397.66 -120.740135  47.751076   \n",
       "2          1.33         -4.27   445.06 -120.740135  47.751076   \n",
       "3          5.19         -1.76   537.01 -120.740135  47.751076   \n",
       "4          4.23         -2.43   510.71 -120.740135  47.751076   \n",
       "\n",
       "                      geometry  \n",
       "0  POINT (-120.74013 47.75108)  \n",
       "1  POINT (-120.74013 47.75108)  \n",
       "2  POINT (-120.74013 47.75108)  \n",
       "3  POINT (-120.74013 47.75108)  \n",
       "4  POINT (-120.74013 47.75108)  "
      ]
     },
     "execution_count": 8,
     "metadata": {},
     "output_type": "execute_result"
    }
   ],
   "source": [
    "dataset.download()\n",
    "df_wa_points = dataset.load()\n",
    "df_wa_points.head()"
   ]
  },
  {
   "cell_type": "code",
   "execution_count": 9,
   "id": "6861198a-a39e-4b3a-96f2-e6b09bde51a3",
   "metadata": {},
   "outputs": [
    {
     "name": "stderr",
     "output_type": "stream",
     "text": [
      "/tmp/ipykernel_9523/2196454111.py:3: FutureWarning: The default value of numeric_only in DataFrameGroupBy.mean is deprecated. In a future version, numeric_only will default to False. Either specify numeric_only or select only columns which should be valid for the function.\n",
      "  df_wa_points.groupby(['year','x']).mean()['tmax (deg c)'].unstack().plot(ax=ax)\n"
     ]
    },
    {
     "data": {
      "image/png": "[encoded data removed]",
      "text/plain": [
       "<Figure size 640x480 with 1 Axes>"
      ]
     },
     "metadata": {},
     "output_type": "display_data"
    }
   ],
   "source": [
    "# plot data\n",
    "fig, ax = plt.subplots()\n",
    "df_wa_points.groupby(['year','x']).mean()['tmax (deg c)'].unstack().plot(ax=ax)\n",
    "plt.title('Average temperature')\n",
    "plt.ylabel('tmax')\n",
    "# plt.xticks(rotation=45)\n",
    "plt.show()"
   ]
  },
  {
   "cell_type": "markdown",
   "id": "bc20000a-621a-4ecd-9fa3-2686e3e66f5c",
   "metadata": {},
   "source": [
    "### Data from a boundingbox"
   ]
  },
  {
   "cell_type": "code",
   "execution_count": 10,
   "id": "d4c9a91d-8084-4760-a49a-b7e4c65e97ed",
   "metadata": {},
   "outputs": [],
   "source": [
    "def get_bounding_box(latitude_in_degrees, longitude_in_degrees, half_side_in_km):\n",
    "    assert half_side_in_km > 0\n",
    "    assert latitude_in_degrees >= -90.0 and latitude_in_degrees  <= 90.0\n",
    "    assert longitude_in_degrees >= -180.0 and longitude_in_degrees <= 180.0\n",
    "\n",
    "    lat = math.radians(latitude_in_degrees)\n",
    "    lon = math.radians(longitude_in_degrees)\n",
    "\n",
    "    radius  = 6371\n",
    "    # Radius of the parallel at given latitude\n",
    "    parallel_radius = radius*math.cos(lat)\n",
    "\n",
    "    lat_min = lat - half_side_in_km/radius\n",
    "    lat_max = lat + half_side_in_km/radius\n",
    "    lon_min = lon - half_side_in_km/parallel_radius\n",
    "    lon_max = lon + half_side_in_km/parallel_radius\n",
    "    rad2deg = math.degrees\n",
    "\n",
    "    box = (rad2deg(lon_min),rad2deg(lat_min),rad2deg(lon_max),rad2deg(lat_max))\n",
    "\n",
    "    return (box)"
   ]
  },
  {
   "cell_type": "code",
   "execution_count": 11,
   "id": "c49e3655-4144-4564-bc02-00da55757285",
   "metadata": {},
   "outputs": [
    {
     "data": {
      "text/plain": [
       "(-121.40892188082722,\n",
       " 47.30141519704063,\n",
       " -120.07134811917277,\n",
       " 48.20073680295936)"
      ]
     },
     "execution_count": 11,
     "metadata": {},
     "output_type": "execute_result"
    }
   ],
   "source": [
    "# boundingbox around Washington\n",
    "half_side_in_km = 50\n",
    "bbox = get_bounding_box(target_lat,target_lon,half_side_in_km)\n",
    "bbox"
   ]
  },
  {
   "cell_type": "code",
   "execution_count": 12,
   "id": "7df2df00-0b3d-4576-82bb-8cdce1c38d40",
   "metadata": {},
   "outputs": [
    {
     "data": {
      "text/plain": [
       "DaymetBoundingBox(dataset='daymet_bounding_box', box=(-121.40892188082722, 47.30141519704063, -120.07134811917277, 48.20073680295936), years=(2019, 2020), mosaic='na', variables=('dayl', 'prcp', 'srad', 'swe', 'tmax', 'tmin', 'vp'), frequency='daily')"
      ]
     },
     "execution_count": 12,
     "metadata": {},
     "output_type": "execute_result"
    }
   ],
   "source": [
    "dataset = DaymetBoundingBox(box=bbox, years=[2019, 2020])\n",
    "dataset"
   ]
  },
  {
   "cell_type": "code",
   "execution_count": 13,
   "id": "ab82ec4d-a85d-48b6-a660-525d04e2b589",
   "metadata": {},
   "outputs": [
    {
     "name": "stdout",
     "output_type": "stream",
     "text": [
      "(-121.40892188082722, 47.30141519704063, -120.07134811917277, 48.20073680295936)\n",
      "\n",
      "R version 4.2.1 (2022-06-23) -- \"Funny-Looking Kid\"\n",
      "Copyright (C) 2022 The R Foundation for Statistical Computing\n",
      "Platform: aarch64-unknown-linux-gnu (64-bit)\n",
      "\n",
      "R is free software and comes with ABSOLUTELY NO WARRANTY.\n",
      "You are welcome to redistribute it under certain conditions.\n",
      "Type 'license()' or 'licence()' for distribution details.\n",
      "\n",
      "  Natural language support but running in an English locale\n",
      "\n",
      "R is a collaborative project with many contributors.\n",
      "Type 'contributors()' for more information and\n",
      "'citation()' on how to cite R or R packages in publications.\n",
      "\n",
      "Type 'demo()' for some demos, 'help()' for on-line help, or\n",
      "'help.start()' for an HTML browser interface to help.\n",
      "Type 'q()' to quit R.\n",
      "\n",
      ">         library(daymetr)\n",
      ">         daymetr::download_daymet_ncss(\n",
      "+             location = c(-121.40892188082722,47.30141519704063,-120.07134811917277,48.20073680295936),\n",
      "+             start = 2019,\n",
      "+             end =  2020,\n",
      "+             param = c('dayl','prcp','srad','swe','tmax','tmin','vp'),\n",
      "+             mosaic = \"na\",\n",
      "+             path = \"/tmp/data/daymet_bounding_box_-121.40892188082722_47.30141519704063_-120.07134811917277_48.20073680295936\")\n"
     ]
    },
    {
     "name": "stderr",
     "output_type": "stream",
     "text": [
      "Creating a subset of the Daymet data\n",
      "        be patient, this might take a while!\n",
      "\n",
      "https://thredds.daac.ornl.gov/thredds/ncss/ornldaac/1840/daymet_v4_daily_na_dayl_2019.nc\n",
      "\n",
      "Downloading DAYMET subset: year: 2019; product: dayl\n",
      "\n",
      "https://thredds.daac.ornl.gov/thredds/ncss/ornldaac/1840/daymet_v4_daily_na_prcp_2019.nc\n",
      "\n",
      "Downloading DAYMET subset: year: 2019; product: prcp\n",
      "\n",
      "https://thredds.daac.ornl.gov/thredds/ncss/ornldaac/1840/daymet_v4_daily_na_srad_2019.nc\n",
      "\n",
      "Downloading DAYMET subset: year: 2019; product: srad\n",
      "\n",
      "https://thredds.daac.ornl.gov/thredds/ncss/ornldaac/1840/daymet_v4_daily_na_swe_2019.nc\n",
      "\n",
      "Downloading DAYMET subset: year: 2019; product: swe\n",
      "\n",
      "https://thredds.daac.ornl.gov/thredds/ncss/ornldaac/1840/daymet_v4_daily_na_tmax_2019.nc\n",
      "\n",
      "Downloading DAYMET subset: year: 2019; product: tmax\n",
      "\n",
      "https://thredds.daac.ornl.gov/thredds/ncss/ornldaac/1840/daymet_v4_daily_na_tmin_2019.nc\n",
      "\n",
      "Downloading DAYMET subset: year: 2019; product: tmin\n",
      "\n",
      "https://thredds.daac.ornl.gov/thredds/ncss/ornldaac/1840/daymet_v4_daily_na_vp_2019.nc\n",
      "\n",
      "Downloading DAYMET subset: year: 2019; product: vp\n",
      "\n",
      "https://thredds.daac.ornl.gov/thredds/ncss/ornldaac/1840/daymet_v4_daily_na_dayl_2020.nc\n",
      "\n",
      "Downloading DAYMET subset: year: 2020; product: dayl\n",
      "\n",
      "https://thredds.daac.ornl.gov/thredds/ncss/ornldaac/1840/daymet_v4_daily_na_prcp_2020.nc\n",
      "\n",
      "Downloading DAYMET subset: year: 2020; product: prcp\n",
      "\n",
      "https://thredds.daac.ornl.gov/thredds/ncss/ornldaac/1840/daymet_v4_daily_na_srad_2020.nc\n",
      "\n",
      "Downloading DAYMET subset: year: 2020; product: srad\n",
      "\n",
      "https://thredds.daac.ornl.gov/thredds/ncss/ornldaac/1840/daymet_v4_daily_na_swe_2020.nc\n",
      "\n",
      "Downloading DAYMET subset: year: 2020; product: swe\n",
      "\n",
      "https://thredds.daac.ornl.gov/thredds/ncss/ornldaac/1840/daymet_v4_daily_na_tmax_2020.nc\n",
      "\n",
      "Downloading DAYMET subset: year: 2020; product: tmax\n",
      "\n",
      "https://thredds.daac.ornl.gov/thredds/ncss/ornldaac/1840/daymet_v4_daily_na_tmin_2020.nc\n",
      "\n",
      "Downloading DAYMET subset: year: 2020; product: tmin\n",
      "\n"
     ]
    },
    {
     "name": "stdout",
     "output_type": "stream",
     "text": [
      ">         \n",
      "> \n"
     ]
    },
    {
     "name": "stderr",
     "output_type": "stream",
     "text": [
      "https://thredds.daac.ornl.gov/thredds/ncss/ornldaac/1840/daymet_v4_daily_na_vp_2020.nc\n",
      "\n",
      "Downloading DAYMET subset: year: 2020; product: vp\n",
      "\n"
     ]
    }
   ],
   "source": [
    "dataset.download()"
   ]
  },
  {
   "cell_type": "code",
   "execution_count": 15,
   "id": "5a8a7bf2-3009-4b4d-aaca-e013ff0f58cb",
   "metadata": {},
   "outputs": [
    {
     "ename": "ValueError",
     "evalue": "did not find a match in any of xarray's currently installed IO backends ['scipy', 'pydap']. Consider explicitly selecting one of the installed engines via the ``engine`` parameter, or installing additional IO dependencies, see:\nhttps://docs.xarray.dev/en/stable/getting-started-guide/installing.html\nhttps://docs.xarray.dev/en/stable/user-guide/io.html",
     "output_type": "error",
     "traceback": [
      "\u001b[0;31m---------------------------------------------------------------------------\u001b[0m",
      "\u001b[0;31mValueError\u001b[0m                                Traceback (most recent call last)",
      "Cell \u001b[0;32mIn[15], line 1\u001b[0m\n\u001b[0;32m----> 1\u001b[0m xa_wa \u001b[38;5;241m=\u001b[39m \u001b[43mdataset\u001b[49m\u001b[38;5;241;43m.\u001b[39;49m\u001b[43mload\u001b[49m\u001b[43m(\u001b[49m\u001b[43m)\u001b[49m\n\u001b[1;32m      2\u001b[0m \u001b[38;5;66;03m# # df_wa.head()\u001b[39;00m\n",
      "File \u001b[0;32m~/springtime/src/springtime/datasets/daymet.py:225\u001b[0m, in \u001b[0;36mDaymetBoundingBox.load\u001b[0;34m(self)\u001b[0m\n\u001b[1;32m    224\u001b[0m \u001b[38;5;28;01mdef\u001b[39;00m \u001b[38;5;21mload\u001b[39m(\u001b[38;5;28mself\u001b[39m):\n\u001b[0;32m--> 225\u001b[0m     \u001b[38;5;28;01mreturn\u001b[39;00m \u001b[43mxr\u001b[49m\u001b[38;5;241;43m.\u001b[39;49m\u001b[43mopen_mfdataset\u001b[49m\u001b[43m(\u001b[49m\u001b[38;5;28;43mself\u001b[39;49m\u001b[38;5;241;43m.\u001b[39;49m\u001b[43m_box_dir\u001b[49m\u001b[38;5;241;43m.\u001b[39;49m\u001b[43mglob\u001b[49m\u001b[43m(\u001b[49m\u001b[38;5;124;43m\"\u001b[39;49m\u001b[38;5;124;43m*.nc\u001b[39;49m\u001b[38;5;124;43m\"\u001b[39;49m\u001b[43m)\u001b[49m\u001b[43m)\u001b[49m\n",
      "File \u001b[0;32m~/mambaforge-pypy3/envs/springtime/lib/python3.9/site-packages/xarray/backends/api.py:983\u001b[0m, in \u001b[0;36mopen_mfdataset\u001b[0;34m(paths, chunks, concat_dim, compat, preprocess, engine, data_vars, coords, combine, parallel, join, attrs_file, combine_attrs, **kwargs)\u001b[0m\n\u001b[1;32m    980\u001b[0m     open_ \u001b[38;5;241m=\u001b[39m open_dataset\n\u001b[1;32m    981\u001b[0m     getattr_ \u001b[38;5;241m=\u001b[39m \u001b[38;5;28mgetattr\u001b[39m\n\u001b[0;32m--> 983\u001b[0m datasets \u001b[38;5;241m=\u001b[39m [open_(p, \u001b[38;5;241m*\u001b[39m\u001b[38;5;241m*\u001b[39mopen_kwargs) \u001b[38;5;28;01mfor\u001b[39;00m p \u001b[38;5;129;01min\u001b[39;00m paths]\n\u001b[1;32m    984\u001b[0m closers \u001b[38;5;241m=\u001b[39m [getattr_(ds, \u001b[38;5;124m\"\u001b[39m\u001b[38;5;124m_close\u001b[39m\u001b[38;5;124m\"\u001b[39m) \u001b[38;5;28;01mfor\u001b[39;00m ds \u001b[38;5;129;01min\u001b[39;00m datasets]\n\u001b[1;32m    985\u001b[0m \u001b[38;5;28;01mif\u001b[39;00m preprocess \u001b[38;5;129;01mis\u001b[39;00m \u001b[38;5;129;01mnot\u001b[39;00m \u001b[38;5;28;01mNone\u001b[39;00m:\n",
      "File \u001b[0;32m~/mambaforge-pypy3/envs/springtime/lib/python3.9/site-packages/xarray/backends/api.py:983\u001b[0m, in \u001b[0;36m<listcomp>\u001b[0;34m(.0)\u001b[0m\n\u001b[1;32m    980\u001b[0m     open_ \u001b[38;5;241m=\u001b[39m open_dataset\n\u001b[1;32m    981\u001b[0m     getattr_ \u001b[38;5;241m=\u001b[39m \u001b[38;5;28mgetattr\u001b[39m\n\u001b[0;32m--> 983\u001b[0m datasets \u001b[38;5;241m=\u001b[39m [\u001b[43mopen_\u001b[49m\u001b[43m(\u001b[49m\u001b[43mp\u001b[49m\u001b[43m,\u001b[49m\u001b[43m \u001b[49m\u001b[38;5;241;43m*\u001b[39;49m\u001b[38;5;241;43m*\u001b[39;49m\u001b[43mopen_kwargs\u001b[49m\u001b[43m)\u001b[49m \u001b[38;5;28;01mfor\u001b[39;00m p \u001b[38;5;129;01min\u001b[39;00m paths]\n\u001b[1;32m    984\u001b[0m closers \u001b[38;5;241m=\u001b[39m [getattr_(ds, \u001b[38;5;124m\"\u001b[39m\u001b[38;5;124m_close\u001b[39m\u001b[38;5;124m\"\u001b[39m) \u001b[38;5;28;01mfor\u001b[39;00m ds \u001b[38;5;129;01min\u001b[39;00m datasets]\n\u001b[1;32m    985\u001b[0m \u001b[38;5;28;01mif\u001b[39;00m preprocess \u001b[38;5;129;01mis\u001b[39;00m \u001b[38;5;129;01mnot\u001b[39;00m \u001b[38;5;28;01mNone\u001b[39;00m:\n",
      "File \u001b[0;32m~/mambaforge-pypy3/envs/springtime/lib/python3.9/site-packages/xarray/backends/api.py:510\u001b[0m, in \u001b[0;36mopen_dataset\u001b[0;34m(filename_or_obj, engine, chunks, cache, decode_cf, mask_and_scale, decode_times, decode_timedelta, use_cftime, concat_characters, decode_coords, drop_variables, inline_array, backend_kwargs, **kwargs)\u001b[0m\n\u001b[1;32m    507\u001b[0m     kwargs\u001b[38;5;241m.\u001b[39mupdate(backend_kwargs)\n\u001b[1;32m    509\u001b[0m \u001b[38;5;28;01mif\u001b[39;00m engine \u001b[38;5;129;01mis\u001b[39;00m \u001b[38;5;28;01mNone\u001b[39;00m:\n\u001b[0;32m--> 510\u001b[0m     engine \u001b[38;5;241m=\u001b[39m \u001b[43mplugins\u001b[49m\u001b[38;5;241;43m.\u001b[39;49m\u001b[43mguess_engine\u001b[49m\u001b[43m(\u001b[49m\u001b[43mfilename_or_obj\u001b[49m\u001b[43m)\u001b[49m\n\u001b[1;32m    512\u001b[0m backend \u001b[38;5;241m=\u001b[39m plugins\u001b[38;5;241m.\u001b[39mget_backend(engine)\n\u001b[1;32m    514\u001b[0m decoders \u001b[38;5;241m=\u001b[39m _resolve_decoders_kwargs(\n\u001b[1;32m    515\u001b[0m     decode_cf,\n\u001b[1;32m    516\u001b[0m     open_backend_dataset_parameters\u001b[38;5;241m=\u001b[39mbackend\u001b[38;5;241m.\u001b[39mopen_dataset_parameters,\n\u001b[0;32m   (...)\u001b[0m\n\u001b[1;32m    522\u001b[0m     decode_coords\u001b[38;5;241m=\u001b[39mdecode_coords,\n\u001b[1;32m    523\u001b[0m )\n",
      "File \u001b[0;32m~/mambaforge-pypy3/envs/springtime/lib/python3.9/site-packages/xarray/backends/plugins.py:177\u001b[0m, in \u001b[0;36mguess_engine\u001b[0;34m(store_spec)\u001b[0m\n\u001b[1;32m    169\u001b[0m \u001b[38;5;28;01melse\u001b[39;00m:\n\u001b[1;32m    170\u001b[0m     error_msg \u001b[38;5;241m=\u001b[39m (\n\u001b[1;32m    171\u001b[0m         \u001b[38;5;124m\"\u001b[39m\u001b[38;5;124mfound the following matches with the input file in xarray\u001b[39m\u001b[38;5;124m'\u001b[39m\u001b[38;5;124ms IO \u001b[39m\u001b[38;5;124m\"\u001b[39m\n\u001b[1;32m    172\u001b[0m         \u001b[38;5;124mf\u001b[39m\u001b[38;5;124m\"\u001b[39m\u001b[38;5;124mbackends: \u001b[39m\u001b[38;5;132;01m{\u001b[39;00mcompatible_engines\u001b[38;5;132;01m}\u001b[39;00m\u001b[38;5;124m. But their dependencies may not be installed, see:\u001b[39m\u001b[38;5;130;01m\\n\u001b[39;00m\u001b[38;5;124m\"\u001b[39m\n\u001b[1;32m    173\u001b[0m         \u001b[38;5;124m\"\u001b[39m\u001b[38;5;124mhttps://docs.xarray.dev/en/stable/user-guide/io.html \u001b[39m\u001b[38;5;130;01m\\n\u001b[39;00m\u001b[38;5;124m\"\u001b[39m\n\u001b[1;32m    174\u001b[0m         \u001b[38;5;124m\"\u001b[39m\u001b[38;5;124mhttps://docs.xarray.dev/en/stable/getting-started-guide/installing.html\u001b[39m\u001b[38;5;124m\"\u001b[39m\n\u001b[1;32m    175\u001b[0m     )\n\u001b[0;32m--> 177\u001b[0m \u001b[38;5;28;01mraise\u001b[39;00m \u001b[38;5;167;01mValueError\u001b[39;00m(error_msg)\n",
      "\u001b[0;31mValueError\u001b[0m: did not find a match in any of xarray's currently installed IO backends ['scipy', 'pydap']. Consider explicitly selecting one of the installed engines via the ``engine`` parameter, or installing additional IO dependencies, see:\nhttps://docs.xarray.dev/en/stable/getting-started-guide/installing.html\nhttps://docs.xarray.dev/en/stable/user-guide/io.html"
     ]
    }
   ],
   "source": [
    "xa_wa = dataset.load()\n",
    "# # df_wa.head()"
   ]
  },
  {
   "cell_type": "code",
   "execution_count": null,
   "id": "79db7231-2d36-407b-8406-7b3d0d554a67",
   "metadata": {},
   "outputs": [],
   "source": []
  },
  {
   "cell_type": "code",
   "execution_count": null,
   "id": "d3a5abb0-2d9b-4313-8e10-535abf10a116",
   "metadata": {},
   "outputs": [],
   "source": []
  }
 ],
 "metadata": {
  "kernelspec": {
   "display_name": "springtime",
   "language": "python",
   "name": "springtime"
  },
  "language_info": {
   "codemirror_mode": {
    "name": "ipython",
    "version": 3
   },
   "file_extension": ".py",
   "mimetype": "text/x-python",
   "name": "python",
   "nbconvert_exporter": "python",
   "pygments_lexer": "ipython3",
   "version": "3.9.16"
  }
 },
 "nbformat": 4,
 "nbformat_minor": 5
}
